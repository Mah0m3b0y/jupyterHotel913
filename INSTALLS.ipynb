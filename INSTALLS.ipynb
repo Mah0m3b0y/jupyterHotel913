{
 "cells": [
  {
   "cell_type": "code",
   "execution_count": 0,
   "metadata": {
    "application/vnd.databricks.v1+cell": {
     "cellMetadata": {
      "byteLimit": 2048000,
      "rowLimit": 10000
     },
     "inputWidgets": {},
     "nuid": "5857d9cb-4465-4076-8fc4-b0dc82a6cb46",
     "showTitle": false,
     "title": ""
    }
   },
   "outputs": [
    {
     "output_type": "display_data",
     "data": {
      "text/html": [
       "<style scoped>\n",
       "  .ansiout {\n",
       "    display: block;\n",
       "    unicode-bidi: embed;\n",
       "    white-space: pre-wrap;\n",
       "    word-wrap: break-word;\n",
       "    word-break: break-all;\n",
       "    font-family: \"Source Code Pro\", \"Menlo\", monospace;;\n",
       "    font-size: 13px;\n",
       "    color: #555;\n",
       "    margin-left: 4px;\n",
       "    line-height: 19px;\n",
       "  }\n",
       "</style>\n",
       "<div class=\"ansiout\">Python interpreter will be restarted.\n",
       "Requirement already satisfied: unstructured in /databricks/python3/lib/python3.8/site-packages (0.7.5)\n",
       "Requirement already satisfied: argilla in /databricks/python3/lib/python3.8/site-packages (from unstructured) (1.16.0)\n",
       "Requirement already satisfied: pdf2image in /databricks/python3/lib/python3.8/site-packages (from unstructured) (1.16.3)\n",
       "Requirement already satisfied: xlrd in /databricks/python3/lib/python3.8/site-packages (from unstructured) (2.0.1)\n",
       "Requirement already satisfied: lxml in /databricks/python3/lib/python3.8/site-packages (from unstructured) (4.9.3)\n",
       "Requirement already satisfied: openpyxl in /databricks/python3/lib/python3.8/site-packages (from unstructured) (3.1.1)\n",
       "Requirement already satisfied: pdfminer.six in /databricks/python3/lib/python3.8/site-packages (from unstructured) (20221105)\n",
       "Requirement already satisfied: requests in /databricks/python3/lib/python3.8/site-packages (from unstructured) (2.31.0)\n",
       "Requirement already satisfied: pandas in /databricks/python3/lib/python3.8/site-packages (from unstructured) (1.2.4)\n",
       "Requirement already satisfied: pillow in /databricks/python3/lib/python3.8/site-packages (from unstructured) (8.2.0)\n",
       "Requirement already satisfied: tabulate in /databricks/python3/lib/python3.8/site-packages (from unstructured) (0.9.0)\n",
       "Requirement already satisfied: nltk in /databricks/python3/lib/python3.8/site-packages (from unstructured) (3.8.1)\n",
       "Requirement already satisfied: markdown in /databricks/python3/lib/python3.8/site-packages (from unstructured) (3.5)\n",
       "Requirement already satisfied: python-magic in /databricks/python3/lib/python3.8/site-packages (from unstructured) (0.4.27)\n",
       "Requirement already satisfied: msg-parser in /databricks/python3/lib/python3.8/site-packages (from unstructured) (1.2.0)\n",
       "Requirement already satisfied: python-pptx in /databricks/python3/lib/python3.8/site-packages (from unstructured) (0.6.22)\n",
       "Requirement already satisfied: chardet in /databricks/python3/lib/python3.8/site-packages (from unstructured) (4.0.0)\n",
       "Requirement already satisfied: pypandoc in /databricks/python3/lib/python3.8/site-packages (from unstructured) (1.11)\n",
       "Requirement already satisfied: python-docx in /databricks/python3/lib/python3.8/site-packages (from unstructured) (0.8.11)\n",
       "Requirement already satisfied: filetype in /databricks/python3/lib/python3.8/site-packages (from unstructured) (1.2.0)\n",
       "Requirement already satisfied: backoff in /databricks/python3/lib/python3.8/site-packages (from argilla-&gt;unstructured) (2.2.1)\n",
       "Requirement already satisfied: typer&lt;0.8.0,&gt;=0.6.0 in /databricks/python3/lib/python3.8/site-packages (from argilla-&gt;unstructured) (0.7.0)\n",
       "Requirement already satisfied: wrapt&lt;1.15,&gt;=1.13 in /databricks/python3/lib/python3.8/site-packages (from argilla-&gt;unstructured) (1.14.1)\n",
       "Requirement already satisfied: packaging&gt;=20.0 in /databricks/python3/lib/python3.8/site-packages (from argilla-&gt;unstructured) (20.9)\n",
       "Requirement already satisfied: numpy&lt;1.24.0 in /databricks/python3/lib/python3.8/site-packages (from argilla-&gt;unstructured) (1.23.5)\n",
       "Requirement already satisfied: tqdm&gt;=4.27.0 in /databricks/python3/lib/python3.8/site-packages (from argilla-&gt;unstructured) (4.66.1)\n",
       "Requirement already satisfied: monotonic in /databricks/python3/lib/python3.8/site-packages (from argilla-&gt;unstructured) (1.6)\n",
       "Requirement already satisfied: httpx&lt;0.24,&gt;=0.15 in /databricks/python3/lib/python3.8/site-packages (from argilla-&gt;unstructured) (0.23.3)\n",
       "Requirement already satisfied: deprecated~=1.2.0 in /databricks/python3/lib/python3.8/site-packages (from argilla-&gt;unstructured) (1.2.14)\n",
       "Requirement already satisfied: rich!=13.1.0 in /databricks/python3/lib/python3.8/site-packages (from argilla-&gt;unstructured) (13.6.0)\n",
       "Requirement already satisfied: pydantic&lt;2.0,&gt;=1.10.7 in /databricks/python3/lib/python3.8/site-packages (from argilla-&gt;unstructured) (1.10.13)\n",
       "Requirement already satisfied: sniffio in /databricks/python3/lib/python3.8/site-packages (from httpx&lt;0.24,&gt;=0.15-&gt;argilla-&gt;unstructured) (1.3.0)\n",
       "Requirement already satisfied: rfc3986[idna2008]&lt;2,&gt;=1.3 in /databricks/python3/lib/python3.8/site-packages (from httpx&lt;0.24,&gt;=0.15-&gt;argilla-&gt;unstructured) (1.5.0)\n",
       "Requirement already satisfied: certifi in /databricks/python3/lib/python3.8/site-packages (from httpx&lt;0.24,&gt;=0.15-&gt;argilla-&gt;unstructured) (2020.12.5)\n",
       "Requirement already satisfied: httpcore&lt;0.17.0,&gt;=0.15.0 in /databricks/python3/lib/python3.8/site-packages (from httpx&lt;0.24,&gt;=0.15-&gt;argilla-&gt;unstructured) (0.16.3)\n",
       "Requirement already satisfied: h11&lt;0.15,&gt;=0.13 in /databricks/python3/lib/python3.8/site-packages (from httpcore&lt;0.17.0,&gt;=0.15.0-&gt;httpx&lt;0.24,&gt;=0.15-&gt;argilla-&gt;unstructured) (0.14.0)\n",
       "Requirement already satisfied: anyio&lt;5.0,&gt;=3.0 in /databricks/python3/lib/python3.8/site-packages (from httpcore&lt;0.17.0,&gt;=0.15.0-&gt;httpx&lt;0.24,&gt;=0.15-&gt;argilla-&gt;unstructured) (3.7.1)\n",
       "Requirement already satisfied: idna&gt;=2.8 in /databricks/python3/lib/python3.8/site-packages (from anyio&lt;5.0,&gt;=3.0-&gt;httpcore&lt;0.17.0,&gt;=0.15.0-&gt;httpx&lt;0.24,&gt;=0.15-&gt;argilla-&gt;unstructured) (2.10)\n",
       "Requirement already satisfied: exceptiongroup in /databricks/python3/lib/python3.8/site-packages (from anyio&lt;5.0,&gt;=3.0-&gt;httpcore&lt;0.17.0,&gt;=0.15.0-&gt;httpx&lt;0.24,&gt;=0.15-&gt;argilla-&gt;unstructured) (1.1.3)\n",
       "Requirement already satisfied: pyparsing&gt;=2.0.2 in /databricks/python3/lib/python3.8/site-packages (from packaging&gt;=20.0-&gt;argilla-&gt;unstructured) (2.4.7)\n",
       "Requirement already satisfied: pytz&gt;=2017.3 in /databricks/python3/lib/python3.8/site-packages (from pandas-&gt;unstructured) (2020.5)\n",
       "Requirement already satisfied: python-dateutil&gt;=2.7.3 in /databricks/python3/lib/python3.8/site-packages (from pandas-&gt;unstructured) (2.8.1)\n",
       "Requirement already satisfied: typing-extensions&gt;=4.2.0 in /databricks/python3/lib/python3.8/site-packages (from pydantic&lt;2.0,&gt;=1.10.7-&gt;argilla-&gt;unstructured) (4.8.0)\n",
       "Requirement already satisfied: six&gt;=1.5 in /databricks/python3/lib/python3.8/site-packages (from python-dateutil&gt;=2.7.3-&gt;pandas-&gt;unstructured) (1.15.0)\n",
       "Requirement already satisfied: pygments&lt;3.0.0,&gt;=2.13.0 in /databricks/python3/lib/python3.8/site-packages (from rich!=13.1.0-&gt;argilla-&gt;unstructured) (2.16.1)\n",
       "Requirement already satisfied: markdown-it-py&gt;=2.2.0 in /databricks/python3/lib/python3.8/site-packages (from rich!=13.1.0-&gt;argilla-&gt;unstructured) (3.0.0)\n",
       "Requirement already satisfied: mdurl~=0.1 in /databricks/python3/lib/python3.8/site-packages (from markdown-it-py&gt;=2.2.0-&gt;rich!=13.1.0-&gt;argilla-&gt;unstructured) (0.1.2)\n",
       "Requirement already satisfied: click&lt;9.0.0,&gt;=7.1.1 in /databricks/python3/lib/python3.8/site-packages (from typer&lt;0.8.0,&gt;=0.6.0-&gt;argilla-&gt;unstructured) (8.1.7)\n",
       "Requirement already satisfied: importlib-metadata&gt;=4.4 in /databricks/python3/lib/python3.8/site-packages (from markdown-&gt;unstructured) (6.8.0)\n",
       "Requirement already satisfied: zipp&gt;=0.5 in /databricks/python3/lib/python3.8/site-packages (from importlib-metadata&gt;=4.4-&gt;markdown-&gt;unstructured) (3.17.0)\n",
       "Requirement already satisfied: olefile&gt;=0.46 in /databricks/python3/lib/python3.8/site-packages (from msg-parser-&gt;unstructured) (0.46)\n",
       "Requirement already satisfied: joblib in /databricks/python3/lib/python3.8/site-packages (from nltk-&gt;unstructured) (1.0.1)\n",
       "Requirement already satisfied: regex&gt;=2021.8.3 in /databricks/python3/lib/python3.8/site-packages (from nltk-&gt;unstructured) (2023.10.3)\n",
       "Requirement already satisfied: et-xmlfile in /databricks/python3/lib/python3.8/site-packages (from openpyxl-&gt;unstructured) (1.1.0)\n",
       "Requirement already satisfied: charset-normalizer&gt;=2.0.0 in /databricks/python3/lib/python3.8/site-packages (from pdfminer.six-&gt;unstructured) (3.3.0)\n",
       "Requirement already satisfied: cryptography&gt;=36.0.0 in /databricks/python3/lib/python3.8/site-packages (from pdfminer.six-&gt;unstructured) (41.0.4)\n",
       "Requirement already satisfied: cffi&gt;=1.12 in /databricks/python3/lib/python3.8/site-packages (from cryptography&gt;=36.0.0-&gt;pdfminer.six-&gt;unstructured) (1.14.5)\n",
       "Requirement already satisfied: pycparser in /databricks/python3/lib/python3.8/site-packages (from cffi&gt;=1.12-&gt;cryptography&gt;=36.0.0-&gt;pdfminer.six-&gt;unstructured) (2.20)\n",
       "Requirement already satisfied: XlsxWriter&gt;=0.5.7 in /databricks/python3/lib/python3.8/site-packages (from python-pptx-&gt;unstructured) (3.1.7)\n",
       "Requirement already satisfied: urllib3&lt;3,&gt;=1.21.1 in /databricks/python3/lib/python3.8/site-packages (from requests-&gt;unstructured) (1.25.11)\n",
       "WARNING: You are using pip version 21.0.1; however, version 23.2.1 is available.\n",
       "You should consider upgrading via the &#39;/local_disk0/.ephemeral_nfs/envs/pythonEnv-f91e317e-27d2-43d4-b3d5-38c31f55daaa/bin/python -m pip install --upgrade pip&#39; command.\n",
       "Python interpreter will be restarted.\n",
       "</div>"
      ]
     },
     "metadata": {
      "application/vnd.databricks.v1+output": {
       "addedWidgets": {},
       "arguments": {},
       "data": "<div class=\"ansiout\">Python interpreter will be restarted.\nRequirement already satisfied: unstructured in /databricks/python3/lib/python3.8/site-packages (0.7.5)\nRequirement already satisfied: argilla in /databricks/python3/lib/python3.8/site-packages (from unstructured) (1.16.0)\nRequirement already satisfied: pdf2image in /databricks/python3/lib/python3.8/site-packages (from unstructured) (1.16.3)\nRequirement already satisfied: xlrd in /databricks/python3/lib/python3.8/site-packages (from unstructured) (2.0.1)\nRequirement already satisfied: lxml in /databricks/python3/lib/python3.8/site-packages (from unstructured) (4.9.3)\nRequirement already satisfied: openpyxl in /databricks/python3/lib/python3.8/site-packages (from unstructured) (3.1.1)\nRequirement already satisfied: pdfminer.six in /databricks/python3/lib/python3.8/site-packages (from unstructured) (20221105)\nRequirement already satisfied: requests in /databricks/python3/lib/python3.8/site-packages (from unstructured) (2.31.0)\nRequirement already satisfied: pandas in /databricks/python3/lib/python3.8/site-packages (from unstructured) (1.2.4)\nRequirement already satisfied: pillow in /databricks/python3/lib/python3.8/site-packages (from unstructured) (8.2.0)\nRequirement already satisfied: tabulate in /databricks/python3/lib/python3.8/site-packages (from unstructured) (0.9.0)\nRequirement already satisfied: nltk in /databricks/python3/lib/python3.8/site-packages (from unstructured) (3.8.1)\nRequirement already satisfied: markdown in /databricks/python3/lib/python3.8/site-packages (from unstructured) (3.5)\nRequirement already satisfied: python-magic in /databricks/python3/lib/python3.8/site-packages (from unstructured) (0.4.27)\nRequirement already satisfied: msg-parser in /databricks/python3/lib/python3.8/site-packages (from unstructured) (1.2.0)\nRequirement already satisfied: python-pptx in /databricks/python3/lib/python3.8/site-packages (from unstructured) (0.6.22)\nRequirement already satisfied: chardet in /databricks/python3/lib/python3.8/site-packages (from unstructured) (4.0.0)\nRequirement already satisfied: pypandoc in /databricks/python3/lib/python3.8/site-packages (from unstructured) (1.11)\nRequirement already satisfied: python-docx in /databricks/python3/lib/python3.8/site-packages (from unstructured) (0.8.11)\nRequirement already satisfied: filetype in /databricks/python3/lib/python3.8/site-packages (from unstructured) (1.2.0)\nRequirement already satisfied: backoff in /databricks/python3/lib/python3.8/site-packages (from argilla-&gt;unstructured) (2.2.1)\nRequirement already satisfied: typer&lt;0.8.0,&gt;=0.6.0 in /databricks/python3/lib/python3.8/site-packages (from argilla-&gt;unstructured) (0.7.0)\nRequirement already satisfied: wrapt&lt;1.15,&gt;=1.13 in /databricks/python3/lib/python3.8/site-packages (from argilla-&gt;unstructured) (1.14.1)\nRequirement already satisfied: packaging&gt;=20.0 in /databricks/python3/lib/python3.8/site-packages (from argilla-&gt;unstructured) (20.9)\nRequirement already satisfied: numpy&lt;1.24.0 in /databricks/python3/lib/python3.8/site-packages (from argilla-&gt;unstructured) (1.23.5)\nRequirement already satisfied: tqdm&gt;=4.27.0 in /databricks/python3/lib/python3.8/site-packages (from argilla-&gt;unstructured) (4.66.1)\nRequirement already satisfied: monotonic in /databricks/python3/lib/python3.8/site-packages (from argilla-&gt;unstructured) (1.6)\nRequirement already satisfied: httpx&lt;0.24,&gt;=0.15 in /databricks/python3/lib/python3.8/site-packages (from argilla-&gt;unstructured) (0.23.3)\nRequirement already satisfied: deprecated~=1.2.0 in /databricks/python3/lib/python3.8/site-packages (from argilla-&gt;unstructured) (1.2.14)\nRequirement already satisfied: rich!=13.1.0 in /databricks/python3/lib/python3.8/site-packages (from argilla-&gt;unstructured) (13.6.0)\nRequirement already satisfied: pydantic&lt;2.0,&gt;=1.10.7 in /databricks/python3/lib/python3.8/site-packages (from argilla-&gt;unstructured) (1.10.13)\nRequirement already satisfied: sniffio in /databricks/python3/lib/python3.8/site-packages (from httpx&lt;0.24,&gt;=0.15-&gt;argilla-&gt;unstructured) (1.3.0)\nRequirement already satisfied: rfc3986[idna2008]&lt;2,&gt;=1.3 in /databricks/python3/lib/python3.8/site-packages (from httpx&lt;0.24,&gt;=0.15-&gt;argilla-&gt;unstructured) (1.5.0)\nRequirement already satisfied: certifi in /databricks/python3/lib/python3.8/site-packages (from httpx&lt;0.24,&gt;=0.15-&gt;argilla-&gt;unstructured) (2020.12.5)\nRequirement already satisfied: httpcore&lt;0.17.0,&gt;=0.15.0 in /databricks/python3/lib/python3.8/site-packages (from httpx&lt;0.24,&gt;=0.15-&gt;argilla-&gt;unstructured) (0.16.3)\nRequirement already satisfied: h11&lt;0.15,&gt;=0.13 in /databricks/python3/lib/python3.8/site-packages (from httpcore&lt;0.17.0,&gt;=0.15.0-&gt;httpx&lt;0.24,&gt;=0.15-&gt;argilla-&gt;unstructured) (0.14.0)\nRequirement already satisfied: anyio&lt;5.0,&gt;=3.0 in /databricks/python3/lib/python3.8/site-packages (from httpcore&lt;0.17.0,&gt;=0.15.0-&gt;httpx&lt;0.24,&gt;=0.15-&gt;argilla-&gt;unstructured) (3.7.1)\nRequirement already satisfied: idna&gt;=2.8 in /databricks/python3/lib/python3.8/site-packages (from anyio&lt;5.0,&gt;=3.0-&gt;httpcore&lt;0.17.0,&gt;=0.15.0-&gt;httpx&lt;0.24,&gt;=0.15-&gt;argilla-&gt;unstructured) (2.10)\nRequirement already satisfied: exceptiongroup in /databricks/python3/lib/python3.8/site-packages (from anyio&lt;5.0,&gt;=3.0-&gt;httpcore&lt;0.17.0,&gt;=0.15.0-&gt;httpx&lt;0.24,&gt;=0.15-&gt;argilla-&gt;unstructured) (1.1.3)\nRequirement already satisfied: pyparsing&gt;=2.0.2 in /databricks/python3/lib/python3.8/site-packages (from packaging&gt;=20.0-&gt;argilla-&gt;unstructured) (2.4.7)\nRequirement already satisfied: pytz&gt;=2017.3 in /databricks/python3/lib/python3.8/site-packages (from pandas-&gt;unstructured) (2020.5)\nRequirement already satisfied: python-dateutil&gt;=2.7.3 in /databricks/python3/lib/python3.8/site-packages (from pandas-&gt;unstructured) (2.8.1)\nRequirement already satisfied: typing-extensions&gt;=4.2.0 in /databricks/python3/lib/python3.8/site-packages (from pydantic&lt;2.0,&gt;=1.10.7-&gt;argilla-&gt;unstructured) (4.8.0)\nRequirement already satisfied: six&gt;=1.5 in /databricks/python3/lib/python3.8/site-packages (from python-dateutil&gt;=2.7.3-&gt;pandas-&gt;unstructured) (1.15.0)\nRequirement already satisfied: pygments&lt;3.0.0,&gt;=2.13.0 in /databricks/python3/lib/python3.8/site-packages (from rich!=13.1.0-&gt;argilla-&gt;unstructured) (2.16.1)\nRequirement already satisfied: markdown-it-py&gt;=2.2.0 in /databricks/python3/lib/python3.8/site-packages (from rich!=13.1.0-&gt;argilla-&gt;unstructured) (3.0.0)\nRequirement already satisfied: mdurl~=0.1 in /databricks/python3/lib/python3.8/site-packages (from markdown-it-py&gt;=2.2.0-&gt;rich!=13.1.0-&gt;argilla-&gt;unstructured) (0.1.2)\nRequirement already satisfied: click&lt;9.0.0,&gt;=7.1.1 in /databricks/python3/lib/python3.8/site-packages (from typer&lt;0.8.0,&gt;=0.6.0-&gt;argilla-&gt;unstructured) (8.1.7)\nRequirement already satisfied: importlib-metadata&gt;=4.4 in /databricks/python3/lib/python3.8/site-packages (from markdown-&gt;unstructured) (6.8.0)\nRequirement already satisfied: zipp&gt;=0.5 in /databricks/python3/lib/python3.8/site-packages (from importlib-metadata&gt;=4.4-&gt;markdown-&gt;unstructured) (3.17.0)\nRequirement already satisfied: olefile&gt;=0.46 in /databricks/python3/lib/python3.8/site-packages (from msg-parser-&gt;unstructured) (0.46)\nRequirement already satisfied: joblib in /databricks/python3/lib/python3.8/site-packages (from nltk-&gt;unstructured) (1.0.1)\nRequirement already satisfied: regex&gt;=2021.8.3 in /databricks/python3/lib/python3.8/site-packages (from nltk-&gt;unstructured) (2023.10.3)\nRequirement already satisfied: et-xmlfile in /databricks/python3/lib/python3.8/site-packages (from openpyxl-&gt;unstructured) (1.1.0)\nRequirement already satisfied: charset-normalizer&gt;=2.0.0 in /databricks/python3/lib/python3.8/site-packages (from pdfminer.six-&gt;unstructured) (3.3.0)\nRequirement already satisfied: cryptography&gt;=36.0.0 in /databricks/python3/lib/python3.8/site-packages (from pdfminer.six-&gt;unstructured) (41.0.4)\nRequirement already satisfied: cffi&gt;=1.12 in /databricks/python3/lib/python3.8/site-packages (from cryptography&gt;=36.0.0-&gt;pdfminer.six-&gt;unstructured) (1.14.5)\nRequirement already satisfied: pycparser in /databricks/python3/lib/python3.8/site-packages (from cffi&gt;=1.12-&gt;cryptography&gt;=36.0.0-&gt;pdfminer.six-&gt;unstructured) (2.20)\nRequirement already satisfied: XlsxWriter&gt;=0.5.7 in /databricks/python3/lib/python3.8/site-packages (from python-pptx-&gt;unstructured) (3.1.7)\nRequirement already satisfied: urllib3&lt;3,&gt;=1.21.1 in /databricks/python3/lib/python3.8/site-packages (from requests-&gt;unstructured) (1.25.11)\nWARNING: You are using pip version 21.0.1; however, version 23.2.1 is available.\nYou should consider upgrading via the &#39;/local_disk0/.ephemeral_nfs/envs/pythonEnv-f91e317e-27d2-43d4-b3d5-38c31f55daaa/bin/python -m pip install --upgrade pip&#39; command.\nPython interpreter will be restarted.\n</div>",
       "datasetInfos": [],
       "metadata": {},
       "removedWidgets": [],
       "type": "html"
      }
     },
     "output_type": "display_data"
    }
   ],
   "source": [
    "pip install unstructured"
   ]
  },
  {
   "cell_type": "code",
   "execution_count": 0,
   "metadata": {
    "application/vnd.databricks.v1+cell": {
     "cellMetadata": {
      "byteLimit": 2048000,
      "rowLimit": 10000
     },
     "inputWidgets": {},
     "nuid": "31f340ab-f774-40e2-a8b5-d435713e6e25",
     "showTitle": false,
     "title": ""
    }
   },
   "outputs": [
    {
     "output_type": "display_data",
     "data": {
      "text/html": [
       "<style scoped>\n",
       "  .ansiout {\n",
       "    display: block;\n",
       "    unicode-bidi: embed;\n",
       "    white-space: pre-wrap;\n",
       "    word-wrap: break-word;\n",
       "    word-break: break-all;\n",
       "    font-family: \"Source Code Pro\", \"Menlo\", monospace;;\n",
       "    font-size: 13px;\n",
       "    color: #555;\n",
       "    margin-left: 4px;\n",
       "    line-height: 19px;\n",
       "  }\n",
       "</style>\n",
       "<div class=\"ansiout\">Python interpreter will be restarted.\n",
       "Requirement already satisfied: tiktoken in /databricks/python3/lib/python3.8/site-packages (0.3.2)\n",
       "Collecting tiktoken\n",
       "  Using cached tiktoken-0.5.1-cp38-cp38-manylinux_2_17_x86_64.manylinux2014_x86_64.whl (2.0 MB)\n",
       "Requirement already satisfied: regex&gt;=2022.1.18 in /databricks/python3/lib/python3.8/site-packages (from tiktoken) (2023.10.3)\n",
       "Requirement already satisfied: requests&gt;=2.26.0 in /databricks/python3/lib/python3.8/site-packages (from tiktoken) (2.31.0)\n",
       "Requirement already satisfied: certifi&gt;=2017.4.17 in /databricks/python3/lib/python3.8/site-packages (from requests&gt;=2.26.0-&gt;tiktoken) (2020.12.5)\n",
       "Requirement already satisfied: urllib3&lt;3,&gt;=1.21.1 in /databricks/python3/lib/python3.8/site-packages (from requests&gt;=2.26.0-&gt;tiktoken) (1.25.11)\n",
       "Requirement already satisfied: charset-normalizer&lt;4,&gt;=2 in /databricks/python3/lib/python3.8/site-packages (from requests&gt;=2.26.0-&gt;tiktoken) (3.3.0)\n",
       "Requirement already satisfied: idna&lt;4,&gt;=2.5 in /databricks/python3/lib/python3.8/site-packages (from requests&gt;=2.26.0-&gt;tiktoken) (2.10)\n",
       "Installing collected packages: tiktoken\n",
       "  Attempting uninstall: tiktoken\n",
       "    Found existing installation: tiktoken 0.3.2\n",
       "    Not uninstalling tiktoken at /databricks/python3/lib/python3.8/site-packages, outside environment /local_disk0/.ephemeral_nfs/envs/pythonEnv-f91e317e-27d2-43d4-b3d5-38c31f55daaa\n",
       "    Can&#39;t uninstall &#39;tiktoken&#39;. No files were found to uninstall.\n",
       "Successfully installed tiktoken-0.5.1\n",
       "WARNING: You are using pip version 21.0.1; however, version 23.2.1 is available.\n",
       "You should consider upgrading via the &#39;/local_disk0/.ephemeral_nfs/envs/pythonEnv-f91e317e-27d2-43d4-b3d5-38c31f55daaa/bin/python -m pip install --upgrade pip&#39; command.\n",
       "Python interpreter will be restarted.\n",
       "</div>"
      ]
     },
     "metadata": {
      "application/vnd.databricks.v1+output": {
       "addedWidgets": {},
       "arguments": {},
       "data": "<div class=\"ansiout\">Python interpreter will be restarted.\nRequirement already satisfied: tiktoken in /databricks/python3/lib/python3.8/site-packages (0.3.2)\nCollecting tiktoken\n  Using cached tiktoken-0.5.1-cp38-cp38-manylinux_2_17_x86_64.manylinux2014_x86_64.whl (2.0 MB)\nRequirement already satisfied: regex&gt;=2022.1.18 in /databricks/python3/lib/python3.8/site-packages (from tiktoken) (2023.10.3)\nRequirement already satisfied: requests&gt;=2.26.0 in /databricks/python3/lib/python3.8/site-packages (from tiktoken) (2.31.0)\nRequirement already satisfied: certifi&gt;=2017.4.17 in /databricks/python3/lib/python3.8/site-packages (from requests&gt;=2.26.0-&gt;tiktoken) (2020.12.5)\nRequirement already satisfied: urllib3&lt;3,&gt;=1.21.1 in /databricks/python3/lib/python3.8/site-packages (from requests&gt;=2.26.0-&gt;tiktoken) (1.25.11)\nRequirement already satisfied: charset-normalizer&lt;4,&gt;=2 in /databricks/python3/lib/python3.8/site-packages (from requests&gt;=2.26.0-&gt;tiktoken) (3.3.0)\nRequirement already satisfied: idna&lt;4,&gt;=2.5 in /databricks/python3/lib/python3.8/site-packages (from requests&gt;=2.26.0-&gt;tiktoken) (2.10)\nInstalling collected packages: tiktoken\n  Attempting uninstall: tiktoken\n    Found existing installation: tiktoken 0.3.2\n    Not uninstalling tiktoken at /databricks/python3/lib/python3.8/site-packages, outside environment /local_disk0/.ephemeral_nfs/envs/pythonEnv-f91e317e-27d2-43d4-b3d5-38c31f55daaa\n    Can&#39;t uninstall &#39;tiktoken&#39;. No files were found to uninstall.\nSuccessfully installed tiktoken-0.5.1\nWARNING: You are using pip version 21.0.1; however, version 23.2.1 is available.\nYou should consider upgrading via the &#39;/local_disk0/.ephemeral_nfs/envs/pythonEnv-f91e317e-27d2-43d4-b3d5-38c31f55daaa/bin/python -m pip install --upgrade pip&#39; command.\nPython interpreter will be restarted.\n</div>",
       "datasetInfos": [],
       "metadata": {},
       "removedWidgets": [],
       "type": "html"
      }
     },
     "output_type": "display_data"
    }
   ],
   "source": [
    "%pip install --upgrade tiktoken"
   ]
  },
  {
   "cell_type": "code",
   "execution_count": 0,
   "metadata": {
    "application/vnd.databricks.v1+cell": {
     "cellMetadata": {
      "byteLimit": 2048000,
      "rowLimit": 10000
     },
     "inputWidgets": {},
     "nuid": "820f2ab8-781e-4d47-bfde-abc0cfde84dd",
     "showTitle": false,
     "title": ""
    }
   },
   "outputs": [
    {
     "output_type": "display_data",
     "data": {
      "text/html": [
       "<style scoped>\n",
       "  .ansiout {\n",
       "    display: block;\n",
       "    unicode-bidi: embed;\n",
       "    white-space: pre-wrap;\n",
       "    word-wrap: break-word;\n",
       "    word-break: break-all;\n",
       "    font-family: \"Source Code Pro\", \"Menlo\", monospace;;\n",
       "    font-size: 13px;\n",
       "    color: #555;\n",
       "    margin-left: 4px;\n",
       "    line-height: 19px;\n",
       "  }\n",
       "</style>\n",
       "<div class=\"ansiout\">Collecting docx\r\n",
       "  Downloading docx-0.2.4.tar.gz (54 kB)\r\n",
       "██████                          | 10 kB 23.5 MB/s eta 0:00:01\r     |████████████                    | 20 kB 5.7 MB/s eta 0:00:01\r     |██████████████████              | 30 kB 4.6 MB/s eta 0:00:01\r     |███████████████████████▉        | 40 kB 2.5 MB/s eta 0:00:01\r     |█████████████████████████████▉  | 51 kB 2.9 MB/s eta 0:00:01\r     |████████████████████████████████| 54 kB 1.7 MB/s \r\n",
       "Requirement already satisfied: lxml in /databricks/python3/lib/python3.8/site-packages (from docx) (4.9.3)\r\n",
       "Requirement already satisfied: Pillow&gt;=2.0 in /databricks/python3/lib/python3.8/site-packages (from docx) (8.2.0)\r\n",
       "Building wheels for collected packages: docx\r\n",
       "  Building wheel for docx (setup.py) ... -\b \b\\\b \bdone\r\n",
       "  Created wheel for docx: filename=docx-0.2.4-py3-none-any.whl size=53925 sha256=92b77557609585b9cf09325c05806b8e56c0ad87dcc2b06694b561a248b01032\r\n",
       "  Stored in directory: /root/.cache/pip/wheels/78/ae/2e/5ce789557ca59281a463dabe9d6522e429be240322148e5379\r\n",
       "Successfully built docx\r\n",
       "Installing collected packages: docx\r\n",
       "Successfully installed docx-0.2.4\r\n",
       "<span class=\"ansi-yellow-fg\">WARNING: You are using pip version 21.0.1; however, version 23.2.1 is available.\r\n",
       "You should consider upgrading via the &#39;/local_disk0/.ephemeral_nfs/envs/pythonEnv-f91e317e-27d2-43d4-b3d5-38c31f55daaa/bin/python -m pip install --upgrade pip&#39; command.</span>\r\n",
       "</div>"
      ]
     },
     "metadata": {
      "application/vnd.databricks.v1+output": {
       "addedWidgets": {},
       "arguments": {},
       "data": "<div class=\"ansiout\">Collecting docx\r\n  Downloading docx-0.2.4.tar.gz (54 kB)\r\n\r     |██████                          | 10 kB 23.5 MB/s eta 0:00:01\r     |████████████                    | 20 kB 5.7 MB/s eta 0:00:01\r     |██████████████████              | 30 kB 4.6 MB/s eta 0:00:01\r     |███████████████████████▉        | 40 kB 2.5 MB/s eta 0:00:01\r     |█████████████████████████████▉  | 51 kB 2.9 MB/s eta 0:00:01\r     |████████████████████████████████| 54 kB 1.7 MB/s \r\nRequirement already satisfied: lxml in /databricks/python3/lib/python3.8/site-packages (from docx) (4.9.3)\r\nRequirement already satisfied: Pillow&gt;=2.0 in /databricks/python3/lib/python3.8/site-packages (from docx) (8.2.0)\r\nBuilding wheels for collected packages: docx\r\n  Building wheel for docx (setup.py) ... -\b \b\\\b \bdone\r\n  Created wheel for docx: filename=docx-0.2.4-py3-none-any.whl size=53925 sha256=92b77557609585b9cf09325c05806b8e56c0ad87dcc2b06694b561a248b01032\r\n  Stored in directory: /root/.cache/pip/wheels/78/ae/2e/5ce789557ca59281a463dabe9d6522e429be240322148e5379\r\nSuccessfully built docx\r\nInstalling collected packages: docx\r\nSuccessfully installed docx-0.2.4\r\n<span class=\"ansi-yellow-fg\">WARNING: You are using pip version 21.0.1; however, version 23.2.1 is available.\r\nYou should consider upgrading via the &#39;/local_disk0/.ephemeral_nfs/envs/pythonEnv-f91e317e-27d2-43d4-b3d5-38c31f55daaa/bin/python -m pip install --upgrade pip&#39; command.</span>\r\n</div>",
       "datasetInfos": [],
       "metadata": {},
       "removedWidgets": [],
       "type": "html"
      }
     },
     "output_type": "display_data"
    }
   ],
   "source": [
    "!pip install docx"
   ]
  },
  {
   "cell_type": "code",
   "execution_count": 0,
   "metadata": {
    "application/vnd.databricks.v1+cell": {
     "cellMetadata": {},
     "inputWidgets": {},
     "nuid": "afcf3f2a-30d7-4172-9ce3-37a3323ebc2f",
     "showTitle": false,
     "title": ""
    }
   },
   "outputs": [],
   "source": []
  }
 ],
 "metadata": {
  "application/vnd.databricks.v1+notebook": {
   "dashboards": [],
   "language": "python",
   "notebookMetadata": {
    "pythonIndentUnit": 2
   },
   "notebookName": "SAP_INSTALLS",
   "widgets": {}
  }
 },
 "nbformat": 4,
 "nbformat_minor": 0
}
