{
 "cells": [
  {
   "cell_type": "markdown",
   "metadata": {
    "application/vnd.databricks.v1+cell": {
     "cellMetadata": {
      "byteLimit": 2048000,
      "rowLimit": 10000
     },
     "inputWidgets": {},
     "nuid": "8a43d4ed-256d-42ef-8127-56706f78aebd",
     "showTitle": false,
     "title": ""
    }
   },
   "source": [
    "#### Imports"
   ]
  },
  {
   "cell_type": "code",
   "execution_count": 0,
   "metadata": {
    "application/vnd.databricks.v1+cell": {
     "cellMetadata": {
      "byteLimit": 2048000,
      "rowLimit": 10000
     },
     "inputWidgets": {},
     "nuid": "af14d140-a33a-4366-b702-993dec10b8f7",
     "showTitle": false,
     "title": ""
    }
   },
   "outputs": [
    {
     "output_type": "display_data",
     "data": {
      "text/html": [
       "<style scoped>\n",
       "  .ansiout {\n",
       "    display: block;\n",
       "    unicode-bidi: embed;\n",
       "    white-space: pre-wrap;\n",
       "    word-wrap: break-word;\n",
       "    word-break: break-all;\n",
       "    font-family: \"Source Code Pro\", \"Menlo\", monospace;;\n",
       "    font-size: 13px;\n",
       "    color: #555;\n",
       "    margin-left: 4px;\n",
       "    line-height: 19px;\n",
       "  }\n",
       "</style>\n",
       "<div class=\"ansiout\"></div>"
      ]
     },
     "metadata": {
      "application/vnd.databricks.v1+output": {
       "addedWidgets": {},
       "arguments": {},
       "data": "<div class=\"ansiout\"></div>",
       "datasetInfos": [],
       "metadata": {},
       "removedWidgets": [],
       "type": "html"
      }
     },
     "output_type": "display_data"
    }
   ],
   "source": [
    "%run \"./SAP_FDD_Env_and_Utils\""
   ]
  },
  {
   "cell_type": "code",
   "execution_count": 0,
   "metadata": {
    "application/vnd.databricks.v1+cell": {
     "cellMetadata": {
      "byteLimit": 2048000,
      "rowLimit": 10000
     },
     "inputWidgets": {},
     "nuid": "9d881f4e-7fb9-4428-ba11-437fa61155fe",
     "showTitle": false,
     "title": ""
    }
   },
   "outputs": [
    {
     "output_type": "display_data",
     "data": {
      "text/html": [
       "<style scoped>\n",
       "  .ansiout {\n",
       "    display: block;\n",
       "    unicode-bidi: embed;\n",
       "    white-space: pre-wrap;\n",
       "    word-wrap: break-word;\n",
       "    word-break: break-all;\n",
       "    font-family: \"Source Code Pro\", \"Menlo\", monospace;;\n",
       "    font-size: 13px;\n",
       "    color: #555;\n",
       "    margin-left: 4px;\n",
       "    line-height: 19px;\n",
       "  }\n",
       "</style>\n",
       "<div class=\"ansiout\">WARNING: v1.3.0 is deprecated. End of support is 04-01-2023. Using databricks_v2 is suggested.\n",
       "Databricks SDK v1.3.0 - successfully loaded\n",
       "</div>"
      ]
     },
     "metadata": {
      "application/vnd.databricks.v1+output": {
       "addedWidgets": {},
       "arguments": {},
       "data": "<div class=\"ansiout\">WARNING: v1.3.0 is deprecated. End of support is 04-01-2023. Using databricks_v2 is suggested.\nDatabricks SDK v1.3.0 - successfully loaded\n</div>",
       "datasetInfos": [],
       "metadata": {},
       "removedWidgets": [],
       "type": "html"
      }
     },
     "output_type": "display_data"
    },
    {
     "output_type": "display_data",
     "data": {
      "text/html": [
       "<style scoped>\n",
       "  .ansiout {\n",
       "    display: block;\n",
       "    unicode-bidi: embed;\n",
       "    white-space: pre-wrap;\n",
       "    word-wrap: break-word;\n",
       "    word-break: break-all;\n",
       "    font-family: \"Source Code Pro\", \"Menlo\", monospace;;\n",
       "    font-size: 13px;\n",
       "    color: #555;\n",
       "    margin-left: 4px;\n",
       "    line-height: 19px;\n",
       "  }\n",
       "</style>\n",
       "<div class=\"ansiout\"></div>"
      ]
     },
     "metadata": {
      "application/vnd.databricks.v1+output": {
       "addedWidgets": {},
       "arguments": {},
       "data": "<div class=\"ansiout\"></div>",
       "datasetInfos": [],
       "metadata": {},
       "removedWidgets": [],
       "type": "html"
      }
     },
     "output_type": "display_data"
    },
    {
     "output_type": "display_data",
     "data": {
      "text/html": [
       "<style scoped>\n",
       "  .ansiout {\n",
       "    display: block;\n",
       "    unicode-bidi: embed;\n",
       "    white-space: pre-wrap;\n",
       "    word-wrap: break-word;\n",
       "    word-break: break-all;\n",
       "    font-family: \"Source Code Pro\", \"Menlo\", monospace;;\n",
       "    font-size: 13px;\n",
       "    color: #555;\n",
       "    margin-left: 4px;\n",
       "    line-height: 19px;\n",
       "  }\n",
       "</style>\n",
       "<div class=\"ansiout\"></div>"
      ]
     },
     "metadata": {
      "application/vnd.databricks.v1+output": {
       "addedWidgets": {},
       "arguments": {},
       "data": "<div class=\"ansiout\"></div>",
       "datasetInfos": [],
       "metadata": {},
       "removedWidgets": [],
       "type": "html"
      }
     },
     "output_type": "display_data"
    },
    {
     "output_type": "display_data",
     "data": {
      "text/html": [
       "<style scoped>\n",
       "  .ansiout {\n",
       "    display: block;\n",
       "    unicode-bidi: embed;\n",
       "    white-space: pre-wrap;\n",
       "    word-wrap: break-word;\n",
       "    word-break: break-all;\n",
       "    font-family: \"Source Code Pro\", \"Menlo\", monospace;;\n",
       "    font-size: 13px;\n",
       "    color: #555;\n",
       "    margin-left: 4px;\n",
       "    line-height: 19px;\n",
       "  }\n",
       "</style>\n",
       "<div class=\"ansiout\"></div>"
      ]
     },
     "metadata": {
      "application/vnd.databricks.v1+output": {
       "addedWidgets": {},
       "arguments": {},
       "data": "<div class=\"ansiout\"></div>",
       "datasetInfos": [],
       "metadata": {},
       "removedWidgets": [],
       "type": "html"
      }
     },
     "output_type": "display_data"
    },
    {
     "output_type": "display_data",
     "data": {
      "text/html": [
       "<style scoped>\n",
       "  .ansiout {\n",
       "    display: block;\n",
       "    unicode-bidi: embed;\n",
       "    white-space: pre-wrap;\n",
       "    word-wrap: break-word;\n",
       "    word-break: break-all;\n",
       "    font-family: \"Source Code Pro\", \"Menlo\", monospace;;\n",
       "    font-size: 13px;\n",
       "    color: #555;\n",
       "    margin-left: 4px;\n",
       "    line-height: 19px;\n",
       "  }\n",
       "</style>\n",
       "<div class=\"ansiout\">WARNING! engine is not default parameter.\n",
       "                    engine was transferred to model_kwargs.\n",
       "                    Please confirm that engine is what you intended.\n",
       "</div>"
      ]
     },
     "metadata": {
      "application/vnd.databricks.v1+output": {
       "addedWidgets": {},
       "arguments": {},
       "data": "<div class=\"ansiout\">WARNING! engine is not default parameter.\n                    engine was transferred to model_kwargs.\n                    Please confirm that engine is what you intended.\n</div>",
       "datasetInfos": [],
       "metadata": {},
       "removedWidgets": [],
       "type": "html"
      }
     },
     "output_type": "display_data"
    },
    {
     "output_type": "display_data",
     "data": {
      "text/html": [
       "<style scoped>\n",
       "  .ansiout {\n",
       "    display: block;\n",
       "    unicode-bidi: embed;\n",
       "    white-space: pre-wrap;\n",
       "    word-wrap: break-word;\n",
       "    word-break: break-all;\n",
       "    font-family: \"Source Code Pro\", \"Menlo\", monospace;;\n",
       "    font-size: 13px;\n",
       "    color: #555;\n",
       "    margin-left: 4px;\n",
       "    line-height: 19px;\n",
       "  }\n",
       "</style>\n",
       "<div class=\"ansiout\"></div>"
      ]
     },
     "metadata": {
      "application/vnd.databricks.v1+output": {
       "addedWidgets": {},
       "arguments": {},
       "data": "<div class=\"ansiout\"></div>",
       "datasetInfos": [],
       "metadata": {},
       "removedWidgets": [],
       "type": "html"
      }
     },
     "output_type": "display_data"
    },
    {
     "output_type": "display_data",
     "data": {
      "text/html": [
       "<style scoped>\n",
       "  .ansiout {\n",
       "    display: block;\n",
       "    unicode-bidi: embed;\n",
       "    white-space: pre-wrap;\n",
       "    word-wrap: break-word;\n",
       "    word-break: break-all;\n",
       "    font-family: \"Source Code Pro\", \"Menlo\", monospace;;\n",
       "    font-size: 13px;\n",
       "    color: #555;\n",
       "    margin-left: 4px;\n",
       "    line-height: 19px;\n",
       "  }\n",
       "</style>\n",
       "<div class=\"ansiout\"></div>"
      ]
     },
     "metadata": {
      "application/vnd.databricks.v1+output": {
       "addedWidgets": {},
       "arguments": {},
       "data": "<div class=\"ansiout\"></div>",
       "datasetInfos": [],
       "metadata": {},
       "removedWidgets": [],
       "type": "html"
      }
     },
     "output_type": "display_data"
    },
    {
     "output_type": "display_data",
     "data": {
      "text/html": [
       "<style scoped>\n",
       "  .ansiout {\n",
       "    display: block;\n",
       "    unicode-bidi: embed;\n",
       "    white-space: pre-wrap;\n",
       "    word-wrap: break-word;\n",
       "    word-break: break-all;\n",
       "    font-family: \"Source Code Pro\", \"Menlo\", monospace;;\n",
       "    font-size: 13px;\n",
       "    color: #555;\n",
       "    margin-left: 4px;\n",
       "    line-height: 19px;\n",
       "  }\n",
       "</style>\n",
       "<div class=\"ansiout\"></div>"
      ]
     },
     "metadata": {
      "application/vnd.databricks.v1+output": {
       "addedWidgets": {},
       "arguments": {},
       "data": "<div class=\"ansiout\"></div>",
       "datasetInfos": [],
       "metadata": {},
       "removedWidgets": [],
       "type": "html"
      }
     },
     "output_type": "display_data"
    },
    {
     "output_type": "display_data",
     "data": {
      "text/html": [
       "<style scoped>\n",
       "  .ansiout {\n",
       "    display: block;\n",
       "    unicode-bidi: embed;\n",
       "    white-space: pre-wrap;\n",
       "    word-wrap: break-word;\n",
       "    word-break: break-all;\n",
       "    font-family: \"Source Code Pro\", \"Menlo\", monospace;;\n",
       "    font-size: 13px;\n",
       "    color: #555;\n",
       "    margin-left: 4px;\n",
       "    line-height: 19px;\n",
       "  }\n",
       "</style>\n",
       "<div class=\"ansiout\"></div>"
      ]
     },
     "metadata": {
      "application/vnd.databricks.v1+output": {
       "addedWidgets": {},
       "arguments": {},
       "data": "<div class=\"ansiout\"></div>",
       "datasetInfos": [],
       "metadata": {},
       "removedWidgets": [],
       "type": "html"
      }
     },
     "output_type": "display_data"
    },
    {
     "output_type": "display_data",
     "data": {
      "text/html": [
       "<style scoped>\n",
       "  .ansiout {\n",
       "    display: block;\n",
       "    unicode-bidi: embed;\n",
       "    white-space: pre-wrap;\n",
       "    word-wrap: break-word;\n",
       "    word-break: break-all;\n",
       "    font-family: \"Source Code Pro\", \"Menlo\", monospace;;\n",
       "    font-size: 13px;\n",
       "    color: #555;\n",
       "    margin-left: 4px;\n",
       "    line-height: 19px;\n",
       "  }\n",
       "</style>\n",
       "<div class=\"ansiout\"></div>"
      ]
     },
     "metadata": {
      "application/vnd.databricks.v1+output": {
       "addedWidgets": {},
       "arguments": {},
       "data": "<div class=\"ansiout\"></div>",
       "datasetInfos": [],
       "metadata": {},
       "removedWidgets": [],
       "type": "html"
      }
     },
     "output_type": "display_data"
    },
    {
     "output_type": "display_data",
     "data": {
      "text/html": [
       "<style scoped>\n",
       "  .ansiout {\n",
       "    display: block;\n",
       "    unicode-bidi: embed;\n",
       "    white-space: pre-wrap;\n",
       "    word-wrap: break-word;\n",
       "    word-break: break-all;\n",
       "    font-family: \"Source Code Pro\", \"Menlo\", monospace;;\n",
       "    font-size: 13px;\n",
       "    color: #555;\n",
       "    margin-left: 4px;\n",
       "    line-height: 19px;\n",
       "  }\n",
       "</style>\n",
       "<div class=\"ansiout\"></div>"
      ]
     },
     "metadata": {
      "application/vnd.databricks.v1+output": {
       "addedWidgets": {},
       "arguments": {},
       "data": "<div class=\"ansiout\"></div>",
       "datasetInfos": [],
       "metadata": {},
       "removedWidgets": [],
       "type": "html"
      }
     },
     "output_type": "display_data"
    },
    {
     "output_type": "display_data",
     "data": {
      "text/html": [
       "<style scoped>\n",
       "  .ansiout {\n",
       "    display: block;\n",
       "    unicode-bidi: embed;\n",
       "    white-space: pre-wrap;\n",
       "    word-wrap: break-word;\n",
       "    word-break: break-all;\n",
       "    font-family: \"Source Code Pro\", \"Menlo\", monospace;;\n",
       "    font-size: 13px;\n",
       "    color: #555;\n",
       "    margin-left: 4px;\n",
       "    line-height: 19px;\n",
       "  }\n",
       "</style>\n",
       "<div class=\"ansiout\"></div>"
      ]
     },
     "metadata": {
      "application/vnd.databricks.v1+output": {
       "addedWidgets": {},
       "arguments": {},
       "data": "<div class=\"ansiout\"></div>",
       "datasetInfos": [],
       "metadata": {},
       "removedWidgets": [],
       "type": "html"
      }
     },
     "output_type": "display_data"
    },
    {
     "output_type": "display_data",
     "data": {
      "text/html": [
       "<style scoped>\n",
       "  .ansiout {\n",
       "    display: block;\n",
       "    unicode-bidi: embed;\n",
       "    white-space: pre-wrap;\n",
       "    word-wrap: break-word;\n",
       "    word-break: break-all;\n",
       "    font-family: \"Source Code Pro\", \"Menlo\", monospace;;\n",
       "    font-size: 13px;\n",
       "    color: #555;\n",
       "    margin-left: 4px;\n",
       "    line-height: 19px;\n",
       "  }\n",
       "</style>\n",
       "<div class=\"ansiout\"></div>"
      ]
     },
     "metadata": {
      "application/vnd.databricks.v1+output": {
       "addedWidgets": {},
       "arguments": {},
       "data": "<div class=\"ansiout\"></div>",
       "datasetInfos": [],
       "metadata": {},
       "removedWidgets": [],
       "type": "html"
      }
     },
     "output_type": "display_data"
    },
    {
     "output_type": "display_data",
     "data": {
      "text/html": [
       "<style scoped>\n",
       "  .ansiout {\n",
       "    display: block;\n",
       "    unicode-bidi: embed;\n",
       "    white-space: pre-wrap;\n",
       "    word-wrap: break-word;\n",
       "    word-break: break-all;\n",
       "    font-family: \"Source Code Pro\", \"Menlo\", monospace;;\n",
       "    font-size: 13px;\n",
       "    color: #555;\n",
       "    margin-left: 4px;\n",
       "    line-height: 19px;\n",
       "  }\n",
       "</style>\n",
       "<div class=\"ansiout\"></div>"
      ]
     },
     "metadata": {
      "application/vnd.databricks.v1+output": {
       "addedWidgets": {},
       "arguments": {},
       "data": "<div class=\"ansiout\"></div>",
       "datasetInfos": [],
       "metadata": {},
       "removedWidgets": [],
       "type": "html"
      }
     },
     "output_type": "display_data"
    },
    {
     "output_type": "display_data",
     "data": {
      "text/html": [
       "<style scoped>\n",
       "  .ansiout {\n",
       "    display: block;\n",
       "    unicode-bidi: embed;\n",
       "    white-space: pre-wrap;\n",
       "    word-wrap: break-word;\n",
       "    word-break: break-all;\n",
       "    font-family: \"Source Code Pro\", \"Menlo\", monospace;;\n",
       "    font-size: 13px;\n",
       "    color: #555;\n",
       "    margin-left: 4px;\n",
       "    line-height: 19px;\n",
       "  }\n",
       "</style>\n",
       "<div class=\"ansiout\"></div>"
      ]
     },
     "metadata": {
      "application/vnd.databricks.v1+output": {
       "addedWidgets": {},
       "arguments": {},
       "data": "<div class=\"ansiout\"></div>",
       "datasetInfos": [],
       "metadata": {},
       "removedWidgets": [],
       "type": "html"
      }
     },
     "output_type": "display_data"
    },
    {
     "output_type": "display_data",
     "data": {
      "text/html": [
       "<style scoped>\n",
       "  .ansiout {\n",
       "    display: block;\n",
       "    unicode-bidi: embed;\n",
       "    white-space: pre-wrap;\n",
       "    word-wrap: break-word;\n",
       "    word-break: break-all;\n",
       "    font-family: \"Source Code Pro\", \"Menlo\", monospace;;\n",
       "    font-size: 13px;\n",
       "    color: #555;\n",
       "    margin-left: 4px;\n",
       "    line-height: 19px;\n",
       "  }\n",
       "</style>\n",
       "<div class=\"ansiout\"></div>"
      ]
     },
     "metadata": {
      "application/vnd.databricks.v1+output": {
       "addedWidgets": {},
       "arguments": {},
       "data": "<div class=\"ansiout\"></div>",
       "datasetInfos": [],
       "metadata": {},
       "removedWidgets": [],
       "type": "html"
      }
     },
     "output_type": "display_data"
    },
    {
     "output_type": "display_data",
     "data": {
      "text/html": [
       "<style scoped>\n",
       "  .ansiout {\n",
       "    display: block;\n",
       "    unicode-bidi: embed;\n",
       "    white-space: pre-wrap;\n",
       "    word-wrap: break-word;\n",
       "    word-break: break-all;\n",
       "    font-family: \"Source Code Pro\", \"Menlo\", monospace;;\n",
       "    font-size: 13px;\n",
       "    color: #555;\n",
       "    margin-left: 4px;\n",
       "    line-height: 19px;\n",
       "  }\n",
       "</style>\n",
       "<div class=\"ansiout\"></div>"
      ]
     },
     "metadata": {
      "application/vnd.databricks.v1+output": {
       "addedWidgets": {},
       "arguments": {},
       "data": "<div class=\"ansiout\"></div>",
       "datasetInfos": [],
       "metadata": {},
       "removedWidgets": [],
       "type": "html"
      }
     },
     "output_type": "display_data"
    },
    {
     "output_type": "display_data",
     "data": {
      "text/html": [
       "<style scoped>\n",
       "  .ansiout {\n",
       "    display: block;\n",
       "    unicode-bidi: embed;\n",
       "    white-space: pre-wrap;\n",
       "    word-wrap: break-word;\n",
       "    word-break: break-all;\n",
       "    font-family: \"Source Code Pro\", \"Menlo\", monospace;;\n",
       "    font-size: 13px;\n",
       "    color: #555;\n",
       "    margin-left: 4px;\n",
       "    line-height: 19px;\n",
       "  }\n",
       "</style>\n",
       "<div class=\"ansiout\"></div>"
      ]
     },
     "metadata": {
      "application/vnd.databricks.v1+output": {
       "addedWidgets": {},
       "arguments": {},
       "data": "<div class=\"ansiout\"></div>",
       "datasetInfos": [],
       "metadata": {},
       "removedWidgets": [],
       "type": "html"
      }
     },
     "output_type": "display_data"
    },
    {
     "output_type": "display_data",
     "data": {
      "text/html": [
       "<style scoped>\n",
       "  .ansiout {\n",
       "    display: block;\n",
       "    unicode-bidi: embed;\n",
       "    white-space: pre-wrap;\n",
       "    word-wrap: break-word;\n",
       "    word-break: break-all;\n",
       "    font-family: \"Source Code Pro\", \"Menlo\", monospace;;\n",
       "    font-size: 13px;\n",
       "    color: #555;\n",
       "    margin-left: 4px;\n",
       "    line-height: 19px;\n",
       "  }\n",
       "</style>\n",
       "<div class=\"ansiout\"></div>"
      ]
     },
     "metadata": {
      "application/vnd.databricks.v1+output": {
       "addedWidgets": {},
       "arguments": {},
       "data": "<div class=\"ansiout\"></div>",
       "datasetInfos": [],
       "metadata": {},
       "removedWidgets": [],
       "type": "html"
      }
     },
     "output_type": "display_data"
    },
    {
     "output_type": "display_data",
     "data": {
      "text/html": [
       "<style scoped>\n",
       "  .ansiout {\n",
       "    display: block;\n",
       "    unicode-bidi: embed;\n",
       "    white-space: pre-wrap;\n",
       "    word-wrap: break-word;\n",
       "    word-break: break-all;\n",
       "    font-family: \"Source Code Pro\", \"Menlo\", monospace;;\n",
       "    font-size: 13px;\n",
       "    color: #555;\n",
       "    margin-left: 4px;\n",
       "    line-height: 19px;\n",
       "  }\n",
       "</style>\n",
       "<div class=\"ansiout\"></div>"
      ]
     },
     "metadata": {
      "application/vnd.databricks.v1+output": {
       "addedWidgets": {},
       "arguments": {},
       "data": "<div class=\"ansiout\"></div>",
       "datasetInfos": [],
       "metadata": {},
       "removedWidgets": [],
       "type": "html"
      }
     },
     "output_type": "display_data"
    },
    {
     "output_type": "display_data",
     "data": {
      "text/html": [
       "<style scoped>\n",
       "  .ansiout {\n",
       "    display: block;\n",
       "    unicode-bidi: embed;\n",
       "    white-space: pre-wrap;\n",
       "    word-wrap: break-word;\n",
       "    word-break: break-all;\n",
       "    font-family: \"Source Code Pro\", \"Menlo\", monospace;;\n",
       "    font-size: 13px;\n",
       "    color: #555;\n",
       "    margin-left: 4px;\n",
       "    line-height: 19px;\n",
       "  }\n",
       "</style>\n",
       "<div class=\"ansiout\"></div>"
      ]
     },
     "metadata": {
      "application/vnd.databricks.v1+output": {
       "addedWidgets": {},
       "arguments": {},
       "data": "<div class=\"ansiout\"></div>",
       "datasetInfos": [],
       "metadata": {},
       "removedWidgets": [],
       "type": "html"
      }
     },
     "output_type": "display_data"
    },
    {
     "output_type": "display_data",
     "data": {
      "text/html": [
       "<style scoped>\n",
       "  .ansiout {\n",
       "    display: block;\n",
       "    unicode-bidi: embed;\n",
       "    white-space: pre-wrap;\n",
       "    word-wrap: break-word;\n",
       "    word-break: break-all;\n",
       "    font-family: \"Source Code Pro\", \"Menlo\", monospace;;\n",
       "    font-size: 13px;\n",
       "    color: #555;\n",
       "    margin-left: 4px;\n",
       "    line-height: 19px;\n",
       "  }\n",
       "</style>\n",
       "<div class=\"ansiout\"></div>"
      ]
     },
     "metadata": {
      "application/vnd.databricks.v1+output": {
       "addedWidgets": {},
       "arguments": {},
       "data": "<div class=\"ansiout\"></div>",
       "datasetInfos": [],
       "metadata": {},
       "removedWidgets": [],
       "type": "html"
      }
     },
     "output_type": "display_data"
    },
    {
     "output_type": "display_data",
     "data": {
      "text/html": [
       "<style scoped>\n",
       "  .ansiout {\n",
       "    display: block;\n",
       "    unicode-bidi: embed;\n",
       "    white-space: pre-wrap;\n",
       "    word-wrap: break-word;\n",
       "    word-break: break-all;\n",
       "    font-family: \"Source Code Pro\", \"Menlo\", monospace;;\n",
       "    font-size: 13px;\n",
       "    color: #555;\n",
       "    margin-left: 4px;\n",
       "    line-height: 19px;\n",
       "  }\n",
       "</style>\n",
       "<div class=\"ansiout\"></div>"
      ]
     },
     "metadata": {
      "application/vnd.databricks.v1+output": {
       "addedWidgets": {},
       "arguments": {},
       "data": "<div class=\"ansiout\"></div>",
       "datasetInfos": [],
       "metadata": {},
       "removedWidgets": [],
       "type": "html"
      }
     },
     "output_type": "display_data"
    },
    {
     "output_type": "display_data",
     "data": {
      "text/html": [
       "<style scoped>\n",
       "  .ansiout {\n",
       "    display: block;\n",
       "    unicode-bidi: embed;\n",
       "    white-space: pre-wrap;\n",
       "    word-wrap: break-word;\n",
       "    word-break: break-all;\n",
       "    font-family: \"Source Code Pro\", \"Menlo\", monospace;;\n",
       "    font-size: 13px;\n",
       "    color: #555;\n",
       "    margin-left: 4px;\n",
       "    line-height: 19px;\n",
       "  }\n",
       "</style>\n",
       "<div class=\"ansiout\"></div>"
      ]
     },
     "metadata": {
      "application/vnd.databricks.v1+output": {
       "addedWidgets": {},
       "arguments": {},
       "data": "<div class=\"ansiout\"></div>",
       "datasetInfos": [],
       "metadata": {},
       "removedWidgets": [],
       "type": "html"
      }
     },
     "output_type": "display_data"
    },
    {
     "output_type": "display_data",
     "data": {
      "text/html": [
       "<style scoped>\n",
       "  .ansiout {\n",
       "    display: block;\n",
       "    unicode-bidi: embed;\n",
       "    white-space: pre-wrap;\n",
       "    word-wrap: break-word;\n",
       "    word-break: break-all;\n",
       "    font-family: \"Source Code Pro\", \"Menlo\", monospace;;\n",
       "    font-size: 13px;\n",
       "    color: #555;\n",
       "    margin-left: 4px;\n",
       "    line-height: 19px;\n",
       "  }\n",
       "</style>\n",
       "<div class=\"ansiout\"></div>"
      ]
     },
     "metadata": {
      "application/vnd.databricks.v1+output": {
       "addedWidgets": {},
       "arguments": {},
       "data": "<div class=\"ansiout\"></div>",
       "datasetInfos": [],
       "metadata": {},
       "removedWidgets": [],
       "type": "html"
      }
     },
     "output_type": "display_data"
    },
    {
     "output_type": "display_data",
     "data": {
      "text/html": [
       "<style scoped>\n",
       "  .ansiout {\n",
       "    display: block;\n",
       "    unicode-bidi: embed;\n",
       "    white-space: pre-wrap;\n",
       "    word-wrap: break-word;\n",
       "    word-break: break-all;\n",
       "    font-family: \"Source Code Pro\", \"Menlo\", monospace;;\n",
       "    font-size: 13px;\n",
       "    color: #555;\n",
       "    margin-left: 4px;\n",
       "    line-height: 19px;\n",
       "  }\n",
       "</style>\n",
       "<div class=\"ansiout\"></div>"
      ]
     },
     "metadata": {
      "application/vnd.databricks.v1+output": {
       "addedWidgets": {},
       "arguments": {},
       "data": "<div class=\"ansiout\"></div>",
       "datasetInfos": [],
       "metadata": {},
       "removedWidgets": [],
       "type": "html"
      }
     },
     "output_type": "display_data"
    },
    {
     "output_type": "display_data",
     "data": {
      "text/html": [
       "<style scoped>\n",
       "  .ansiout {\n",
       "    display: block;\n",
       "    unicode-bidi: embed;\n",
       "    white-space: pre-wrap;\n",
       "    word-wrap: break-word;\n",
       "    word-break: break-all;\n",
       "    font-family: \"Source Code Pro\", \"Menlo\", monospace;;\n",
       "    font-size: 13px;\n",
       "    color: #555;\n",
       "    margin-left: 4px;\n",
       "    line-height: 19px;\n",
       "  }\n",
       "</style>\n",
       "<div class=\"ansiout\"></div>"
      ]
     },
     "metadata": {
      "application/vnd.databricks.v1+output": {
       "addedWidgets": {},
       "arguments": {},
       "data": "<div class=\"ansiout\"></div>",
       "datasetInfos": [],
       "metadata": {},
       "removedWidgets": [],
       "type": "html"
      }
     },
     "output_type": "display_data"
    },
    {
     "output_type": "display_data",
     "data": {
      "text/html": [
       "<style scoped>\n",
       "  .ansiout {\n",
       "    display: block;\n",
       "    unicode-bidi: embed;\n",
       "    white-space: pre-wrap;\n",
       "    word-wrap: break-word;\n",
       "    word-break: break-all;\n",
       "    font-family: \"Source Code Pro\", \"Menlo\", monospace;;\n",
       "    font-size: 13px;\n",
       "    color: #555;\n",
       "    margin-left: 4px;\n",
       "    line-height: 19px;\n",
       "  }\n",
       "</style>\n",
       "<div class=\"ansiout\"></div>"
      ]
     },
     "metadata": {
      "application/vnd.databricks.v1+output": {
       "addedWidgets": {},
       "arguments": {},
       "data": "<div class=\"ansiout\"></div>",
       "datasetInfos": [],
       "metadata": {},
       "removedWidgets": [],
       "type": "html"
      }
     },
     "output_type": "display_data"
    },
    {
     "output_type": "display_data",
     "data": {
      "text/html": [
       "<style scoped>\n",
       "  .ansiout {\n",
       "    display: block;\n",
       "    unicode-bidi: embed;\n",
       "    white-space: pre-wrap;\n",
       "    word-wrap: break-word;\n",
       "    word-break: break-all;\n",
       "    font-family: \"Source Code Pro\", \"Menlo\", monospace;;\n",
       "    font-size: 13px;\n",
       "    color: #555;\n",
       "    margin-left: 4px;\n",
       "    line-height: 19px;\n",
       "  }\n",
       "</style>\n",
       "<div class=\"ansiout\"></div>"
      ]
     },
     "metadata": {
      "application/vnd.databricks.v1+output": {
       "addedWidgets": {},
       "arguments": {},
       "data": "<div class=\"ansiout\"></div>",
       "datasetInfos": [],
       "metadata": {},
       "removedWidgets": [],
       "type": "html"
      }
     },
     "output_type": "display_data"
    },
    {
     "output_type": "display_data",
     "data": {
      "text/html": [
       "<style scoped>\n",
       "  .ansiout {\n",
       "    display: block;\n",
       "    unicode-bidi: embed;\n",
       "    white-space: pre-wrap;\n",
       "    word-wrap: break-word;\n",
       "    word-break: break-all;\n",
       "    font-family: \"Source Code Pro\", \"Menlo\", monospace;;\n",
       "    font-size: 13px;\n",
       "    color: #555;\n",
       "    margin-left: 4px;\n",
       "    line-height: 19px;\n",
       "  }\n",
       "</style>\n",
       "<div class=\"ansiout\"></div>"
      ]
     },
     "metadata": {
      "application/vnd.databricks.v1+output": {
       "addedWidgets": {},
       "arguments": {},
       "data": "<div class=\"ansiout\"></div>",
       "datasetInfos": [],
       "metadata": {},
       "removedWidgets": [],
       "type": "html"
      }
     },
     "output_type": "display_data"
    },
    {
     "output_type": "display_data",
     "data": {
      "text/html": [
       "<style scoped>\n",
       "  .ansiout {\n",
       "    display: block;\n",
       "    unicode-bidi: embed;\n",
       "    white-space: pre-wrap;\n",
       "    word-wrap: break-word;\n",
       "    word-break: break-all;\n",
       "    font-family: \"Source Code Pro\", \"Menlo\", monospace;;\n",
       "    font-size: 13px;\n",
       "    color: #555;\n",
       "    margin-left: 4px;\n",
       "    line-height: 19px;\n",
       "  }\n",
       "</style>\n",
       "<div class=\"ansiout\"></div>"
      ]
     },
     "metadata": {
      "application/vnd.databricks.v1+output": {
       "addedWidgets": {},
       "arguments": {},
       "data": "<div class=\"ansiout\"></div>",
       "datasetInfos": [],
       "metadata": {},
       "removedWidgets": [],
       "type": "html"
      }
     },
     "output_type": "display_data"
    },
    {
     "output_type": "display_data",
     "data": {
      "text/html": [
       "<style scoped>\n",
       "  .ansiout {\n",
       "    display: block;\n",
       "    unicode-bidi: embed;\n",
       "    white-space: pre-wrap;\n",
       "    word-wrap: break-word;\n",
       "    word-break: break-all;\n",
       "    font-family: \"Source Code Pro\", \"Menlo\", monospace;;\n",
       "    font-size: 13px;\n",
       "    color: #555;\n",
       "    margin-left: 4px;\n",
       "    line-height: 19px;\n",
       "  }\n",
       "</style>\n",
       "<div class=\"ansiout\"></div>"
      ]
     },
     "metadata": {
      "application/vnd.databricks.v1+output": {
       "addedWidgets": {},
       "arguments": {},
       "data": "<div class=\"ansiout\"></div>",
       "datasetInfos": [],
       "metadata": {},
       "removedWidgets": [],
       "type": "html"
      }
     },
     "output_type": "display_data"
    },
    {
     "output_type": "display_data",
     "data": {
      "text/html": [
       "<style scoped>\n",
       "  .ansiout {\n",
       "    display: block;\n",
       "    unicode-bidi: embed;\n",
       "    white-space: pre-wrap;\n",
       "    word-wrap: break-word;\n",
       "    word-break: break-all;\n",
       "    font-family: \"Source Code Pro\", \"Menlo\", monospace;;\n",
       "    font-size: 13px;\n",
       "    color: #555;\n",
       "    margin-left: 4px;\n",
       "    line-height: 19px;\n",
       "  }\n",
       "</style>\n",
       "<div class=\"ansiout\"></div>"
      ]
     },
     "metadata": {
      "application/vnd.databricks.v1+output": {
       "addedWidgets": {},
       "arguments": {},
       "data": "<div class=\"ansiout\"></div>",
       "datasetInfos": [],
       "metadata": {},
       "removedWidgets": [],
       "type": "html"
      }
     },
     "output_type": "display_data"
    },
    {
     "output_type": "display_data",
     "data": {
      "text/html": [
       "<style scoped>\n",
       "  .ansiout {\n",
       "    display: block;\n",
       "    unicode-bidi: embed;\n",
       "    white-space: pre-wrap;\n",
       "    word-wrap: break-word;\n",
       "    word-break: break-all;\n",
       "    font-family: \"Source Code Pro\", \"Menlo\", monospace;;\n",
       "    font-size: 13px;\n",
       "    color: #555;\n",
       "    margin-left: 4px;\n",
       "    line-height: 19px;\n",
       "  }\n",
       "</style>\n",
       "<div class=\"ansiout\"></div>"
      ]
     },
     "metadata": {
      "application/vnd.databricks.v1+output": {
       "addedWidgets": {},
       "arguments": {},
       "data": "<div class=\"ansiout\"></div>",
       "datasetInfos": [],
       "metadata": {},
       "removedWidgets": [],
       "type": "html"
      }
     },
     "output_type": "display_data"
    },
    {
     "output_type": "display_data",
     "data": {
      "text/html": [
       "<style scoped>\n",
       "  .ansiout {\n",
       "    display: block;\n",
       "    unicode-bidi: embed;\n",
       "    white-space: pre-wrap;\n",
       "    word-wrap: break-word;\n",
       "    word-break: break-all;\n",
       "    font-family: \"Source Code Pro\", \"Menlo\", monospace;;\n",
       "    font-size: 13px;\n",
       "    color: #555;\n",
       "    margin-left: 4px;\n",
       "    line-height: 19px;\n",
       "  }\n",
       "</style>\n",
       "<div class=\"ansiout\"></div>"
      ]
     },
     "metadata": {
      "application/vnd.databricks.v1+output": {
       "addedWidgets": {},
       "arguments": {},
       "data": "<div class=\"ansiout\"></div>",
       "datasetInfos": [],
       "metadata": {},
       "removedWidgets": [],
       "type": "html"
      }
     },
     "output_type": "display_data"
    },
    {
     "output_type": "display_data",
     "data": {
      "text/html": [
       "<style scoped>\n",
       "  .ansiout {\n",
       "    display: block;\n",
       "    unicode-bidi: embed;\n",
       "    white-space: pre-wrap;\n",
       "    word-wrap: break-word;\n",
       "    word-break: break-all;\n",
       "    font-family: \"Source Code Pro\", \"Menlo\", monospace;;\n",
       "    font-size: 13px;\n",
       "    color: #555;\n",
       "    margin-left: 4px;\n",
       "    line-height: 19px;\n",
       "  }\n",
       "</style>\n",
       "<div class=\"ansiout\"></div>"
      ]
     },
     "metadata": {
      "application/vnd.databricks.v1+output": {
       "addedWidgets": {},
       "arguments": {},
       "data": "<div class=\"ansiout\"></div>",
       "datasetInfos": [],
       "metadata": {},
       "removedWidgets": [],
       "type": "html"
      }
     },
     "output_type": "display_data"
    },
    {
     "output_type": "display_data",
     "data": {
      "text/html": [
       "<style scoped>\n",
       "  .ansiout {\n",
       "    display: block;\n",
       "    unicode-bidi: embed;\n",
       "    white-space: pre-wrap;\n",
       "    word-wrap: break-word;\n",
       "    word-break: break-all;\n",
       "    font-family: \"Source Code Pro\", \"Menlo\", monospace;;\n",
       "    font-size: 13px;\n",
       "    color: #555;\n",
       "    margin-left: 4px;\n",
       "    line-height: 19px;\n",
       "  }\n",
       "</style>\n",
       "<div class=\"ansiout\"></div>"
      ]
     },
     "metadata": {
      "application/vnd.databricks.v1+output": {
       "addedWidgets": {},
       "arguments": {},
       "data": "<div class=\"ansiout\"></div>",
       "datasetInfos": [],
       "metadata": {},
       "removedWidgets": [],
       "type": "html"
      }
     },
     "output_type": "display_data"
    },
    {
     "output_type": "display_data",
     "data": {
      "text/html": [
       "<style scoped>\n",
       "  .ansiout {\n",
       "    display: block;\n",
       "    unicode-bidi: embed;\n",
       "    white-space: pre-wrap;\n",
       "    word-wrap: break-word;\n",
       "    word-break: break-all;\n",
       "    font-family: \"Source Code Pro\", \"Menlo\", monospace;;\n",
       "    font-size: 13px;\n",
       "    color: #555;\n",
       "    margin-left: 4px;\n",
       "    line-height: 19px;\n",
       "  }\n",
       "</style>\n",
       "<div class=\"ansiout\"></div>"
      ]
     },
     "metadata": {
      "application/vnd.databricks.v1+output": {
       "addedWidgets": {},
       "arguments": {},
       "data": "<div class=\"ansiout\"></div>",
       "datasetInfos": [],
       "metadata": {},
       "removedWidgets": [],
       "type": "html"
      }
     },
     "output_type": "display_data"
    },
    {
     "output_type": "display_data",
     "data": {
      "text/html": [
       "<style scoped>\n",
       "  .ansiout {\n",
       "    display: block;\n",
       "    unicode-bidi: embed;\n",
       "    white-space: pre-wrap;\n",
       "    word-wrap: break-word;\n",
       "    word-break: break-all;\n",
       "    font-family: \"Source Code Pro\", \"Menlo\", monospace;;\n",
       "    font-size: 13px;\n",
       "    color: #555;\n",
       "    margin-left: 4px;\n",
       "    line-height: 19px;\n",
       "  }\n",
       "</style>\n",
       "<div class=\"ansiout\"></div>"
      ]
     },
     "metadata": {
      "application/vnd.databricks.v1+output": {
       "addedWidgets": {},
       "arguments": {},
       "data": "<div class=\"ansiout\"></div>",
       "datasetInfos": [],
       "metadata": {},
       "removedWidgets": [],
       "type": "html"
      }
     },
     "output_type": "display_data"
    },
    {
     "output_type": "display_data",
     "data": {
      "text/html": [
       "<style scoped>\n",
       "  .ansiout {\n",
       "    display: block;\n",
       "    unicode-bidi: embed;\n",
       "    white-space: pre-wrap;\n",
       "    word-wrap: break-word;\n",
       "    word-break: break-all;\n",
       "    font-family: \"Source Code Pro\", \"Menlo\", monospace;;\n",
       "    font-size: 13px;\n",
       "    color: #555;\n",
       "    margin-left: 4px;\n",
       "    line-height: 19px;\n",
       "  }\n",
       "</style>\n",
       "<div class=\"ansiout\"></div>"
      ]
     },
     "metadata": {
      "application/vnd.databricks.v1+output": {
       "addedWidgets": {},
       "arguments": {},
       "data": "<div class=\"ansiout\"></div>",
       "datasetInfos": [],
       "metadata": {},
       "removedWidgets": [],
       "type": "html"
      }
     },
     "output_type": "display_data"
    }
   ],
   "source": [
    "%run \"./SAP_FDD_Indexing\""
   ]
  },
  {
   "cell_type": "markdown",
   "metadata": {
    "application/vnd.databricks.v1+cell": {
     "cellMetadata": {
      "byteLimit": 2048000,
      "rowLimit": 10000
     },
     "inputWidgets": {},
     "nuid": "58e3e16d-6145-4a0f-b4f3-a68dd5b52746",
     "showTitle": false,
     "title": ""
    }
   },
   "source": [
    "### Generate Indexes for FSDs"
   ]
  },
  {
   "cell_type": "code",
   "execution_count": 0,
   "metadata": {
    "application/vnd.databricks.v1+cell": {
     "cellMetadata": {
      "byteLimit": 2048000,
      "rowLimit": 10000
     },
     "inputWidgets": {},
     "nuid": "3c17e90d-81a5-4fdd-873c-354bd665404e",
     "showTitle": false,
     "title": "Read FSDs"
    }
   },
   "outputs": [
    {
     "output_type": "display_data",
     "data": {
      "text/html": [
       "<style scoped>\n",
       "  .ansiout {\n",
       "    display: block;\n",
       "    unicode-bidi: embed;\n",
       "    white-space: pre-wrap;\n",
       "    word-wrap: break-word;\n",
       "    word-break: break-all;\n",
       "    font-family: \"Source Code Pro\", \"Menlo\", monospace;;\n",
       "    font-size: 13px;\n",
       "    color: #555;\n",
       "    margin-left: 4px;\n",
       "    line-height: 19px;\n",
       "  }\n",
       "</style>\n",
       "<div class=\"ansiout\">Parsing\n",
       "26FSDSwithSummarizedText.xlsx\n",
       "26fsd_16k_Pipeline1_mix_approach_first7.xlsx\n",
       "26fsd_16k_Pipeline1_tests.xlsx\n",
       "26fsd_16k_Pipeline1_tests_mike.xlsx\n",
       "26fsd_16k_Pipeline2_good15.xlsx\n",
       "26fsd_16k_Pipeline2_good2.xlsx\n",
       "26fsd_16k_Pipeline2_good21.xlsx\n",
       "26fsd_16k_Pipeline2_great15.xlsx\n",
       "26fsd_16k_Pipeline2_tests.xlsx\n",
       "26fsd_16k_Pipeline2_tests_mike.xlsx\n",
       "26fsd_4-16k_Pipeline1.xlsx\n",
       "2ndFSDTestSet.xlsx\n",
       "2ndFSDTestSetV2.xlsx\n",
       "2ndFSDTestSetV3.xlsx\n",
       "2ndFSDTrainingSet.xlsx\n",
       "Award_Letter_Template.docx\n",
       "Award_Letter_Template2.docx\n",
       "Award_Letter_Translated.docx\n",
       "BANK STATEMENT RECONCILIATION.docx\n",
       "BPD.zip\n",
       "Bill Management.csv\n",
       "Budgetary Controls.csv\n",
       "CELA Case Data.xlsx\n",
       "CELA Workplace Investigation Summary - ABC-455-6789.docx\n",
       "CELA Workplace Investigation Summary - ABC-455-6789_1.docx\n",
       "CELA Workplace Investigation Summary - ABC-812-3541.docx\n",
       "CELA Workplace Investigation Summary - ABC-898-7514.docx\n",
       "Case Data.xlsx\n",
       "Cash Management.csv\n",
       "Codes_mapping.xlsx\n",
       "DNU_OGE_FSD_E_PA_002_IM Program $ to IM Program Position $.docx\n",
       "DNU_OGE_FSD_E_PA_003_IM Program Position $ to WBS $.docx\n",
       "Dominion.xlsx\n",
       "DominionV2.xlsx\n",
       "EASY_DATA_SET.xlsx\n",
       "FDD_Outputs_E_FIN_001.docx\n",
       "FDD_Outputs_E_FIN_002.docx\n",
       "FDD_Outputs_RICEFW_001.docx\n",
       "FSD.zip\n",
       "FSD_GPT_output_results.xlsx\n",
       "FSD_Temp_1.docx\n",
       "FSD_deflated_zip/\n",
       "FSD_req.zip\n",
       "General Ledger.csv\n",
       "HARD_DATA_SET.xlsx\n",
       "HCM_Group_Membership.csv\n",
       "LNTest1.docx\n",
       "Mapping Template.xlsx\n",
       "OGE_FSD_-E_FIN_001_Electronic BADI for mass reversals - automated based on rejections2.docx\n",
       "OGE_FSD_-E_FIN_001_Electronic BADI for mass reversals - automated based on rejections3.docx\n",
       "OGE_FSD_-E_FIN_001_Electronic BADI for mass reversals - automated based on rejections_2023-06-10_00_33_28.docx\n",
       "OGE_FSD_-E_FIN_001_Electronic BADI for mass reversals - automated based on rejections_2023-06-11_22_10_00.docx\n",
       "OGE_FSD_-E_FIN_001_Electronic BADI for mass reversals - automated based on rejections_2023-06-11_23_10_03.docx\n",
       "OGE_FSD_-E_FIN_001_Electronic BADI for mass reversals - automated based on rejections_2023-06-12_00_00_10.docx\n",
       "OGE_FSD_-E_FIN_001_Electronic BADI for mass reversals - automated based on rejections_2023-06-12_00_29_20.docx\n",
       "OGE_FSD_-E_FIN_001_Electronic BADI for mass reversals - automated based on rejections_2023-06-13_14_42_26.docx\n",
       "OGE_FSD_-E_FIN_001_Electronic BADI for mass reversals - automated based on rejections_2023-06-13_18_21_53.docx\n",
       "OGE_FSD_-E_FIN_001_Electronic BADI for mass reversals - automated based on rejections_2023-06-13_23_08_12.docx\n",
       "OGE_FSD_-E_FIN_001_Electronic BADI for mass reversals - automated based on rejections_2023-06-14_01_48_53.docx\n",
       "OGE_FSD_-E_FIN_001_Electronic BADI for mass reversals - automated based on rejections_2023-06-16_00_39_34.docx\n",
       "OGE_FSD_-E_FIN_001_Electronic BADI for mass reversals - automated based on rejections_2023-06-19_18_18_54.docx\n",
       "OGE_FSD_-E_FIN_002_Overhead Residual Clearing Program _2023-06-10_00_43_49.docx\n",
       "OGE_FSD_-E_FIN_002_Overhead Residual Clearing Program _2023-06-11_22_19_57.docx\n",
       "OGE_FSD_-E_FIN_002_Overhead Residual Clearing Program _2023-06-12_00_41_25.docx\n",
       "OGE_FSD_-E_FIN_002_Overhead Residual Clearing Program _2023-06-13_14_53_17.docx\n",
       "OGE_FSD_-E_FIN_002_Overhead Residual Clearing Program _2023-06-13_18_29_56.docx\n",
       "OGE_FSD_-E_FIN_002_Overhead Residual Clearing Program _2023-06-13_23_15_42.docx\n",
       "OGE_FSD_-E_FIN_002_Overhead Residual Clearing Program _2023-06-14_00_35_54.docx\n",
       "OGE_FSD_-E_FIN_002_Overhead Residual Clearing Program _2023-06-16_00_42_46.docx\n",
       "OGE_FSD_-E_FIN_002_Overhead Residual Clearing Program _2023-06-19_18_30_00.docx\n",
       "OGE_FSD_-E_PA_004_Ability to create Projects and WBS structure using a defined excel upload file. Transaction &#34;ZCOSTCOLL - Load Project System Cost Collectors&#34; and &#34;Program - ZPRSU_LOAD_COST_COLLECTORS&#34;_2023-06-21_03_31_30.docx\n",
       "OGE_FSD_-E_PA_004_Ability to create Projects and WBS structure using a defined excel upload file. Transaction &#34;ZCOSTCOLL - Load Project System Cost Collectors&#34; and &#34;Program - ZPRSU_LOAD_COST_COLLECTORS&#34;_2023-06-22_22_11_31.docx\n",
       "OGE_FSD_-E_PA_004_Ability to mass change the WBS master data via excel upload_2023-06-22_23_08_07.docx\n",
       "OGE_FSD_-E_WAM_PS_009_Enhancement to serach for assets from the asset hierarchy_2023-06-20_18_48_31.docx\n",
       "OGE_FSD_-E_WAM_PS_009_Enhancement to serach for assets from the asset hierarchy_2023-06-21_01_45_15.docx\n",
       "OGE_FSD_-E_WAM_PS_009_Enhancement to serach for assets from the asset hierarchy_2023-06-21_14_35_40.docx\n",
       "OGE_FSD_-E_WAM_PS_009_Enhancement to serach for assets from the asset hierarchy_2023-06-22_18_56_38.docx\n",
       "OGE_FSD_-E_WAM_PS_009_Enhancement to serach for assets from the asset hierarchy_2023-06-22_20_06_16.docx\n",
       "OGE_FSD_-E_WAM_PS_009_Enhancement to serach for assets from the asset hierarchy_2023-06-22_20_35_31.docx\n",
       "OGE_FSD_-E_WAM_PS_009_Enhancement to serach for assets from the asset hierarchy_2023-06-22_21_01_25.docx\n",
       "OGE_FSD_-E_WAM_PS_016_ZWCM - Work Clearance Mgmt3.docx\n",
       "OGE_FSD_-E_WAM_PS_016_ZWCM - Work Clearance Mgmt_2023-06-10_01_31_22.docx\n",
       "OGE_FSD_-E_WAM_PS_016_ZWCM - Work Clearance Mgmt_2023-06-12_01_34_20.docx\n",
       "OGE_FSD_-E_WAM_PS_016_ZWCM - Work Clearance Mgmt_2023-06-13_15_37_49.docx\n",
       "OGE_FSD_-E_WAM_PS_016_ZWCM - Work Clearance Mgmt_2023-06-13_19_20_59.docx\n",
       "OGE_FSD_-E_WAM_PS_016_ZWCM - Work Clearance Mgmt_2023-06-14_02_04_16.docx\n",
       "OGE_FSD_-E_WAM_PS_016_ZWCM - Work Clearance Mgmt_2023-06-16_01_02_11.docx\n",
       "OGE_FSD_-E_WAM_PS_017_ZH135-Supvsr SignOff - Payroll Aprvd Time_2023-06-10_01_42_38.docx\n",
       "OGE_FSD_-E_WAM_PS_017_ZH135-Supvsr SignOff - Payroll Aprvd Time_2023-06-12_01_48_21.docx\n",
       "OGE_FSD_-E_WAM_PS_017_ZH135-Supvsr SignOff - Payroll Aprvd Time_2023-06-13_15_47_41.docx\n",
       "OGE_FSD_-E_WAM_PS_017_ZH135-Supvsr SignOff - Payroll Aprvd Time_2023-06-13_19_40_08.docx\n",
       "OGE_FSD_-E_WAM_PS_017_ZH135-Supvsr SignOff - Payroll Aprvd Time_2023-06-14_02_25_18.docx\n",
       "OGE_FSD_-E_WAM_PS_017_ZH135-Supvsr SignOff - Payroll Aprvd Time_2023-06-16_01_11_19.docx\n",
       "OGE_FSD_-E_WAM_PS_019_Excel Extract for maintenance scheduling board_2023-06-21_02_45_38.docx\n",
       "OGE_FSD_-E_WAM_PS_019_Excel Extract for maintenance scheduling board_2023-06-21_17_17_43.docx\n",
       "OGE_FSD_-E_WAM_PS_019_Excel Extract for maintenance scheduling board_2023-06-22_21_45_16.docx\n",
       "OGE_FSD_-E_WAM_T&amp;D_005_Automated WBS Assignment to Work Order_2023-06-21_02_09_05.docx\n",
       "OGE_FSD_-E_WAM_T&amp;D_005_Automated WBS Assignment to Work Order_2023-06-21_16_44_55.docx\n",
       "OGE_FSD_-E_WAM_T&amp;D_005_Automated WBS Assignment to Work Order_2023-06-22_22_15_35.docx\n",
       "OGE_FSD_-E_WAM_T&amp;D_019_Work Order - Locked Estimate Costs_2023-06-21_02_22_32.docx\n",
       "OGE_FSD_-E_WAM_T&amp;D_019_Work Order - Locked Estimate Costs_2023-06-21_16_57_12.docx\n",
       "OGE_FSD_-E_WAM_T&amp;D_019_Work Order - Locked Estimate Costs_2023-06-22_21_26_31.docx\n",
       "OGE_FSD_-F_FIN_001_Check Form for Bank of Oklahoma 2.docx\n",
       "OGE_FSD_-F_FIN_001_Check Form for Bank of Oklahoma 3.docx\n",
       "OGE_FSD_-F_FIN_001_Check Form for Bank of Oklahoma _2023-06-10_00_54_16.docx\n",
       "OGE_FSD_-F_FIN_001_Check Form for Bank of Oklahoma _2023-06-12_00_52_51.docx\n",
       "OGE_FSD_-F_FIN_001_Check Form for Bank of Oklahoma _2023-06-12_15_22_03.docx\n",
       "OGE_FSD_-F_FIN_001_Check Form for Bank of Oklahoma _2023-06-12_16_03_45.docx\n",
       "OGE_FSD_-F_FIN_001_Check Form for Bank of Oklahoma _2023-06-13_14_06_04.docx\n",
       "OGE_FSD_-F_FIN_001_Check Form for Bank of Oklahoma _2023-06-13_15_02_23.docx\n",
       "OGE_FSD_-F_FIN_001_Check Form for Bank of Oklahoma _2023-06-13_18_43_41.docx\n",
       "OGE_FSD_-F_FIN_001_Check Form for Bank of Oklahoma _2023-06-14_00_45_59.docx\n",
       "OGE_FSD_-F_FIN_001_Check Form for Bank of Oklahoma _2023-06-16_00_44_51.docx\n",
       "OGE_FSD_-F_FIN_002_Vendor Remittance Form_2023-06-10_01_05_17.docx\n",
       "OGE_FSD_-F_FIN_002_Vendor Remittance Form_2023-06-12_02_53_30.docx\n",
       "OGE_FSD_-F_FIN_002_Vendor Remittance Form_2023-06-12_03_06_31.docx\n",
       "OGE_FSD_-F_FIN_002_Vendor Remittance Form_2023-06-12_03_15_05.docx\n",
       "OGE_FSD_-F_FIN_002_Vendor Remittance Form_2023-06-12_03_19_30.docx\n",
       "OGE_FSD_-F_FIN_002_Vendor Remittance Form_2023-06-12_03_38_50.docx\n",
       "OGE_FSD_-F_FIN_002_Vendor Remittance Form_2023-06-12_03_41_21.docx\n",
       "OGE_FSD_-F_FIN_002_Vendor Remittance Form_2023-06-12_14_44_20.docx\n",
       "OGE_FSD_-F_FIN_002_Vendor Remittance Form_2023-06-12_22_41_40.docx\n",
       "OGE_FSD_-F_FIN_002_Vendor Remittance Form_2023-06-13_15_12_01.docx\n",
       "OGE_FSD_-F_FIN_002_Vendor Remittance Form_2023-06-13_18_57_32.docx\n",
       "OGE_FSD_-F_FIN_002_Vendor Remittance Form_2023-06-13_21_49_38.docx\n",
       "OGE_FSD_-F_FIN_002_Vendor Remittance Form_2023-06-14_00_56_53.docx\n",
       "OGE_FSD_-F_FIN_002_Vendor Remittance Form_2023-06-16_00_46_58.docx\n",
       "OGE_FSD_-F_FIN_002_Vendor Remittance Form_2023-06-16_17_22_31.docx\n",
       "OGE_FSD_-W_FIN_001_Send notification to users who have Discounts coming due3.docx\n",
       "OGE_FSD_-W_FIN_001_Send notification to users who have Discounts coming due_2023-06-10_01_56_06.docx\n",
       "OGE_FSD_-W_FIN_001_Send notification to users who have Discounts coming due_2023-06-12_02_00_43.docx\n",
       "OGE_FSD_-W_FIN_001_Send notification to users who have Discounts coming due_2023-06-13_15_56_36.docx\n",
       "OGE_FSD_-W_FIN_001_Send notification to users who have Discounts coming due_2023-06-13_19_58_25.docx\n",
       "OGE_FSD_-W_FIN_001_Send notification to users who have Discounts coming due_2023-06-14_02_36_58.docx\n",
       "OGE_FSD_-W_FIN_001_Send notification to users who have Discounts coming due_2023-06-16_01_19_57.docx\n",
       "OGE_FSD_-W_SCM_001_PR Approval_2023-06-10_02_07_38.docx\n",
       "OGE_FSD_-W_SCM_001_PR Approval_2023-06-12_02_14_17.docx\n",
       "OGE_FSD_-W_SCM_001_PR Approval_2023-06-13_20_06_45.docx\n",
       "OGE_FSD_-W_SCM_001_PR Approval_2023-06-14_03_00_53.docx\n",
       "OGE_FSD_CNV-C_FIN_001_Bank Accounts.docx\n",
       "OGE_FSD_CNV-C_FIN_001_Bank Accounts1.docx\n",
       "OGE_FSD_CNV-C_FIN_001_Bank Accounts2.docx\n",
       "OGE_FSD_CNV-C_FIN_001_Bank Accounts3.docx\n",
       "OGE_FSD_CNV-C_FIN_001_Bank Accounts_2023-06-10_00_04_01.docx\n",
       "OGE_FSD_CNV-C_FIN_001_Bank Accounts_2023-06-10_00_16_27.docx\n",
       "OGE_FSD_CNV-C_FIN_001_Bank Accounts_2023-06-11_20_45_20.docx\n",
       "OGE_FSD_CNV-C_FIN_001_Bank Accounts_2023-06-11_20_57_28.docx\n",
       "OGE_FSD_CNV-C_FIN_001_Bank Accounts_2023-06-11_21_09_43.docx\n",
       "OGE_FSD_CNV-C_FIN_001_Bank Accounts_2023-06-11_21_23_57.docx\n",
       "OGE_FSD_CNV-C_FIN_001_Bank Accounts_2023-06-11_21_39_13.docx\n",
       "OGE_FSD_CNV-C_FIN_001_Bank Accounts_2023-06-11_21_53_49.docx\n",
       "OGE_FSD_CNV-C_FIN_001_Bank Accounts_2023-06-11_23_18_46.docx\n",
       "OGE_FSD_CNV-C_FIN_001_Bank Accounts_2023-06-12_00_11_59.docx\n",
       "OGE_FSD_CNV-C_FIN_001_Bank Accounts_2023-06-12_14_59_39.docx\n",
       "OGE_FSD_CNV-C_FIN_001_Bank Accounts_2023-06-12_15_41_00.docx\n",
       "OGE_FSD_CNV-C_FIN_001_Bank Accounts_2023-06-12_19_09_47.docx\n",
       "OGE_FSD_CNV-C_FIN_001_Bank Accounts_2023-06-12_21_07_42.docx\n",
       "OGE_FSD_CNV-C_FIN_001_Bank Accounts_2023-06-12_22_35_16.docx\n",
       "OGE_FSD_CNV-C_FIN_001_Bank Accounts_2023-06-13_13_49_02.docx\n",
       "OGE_FSD_CNV-C_FIN_001_Bank Accounts_2023-06-13_14_24_38.docx\n",
       "OGE_FSD_CNV-C_FIN_001_Bank Accounts_2023-06-13_18_05_44.docx\n",
       "OGE_FSD_CNV-C_FIN_001_Bank Accounts_2023-06-13_20_18_51.docx\n",
       "OGE_FSD_CNV-C_FIN_001_Bank Accounts_2023-06-13_21_37_15.docx\n",
       "OGE_FSD_CNV-C_FIN_001_Bank Accounts_2023-06-14_00_11_44.docx\n",
       "OGE_FSD_CNV-C_FIN_001_Bank Accounts_2023-06-15_22_33_05.docx\n",
       "OGE_FSD_CNV-C_FIN_001_Bank Accounts_2023-06-16_16_49_23.docx\n",
       "OGE_FSD_CNV-C_FIN_001_Bank Accounts_2023-06-16_17_14_56.docx\n",
       "OGE_FSD_CNV-C_FIN_001_Bank Accounts_2023-06-19_17_58_04.docx\n",
       "OGE_FSD_CNV-C_FIN_001_Bank Accounts_2023-06-30_01_46_54.docx\n",
       "OGE_FSD_CNV-C_FIN_001_Bank Accounts_2023-07-10_15_24_55.docx\n",
       "OGE_FSD_CNV-C_FIN_001_Bank Accounts_2023-07-10_20_58_51.docx\n",
       "OGE_FSD_CNV-C_FIN_001_Bank Accounts_2023-07-11_20_55_09.docx\n",
       "OGE_FSD_CNV-C_FIN_001_Bank Accounts_2023-10-11_19_26_27.docx\n",
       "OGE_FSD_CNV-C_FIN_001_Bank Accounts_2023-10-11_21_09_57.docx\n",
       "OGE_FSD_CNV-C_FIN_001_Bank Accounts_x.docx\n",
       "OGE_FSD_CNV-C_FIN_002_Activity Types_2023-06-10_00_23_14.docx\n",
       "OGE_FSD_CNV-C_FIN_002_Activity Types_2023-06-11_22_00_12.docx\n",
       "OGE_FSD_CNV-C_FIN_002_Activity Types_2023-06-11_23_25_16.docx\n",
       "OGE_FSD_CNV-C_FIN_002_Activity Types_2023-06-12_00_18_08.docx\n",
       "OGE_FSD_CNV-C_FIN_002_Activity Types_2023-06-12_15_08_18.docx\n",
       "OGE_FSD_CNV-C_FIN_002_Activity Types_2023-06-12_15_49_33.docx\n",
       "OGE_FSD_CNV-C_FIN_002_Activity Types_2023-06-13_13_56_40.docx\n",
       "OGE_FSD_CNV-C_FIN_002_Activity Types_2023-06-13_14_32_57.docx\n",
       "OGE_FSD_CNV-C_FIN_002_Activity Types_2023-06-13_18_13_12.docx\n",
       "OGE_FSD_CNV-C_FIN_002_Activity Types_2023-06-13_22_54_21.docx\n",
       "OGE_FSD_CNV-C_FIN_002_Activity Types_2023-06-14_00_19_06.docx\n",
       "OGE_FSD_CNV-C_FIN_002_Activity Types_2023-06-15_22_39_45.docx\n",
       "OGE_FSD_CNV-C_FIN_002_Activity Types_2023-06-19_18_07_07.docx\n",
       "OGE_FSD_CNV-C_FIN_002_Activity Types_2023-06-30_02_00_12.docx\n",
       "OGE_FSD_CNV-C_FIN_002_Activity Types_2023-07-10_21_11_22.docx\n",
       "OGE_FSD_CNV-C_FIN_002_Activity Types_2023-10-11_19_09_20.docx\n",
       "OGE_FSD_CNV-C_FIN_003_Ability to convert uncleared cash at time in S4._2023-06-30_02_12_34.docx\n",
       "OGE_FSD_CNV-C_FIN_006_Assessments_2023-06-30_03_09_53.docx\n",
       "OGE_FSD_CNV-C_FIN_009_Conversion of Outstanding Check Register and linkage to converted payment documents in GL OI conversion_2023-06-30_04_35_37.docx\n",
       "OGE_FSD_CNV-F_FIN_001_Check Form for Bank of Oklahoma.docx\n",
       "OGE_FSD_IN-E_SCM_029_Expeditor Notes Field3.docx\n",
       "OGE_FSD_IN-E_SCM_029_Expeditor Notes Field_2023-06-09_22_44_09.docx\n",
       "OGE_FSD_IN-E_SCM_029_Expeditor Notes Field_2023-06-09_23_35_57.docx\n",
       "OGE_FSD_IN-E_SCM_029_Expeditor Notes Field_2023-06-10_01_12_41.docx\n",
       "OGE_FSD_IN-E_SCM_029_Expeditor Notes Field_2023-06-12_01_12_42.docx\n",
       "OGE_FSD_IN-E_SCM_029_Expeditor Notes Field_2023-06-13_15_20_51.docx\n",
       "OGE_FSD_IN-E_SCM_029_Expeditor Notes Field_2023-06-13_19_04_57.docx\n",
       "OGE_FSD_IN-E_SCM_029_Expeditor Notes Field_2023-06-14_01_04_44.docx\n",
       "OGE_FSD_IN-E_SCM_029_Expeditor Notes Field_2023-06-16_00_53_18.docx\n",
       "OGE_FSD_IN-E_SCM_029_Expeditor Notes Field_2023-10-11_18_51_38.docx\n",
       "OGE_FSD_IN-E_SCM_029_Expeditor Notes Field_2023-10-11_21_18_23.docx\n",
       "OGE_FSD_IN-I_FIN_001_Ability to send Positive Pay file to Bank of OK for check details._2023-06-10_01_21_08.docx\n",
       "OGE_FSD_IN-I_FIN_001_Ability to send Positive Pay file to Bank of OK for check details._2023-06-12_01_21_38.docx\n",
       "OGE_FSD_IN-I_FIN_001_Ability to send Positive Pay file to Bank of OK for check details._2023-06-12_22_48_28.docx\n",
       "OGE_FSD_IN-I_FIN_001_Ability to send Positive Pay file to Bank of OK for check details._2023-06-13_15_28_23.docx\n",
       "OGE_FSD_IN-I_FIN_001_Ability to send Positive Pay file to Bank of OK for check details._2023-06-13_19_12_23.docx\n",
       "OGE_FSD_IN-I_FIN_001_Ability to send Positive Pay file to Bank of OK for check details._2023-06-13_22_41_45.docx\n",
       "OGE_FSD_IN-I_FIN_001_Ability to send Positive Pay file to Bank of OK for check details._2023-06-14_01_13_32.docx\n",
       "OGE_FSD_IN-I_FIN_001_Ability to send Positive Pay file to Bank of OK for check details._2023-06-16_01_00_22.docx\n",
       "OGE_FSD_IN-I_FIN_001_Ability to send Positive Pay file to Bank of OK for check details._2023-06-16_17_29_20.docx\n",
       "OGE_FSD_IN-I_FIN_001_Ability to send Positive Pay file to Bank of OK for check details._2023-10-11_14_26_00.docx\n",
       "OGE_FSD_IN-I_FIN_001_Ability to send Positive Pay file to Bank of OK for check details._2023-10-11_15_24_10.docx\n",
       "OGE_FSD_IN-I_FIN_001_Ability to send Positive Pay file to Bank of OK for check details._2023-10-11_15_44_53.docx\n",
       "OGE_FSD_IN-I_FIN_001_Ability to send Positive Pay file to Bank of OK for check details._2023-10-11_18_40_45.docx\n",
       "OGE_FSD_IN-I_FIN_001_Ability to send Positive Pay file to Bank of OK for check details._2023-10-11_19_43_15.docx\n",
       "OGE_FSD_IN-I_PA_007_SAP Batch Retrieval – this job currently runs monthly (6th day of month) and pulls Actuals by WBS_2023-06-21_13_43_01.docx\n",
       "OGE_FSD_IN-I_PA_007_SAP Batch Retrieval – this job currently runs monthly (6th day of month) and pulls Actuals by WBS_2023-06-22_21_52_15.docx\n",
       "OGE_FSD_IN-I_PA_007_SAP Batch Retrieval – this job currently runs monthly (6th day of month) and pulls Actuals by WBS_2023-06-23_23_22_13.docx\n",
       "OGE_FSD_IN-I_PA_007_SAP Batch Retrieval – this job currently runs monthly (6th day of month) and pulls Actuals by WBS_2023-07-13_23_32_39.docx\n",
       "OGE_FSD_IN-I_PA_007_SAP Batch Retrieval – this job currently runs monthly (6th day of month) and pulls Actuals by WBS_2023-07-14_04_58_33.docx\n",
       "OGE_FSD_IN-I_PA_008_Actual $s and Commitments from SAP to EcoSys_2023-08-04_21_47_47.docx\n",
       "OGE_FSD_IN-I_PA_008_Send actual cost (CJI3) and commitment data (CJI5) from S4 to EcoSys by WBS_2023-06-21_03_21_47.docx\n",
       "OGE_FSD_IN-I_PA_008_Send actual cost (CJI3) and commitment data (CJI5) from S4 to EcoSys by WBS_2023-06-22_21_59_26.docx\n",
       "OGE_FSD_IN-I_PA_008_Send actual cost (CJI3) and commitment data (CJI5) from S4 to EcoSys by WBS_2023-06-23_22_50_24.docx\n",
       "OGE_FSD_IN-I_PA_008_Send actual cost (CJI3) and commitment data (CJI5) from S4 to EcoSys by WBS_2023-07-13_23_45_16.docx\n",
       "OGE_FSD_IN-I_PA_008_Send actual cost (CJI3) and commitment data (CJI5) from S4 to EcoSys by WBS_2023-07-14_05_11_10.docx\n",
       "OGE_FSD_IN-I_SCM_007_Interface from SAP to Wesco System (Daily Files)_2023-08-04_17_26_17.docx\n",
       "OGE_FSD_IN-I_WAM_PS_015_Pull in running hours from SCADA. Ability to pull in running hours from SCADA to be able to perform counter based maintenance_2023-08-04_14_49_49.docx\n",
       "OGE_FSD_IN-I_WAM_T&amp;D_007_SAP Integration with GIS - Asset Synchronization_2023-08-04_15_14_05.docx\n",
       "OGE_FSD_IN-I_WAM_T&amp;D_012_ArcGIS Online Inspection Results to create SAP Measurement Results_2023-06-23_20_25_38.docx\n",
       "OGE_FSD_IN-I_WAM_T&amp;D_012_ArcGIS Online Inspection Results to create SAP Measurement Results_2023-06-23_20_42_31.docx\n",
       "OGE_FSD_IN-I_WAM_T&amp;D_012_ArcGIS Online Inspection Results to create SAP Measurement Results_2023-07-13_22_56_15.docx\n",
       "OGE_FSD_IN-I_WAM_T&amp;D_012_ArcGIS Online Inspection Results to create SAP Measurement Results_2023-07-14_16_15_04.docx\n",
       "OGE_FSD_IN-I_WAM_T&amp;D_012_ArcGIS Online Inspection Results to create SAP Measurement Results_2023-07-14_21_11_30.docx\n",
       "OGE_FSD_IN-I_WAM_T&amp;D_012_ArcGIS Online Inspection Results to create SAP Measurement Results_2023-07-18_00_12_07.docx\n",
       "OGE_FSD_IN-I_WAM_T&amp;D_012_ArcGIS Online Inspection Results to create SAP Measurement Results_2023-07-18_13_11_26.docx\n",
       "OGE_FSD_IN-I_WAM_T&amp;D_012_ArcGIS Online Inspection Results to create SAP Measurement Results_2023-07-18_15_56_13.docx\n",
       "OGE_FSD_IN-I_WAM_T&amp;D_012_ArcGIS Online Inspection Results to create SAP Measurement Results_2023-07-18_22_32_03.docx\n",
       "OGE_FSD_IN-I_WAM_T&amp;D_012_T&amp;D Integration - ArcGIS Online Inspection Results to create SAP Measurement Results_2023-06-21_02_30_53.docx\n",
       "OGE_FSD_IN-I_WAM_T&amp;D_012_T&amp;D Integration - ArcGIS Online Inspection Results to create SAP Measurement Results_2023-06-21_17_05_45.docx\n",
       "OGE_FSD_IN-I_WAM_T&amp;D_012_T&amp;D Integration - ArcGIS Online Inspection Results to create SAP Measurement Results_2023-06-22_21_34_00.docx\n",
       "OGE_FSD_IN-I_WAM_T&amp;D_012_T&amp;D Integration - ArcGIS Online Inspection Results to create SAP Measurement Results_2023-08-04_15_33_15.docx\n",
       "OGE_FSD_IN-I_WAM_T&amp;D_012_T&amp;D Integration - ArcGIS Online Inspection Results to create SAP Measurement Results_2023-09-22_13_35_13.docx\n",
       "OGE_FSD_IN-I_WAM_T&amp;D_012_T&amp;D Integration - ArcGIS Online Inspection Results to create SAP Measurement Results_2023-10-03_21_49_48.docx\n",
       "OGE_FSD_IN-I_WAM_T&amp;D_012_T&amp;D Integration - ArcGIS Online Inspection Results to create SAP Measurement Results_2023-10-09_21_03_23.docx\n",
       "OGE_FSD_IN-I_WAM_T&amp;D_012_T&amp;D Integration - ArcGIS Online Inspection Results to create SAP Measurement Results_2023-10-09_22_52_51.docx\n",
       "OGE_FSD_IN-I_WAM_T&amp;D_012_T&amp;D Integration - ArcGIS Online Inspection Results to create SAP Measurement Results_2023-10-11_03_57_30.docx\n",
       "OGE_FSD_IN-I_WAM_T&amp;D_012_T&amp;D Integration - ArcGIS Online Inspection Results to create SAP Measurement Results_2023-10-11_04_42_36.docx\n",
       "OGE_FSD_IN-I_WAM_T&amp;D_012_T&amp;D Integration - ArcGIS Online Inspection Results to create SAP Measurement Results_2023-10-11_13_41_32.docx\n",
       "OGE_FSD_IN-I_WAM_T&amp;D_014_T&amp;D Integration - ArcGIS OnlineNon Engineered Repair Results to create SAP Measurement Results_2023-07-14_16_27_44.docx\n",
       "OGE_FSD_IN-I_WAM_T&amp;D_014_T&amp;D Integration - ArcGIS OnlineNon Engineered Repair Results to create SAP Measurement Results_2023-07-18_13_24_52.docx\n",
       "OGE_FSD_IN-I_WAM_T&amp;D_014_T&amp;D Integration - ArcGIS OnlineNon Engineered Repair Results to create SAP Measurement Results_2023-07-18_16_10_01.docx\n",
       "OGE_FSD_IN-I_WAM_T&amp;D_014_T&amp;D Integration - ArcGIS OnlineNon Engineered Repair Results to create SAP Measurement Results_2023-07-19_02_06_26.docx\n",
       "OGE_FSD_IN-I_WAM_T&amp;D_014_T&amp;D Integration - ArcGIS OnlineNon Engineered Repair Results to create SAP Measurement Results_2023-08-04_15_51_42.docx\n",
       "OGE_FSD_IN-I_WAM_T&amp;D_015_MyRowKeeper to SAP Asset Synchronization_2023-08-04_21_34_15.docx\n",
       "OGE_FSD_IN-I_WAM_T&amp;D_016_MyRowKeeper to SAP - Vegetation Maintenance Results_2023-06-23_20_49_54.docx\n",
       "OGE_FSD_IN-I_WAM_T&amp;D_016_MyRowKeeper to SAP - Vegetation Maintenance Results_2023-07-14_04_34_38.docx\n",
       "OGE_FSD_IN-I_WAM_T&amp;D_016_MyRowKeeper to SAP - Vegetation Maintenance Results_2023-07-14_17_29_39.docx\n",
       "OGE_FSD_IN-I_WAM_T&amp;D_016_MyRowKeeper to SAP - Vegetation Maintenance Results_2023-07-18_16_34_42.docx\n",
       "OGE_FSD_IN-I_WAM_T&amp;D_016_MyRowKeeper to SAP - Vegetation Maintenance Results_2023-07-19_02_34_24.docx\n",
       "OGE_FSD_IN-I_WAM_T&amp;D_016_MyRowKeeper to SAP - Vegetation Maintenance Results_2023-08-04_16_17_56.docx\n",
       "OGE_FSD_IN-I_WAM_T&amp;D_025_ArcGIS Online Maintenance Execution Notes,Status,Progress to update Execution Dashboard_2023-07-14_17_39_51.docx\n",
       "OGE_FSD_IN-I_WAM_T&amp;D_025_ArcGIS Online Maintenance Execution Notes,Status,Progress to update Execution Dashboard_2023-07-18_17_29_17.docx\n",
       "OGE_FSD_IN-I_WAM_T&amp;D_025_T&amp;D Integration - ArcGIS Online Maintenance Execution Notes,Status,Progress to update Execution Dashboard_2023-08-04_22_07_16.docx\n",
       "OGE_FSD_NH-E_FIN_001_Electronic BADI for mass reversals - automated based on rejections_2023-10-11_21_02_40.docx\n",
       "OGE_FSD_NH-E_FIN_002_Overhead Residual Clearing Program _2023-10-11_20_55_16.docx\n",
       "OGE_FSD_NH-E_PA_002_IM Program $ to IM Program Position $_2023-07-13_15_43_34.docx\n",
       "OGE_FSD_NH-E_PA_002_IM Program $ to IM Program Position $_2023-07-14_00_18_29.docx\n",
       "OGE_FSD_NH-E_PA_002_IM Program $ to IM Program Position $_2023-07-14_05_32_46.docx\n",
       "OGE_FSD_NH-E_PA_002_IM Program $ to IM Program Position $_2023-07-20_14_13_45.docx\n",
       "OGE_FSD_NH-E_PA_002_IM Program $ to IM Program Position $_2023-07-20_14_28_03.docx\n",
       "OGE_FSD_NH-E_PA_002_IM Program $ to IM Program Position $_2023-07-20_15_02_38.docx\n",
       "OGE_FSD_NH-E_PA_002_IM Program $ to IM Program Position $_2023-07-20_15_33_40.docx\n",
       "OGE_FSD_NH-E_PA_002_IM Program $ to IM Program Position $_2023-07-20_16_43_27.docx\n",
       "OGE_FSD_NH-E_PA_002_IM Program $ to IM Program Position $_2023-08-03_20_54_19.docx\n",
       "OGE_FSD_NH-E_PA_002_IM Program $ to IM Program Position $_2023-08-03_22_19_40.docx\n",
       "OGE_FSD_NH-E_PA_002_IM Program $ to IM Program Position $_2023-08-03_22_47_44.docx\n",
       "OGE_FSD_NH-E_PA_003_IM Program Position $ to WBS $_2023-07-13_15_53_14.docx\n",
       "OGE_FSD_NH-E_PA_003_IM Program Position $ to WBS $_2023-07-14_00_29_46.docx\n",
       "OGE_FSD_NH-E_PA_003_IM Program Position $ to WBS $_2023-07-14_05_41_21.docx\n",
       "OGE_FSD_NH-E_PA_003_IM Program Position $ to WBS $_2023-07-20_13_54_23.docx\n",
       "OGE_FSD_NH-E_PA_003_IM Program Position $ to WBS $_2023-07-20_14_41_43.docx\n",
       "OGE_FSD_NH-E_PA_003_IM Program Position $ to WBS $_2023-07-20_14_47_03.docx\n",
       "OGE_FSD_NH-E_PA_003_IM Program Position $ to WBS $_2023-07-20_15_16_36.docx\n",
       "OGE_FSD_NH-E_PA_003_IM Program Position $ to WBS $_2023-07-20_16_04_26.docx\n",
       "OGE_FSD_NH-E_PA_003_IM Program Position $ to WBS $_2023-07-20_17_06_39.docx\n",
       "OGE_FSD_NH-E_PA_003_IM Program Position $ to WBS $_2023-08-02_15_58_55.docx\n",
       "OGE_FSD_NH-E_PA_003_IM Program Position $ to WBS $_2023-08-03_21_26_27.docx\n",
       "OGE_FSD_NH-E_PA_003_IM Program Position $ to WBS $_2023-08-03_22_32_30.docx\n",
       "OGE_FSD_NH-E_PA_003_IM Program Position $ to WBS $_2023-08-03_23_03_26.docx\n",
       "OGE_FSD_NH-E_PA_004_Ability to create Projects and WBS structure using a defined excel upload file. Transaction &#34;ZCOSTCOLL - Load Project System Cost Collectors&#34; and &#34;Program - ZPRSU_LOAD_COST_COLLECTORS&#34;_2023-06-23_22_56_56.docx\n",
       "OGE_FSD_NH-E_PA_004_Ability to create Projects and WBS structure using a defined excel upload file_2023-06-24_03_37_08.docx\n",
       "OGE_FSD_NH-E_PA_007_Ability to mass change the WBS master data via excel upload_2023-06-23_23_03_32.docx\n",
       "OGE_FSD_NH-E_PA_007_Ability to mass change the WBS master data via excel upload_2023-07-14_00_08_06.docx\n",
       "OGE_FSD_NH-E_PA_012_PM to PS - WBS Status_2023-08-04_21_40_43.docx\n",
       "OGE_FSD_NH-E_SCM_029_Ability to automatically calculate system suggested supplier lead time_2023-10-11_18_47_58.docx\n",
       "OGE_FSD_NH-E_SCM_029_Ability to automatically calculate system suggested supplier lead time_2023-10-11_21_14_44.docx\n",
       "OGE_FSD_NH-E_SCM_044_Cancel backorder , outbound delivery once requirement has been met_2023-08-04_22_07_18.docx\n",
       "OGE_FSD_NH-E_WAM_PS_009_Enhancement to serach for assets from the asset hierarchy_2023-06-23_22_05_08.docx\n",
       "OGE_FSD_NH-E_WAM_PS_009_Enhancement to serach for assets from the asset hierarchy_2023-06-28_16_04_10.docx\n",
       "OGE_FSD_NH-E_WAM_PS_009_Enhancement to serach for assets from the asset hierarchy_2023-07-13_22_33_22.docx\n",
       "OGE_FSD_NH-E_WAM_PS_009_Enhancement to serach for assets from the asset hierarchy_2023-07-14_03_28_30.docx\n",
       "OGE_FSD_NH-E_WAM_PS_019_Excel Extract for maintenance scheduling board_2023-06-23_22_35_07.docx\n",
       "OGE_FSD_NH-E_WAM_PS_019_Excel Extract for maintenance scheduling board_2023-07-13_23_14_08.docx\n",
       "OGE_FSD_NH-E_WAM_PS_019_Excel Extract for maintenance scheduling board_2023-07-14_04_46_18.docx\n",
       "\n",
       "*** WARNING: skipped 43525 bytes of output ***\n",
       "\n",
       "PM_FSD_C268_Master Data - Functional_Location_BOM_Avantis[2] conversion ended...\n",
       "PM_FSD_C269_Master Data - Equipment_BOM_ECC.docx conversion started...\n",
       "PM_FSD_C269_Master Data - Equipment_BOM_ECC conversion ended...\n",
       "PM_FSD_C271_Master Data - Material_BOM_Avantis[2].docx conversion started...\n",
       "PM_FSD_C271_Master Data - Material_BOM_Avantis[2] conversion ended...\n",
       "PM_FSD_C277_Functional Location Conversion - Avantis.docx conversion started...\n",
       "PM_FSD_C277_Functional Location Conversion - Avantis conversion ended...\n",
       "PM_FSD_C278_Functional Location Conversion SAP ECC.docx conversion started...\n",
       "PM_FSD_C278_Functional Location Conversion SAP ECC conversion ended...\n",
       "PM_FSD_C279_Master Data - Equipment Master SAP ECC.docx conversion started...\n",
       "PM_FSD_C279_Master Data - Equipment Master SAP ECC conversion ended...\n",
       "PM_FSD_C281_Master Data - General_Tasklist_ECC.docx conversion started...\n",
       "PM_FSD_C281_Master Data - General_Tasklist_ECC conversion ended...\n",
       "PM_FSD_C294_Master Data -Maintenance Plan SAP ECC Final.docx conversion started...\n",
       "PM_FSD_C294_Master Data -Maintenance Plan SAP ECC Final conversion ended...\n",
       "PM_FSD_C295_Master Data - Maintenance Plan Avantis Final.docx conversion started...\n",
       "PM_FSD_C295_Master Data - Maintenance Plan Avantis Final conversion ended...\n",
       "PM_FSD_C296_Master Data - General_Tasklist_Avantis Final.docx conversion started...\n",
       "PM_FSD_C296_Master Data - General_Tasklist_Avantis Final conversion ended...\n",
       "PM_FSD_C297_Master Data - Work Centers  (3).docx conversion started...\n",
       "PM_FSD_C297_Master Data - Work Centers  (3) conversion ended...\n",
       "PM_FSD_C299_Master Data - Measuring Point_ SAP ECC.docx conversion started...\n",
       "PM_FSD_C299_Master Data - Measuring Point_ SAP ECC conversion ended...\n",
       "PM_FSD_C301_Transactional_Data - Open_Notificatoin_Avantis_V1.0.docx conversion started...\n",
       "PM_FSD_C301_Transactional_Data - Open_Notificatoin_Avantis_V1.0 conversion ended...\n",
       "PM_FSD_C306_Master Data - Class (3).docx conversion started...\n",
       "PM_FSD_C306_Master Data - Class (3) conversion ended...\n",
       "PM_FSD_C326_Master Data _Document PRT_s SAP ECC.docx conversion started...\n",
       "PM_FSD_C326_Master Data _Document PRT_s SAP ECC conversion ended...\n",
       "PM_FSD_C338_Master Data - Catalog and Code Groups Final.docx conversion started...\n",
       "PM_FSD_C338_Master Data - Catalog and Code Groups Final conversion ended...\n",
       "PM_FSD_C339_Master Data - Maintenance Item SAP ECC Final.docx conversion started...\n",
       "PM_FSD_C339_Master Data - Maintenance Item SAP ECC Final conversion ended...\n",
       "PM_FSD_C340_Master Data - Equipment_BOM_Avantis[2].docx conversion started...\n",
       "PM_FSD_C340_Master Data - Equipment_BOM_Avantis[2] conversion ended...\n",
       "PM_FSD_C341_Transactional Data - Open Work Orders SAP ECC V1.docx conversion started...\n",
       "PM_FSD_C341_Transactional Data - Open Work Orders SAP ECC V1 conversion ended...\n",
       "PM_FSD_C342_Master Data - Maintenance Item Avantis Final.docx conversion started...\n",
       "PM_FSD_C342_Master Data - Maintenance Item Avantis Final conversion ended...\n",
       "PM_FSD_C343_Master Data - Object Classification v3.docx conversion started...\n",
       "PM_FSD_C343_Master Data - Object Classification v3 conversion ended...\n",
       "PM_FSD_C344_Master Data - Revision Codes (2).docx conversion started...\n",
       "PM_FSD_C344_Master Data - Revision Codes (2) conversion ended...\n",
       "PM_FSD_C345_Master Data _Measuring_Documents.docx conversion started...\n",
       "PM_FSD_C345_Master Data _Measuring_Documents conversion ended...\n",
       "PM_FSD_C380_Master Data - HR Work Centers.docx conversion started...\n",
       "PM_FSD_C380_Master Data - HR Work Centers conversion ended...\n",
       "PM_FSD_E219_Activation_of_Maintenance_Plans.docx conversion started...\n",
       "PM_FSD_E219_Activation_of_Maintenance_Plans conversion ended...\n",
       "PM_FSD_E220_Deactivation_of_Maintenance_Plans.docx conversion started...\n",
       "PM_FSD_E220_Deactivation_of_Maintenance_Plans conversion ended...\n",
       "PM_FSD_E221_Mass_Retire_of_Maintenance_Plans 1.1.docx conversion started...\n",
       "PM_FSD_E221_Mass_Retire_of_Maintenance_Plans 1.1 conversion ended...\n",
       "PM_FSD_E222_Mass_Change_of_Maintenance_Items.docx conversion started...\n",
       "PM_FSD_E222_Mass_Change_of_Maintenance_Items conversion ended...\n",
       "PM_FSD_E224_Material_Prepick_Delivery (2).docx conversion started...\n",
       "PM_FSD_E224_Material_Prepick_Delivery (2) conversion ended...\n",
       "PM_FSD_E225_Set RDOC UserStatus on Equipment.docx conversion started...\n",
       "PM_FSD_E225_Set RDOC UserStatus on Equipment conversion ended...\n",
       "PM_FSD_E226_Set RDOC UserStatus on FLoc.docx conversion started...\n",
       "PM_FSD_E226_Set RDOC UserStatus on FLoc conversion ended...\n",
       "PM_FSD_E236_Delete_FL_BOMs.docx conversion started...\n",
       "PM_FSD_E236_Delete_FL_BOMs conversion ended...\n",
       "PM_FSD_E238_Equipment_Dismantle_and_Install (2).docx conversion started...\n",
       "PM_FSD_E238_Equipment_Dismantle_and_Install (2) conversion ended...\n",
       "PM_FSD_E239_Retire_Equipment_From_External_List.docx conversion started...\n",
       "PM_FSD_E239_Retire_Equipment_From_External_List conversion ended...\n",
       "PM_FSD_E241_Upload_Revision_Codes.docx conversion started...\n",
       "PM_FSD_E241_Upload_Revision_Codes conversion ended...\n",
       "PM_FSD_E242_Mass_Start_of_Maintenance_Plans.docx conversion started...\n",
       "PM_FSD_E242_Mass_Start_of_Maintenance_Plans conversion ended...\n",
       "PM_FSD_E247_Delete_FLOCs_From_External_List 1.1.docx conversion started...\n",
       "PM_FSD_E247_Delete_FLOCs_From_External_List 1.1 conversion ended...\n",
       "PM_FSD_E248_Add_Drawings_to_Material_BOM.docx conversion started...\n",
       "PM_FSD_E248_Add_Drawings_to_Material_BOM conversion ended...\n",
       "PM_FSD_E251_Inhibit_Transferring_ Defaults_to_Maintenance_Item .docx conversion started...\n",
       "PM_FSD_E251_Inhibit_Transferring_ Defaults_to_Maintenance_Item  conversion ended...\n",
       "PM_FSD_E252_ Default_Values_on_Maintenance_Plan.docx conversion started...\n",
       "PM_FSD_E252_ Default_Values_on_Maintenance_Plan conversion ended...\n",
       "PM_FSD_E262_BOM_Sort.docx conversion started...\n",
       "PM_FSD_E262_BOM_Sort conversion ended...\n",
       "PM_FSD_E263_BOM_Txt_Message_Change (1).docx conversion started...\n",
       "PM_FSD_E263_BOM_Txt_Message_Change (1) conversion ended...\n",
       "PM_FSD_E264_Customized_BOM_Creation (1).docx conversion started...\n",
       "PM_FSD_E264_Customized_BOM_Creation (1) conversion ended...\n",
       "PM_FSD_E265_Requisition_for_Services v1.32.docx conversion started...\n",
       "PM_FSD_E265_Requisition_for_Services v1.32 conversion ended...\n",
       "PM_FSD_E266_Requisition_for_Non-Stock_Parts v1.3.docx conversion started...\n",
       "PM_FSD_E266_Requisition_for_Non-Stock_Parts v1.3 conversion ended...\n",
       "PM_FSD_E273_Work_Order_Mass_Change.docx conversion started...\n",
       "PM_FSD_E273_Work_Order_Mass_Change conversion ended...\n",
       "PM_FSD_E314_Custom_Field_ for_Legacy_Task_and_Job_on_Maintenance_Item.docx conversion started...\n",
       "PM_FSD_E314_Custom_Field_ for_Legacy_Task_and_Job_on_Maintenance_Item conversion ended...\n",
       "PM_FSD_E339_Notification_Completion.docx conversion started...\n",
       "PM_FSD_E339_Notification_Completion conversion ended...\n",
       "PM_FSD_E348_Availibitiy_Check_Batch_Job.docx conversion started...\n",
       "PM_FSD_E348_Availibitiy_Check_Batch_Job conversion ended...\n",
       "PM_FSD_E349_Requisition_Release_on_Work_Orders.docx conversion started...\n",
       "PM_FSD_E349_Requisition_Release_on_Work_Orders conversion ended...\n",
       "PM_FSD_E350_L.I.T.E Enhancement for Maintenance Item.docx conversion started...\n",
       "PM_FSD_E350_L.I.T.E Enhancement for Maintenance Item conversion ended...\n",
       "PM_FSD_E352_Planner Dashboard vf.docx conversion started...\n",
       "PM_FSD_E352_Planner Dashboard vf conversion ended...\n",
       "PM_FSD_E353_Schedule Tool for Non-Pasta Plants vf.docx conversion started...\n",
       "PM_FSD_E353_Schedule Tool for Non-Pasta Plants vf conversion ended...\n",
       "PM_FSD_E354 - PM Creation.docx conversion started...\n",
       "PM_FSD_E354 - PM Creation conversion ended...\n",
       "PM_FSD_F072_CONF Confined Work Space Permit Form V1.docx conversion started...\n",
       "PM_FSD_F072_CONF Confined Work Space Permit Form V1 conversion ended...\n",
       "PM_FSD_I421_Eclipse_Get_Details_Button vF2.docx conversion started...\n",
       "PM_FSD_I421_Eclipse_Get_Details_Button vF2 conversion ended...\n",
       "PM_FSD_I434_PaSTA Interface_with_SAP_ECC (2).docx conversion started...\n",
       "PM_FSD_I434_PaSTA Interface_with_SAP_ECC (2) conversion ended...\n",
       "PM_FSD_I527_Interface_SAP_Work_Center_ to_ Pasta_V2[1].docx conversion started...\n",
       "PM_FSD_I527_Interface_SAP_Work_Center_ to_ Pasta_V2[1] conversion ended...\n",
       "PM_FSD_I546_Eclipse_Create_Notification vF2.docx conversion started...\n",
       "PM_FSD_I546_Eclipse_Create_Notification vF2 conversion ended...\n",
       "PM_FSD_I547_Eclipse_Update_Notification VF2.docx conversion started...\n",
       "PM_FSD_I547_Eclipse_Update_Notification VF2 conversion ended...\n",
       "PM_FSD_I548_Eclipse_Work Order Creation Message vF2.docx conversion started...\n",
       "PM_FSD_I548_Eclipse_Work Order Creation Message vF2 conversion ended...\n",
       "PM_FSD_I549_Eclipse_Create or Update Technical Objects vF2.docx conversion started...\n",
       "PM_FSD_I549_Eclipse_Create or Update Technical Objects vF2 conversion ended...\n",
       "PM_FSD_I552_Eclipse_Notification_Created_MessageVF2.docx conversion started...\n",
       "PM_FSD_I552_Eclipse_Notification_Created_MessageVF2 conversion ended...\n",
       "PM_FSD_I553_Eclipse_Update_and_Link_NotificationVF2.docx conversion started...\n",
       "PM_FSD_I553_Eclipse_Update_and_Link_NotificationVF2 conversion ended...\n",
       "PM_FSD_R038_BOM Component DisplayvF.docx conversion started...\n",
       "PM_FSD_R038_BOM Component DisplayvF conversion ended...\n",
       "PM_FSD_R059_XSR Backlog Report vf.docx conversion started...\n",
       "PM_FSD_R059_XSR Backlog Report vf conversion ended...\n",
       "PM_FSD_U053_Work Order Parts Finder v2.1.docx conversion started...\n",
       "PM_FSD_U053_Work Order Parts Finder v2.1 conversion ended...\n",
       "PM_FSD_U054_Operations RBO Review vF1.1.docx conversion started...\n",
       "PM_FSD_U054_Operations RBO Review vF1.1 conversion ended...\n",
       "PM_FSD_U055_Notification Screening vF1.1.docx conversion started...\n",
       "PM_FSD_U055_Notification Screening vF1.1 conversion ended...\n",
       "PM_FSD_U056_Notification Conversion vF1.1.docx conversion started...\n",
       "PM_FSD_U056_Notification Conversion vF1.1 conversion ended...\n",
       "PM_FSD_U058_Work Order Close V1.docx conversion started...\n",
       "PM_FSD_U058_Work Order Close V1 conversion ended...\n",
       "PM_FSD_U061_Safety Related Statusing v2.docx conversion started...\n",
       "PM_FSD_U061_Safety Related Statusing v2 conversion ended...\n",
       "PM_FSD_U063_Purchase Req Approval V2.2.docx conversion started...\n",
       "PM_FSD_U063_Purchase Req Approval V2.2 conversion ended...\n",
       "PM_FSD_U065_Record Measurment Document v3.docx conversion started...\n",
       "PM_FSD_U065_Record Measurment Document v3 conversion ended...\n",
       "PM_FSD_U071_Create Notification vF1.1.docx conversion started...\n",
       "PM_FSD_U071_Create Notification vF1.1 conversion ended...\n",
       "PM_FSD_W049_NSR Review Workflow 1.1.docx conversion started...\n",
       "PM_FSD_W049_NSR Review Workflow 1.1 conversion ended...\n",
       "PM_PM_TSD_ F088 _Material_issue_slip_.docx conversion started...\n",
       "PM_PM_TSD_ F088 _Material_issue_slip_ conversion ended...\n",
       "PM_PM_TSD_E236_Delete_FL_BOMs.docx conversion started...\n",
       "PM_PM_TSD_E236_Delete_FL_BOMs conversion ended...\n",
       "PM_PM_TSD_E339_Notification_Completion.docx conversion started...\n",
       "PM_PM_TSD_E339_Notification_Completion conversion ended...\n",
       "PM_PM_TSD_F085_Operations Summary.docx conversion started...\n",
       "PM_PM_TSD_F085_Operations Summary conversion ended...\n",
       "PM_PM_TSD_F086_Operation Detail.docx conversion started...\n",
       "PM_PM_TSD_F086_Operation Detail conversion ended...\n",
       "PM_PM_TSD_F087_Operation Detail Overflow.docx conversion started...\n",
       "PM_PM_TSD_F087_Operation Detail Overflow conversion ended...\n",
       "PM_PM_TSD_F089_Pre-Pick List.docx conversion started...\n",
       "PM_PM_TSD_F089_Pre-Pick List conversion ended...\n",
       "PM_PM_TSD_F090_Close_Out_form.docx conversion started...\n",
       "PM_PM_TSD_F090_Close_Out_form conversion ended...\n",
       "PM_PM_TSD_I527_PM Work Center To PASTA Integration.docx conversion started...\n",
       "PM_PM_TSD_I527_PM Work Center To PASTA Integration conversion ended...\n",
       "PM_PM_TSD_I546_E-log Create Notification.docx conversion started...\n",
       "PM_PM_TSD_I546_E-log Create Notification conversion ended...\n",
       "PM_PM_TSD_W049_NSR Workflow.docx conversion started...\n",
       "PM_PM_TSD_W049_NSR Workflow conversion ended...\n",
       "PM_R035_Outage Cost and Scope Report vF.docx conversion started...\n",
       "PM_R035_Outage Cost and Scope Report vF conversion ended...\n",
       "PM_R036_Outage Executive Summary vF.docx conversion started...\n",
       "PM_R036_Outage Executive Summary vF conversion ended...\n",
       "PM_R039_Material_Where-Used_in_BOMs vf.docx conversion started...\n",
       "PM_R039_Material_Where-Used_in_BOMs vf conversion ended...\n",
       "PM_R040_Work Order Cost Report.docx conversion started...\n",
       "PM_R040_Work Order Cost Report conversion ended...\n",
       "PM_R043_PM Dashboard vF.docx conversion started...\n",
       "PM_R043_PM Dashboard vF conversion ended...\n",
       "PM_R044_CM Dashboard vF.docx conversion started...\n",
       "PM_R044_CM Dashboard vF conversion ended...\n",
       "PM_R045_XSR Dashboard vf.docx conversion started...\n",
       "PM_R045_XSR Dashboard vf conversion ended...\n",
       "PM_R051_Work Order Remaining Hours Report vF.docx conversion started...\n",
       "PM_R051_Work Order Remaining Hours Report vF conversion ended...\n",
       "PM_R052_CBM Backlog Detailed Report VF.docx conversion started...\n",
       "PM_R052_CBM Backlog Detailed Report VF conversion ended...\n",
       "PM_R055_PM_Backlog_Detail_Report VF.docx conversion started...\n",
       "PM_R055_PM_Backlog_Detail_Report VF conversion ended...\n",
       "PM_R056_RTS_Backlog_Scrubbing vF.docx conversion started...\n",
       "PM_R056_RTS_Backlog_Scrubbing vF conversion ended...\n",
       "PM_R057_SWO_Backlog_Scrubbing vF.docx conversion started...\n",
       "PM_R057_SWO_Backlog_Scrubbing vF conversion ended...\n",
       "PM_R058_Total_WO_Backlog vF.docx conversion started...\n",
       "PM_R058_Total_WO_Backlog vF conversion ended...\n",
       "PM_R060_XSR_Actual_Cost_Changes vF.docx conversion started...\n",
       "PM_R060_XSR_Actual_Cost_Changes vF conversion ended...\n",
       "PM_Rxxx_GE LTSA Notifications vF.docx conversion started...\n",
       "PM_Rxxx_GE LTSA Notifications vF conversion ended...\n",
       "PM_Rxxx_Preventitive_Maintenance_Status_Report v.2.docx conversion started...\n",
       "PM_Rxxx_Preventitive_Maintenance_Status_Report v.2 conversion ended...\n",
       "PM_SAFETY_TSD_U061_Safety related workflow (3).docx conversion started...\n",
       "PM_SAFETY_TSD_U061_Safety related workflow (3) conversion ended...\n",
       "PM_TSD_ E269 Functional Area PM Default.docx conversion started...\n",
       "PM_TSD_ E269 Functional Area PM Default conversion ended...\n",
       "PM_TSD_E093 _Prevent Teco of Work Orders with requisiitons wo PO.docx conversion started...\n",
       "PM_TSD_E093 _Prevent Teco of Work Orders with requisiitons wo PO conversion ended...\n",
       "PM_TSD_E101.docx conversion started...\n",
       "PM_TSD_E101 conversion ended...\n",
       "PM_TSD_E219_Activation_of_Maintenance_Plans.docx conversion started...\n",
       "PM_TSD_E219_Activation_of_Maintenance_Plans conversion ended...\n",
       "PM_TSD_E220_Deactivation_of_Maintenance_Plans.docx conversion started...\n",
       "PM_TSD_E220_Deactivation_of_Maintenance_Plans conversion ended...\n",
       "PM_TSD_E221_Mass_Retire_of_Maintenance_Plans.docx conversion started...\n",
       "PM_TSD_E221_Mass_Retire_of_Maintenance_Plans conversion ended...\n",
       "PM_TSD_E222_Mass Change of Maintenance Items .docx conversion started...\n",
       "PM_TSD_E222_Mass Change of Maintenance Items  conversion ended...\n",
       "PM_TSD_E224_PM_Material_Prepick_Delivery .docx conversion started...\n",
       "PM_TSD_E224_PM_Material_Prepick_Delivery  conversion ended...\n",
       "PM_TSD_E226_Set_RDOC_User_Status .docx conversion started...\n",
       "PM_TSD_E226_Set_RDOC_User_Status  conversion ended...\n",
       "PM_TSD_E238_PM_Equipment_Dismantle_and_Install .docx conversion started...\n",
       "PM_TSD_E238_PM_Equipment_Dismantle_and_Install  conversion ended...\n",
       "PM_TSD_E239_Retire_Equipment_From_External_List.docx conversion started...\n",
       "PM_TSD_E239_Retire_Equipment_From_External_List conversion ended...\n",
       "PM_TSD_E241_PM_Enh_Placeholder_44.docx conversion started...\n",
       "PM_TSD_E241_PM_Enh_Placeholder_44 conversion ended...\n",
       "PM_TSD_E242_PM_Enh_Placeholder_45.docx conversion started...\n",
       "PM_TSD_E242_PM_Enh_Placeholder_45 conversion ended...\n",
       "PM_TSD_E243_PM_Notification and Work Order Long Text.docx conversion started...\n",
       "PM_TSD_E243_PM_Notification and Work Order Long Text conversion ended...\n",
       "PM_TSD_E247_Delete_FLOCs_From_External_List .docx conversion started...\n",
       "PM_TSD_E247_Delete_FLOCs_From_External_List  conversion ended...\n",
       "PM_TSD_E248_Add_Drawings_to_Material_BOM.docx conversion started...\n",
       "PM_TSD_E248_Add_Drawings_to_Material_BOM conversion ended...\n",
       "PM_TSD_E251_PM_Enh_Placeholder_54.docx conversion started...\n",
       "PM_TSD_E251_PM_Enh_Placeholder_54 conversion ended...\n",
       "PM_TSD_E252_PM_Enh_Default_Values_On_Maintenance_Plan (1).docx conversion started...\n",
       "PM_TSD_E252_PM_Enh_Default_Values_On_Maintenance_Plan (1) conversion ended...\n",
       "PM_TSD_E255_Enable_Requirement_Date_in_Work_Order.docx conversion started...\n",
       "PM_TSD_E255_Enable_Requirement_Date_in_Work_Order conversion ended...\n",
       "PM_TSD_E256_Set Del Date on Req to Start Date on Operation.docx conversion started...\n",
       "PM_TSD_E256_Set Del Date on Req to Start Date on Operation conversion ended...\n",
       "PM_TSD_E262_BOM_Sort - Copy.docx conversion started...\n",
       "PM_TSD_E262_BOM_Sort - Copy conversion ended...\n",
       "PM_TSD_E263_BOM_Txt_Message_Change.docx conversion started...\n",
       "PM_TSD_E263_BOM_Txt_Message_Change conversion ended...\n",
       "PM_TSD_E264_Customized_BOM_Creation.docx conversion started...\n",
       "PM_TSD_E264_Customized_BOM_Creation conversion ended...\n",
       "PM_TSD_E265 Requisition_for_Services .docx conversion started...\n",
       "PM_TSD_E265 Requisition_for_Services  conversion ended...\n",
       "PM_TSD_E266_Requisition_for_Non-Stock_Parts.docx conversion started...\n",
       "PM_TSD_E266_Requisition_for_Non-Stock_Parts conversion ended...\n",
       "PM_TSD_E273_PM_Enh_Placeholder_76_mod.docx conversion started...\n",
       "PM_TSD_E273_PM_Enh_Placeholder_76_mod conversion ended...\n",
       "PM_TSD_E314_Avantis Legacy Task Job Field on Maintenance Item.docx conversion started...\n",
       "PM_TSD_E314_Avantis Legacy Task Job Field on Maintenance Item conversion ended...\n",
       "PM_TSD_E316 Auto Complete Repair Tag Task.docx conversion started...\n",
       "PM_TSD_E316 Auto Complete Repair Tag Task conversion ended...\n",
       "PM_TSD_E348_ Availability_Check_Batch_job (2).docx conversion started...\n",
       "PM_TSD_E348_ Availability_Check_Batch_job (2) conversion ended...\n",
       "PM_TSD_E349_Initial_Requisition_Release_On_Work_Orders (1).docx conversion started...\n",
       "PM_TSD_E349_Initial_Requisition_Release_On_Work_Orders (1) conversion ended...\n",
       "PM_TSD_E350_L.I.T.E Enhancement for Maintenance Item.docx conversion started...\n",
       "PM_TSD_E350_L.I.T.E Enhancement for Maintenance Item conversion ended...\n",
       "PM_TSD_E352_Planner Dashboard vf.docx conversion started...\n",
       "PM_TSD_E352_Planner Dashboard vf conversion ended...\n",
       "PM_TSD_E353_Schedule Tool for Non-Pasta Plants vf.docx conversion started...\n",
       "PM_TSD_E353_Schedule Tool for Non-Pasta Plants vf conversion ended...\n",
       "PM_TSD_E354 - PM Creation.docx conversion started...\n",
       "PM_TSD_E354 - PM Creation conversion ended...\n",
       "PM_TSD_F072_CONF Confined Workspace Permit Form (3).docx conversion started...\n",
       "PM_TSD_F072_CONF Confined Workspace Permit Form (3) conversion ended...\n",
       "PM_TSD_F082_Measuring Point Collection Form.docx conversion started...\n",
       "PM_TSD_F082_Measuring Point Collection Form conversion ended...\n",
       "PM_TSD_I313_PG Schedules.docx conversion started...\n",
       "PM_TSD_I313_PG Schedules conversion ended...\n",
       "PM_TSD_I421_Eclipse_Get_Details_Button.docx conversion started...\n",
       "PM_TSD_I421_Eclipse_Get_Details_Button conversion ended...\n",
       "PM_TSD_I438_SEAL Interface.docx conversion started...\n",
       "PM_TSD_I438_SEAL Interface conversion ended...\n",
       "PM_TSD_I547_Eclipse_Update_Notification VF2.docx conversion started...\n",
       "PM_TSD_I547_Eclipse_Update_Notification VF2 conversion ended...\n",
       "PM_TSD_I548_Eclipse_Work Order Creation Message.docx conversion started...\n",
       "PM_TSD_I548_Eclipse_Work Order Creation Message conversion ended...\n",
       "PM_TSD_I549_Eclipse_Create or Update Technical Objects[1].docx conversion started...\n",
       "PM_TSD_I549_Eclipse_Create or Update Technical Objects[1] conversion ended...\n",
       "PM_TSD_I553_Eclipse_Update_and_Link_NotificationVF2.docx conversion started...\n",
       "PM_TSD_I553_Eclipse_Update_and_Link_NotificationVF2 conversion ended...\n",
       "PM_TSD_U053_Work Order Parts Finder.docx conversion started...\n",
       "PM_TSD_U053_Work Order Parts Finder conversion ended...\n",
       "PM_TSD_U054_Operations RBO Review_v2.docx conversion started...\n",
       "PM_TSD_U054_Operations RBO Review_v2 conversion ended...\n",
       "PM_TSD_U055_Notification Screening.v1.docx conversion started...\n",
       "PM_TSD_U055_Notification Screening.v1 conversion ended...\n",
       "PM_TSD_U056_Notification Conversion.docx conversion started...\n",
       "PM_TSD_U056_Notification Conversion conversion ended...\n",
       "PM_TSD_U058_Work Order Close V1.docx conversion started...\n",
       "PM_TSD_U058_Work Order Close V1 conversion ended...\n",
       "PM_TSD_U063_Purchase Requisition Approval.docx conversion started...\n",
       "PM_TSD_U063_Purchase Requisition Approval conversion ended...\n",
       "PM_TSD_U065_RecordMeasurementDocument.docx conversion started...\n",
       "PM_TSD_U065_RecordMeasurementDocument conversion ended...\n",
       "S4 DataPrep_ MDG_ FSD_ E_MDG_0002_Link_Supplier_Validation_Business_Unit.docx conversion started...\n",
       "S4 DataPrep_ MDG_ FSD_ E_MDG_0002_Link_Supplier_Validation_Business_Unit conversion ended...\n",
       "S4 DataPrep_MDG_FSD_ I_MDG_0014- Interface from GEP to MDG for Supplier creation_.docx conversion started...\n",
       "S4 DataPrep_MDG_FSD_ I_MDG_0014- Interface from GEP to MDG for Supplier creation_ conversion ended...\n",
       "S4 DataPrep_MDG_FSD_E_0006_Enhancement to update Head office Field  .docx conversion started...\n",
       "S4 DataPrep_MDG_FSD_E_0006_Enhancement to update Head office Field   conversion ended...\n",
       "S4 DataPrep_MDG_FSD_E_MDG_0001_Enhancement to Create Material Change Request header - Form and PDF .docx conversion started...\n",
       "S4 DataPrep_MDG_FSD_E_MDG_0001_Enhancement to Create Material Change Request header - Form and PDF  conversion ended...\n",
       "S4 DataPrep_MDG_FSD_E_MDG_0003_Email_Notifications_MaterialMaster.docx conversion started...\n",
       "S4 DataPrep_MDG_FSD_E_MDG_0003_Email_Notifications_MaterialMaster conversion ended...\n",
       "S4 DataPrep_MDG_FSD_E_MDG_0005_Enhancement_CustomUI_Material.docx conversion started...\n",
       "S4 DataPrep_MDG_FSD_E_MDG_0005_Enhancement_CustomUI_Material conversion ended...\n",
       "S4 DataPrep_MDG_FSD_E_MDG_0009_Default_Manufacturer_Role.docx conversion started...\n",
       "S4 DataPrep_MDG_FSD_E_MDG_0009_Default_Manufacturer_Role conversion ended...\n",
       "S4 DataPrep_MDG_FSD_E_MDG_0010_Material_From_Manufacturer.docx conversion started...\n",
       "S4 DataPrep_MDG_FSD_E_MDG_0010_Material_From_Manufacturer conversion ended...\n",
       "S4 DataPrep_MDG_FSD_E_MDG_0011_Enhancement_Create_Material_Change_Request_field validation.docx conversion started...\n",
       "S4 DataPrep_MDG_FSD_E_MDG_0011_Enhancement_Create_Material_Change_Request_field validation conversion ended...\n",
       "S4 DataPrep_MDG_FSD_E_MDG_0012_Enhancement for Security Role for Create Material and Supplier Process.docx conversion started...\n",
       "S4 DataPrep_MDG_FSD_E_MDG_0012_Enhancement for Security Role for Create Material and Supplier Process conversion ended...\n",
       "S4 DataPrep_MDG_FSD_W_MDG_0013_Routing_Material_Workflow.docx conversion started...\n",
       "S4 DataPrep_MDG_FSD_W_MDG_0013_Routing_Material_Workflow conversion ended...\n",
       "S4 Hana Key Design Decision - P2P SRM Decision.docx conversion started...\n",
       "S4 Hana Key Design Decision - P2P SRM Decision conversion ended...\n",
       "S4 Hana Key Design Decision System Outage Messages_.docx conversion started...\n",
       "S4 Hana Key Design Decision System Outage Messages_ conversion ended...\n",
       "S4 Hana Key Design Decision webGUI vs SAP GUI_UPDATED on 02-28-2022.docx conversion started...\n",
       "S4 Hana Key Design Decision webGUI vs SAP GUI_UPDATED on 02-28-2022 conversion ended...\n",
       "S4 HANA Single point of entry.docx conversion started...\n",
       "S4 HANA Single point of entry conversion ended...\n",
       "S4 KDD - Level of Tax Postings.docx conversion started...\n",
       "S4 KDD - Level of Tax Postings conversion ended...\n",
       "S4-KDD-002 - Position-Based Security.docx conversion started...\n",
       "S4-KDD-002 - Position-Based Security conversion ended...\n",
       "S4-KDD-003 - Security Standard Company Code Hierarchy.docx conversion started...\n",
       "S4-KDD-003 - Security Standard Company Code Hierarchy conversion ended...\n",
       "S4-KDD-004 - Security Business Roles.docx conversion started...\n",
       "S4-KDD-004 - Security Business Roles conversion ended...\n",
       "S4-KDD-061 - Less Restrictive Security Cube View.docx conversion started...\n",
       "S4-KDD-061 - Less Restrictive Security Cube View conversion ended...\n",
       "S4-KDD-072 - GRC and Role change Governance Model.docx conversion started...\n",
       "S4-KDD-072 - GRC and Role change Governance Model conversion ended...\n",
       "S4-KDD-087 - Task vs Job-Based Roles.docx conversion started...\n",
       "S4-KDD-087 - Task vs Job-Based Roles conversion ended...\n",
       "S4-KDD-088 - Enabler vs Derived Roles.docx conversion started...\n",
       "S4-KDD-088 - Enabler vs Derived Roles conversion ended...\n",
       "S4-KDD-089 - Global vs Local Display.docx conversion started...\n",
       "S4-KDD-089 - Global vs Local Display conversion ended...\n",
       "S4_DataPrep_FSD_E_MDG_0004_Create_HERS_Material_from_STUF_Material.docx conversion started...\n",
       "S4_DataPrep_FSD_E_MDG_0004_Create_HERS_Material_from_STUF_Material conversion ended...\n",
       "S4_DataPrep_FSD_E_MDG_0007_Enhancement to block  Unblock Supplier.docx conversion started...\n",
       "S4_DataPrep_FSD_E_MDG_0007_Enhancement to block  Unblock Supplier conversion ended...\n",
       "S4_DataPrep_MDG_FSD_E_MDG_0008_Email_Notification_Supplier.docx conversion started...\n",
       "S4_DataPrep_MDG_FSD_E_MDG_0008_Email_Notification_Supplier conversion ended...\n",
       "User Experience Key Design Decision #59 S4 Launchpoint.docx conversion started...\n",
       "User Experience Key Design Decision #59 S4 Launchpoint conversion ended...\n",
       "</div>"
      ]
     },
     "metadata": {
      "application/vnd.databricks.v1+output": {
       "addedWidgets": {},
       "arguments": {},
       "data": "<div class=\"ansiout\">Parsing\n26FSDSwithSummarizedText.xlsx\n26fsd_16k_Pipeline1_mix_approach_first7.xlsx\n26fsd_16k_Pipeline1_tests.xlsx\n26fsd_16k_Pipeline1_tests_mike.xlsx\n26fsd_16k_Pipeline2_good15.xlsx\n26fsd_16k_Pipeline2_good2.xlsx\n26fsd_16k_Pipeline2_good21.xlsx\n26fsd_16k_Pipeline2_great15.xlsx\n26fsd_16k_Pipeline2_tests.xlsx\n26fsd_16k_Pipeline2_tests_mike.xlsx\n26fsd_4-16k_Pipeline1.xlsx\n2ndFSDTestSet.xlsx\n2ndFSDTestSetV2.xlsx\n2ndFSDTestSetV3.xlsx\n2ndFSDTrainingSet.xlsx\nAward_Letter_Template.docx\nAward_Letter_Template2.docx\nAward_Letter_Translated.docx\nBANK STATEMENT RECONCILIATION.docx\nBPD.zip\nBill Management.csv\nBudgetary Controls.csv\nCELA Case Data.xlsx\nCELA Workplace Investigation Summary - ABC-455-6789.docx\nCELA Workplace Investigation Summary - ABC-455-6789_1.docx\nCELA Workplace Investigation Summary - ABC-812-3541.docx\nCELA Workplace Investigation Summary - ABC-898-7514.docx\nCase Data.xlsx\nCash Management.csv\nCodes_mapping.xlsx\nDNU_OGE_FSD_E_PA_002_IM Program $ to IM Program Position $.docx\nDNU_OGE_FSD_E_PA_003_IM Program Position $ to WBS $.docx\nDominion.xlsx\nDominionV2.xlsx\nEASY_DATA_SET.xlsx\nFDD_Outputs_E_FIN_001.docx\nFDD_Outputs_E_FIN_002.docx\nFDD_Outputs_RICEFW_001.docx\nFSD.zip\nFSD_GPT_output_results.xlsx\nFSD_Temp_1.docx\nFSD_deflated_zip/\nFSD_req.zip\nGeneral Ledger.csv\nHARD_DATA_SET.xlsx\nHCM_Group_Membership.csv\nLNTest1.docx\nMapping Template.xlsx\nOGE_FSD_-E_FIN_001_Electronic BADI for mass reversals - automated based on rejections2.docx\nOGE_FSD_-E_FIN_001_Electronic BADI for mass reversals - automated based on rejections3.docx\nOGE_FSD_-E_FIN_001_Electronic BADI for mass reversals - automated based on rejections_2023-06-10_00_33_28.docx\nOGE_FSD_-E_FIN_001_Electronic BADI for mass reversals - automated based on rejections_2023-06-11_22_10_00.docx\nOGE_FSD_-E_FIN_001_Electronic BADI for mass reversals - automated based on rejections_2023-06-11_23_10_03.docx\nOGE_FSD_-E_FIN_001_Electronic BADI for mass reversals - automated based on rejections_2023-06-12_00_00_10.docx\nOGE_FSD_-E_FIN_001_Electronic BADI for mass reversals - automated based on rejections_2023-06-12_00_29_20.docx\nOGE_FSD_-E_FIN_001_Electronic BADI for mass reversals - automated based on rejections_2023-06-13_14_42_26.docx\nOGE_FSD_-E_FIN_001_Electronic BADI for mass reversals - automated based on rejections_2023-06-13_18_21_53.docx\nOGE_FSD_-E_FIN_001_Electronic BADI for mass reversals - automated based on rejections_2023-06-13_23_08_12.docx\nOGE_FSD_-E_FIN_001_Electronic BADI for mass reversals - automated based on rejections_2023-06-14_01_48_53.docx\nOGE_FSD_-E_FIN_001_Electronic BADI for mass reversals - automated based on rejections_2023-06-16_00_39_34.docx\nOGE_FSD_-E_FIN_001_Electronic BADI for mass reversals - automated based on rejections_2023-06-19_18_18_54.docx\nOGE_FSD_-E_FIN_002_Overhead Residual Clearing Program _2023-06-10_00_43_49.docx\nOGE_FSD_-E_FIN_002_Overhead Residual Clearing Program _2023-06-11_22_19_57.docx\nOGE_FSD_-E_FIN_002_Overhead Residual Clearing Program _2023-06-12_00_41_25.docx\nOGE_FSD_-E_FIN_002_Overhead Residual Clearing Program _2023-06-13_14_53_17.docx\nOGE_FSD_-E_FIN_002_Overhead Residual Clearing Program _2023-06-13_18_29_56.docx\nOGE_FSD_-E_FIN_002_Overhead Residual Clearing Program _2023-06-13_23_15_42.docx\nOGE_FSD_-E_FIN_002_Overhead Residual Clearing Program _2023-06-14_00_35_54.docx\nOGE_FSD_-E_FIN_002_Overhead Residual Clearing Program _2023-06-16_00_42_46.docx\nOGE_FSD_-E_FIN_002_Overhead Residual Clearing Program _2023-06-19_18_30_00.docx\nOGE_FSD_-E_PA_004_Ability to create Projects and WBS structure using a defined excel upload file. Transaction &#34;ZCOSTCOLL - Load Project System Cost Collectors&#34; and &#34;Program - ZPRSU_LOAD_COST_COLLECTORS&#34;_2023-06-21_03_31_30.docx\nOGE_FSD_-E_PA_004_Ability to create Projects and WBS structure using a defined excel upload file. Transaction &#34;ZCOSTCOLL - Load Project System Cost Collectors&#34; and &#34;Program - ZPRSU_LOAD_COST_COLLECTORS&#34;_2023-06-22_22_11_31.docx\nOGE_FSD_-E_PA_004_Ability to mass change the WBS master data via excel upload_2023-06-22_23_08_07.docx\nOGE_FSD_-E_WAM_PS_009_Enhancement to serach for assets from the asset hierarchy_2023-06-20_18_48_31.docx\nOGE_FSD_-E_WAM_PS_009_Enhancement to serach for assets from the asset hierarchy_2023-06-21_01_45_15.docx\nOGE_FSD_-E_WAM_PS_009_Enhancement to serach for assets from the asset hierarchy_2023-06-21_14_35_40.docx\nOGE_FSD_-E_WAM_PS_009_Enhancement to serach for assets from the asset hierarchy_2023-06-22_18_56_38.docx\nOGE_FSD_-E_WAM_PS_009_Enhancement to serach for assets from the asset hierarchy_2023-06-22_20_06_16.docx\nOGE_FSD_-E_WAM_PS_009_Enhancement to serach for assets from the asset hierarchy_2023-06-22_20_35_31.docx\nOGE_FSD_-E_WAM_PS_009_Enhancement to serach for assets from the asset hierarchy_2023-06-22_21_01_25.docx\nOGE_FSD_-E_WAM_PS_016_ZWCM - Work Clearance Mgmt3.docx\nOGE_FSD_-E_WAM_PS_016_ZWCM - Work Clearance Mgmt_2023-06-10_01_31_22.docx\nOGE_FSD_-E_WAM_PS_016_ZWCM - Work Clearance Mgmt_2023-06-12_01_34_20.docx\nOGE_FSD_-E_WAM_PS_016_ZWCM - Work Clearance Mgmt_2023-06-13_15_37_49.docx\nOGE_FSD_-E_WAM_PS_016_ZWCM - Work Clearance Mgmt_2023-06-13_19_20_59.docx\nOGE_FSD_-E_WAM_PS_016_ZWCM - Work Clearance Mgmt_2023-06-14_02_04_16.docx\nOGE_FSD_-E_WAM_PS_016_ZWCM - Work Clearance Mgmt_2023-06-16_01_02_11.docx\nOGE_FSD_-E_WAM_PS_017_ZH135-Supvsr SignOff - Payroll Aprvd Time_2023-06-10_01_42_38.docx\nOGE_FSD_-E_WAM_PS_017_ZH135-Supvsr SignOff - Payroll Aprvd Time_2023-06-12_01_48_21.docx\nOGE_FSD_-E_WAM_PS_017_ZH135-Supvsr SignOff - Payroll Aprvd Time_2023-06-13_15_47_41.docx\nOGE_FSD_-E_WAM_PS_017_ZH135-Supvsr SignOff - Payroll Aprvd Time_2023-06-13_19_40_08.docx\nOGE_FSD_-E_WAM_PS_017_ZH135-Supvsr SignOff - Payroll Aprvd Time_2023-06-14_02_25_18.docx\nOGE_FSD_-E_WAM_PS_017_ZH135-Supvsr SignOff - Payroll Aprvd Time_2023-06-16_01_11_19.docx\nOGE_FSD_-E_WAM_PS_019_Excel Extract for maintenance scheduling board_2023-06-21_02_45_38.docx\nOGE_FSD_-E_WAM_PS_019_Excel Extract for maintenance scheduling board_2023-06-21_17_17_43.docx\nOGE_FSD_-E_WAM_PS_019_Excel Extract for maintenance scheduling board_2023-06-22_21_45_16.docx\nOGE_FSD_-E_WAM_T&amp;D_005_Automated WBS Assignment to Work Order_2023-06-21_02_09_05.docx\nOGE_FSD_-E_WAM_T&amp;D_005_Automated WBS Assignment to Work Order_2023-06-21_16_44_55.docx\nOGE_FSD_-E_WAM_T&amp;D_005_Automated WBS Assignment to Work Order_2023-06-22_22_15_35.docx\nOGE_FSD_-E_WAM_T&amp;D_019_Work Order - Locked Estimate Costs_2023-06-21_02_22_32.docx\nOGE_FSD_-E_WAM_T&amp;D_019_Work Order - Locked Estimate Costs_2023-06-21_16_57_12.docx\nOGE_FSD_-E_WAM_T&amp;D_019_Work Order - Locked Estimate Costs_2023-06-22_21_26_31.docx\nOGE_FSD_-F_FIN_001_Check Form for Bank of Oklahoma 2.docx\nOGE_FSD_-F_FIN_001_Check Form for Bank of Oklahoma 3.docx\nOGE_FSD_-F_FIN_001_Check Form for Bank of Oklahoma _2023-06-10_00_54_16.docx\nOGE_FSD_-F_FIN_001_Check Form for Bank of Oklahoma _2023-06-12_00_52_51.docx\nOGE_FSD_-F_FIN_001_Check Form for Bank of Oklahoma _2023-06-12_15_22_03.docx\nOGE_FSD_-F_FIN_001_Check Form for Bank of Oklahoma _2023-06-12_16_03_45.docx\nOGE_FSD_-F_FIN_001_Check Form for Bank of Oklahoma _2023-06-13_14_06_04.docx\nOGE_FSD_-F_FIN_001_Check Form for Bank of Oklahoma _2023-06-13_15_02_23.docx\nOGE_FSD_-F_FIN_001_Check Form for Bank of Oklahoma _2023-06-13_18_43_41.docx\nOGE_FSD_-F_FIN_001_Check Form for Bank of Oklahoma _2023-06-14_00_45_59.docx\nOGE_FSD_-F_FIN_001_Check Form for Bank of Oklahoma _2023-06-16_00_44_51.docx\nOGE_FSD_-F_FIN_002_Vendor Remittance Form_2023-06-10_01_05_17.docx\nOGE_FSD_-F_FIN_002_Vendor Remittance Form_2023-06-12_02_53_30.docx\nOGE_FSD_-F_FIN_002_Vendor Remittance Form_2023-06-12_03_06_31.docx\nOGE_FSD_-F_FIN_002_Vendor Remittance Form_2023-06-12_03_15_05.docx\nOGE_FSD_-F_FIN_002_Vendor Remittance Form_2023-06-12_03_19_30.docx\nOGE_FSD_-F_FIN_002_Vendor Remittance Form_2023-06-12_03_38_50.docx\nOGE_FSD_-F_FIN_002_Vendor Remittance Form_2023-06-12_03_41_21.docx\nOGE_FSD_-F_FIN_002_Vendor Remittance Form_2023-06-12_14_44_20.docx\nOGE_FSD_-F_FIN_002_Vendor Remittance Form_2023-06-12_22_41_40.docx\nOGE_FSD_-F_FIN_002_Vendor Remittance Form_2023-06-13_15_12_01.docx\nOGE_FSD_-F_FIN_002_Vendor Remittance Form_2023-06-13_18_57_32.docx\nOGE_FSD_-F_FIN_002_Vendor Remittance Form_2023-06-13_21_49_38.docx\nOGE_FSD_-F_FIN_002_Vendor Remittance Form_2023-06-14_00_56_53.docx\nOGE_FSD_-F_FIN_002_Vendor Remittance Form_2023-06-16_00_46_58.docx\nOGE_FSD_-F_FIN_002_Vendor Remittance Form_2023-06-16_17_22_31.docx\nOGE_FSD_-W_FIN_001_Send notification to users who have Discounts coming due3.docx\nOGE_FSD_-W_FIN_001_Send notification to users who have Discounts coming due_2023-06-10_01_56_06.docx\nOGE_FSD_-W_FIN_001_Send notification to users who have Discounts coming due_2023-06-12_02_00_43.docx\nOGE_FSD_-W_FIN_001_Send notification to users who have Discounts coming due_2023-06-13_15_56_36.docx\nOGE_FSD_-W_FIN_001_Send notification to users who have Discounts coming due_2023-06-13_19_58_25.docx\nOGE_FSD_-W_FIN_001_Send notification to users who have Discounts coming due_2023-06-14_02_36_58.docx\nOGE_FSD_-W_FIN_001_Send notification to users who have Discounts coming due_2023-06-16_01_19_57.docx\nOGE_FSD_-W_SCM_001_PR Approval_2023-06-10_02_07_38.docx\nOGE_FSD_-W_SCM_001_PR Approval_2023-06-12_02_14_17.docx\nOGE_FSD_-W_SCM_001_PR Approval_2023-06-13_20_06_45.docx\nOGE_FSD_-W_SCM_001_PR Approval_2023-06-14_03_00_53.docx\nOGE_FSD_CNV-C_FIN_001_Bank Accounts.docx\nOGE_FSD_CNV-C_FIN_001_Bank Accounts1.docx\nOGE_FSD_CNV-C_FIN_001_Bank Accounts2.docx\nOGE_FSD_CNV-C_FIN_001_Bank Accounts3.docx\nOGE_FSD_CNV-C_FIN_001_Bank Accounts_2023-06-10_00_04_01.docx\nOGE_FSD_CNV-C_FIN_001_Bank Accounts_2023-06-10_00_16_27.docx\nOGE_FSD_CNV-C_FIN_001_Bank Accounts_2023-06-11_20_45_20.docx\nOGE_FSD_CNV-C_FIN_001_Bank Accounts_2023-06-11_20_57_28.docx\nOGE_FSD_CNV-C_FIN_001_Bank Accounts_2023-06-11_21_09_43.docx\nOGE_FSD_CNV-C_FIN_001_Bank Accounts_2023-06-11_21_23_57.docx\nOGE_FSD_CNV-C_FIN_001_Bank Accounts_2023-06-11_21_39_13.docx\nOGE_FSD_CNV-C_FIN_001_Bank Accounts_2023-06-11_21_53_49.docx\nOGE_FSD_CNV-C_FIN_001_Bank Accounts_2023-06-11_23_18_46.docx\nOGE_FSD_CNV-C_FIN_001_Bank Accounts_2023-06-12_00_11_59.docx\nOGE_FSD_CNV-C_FIN_001_Bank Accounts_2023-06-12_14_59_39.docx\nOGE_FSD_CNV-C_FIN_001_Bank Accounts_2023-06-12_15_41_00.docx\nOGE_FSD_CNV-C_FIN_001_Bank Accounts_2023-06-12_19_09_47.docx\nOGE_FSD_CNV-C_FIN_001_Bank Accounts_2023-06-12_21_07_42.docx\nOGE_FSD_CNV-C_FIN_001_Bank Accounts_2023-06-12_22_35_16.docx\nOGE_FSD_CNV-C_FIN_001_Bank Accounts_2023-06-13_13_49_02.docx\nOGE_FSD_CNV-C_FIN_001_Bank Accounts_2023-06-13_14_24_38.docx\nOGE_FSD_CNV-C_FIN_001_Bank Accounts_2023-06-13_18_05_44.docx\nOGE_FSD_CNV-C_FIN_001_Bank Accounts_2023-06-13_20_18_51.docx\nOGE_FSD_CNV-C_FIN_001_Bank Accounts_2023-06-13_21_37_15.docx\nOGE_FSD_CNV-C_FIN_001_Bank Accounts_2023-06-14_00_11_44.docx\nOGE_FSD_CNV-C_FIN_001_Bank Accounts_2023-06-15_22_33_05.docx\nOGE_FSD_CNV-C_FIN_001_Bank Accounts_2023-06-16_16_49_23.docx\nOGE_FSD_CNV-C_FIN_001_Bank Accounts_2023-06-16_17_14_56.docx\nOGE_FSD_CNV-C_FIN_001_Bank Accounts_2023-06-19_17_58_04.docx\nOGE_FSD_CNV-C_FIN_001_Bank Accounts_2023-06-30_01_46_54.docx\nOGE_FSD_CNV-C_FIN_001_Bank Accounts_2023-07-10_15_24_55.docx\nOGE_FSD_CNV-C_FIN_001_Bank Accounts_2023-07-10_20_58_51.docx\nOGE_FSD_CNV-C_FIN_001_Bank Accounts_2023-07-11_20_55_09.docx\nOGE_FSD_CNV-C_FIN_001_Bank Accounts_2023-10-11_19_26_27.docx\nOGE_FSD_CNV-C_FIN_001_Bank Accounts_2023-10-11_21_09_57.docx\nOGE_FSD_CNV-C_FIN_001_Bank Accounts_x.docx\nOGE_FSD_CNV-C_FIN_002_Activity Types_2023-06-10_00_23_14.docx\nOGE_FSD_CNV-C_FIN_002_Activity Types_2023-06-11_22_00_12.docx\nOGE_FSD_CNV-C_FIN_002_Activity Types_2023-06-11_23_25_16.docx\nOGE_FSD_CNV-C_FIN_002_Activity Types_2023-06-12_00_18_08.docx\nOGE_FSD_CNV-C_FIN_002_Activity Types_2023-06-12_15_08_18.docx\nOGE_FSD_CNV-C_FIN_002_Activity Types_2023-06-12_15_49_33.docx\nOGE_FSD_CNV-C_FIN_002_Activity Types_2023-06-13_13_56_40.docx\nOGE_FSD_CNV-C_FIN_002_Activity Types_2023-06-13_14_32_57.docx\nOGE_FSD_CNV-C_FIN_002_Activity Types_2023-06-13_18_13_12.docx\nOGE_FSD_CNV-C_FIN_002_Activity Types_2023-06-13_22_54_21.docx\nOGE_FSD_CNV-C_FIN_002_Activity Types_2023-06-14_00_19_06.docx\nOGE_FSD_CNV-C_FIN_002_Activity Types_2023-06-15_22_39_45.docx\nOGE_FSD_CNV-C_FIN_002_Activity Types_2023-06-19_18_07_07.docx\nOGE_FSD_CNV-C_FIN_002_Activity Types_2023-06-30_02_00_12.docx\nOGE_FSD_CNV-C_FIN_002_Activity Types_2023-07-10_21_11_22.docx\nOGE_FSD_CNV-C_FIN_002_Activity Types_2023-10-11_19_09_20.docx\nOGE_FSD_CNV-C_FIN_003_Ability to convert uncleared cash at time in S4._2023-06-30_02_12_34.docx\nOGE_FSD_CNV-C_FIN_006_Assessments_2023-06-30_03_09_53.docx\nOGE_FSD_CNV-C_FIN_009_Conversion of Outstanding Check Register and linkage to converted payment documents in GL OI conversion_2023-06-30_04_35_37.docx\nOGE_FSD_CNV-F_FIN_001_Check Form for Bank of Oklahoma.docx\nOGE_FSD_IN-E_SCM_029_Expeditor Notes Field3.docx\nOGE_FSD_IN-E_SCM_029_Expeditor Notes Field_2023-06-09_22_44_09.docx\nOGE_FSD_IN-E_SCM_029_Expeditor Notes Field_2023-06-09_23_35_57.docx\nOGE_FSD_IN-E_SCM_029_Expeditor Notes Field_2023-06-10_01_12_41.docx\nOGE_FSD_IN-E_SCM_029_Expeditor Notes Field_2023-06-12_01_12_42.docx\nOGE_FSD_IN-E_SCM_029_Expeditor Notes Field_2023-06-13_15_20_51.docx\nOGE_FSD_IN-E_SCM_029_Expeditor Notes Field_2023-06-13_19_04_57.docx\nOGE_FSD_IN-E_SCM_029_Expeditor Notes Field_2023-06-14_01_04_44.docx\nOGE_FSD_IN-E_SCM_029_Expeditor Notes Field_2023-06-16_00_53_18.docx\nOGE_FSD_IN-E_SCM_029_Expeditor Notes Field_2023-10-11_18_51_38.docx\nOGE_FSD_IN-E_SCM_029_Expeditor Notes Field_2023-10-11_21_18_23.docx\nOGE_FSD_IN-I_FIN_001_Ability to send Positive Pay file to Bank of OK for check details._2023-06-10_01_21_08.docx\nOGE_FSD_IN-I_FIN_001_Ability to send Positive Pay file to Bank of OK for check details._2023-06-12_01_21_38.docx\nOGE_FSD_IN-I_FIN_001_Ability to send Positive Pay file to Bank of OK for check details._2023-06-12_22_48_28.docx\nOGE_FSD_IN-I_FIN_001_Ability to send Positive Pay file to Bank of OK for check details._2023-06-13_15_28_23.docx\nOGE_FSD_IN-I_FIN_001_Ability to send Positive Pay file to Bank of OK for check details._2023-06-13_19_12_23.docx\nOGE_FSD_IN-I_FIN_001_Ability to send Positive Pay file to Bank of OK for check details._2023-06-13_22_41_45.docx\nOGE_FSD_IN-I_FIN_001_Ability to send Positive Pay file to Bank of OK for check details._2023-06-14_01_13_32.docx\nOGE_FSD_IN-I_FIN_001_Ability to send Positive Pay file to Bank of OK for check details._2023-06-16_01_00_22.docx\nOGE_FSD_IN-I_FIN_001_Ability to send Positive Pay file to Bank of OK for check details._2023-06-16_17_29_20.docx\nOGE_FSD_IN-I_FIN_001_Ability to send Positive Pay file to Bank of OK for check details._2023-10-11_14_26_00.docx\nOGE_FSD_IN-I_FIN_001_Ability to send Positive Pay file to Bank of OK for check details._2023-10-11_15_24_10.docx\nOGE_FSD_IN-I_FIN_001_Ability to send Positive Pay file to Bank of OK for check details._2023-10-11_15_44_53.docx\nOGE_FSD_IN-I_FIN_001_Ability to send Positive Pay file to Bank of OK for check details._2023-10-11_18_40_45.docx\nOGE_FSD_IN-I_FIN_001_Ability to send Positive Pay file to Bank of OK for check details._2023-10-11_19_43_15.docx\nOGE_FSD_IN-I_PA_007_SAP Batch Retrieval – this job currently runs monthly (6th day of month) and pulls Actuals by WBS_2023-06-21_13_43_01.docx\nOGE_FSD_IN-I_PA_007_SAP Batch Retrieval – this job currently runs monthly (6th day of month) and pulls Actuals by WBS_2023-06-22_21_52_15.docx\nOGE_FSD_IN-I_PA_007_SAP Batch Retrieval – this job currently runs monthly (6th day of month) and pulls Actuals by WBS_2023-06-23_23_22_13.docx\nOGE_FSD_IN-I_PA_007_SAP Batch Retrieval – this job currently runs monthly (6th day of month) and pulls Actuals by WBS_2023-07-13_23_32_39.docx\nOGE_FSD_IN-I_PA_007_SAP Batch Retrieval – this job currently runs monthly (6th day of month) and pulls Actuals by WBS_2023-07-14_04_58_33.docx\nOGE_FSD_IN-I_PA_008_Actual $s and Commitments from SAP to EcoSys_2023-08-04_21_47_47.docx\nOGE_FSD_IN-I_PA_008_Send actual cost (CJI3) and commitment data (CJI5) from S4 to EcoSys by WBS_2023-06-21_03_21_47.docx\nOGE_FSD_IN-I_PA_008_Send actual cost (CJI3) and commitment data (CJI5) from S4 to EcoSys by WBS_2023-06-22_21_59_26.docx\nOGE_FSD_IN-I_PA_008_Send actual cost (CJI3) and commitment data (CJI5) from S4 to EcoSys by WBS_2023-06-23_22_50_24.docx\nOGE_FSD_IN-I_PA_008_Send actual cost (CJI3) and commitment data (CJI5) from S4 to EcoSys by WBS_2023-07-13_23_45_16.docx\nOGE_FSD_IN-I_PA_008_Send actual cost (CJI3) and commitment data (CJI5) from S4 to EcoSys by WBS_2023-07-14_05_11_10.docx\nOGE_FSD_IN-I_SCM_007_Interface from SAP to Wesco System (Daily Files)_2023-08-04_17_26_17.docx\nOGE_FSD_IN-I_WAM_PS_015_Pull in running hours from SCADA. Ability to pull in running hours from SCADA to be able to perform counter based maintenance_2023-08-04_14_49_49.docx\nOGE_FSD_IN-I_WAM_T&amp;D_007_SAP Integration with GIS - Asset Synchronization_2023-08-04_15_14_05.docx\nOGE_FSD_IN-I_WAM_T&amp;D_012_ArcGIS Online Inspection Results to create SAP Measurement Results_2023-06-23_20_25_38.docx\nOGE_FSD_IN-I_WAM_T&amp;D_012_ArcGIS Online Inspection Results to create SAP Measurement Results_2023-06-23_20_42_31.docx\nOGE_FSD_IN-I_WAM_T&amp;D_012_ArcGIS Online Inspection Results to create SAP Measurement Results_2023-07-13_22_56_15.docx\nOGE_FSD_IN-I_WAM_T&amp;D_012_ArcGIS Online Inspection Results to create SAP Measurement Results_2023-07-14_16_15_04.docx\nOGE_FSD_IN-I_WAM_T&amp;D_012_ArcGIS Online Inspection Results to create SAP Measurement Results_2023-07-14_21_11_30.docx\nOGE_FSD_IN-I_WAM_T&amp;D_012_ArcGIS Online Inspection Results to create SAP Measurement Results_2023-07-18_00_12_07.docx\nOGE_FSD_IN-I_WAM_T&amp;D_012_ArcGIS Online Inspection Results to create SAP Measurement Results_2023-07-18_13_11_26.docx\nOGE_FSD_IN-I_WAM_T&amp;D_012_ArcGIS Online Inspection Results to create SAP Measurement Results_2023-07-18_15_56_13.docx\nOGE_FSD_IN-I_WAM_T&amp;D_012_ArcGIS Online Inspection Results to create SAP Measurement Results_2023-07-18_22_32_03.docx\nOGE_FSD_IN-I_WAM_T&amp;D_012_T&amp;D Integration - ArcGIS Online Inspection Results to create SAP Measurement Results_2023-06-21_02_30_53.docx\nOGE_FSD_IN-I_WAM_T&amp;D_012_T&amp;D Integration - ArcGIS Online Inspection Results to create SAP Measurement Results_2023-06-21_17_05_45.docx\nOGE_FSD_IN-I_WAM_T&amp;D_012_T&amp;D Integration - ArcGIS Online Inspection Results to create SAP Measurement Results_2023-06-22_21_34_00.docx\nOGE_FSD_IN-I_WAM_T&amp;D_012_T&amp;D Integration - ArcGIS Online Inspection Results to create SAP Measurement Results_2023-08-04_15_33_15.docx\nOGE_FSD_IN-I_WAM_T&amp;D_012_T&amp;D Integration - ArcGIS Online Inspection Results to create SAP Measurement Results_2023-09-22_13_35_13.docx\nOGE_FSD_IN-I_WAM_T&amp;D_012_T&amp;D Integration - ArcGIS Online Inspection Results to create SAP Measurement Results_2023-10-03_21_49_48.docx\nOGE_FSD_IN-I_WAM_T&amp;D_012_T&amp;D Integration - ArcGIS Online Inspection Results to create SAP Measurement Results_2023-10-09_21_03_23.docx\nOGE_FSD_IN-I_WAM_T&amp;D_012_T&amp;D Integration - ArcGIS Online Inspection Results to create SAP Measurement Results_2023-10-09_22_52_51.docx\nOGE_FSD_IN-I_WAM_T&amp;D_012_T&amp;D Integration - ArcGIS Online Inspection Results to create SAP Measurement Results_2023-10-11_03_57_30.docx\nOGE_FSD_IN-I_WAM_T&amp;D_012_T&amp;D Integration - ArcGIS Online Inspection Results to create SAP Measurement Results_2023-10-11_04_42_36.docx\nOGE_FSD_IN-I_WAM_T&amp;D_012_T&amp;D Integration - ArcGIS Online Inspection Results to create SAP Measurement Results_2023-10-11_13_41_32.docx\nOGE_FSD_IN-I_WAM_T&amp;D_014_T&amp;D Integration - ArcGIS OnlineNon Engineered Repair Results to create SAP Measurement Results_2023-07-14_16_27_44.docx\nOGE_FSD_IN-I_WAM_T&amp;D_014_T&amp;D Integration - ArcGIS OnlineNon Engineered Repair Results to create SAP Measurement Results_2023-07-18_13_24_52.docx\nOGE_FSD_IN-I_WAM_T&amp;D_014_T&amp;D Integration - ArcGIS OnlineNon Engineered Repair Results to create SAP Measurement Results_2023-07-18_16_10_01.docx\nOGE_FSD_IN-I_WAM_T&amp;D_014_T&amp;D Integration - ArcGIS OnlineNon Engineered Repair Results to create SAP Measurement Results_2023-07-19_02_06_26.docx\nOGE_FSD_IN-I_WAM_T&amp;D_014_T&amp;D Integration - ArcGIS OnlineNon Engineered Repair Results to create SAP Measurement Results_2023-08-04_15_51_42.docx\nOGE_FSD_IN-I_WAM_T&amp;D_015_MyRowKeeper to SAP Asset Synchronization_2023-08-04_21_34_15.docx\nOGE_FSD_IN-I_WAM_T&amp;D_016_MyRowKeeper to SAP - Vegetation Maintenance Results_2023-06-23_20_49_54.docx\nOGE_FSD_IN-I_WAM_T&amp;D_016_MyRowKeeper to SAP - Vegetation Maintenance Results_2023-07-14_04_34_38.docx\nOGE_FSD_IN-I_WAM_T&amp;D_016_MyRowKeeper to SAP - Vegetation Maintenance Results_2023-07-14_17_29_39.docx\nOGE_FSD_IN-I_WAM_T&amp;D_016_MyRowKeeper to SAP - Vegetation Maintenance Results_2023-07-18_16_34_42.docx\nOGE_FSD_IN-I_WAM_T&amp;D_016_MyRowKeeper to SAP - Vegetation Maintenance Results_2023-07-19_02_34_24.docx\nOGE_FSD_IN-I_WAM_T&amp;D_016_MyRowKeeper to SAP - Vegetation Maintenance Results_2023-08-04_16_17_56.docx\nOGE_FSD_IN-I_WAM_T&amp;D_025_ArcGIS Online Maintenance Execution Notes,Status,Progress to update Execution Dashboard_2023-07-14_17_39_51.docx\nOGE_FSD_IN-I_WAM_T&amp;D_025_ArcGIS Online Maintenance Execution Notes,Status,Progress to update Execution Dashboard_2023-07-18_17_29_17.docx\nOGE_FSD_IN-I_WAM_T&amp;D_025_T&amp;D Integration - ArcGIS Online Maintenance Execution Notes,Status,Progress to update Execution Dashboard_2023-08-04_22_07_16.docx\nOGE_FSD_NH-E_FIN_001_Electronic BADI for mass reversals - automated based on rejections_2023-10-11_21_02_40.docx\nOGE_FSD_NH-E_FIN_002_Overhead Residual Clearing Program _2023-10-11_20_55_16.docx\nOGE_FSD_NH-E_PA_002_IM Program $ to IM Program Position $_2023-07-13_15_43_34.docx\nOGE_FSD_NH-E_PA_002_IM Program $ to IM Program Position $_2023-07-14_00_18_29.docx\nOGE_FSD_NH-E_PA_002_IM Program $ to IM Program Position $_2023-07-14_05_32_46.docx\nOGE_FSD_NH-E_PA_002_IM Program $ to IM Program Position $_2023-07-20_14_13_45.docx\nOGE_FSD_NH-E_PA_002_IM Program $ to IM Program Position $_2023-07-20_14_28_03.docx\nOGE_FSD_NH-E_PA_002_IM Program $ to IM Program Position $_2023-07-20_15_02_38.docx\nOGE_FSD_NH-E_PA_002_IM Program $ to IM Program Position $_2023-07-20_15_33_40.docx\nOGE_FSD_NH-E_PA_002_IM Program $ to IM Program Position $_2023-07-20_16_43_27.docx\nOGE_FSD_NH-E_PA_002_IM Program $ to IM Program Position $_2023-08-03_20_54_19.docx\nOGE_FSD_NH-E_PA_002_IM Program $ to IM Program Position $_2023-08-03_22_19_40.docx\nOGE_FSD_NH-E_PA_002_IM Program $ to IM Program Position $_2023-08-03_22_47_44.docx\nOGE_FSD_NH-E_PA_003_IM Program Position $ to WBS $_2023-07-13_15_53_14.docx\nOGE_FSD_NH-E_PA_003_IM Program Position $ to WBS $_2023-07-14_00_29_46.docx\nOGE_FSD_NH-E_PA_003_IM Program Position $ to WBS $_2023-07-14_05_41_21.docx\nOGE_FSD_NH-E_PA_003_IM Program Position $ to WBS $_2023-07-20_13_54_23.docx\nOGE_FSD_NH-E_PA_003_IM Program Position $ to WBS $_2023-07-20_14_41_43.docx\nOGE_FSD_NH-E_PA_003_IM Program Position $ to WBS $_2023-07-20_14_47_03.docx\nOGE_FSD_NH-E_PA_003_IM Program Position $ to WBS $_2023-07-20_15_16_36.docx\nOGE_FSD_NH-E_PA_003_IM Program Position $ to WBS $_2023-07-20_16_04_26.docx\nOGE_FSD_NH-E_PA_003_IM Program Position $ to WBS $_2023-07-20_17_06_39.docx\nOGE_FSD_NH-E_PA_003_IM Program Position $ to WBS $_2023-08-02_15_58_55.docx\nOGE_FSD_NH-E_PA_003_IM Program Position $ to WBS $_2023-08-03_21_26_27.docx\nOGE_FSD_NH-E_PA_003_IM Program Position $ to WBS $_2023-08-03_22_32_30.docx\nOGE_FSD_NH-E_PA_003_IM Program Position $ to WBS $_2023-08-03_23_03_26.docx\nOGE_FSD_NH-E_PA_004_Ability to create Projects and WBS structure using a defined excel upload file. Transaction &#34;ZCOSTCOLL - Load Project System Cost Collectors&#34; and &#34;Program - ZPRSU_LOAD_COST_COLLECTORS&#34;_2023-06-23_22_56_56.docx\nOGE_FSD_NH-E_PA_004_Ability to create Projects and WBS structure using a defined excel upload file_2023-06-24_03_37_08.docx\nOGE_FSD_NH-E_PA_007_Ability to mass change the WBS master data via excel upload_2023-06-23_23_03_32.docx\nOGE_FSD_NH-E_PA_007_Ability to mass change the WBS master data via excel upload_2023-07-14_00_08_06.docx\nOGE_FSD_NH-E_PA_012_PM to PS - WBS Status_2023-08-04_21_40_43.docx\nOGE_FSD_NH-E_SCM_029_Ability to automatically calculate system suggested supplier lead time_2023-10-11_18_47_58.docx\nOGE_FSD_NH-E_SCM_029_Ability to automatically calculate system suggested supplier lead time_2023-10-11_21_14_44.docx\nOGE_FSD_NH-E_SCM_044_Cancel backorder , outbound delivery once requirement has been met_2023-08-04_22_07_18.docx\nOGE_FSD_NH-E_WAM_PS_009_Enhancement to serach for assets from the asset hierarchy_2023-06-23_22_05_08.docx\nOGE_FSD_NH-E_WAM_PS_009_Enhancement to serach for assets from the asset hierarchy_2023-06-28_16_04_10.docx\nOGE_FSD_NH-E_WAM_PS_009_Enhancement to serach for assets from the asset hierarchy_2023-07-13_22_33_22.docx\nOGE_FSD_NH-E_WAM_PS_009_Enhancement to serach for assets from the asset hierarchy_2023-07-14_03_28_30.docx\nOGE_FSD_NH-E_WAM_PS_019_Excel Extract for maintenance scheduling board_2023-06-23_22_35_07.docx\nOGE_FSD_NH-E_WAM_PS_019_Excel Extract for maintenance scheduling board_2023-07-13_23_14_08.docx\nOGE_FSD_NH-E_WAM_PS_019_Excel Extract for maintenance scheduling board_2023-07-14_04_46_18.docx\n\n*** WARNING: skipped 43525 bytes of output ***\n\nPM_FSD_C268_Master Data - Functional_Location_BOM_Avantis[2] conversion ended...\nPM_FSD_C269_Master Data - Equipment_BOM_ECC.docx conversion started...\nPM_FSD_C269_Master Data - Equipment_BOM_ECC conversion ended...\nPM_FSD_C271_Master Data - Material_BOM_Avantis[2].docx conversion started...\nPM_FSD_C271_Master Data - Material_BOM_Avantis[2] conversion ended...\nPM_FSD_C277_Functional Location Conversion - Avantis.docx conversion started...\nPM_FSD_C277_Functional Location Conversion - Avantis conversion ended...\nPM_FSD_C278_Functional Location Conversion SAP ECC.docx conversion started...\nPM_FSD_C278_Functional Location Conversion SAP ECC conversion ended...\nPM_FSD_C279_Master Data - Equipment Master SAP ECC.docx conversion started...\nPM_FSD_C279_Master Data - Equipment Master SAP ECC conversion ended...\nPM_FSD_C281_Master Data - General_Tasklist_ECC.docx conversion started...\nPM_FSD_C281_Master Data - General_Tasklist_ECC conversion ended...\nPM_FSD_C294_Master Data -Maintenance Plan SAP ECC Final.docx conversion started...\nPM_FSD_C294_Master Data -Maintenance Plan SAP ECC Final conversion ended...\nPM_FSD_C295_Master Data - Maintenance Plan Avantis Final.docx conversion started...\nPM_FSD_C295_Master Data - Maintenance Plan Avantis Final conversion ended...\nPM_FSD_C296_Master Data - General_Tasklist_Avantis Final.docx conversion started...\nPM_FSD_C296_Master Data - General_Tasklist_Avantis Final conversion ended...\nPM_FSD_C297_Master Data - Work Centers  (3).docx conversion started...\nPM_FSD_C297_Master Data - Work Centers  (3) conversion ended...\nPM_FSD_C299_Master Data - Measuring Point_ SAP ECC.docx conversion started...\nPM_FSD_C299_Master Data - Measuring Point_ SAP ECC conversion ended...\nPM_FSD_C301_Transactional_Data - Open_Notificatoin_Avantis_V1.0.docx conversion started...\nPM_FSD_C301_Transactional_Data - Open_Notificatoin_Avantis_V1.0 conversion ended...\nPM_FSD_C306_Master Data - Class (3).docx conversion started...\nPM_FSD_C306_Master Data - Class (3) conversion ended...\nPM_FSD_C326_Master Data _Document PRT_s SAP ECC.docx conversion started...\nPM_FSD_C326_Master Data _Document PRT_s SAP ECC conversion ended...\nPM_FSD_C338_Master Data - Catalog and Code Groups Final.docx conversion started...\nPM_FSD_C338_Master Data - Catalog and Code Groups Final conversion ended...\nPM_FSD_C339_Master Data - Maintenance Item SAP ECC Final.docx conversion started...\nPM_FSD_C339_Master Data - Maintenance Item SAP ECC Final conversion ended...\nPM_FSD_C340_Master Data - Equipment_BOM_Avantis[2].docx conversion started...\nPM_FSD_C340_Master Data - Equipment_BOM_Avantis[2] conversion ended...\nPM_FSD_C341_Transactional Data - Open Work Orders SAP ECC V1.docx conversion started...\nPM_FSD_C341_Transactional Data - Open Work Orders SAP ECC V1 conversion ended...\nPM_FSD_C342_Master Data - Maintenance Item Avantis Final.docx conversion started...\nPM_FSD_C342_Master Data - Maintenance Item Avantis Final conversion ended...\nPM_FSD_C343_Master Data - Object Classification v3.docx conversion started...\nPM_FSD_C343_Master Data - Object Classification v3 conversion ended...\nPM_FSD_C344_Master Data - Revision Codes (2).docx conversion started...\nPM_FSD_C344_Master Data - Revision Codes (2) conversion ended...\nPM_FSD_C345_Master Data _Measuring_Documents.docx conversion started...\nPM_FSD_C345_Master Data _Measuring_Documents conversion ended...\nPM_FSD_C380_Master Data - HR Work Centers.docx conversion started...\nPM_FSD_C380_Master Data - HR Work Centers conversion ended...\nPM_FSD_E219_Activation_of_Maintenance_Plans.docx conversion started...\nPM_FSD_E219_Activation_of_Maintenance_Plans conversion ended...\nPM_FSD_E220_Deactivation_of_Maintenance_Plans.docx conversion started...\nPM_FSD_E220_Deactivation_of_Maintenance_Plans conversion ended...\nPM_FSD_E221_Mass_Retire_of_Maintenance_Plans 1.1.docx conversion started...\nPM_FSD_E221_Mass_Retire_of_Maintenance_Plans 1.1 conversion ended...\nPM_FSD_E222_Mass_Change_of_Maintenance_Items.docx conversion started...\nPM_FSD_E222_Mass_Change_of_Maintenance_Items conversion ended...\nPM_FSD_E224_Material_Prepick_Delivery (2).docx conversion started...\nPM_FSD_E224_Material_Prepick_Delivery (2) conversion ended...\nPM_FSD_E225_Set RDOC UserStatus on Equipment.docx conversion started...\nPM_FSD_E225_Set RDOC UserStatus on Equipment conversion ended...\nPM_FSD_E226_Set RDOC UserStatus on FLoc.docx conversion started...\nPM_FSD_E226_Set RDOC UserStatus on FLoc conversion ended...\nPM_FSD_E236_Delete_FL_BOMs.docx conversion started...\nPM_FSD_E236_Delete_FL_BOMs conversion ended...\nPM_FSD_E238_Equipment_Dismantle_and_Install (2).docx conversion started...\nPM_FSD_E238_Equipment_Dismantle_and_Install (2) conversion ended...\nPM_FSD_E239_Retire_Equipment_From_External_List.docx conversion started...\nPM_FSD_E239_Retire_Equipment_From_External_List conversion ended...\nPM_FSD_E241_Upload_Revision_Codes.docx conversion started...\nPM_FSD_E241_Upload_Revision_Codes conversion ended...\nPM_FSD_E242_Mass_Start_of_Maintenance_Plans.docx conversion started...\nPM_FSD_E242_Mass_Start_of_Maintenance_Plans conversion ended...\nPM_FSD_E247_Delete_FLOCs_From_External_List 1.1.docx conversion started...\nPM_FSD_E247_Delete_FLOCs_From_External_List 1.1 conversion ended...\nPM_FSD_E248_Add_Drawings_to_Material_BOM.docx conversion started...\nPM_FSD_E248_Add_Drawings_to_Material_BOM conversion ended...\nPM_FSD_E251_Inhibit_Transferring_ Defaults_to_Maintenance_Item .docx conversion started...\nPM_FSD_E251_Inhibit_Transferring_ Defaults_to_Maintenance_Item  conversion ended...\nPM_FSD_E252_ Default_Values_on_Maintenance_Plan.docx conversion started...\nPM_FSD_E252_ Default_Values_on_Maintenance_Plan conversion ended...\nPM_FSD_E262_BOM_Sort.docx conversion started...\nPM_FSD_E262_BOM_Sort conversion ended...\nPM_FSD_E263_BOM_Txt_Message_Change (1).docx conversion started...\nPM_FSD_E263_BOM_Txt_Message_Change (1) conversion ended...\nPM_FSD_E264_Customized_BOM_Creation (1).docx conversion started...\nPM_FSD_E264_Customized_BOM_Creation (1) conversion ended...\nPM_FSD_E265_Requisition_for_Services v1.32.docx conversion started...\nPM_FSD_E265_Requisition_for_Services v1.32 conversion ended...\nPM_FSD_E266_Requisition_for_Non-Stock_Parts v1.3.docx conversion started...\nPM_FSD_E266_Requisition_for_Non-Stock_Parts v1.3 conversion ended...\nPM_FSD_E273_Work_Order_Mass_Change.docx conversion started...\nPM_FSD_E273_Work_Order_Mass_Change conversion ended...\nPM_FSD_E314_Custom_Field_ for_Legacy_Task_and_Job_on_Maintenance_Item.docx conversion started...\nPM_FSD_E314_Custom_Field_ for_Legacy_Task_and_Job_on_Maintenance_Item conversion ended...\nPM_FSD_E339_Notification_Completion.docx conversion started...\nPM_FSD_E339_Notification_Completion conversion ended...\nPM_FSD_E348_Availibitiy_Check_Batch_Job.docx conversion started...\nPM_FSD_E348_Availibitiy_Check_Batch_Job conversion ended...\nPM_FSD_E349_Requisition_Release_on_Work_Orders.docx conversion started...\nPM_FSD_E349_Requisition_Release_on_Work_Orders conversion ended...\nPM_FSD_E350_L.I.T.E Enhancement for Maintenance Item.docx conversion started...\nPM_FSD_E350_L.I.T.E Enhancement for Maintenance Item conversion ended...\nPM_FSD_E352_Planner Dashboard vf.docx conversion started...\nPM_FSD_E352_Planner Dashboard vf conversion ended...\nPM_FSD_E353_Schedule Tool for Non-Pasta Plants vf.docx conversion started...\nPM_FSD_E353_Schedule Tool for Non-Pasta Plants vf conversion ended...\nPM_FSD_E354 - PM Creation.docx conversion started...\nPM_FSD_E354 - PM Creation conversion ended...\nPM_FSD_F072_CONF Confined Work Space Permit Form V1.docx conversion started...\nPM_FSD_F072_CONF Confined Work Space Permit Form V1 conversion ended...\nPM_FSD_I421_Eclipse_Get_Details_Button vF2.docx conversion started...\nPM_FSD_I421_Eclipse_Get_Details_Button vF2 conversion ended...\nPM_FSD_I434_PaSTA Interface_with_SAP_ECC (2).docx conversion started...\nPM_FSD_I434_PaSTA Interface_with_SAP_ECC (2) conversion ended...\nPM_FSD_I527_Interface_SAP_Work_Center_ to_ Pasta_V2[1].docx conversion started...\nPM_FSD_I527_Interface_SAP_Work_Center_ to_ Pasta_V2[1] conversion ended...\nPM_FSD_I546_Eclipse_Create_Notification vF2.docx conversion started...\nPM_FSD_I546_Eclipse_Create_Notification vF2 conversion ended...\nPM_FSD_I547_Eclipse_Update_Notification VF2.docx conversion started...\nPM_FSD_I547_Eclipse_Update_Notification VF2 conversion ended...\nPM_FSD_I548_Eclipse_Work Order Creation Message vF2.docx conversion started...\nPM_FSD_I548_Eclipse_Work Order Creation Message vF2 conversion ended...\nPM_FSD_I549_Eclipse_Create or Update Technical Objects vF2.docx conversion started...\nPM_FSD_I549_Eclipse_Create or Update Technical Objects vF2 conversion ended...\nPM_FSD_I552_Eclipse_Notification_Created_MessageVF2.docx conversion started...\nPM_FSD_I552_Eclipse_Notification_Created_MessageVF2 conversion ended...\nPM_FSD_I553_Eclipse_Update_and_Link_NotificationVF2.docx conversion started...\nPM_FSD_I553_Eclipse_Update_and_Link_NotificationVF2 conversion ended...\nPM_FSD_R038_BOM Component DisplayvF.docx conversion started...\nPM_FSD_R038_BOM Component DisplayvF conversion ended...\nPM_FSD_R059_XSR Backlog Report vf.docx conversion started...\nPM_FSD_R059_XSR Backlog Report vf conversion ended...\nPM_FSD_U053_Work Order Parts Finder v2.1.docx conversion started...\nPM_FSD_U053_Work Order Parts Finder v2.1 conversion ended...\nPM_FSD_U054_Operations RBO Review vF1.1.docx conversion started...\nPM_FSD_U054_Operations RBO Review vF1.1 conversion ended...\nPM_FSD_U055_Notification Screening vF1.1.docx conversion started...\nPM_FSD_U055_Notification Screening vF1.1 conversion ended...\nPM_FSD_U056_Notification Conversion vF1.1.docx conversion started...\nPM_FSD_U056_Notification Conversion vF1.1 conversion ended...\nPM_FSD_U058_Work Order Close V1.docx conversion started...\nPM_FSD_U058_Work Order Close V1 conversion ended...\nPM_FSD_U061_Safety Related Statusing v2.docx conversion started...\nPM_FSD_U061_Safety Related Statusing v2 conversion ended...\nPM_FSD_U063_Purchase Req Approval V2.2.docx conversion started...\nPM_FSD_U063_Purchase Req Approval V2.2 conversion ended...\nPM_FSD_U065_Record Measurment Document v3.docx conversion started...\nPM_FSD_U065_Record Measurment Document v3 conversion ended...\nPM_FSD_U071_Create Notification vF1.1.docx conversion started...\nPM_FSD_U071_Create Notification vF1.1 conversion ended...\nPM_FSD_W049_NSR Review Workflow 1.1.docx conversion started...\nPM_FSD_W049_NSR Review Workflow 1.1 conversion ended...\nPM_PM_TSD_ F088 _Material_issue_slip_.docx conversion started...\nPM_PM_TSD_ F088 _Material_issue_slip_ conversion ended...\nPM_PM_TSD_E236_Delete_FL_BOMs.docx conversion started...\nPM_PM_TSD_E236_Delete_FL_BOMs conversion ended...\nPM_PM_TSD_E339_Notification_Completion.docx conversion started...\nPM_PM_TSD_E339_Notification_Completion conversion ended...\nPM_PM_TSD_F085_Operations Summary.docx conversion started...\nPM_PM_TSD_F085_Operations Summary conversion ended...\nPM_PM_TSD_F086_Operation Detail.docx conversion started...\nPM_PM_TSD_F086_Operation Detail conversion ended...\nPM_PM_TSD_F087_Operation Detail Overflow.docx conversion started...\nPM_PM_TSD_F087_Operation Detail Overflow conversion ended...\nPM_PM_TSD_F089_Pre-Pick List.docx conversion started...\nPM_PM_TSD_F089_Pre-Pick List conversion ended...\nPM_PM_TSD_F090_Close_Out_form.docx conversion started...\nPM_PM_TSD_F090_Close_Out_form conversion ended...\nPM_PM_TSD_I527_PM Work Center To PASTA Integration.docx conversion started...\nPM_PM_TSD_I527_PM Work Center To PASTA Integration conversion ended...\nPM_PM_TSD_I546_E-log Create Notification.docx conversion started...\nPM_PM_TSD_I546_E-log Create Notification conversion ended...\nPM_PM_TSD_W049_NSR Workflow.docx conversion started...\nPM_PM_TSD_W049_NSR Workflow conversion ended...\nPM_R035_Outage Cost and Scope Report vF.docx conversion started...\nPM_R035_Outage Cost and Scope Report vF conversion ended...\nPM_R036_Outage Executive Summary vF.docx conversion started...\nPM_R036_Outage Executive Summary vF conversion ended...\nPM_R039_Material_Where-Used_in_BOMs vf.docx conversion started...\nPM_R039_Material_Where-Used_in_BOMs vf conversion ended...\nPM_R040_Work Order Cost Report.docx conversion started...\nPM_R040_Work Order Cost Report conversion ended...\nPM_R043_PM Dashboard vF.docx conversion started...\nPM_R043_PM Dashboard vF conversion ended...\nPM_R044_CM Dashboard vF.docx conversion started...\nPM_R044_CM Dashboard vF conversion ended...\nPM_R045_XSR Dashboard vf.docx conversion started...\nPM_R045_XSR Dashboard vf conversion ended...\nPM_R051_Work Order Remaining Hours Report vF.docx conversion started...\nPM_R051_Work Order Remaining Hours Report vF conversion ended...\nPM_R052_CBM Backlog Detailed Report VF.docx conversion started...\nPM_R052_CBM Backlog Detailed Report VF conversion ended...\nPM_R055_PM_Backlog_Detail_Report VF.docx conversion started...\nPM_R055_PM_Backlog_Detail_Report VF conversion ended...\nPM_R056_RTS_Backlog_Scrubbing vF.docx conversion started...\nPM_R056_RTS_Backlog_Scrubbing vF conversion ended...\nPM_R057_SWO_Backlog_Scrubbing vF.docx conversion started...\nPM_R057_SWO_Backlog_Scrubbing vF conversion ended...\nPM_R058_Total_WO_Backlog vF.docx conversion started...\nPM_R058_Total_WO_Backlog vF conversion ended...\nPM_R060_XSR_Actual_Cost_Changes vF.docx conversion started...\nPM_R060_XSR_Actual_Cost_Changes vF conversion ended...\nPM_Rxxx_GE LTSA Notifications vF.docx conversion started...\nPM_Rxxx_GE LTSA Notifications vF conversion ended...\nPM_Rxxx_Preventitive_Maintenance_Status_Report v.2.docx conversion started...\nPM_Rxxx_Preventitive_Maintenance_Status_Report v.2 conversion ended...\nPM_SAFETY_TSD_U061_Safety related workflow (3).docx conversion started...\nPM_SAFETY_TSD_U061_Safety related workflow (3) conversion ended...\nPM_TSD_ E269 Functional Area PM Default.docx conversion started...\nPM_TSD_ E269 Functional Area PM Default conversion ended...\nPM_TSD_E093 _Prevent Teco of Work Orders with requisiitons wo PO.docx conversion started...\nPM_TSD_E093 _Prevent Teco of Work Orders with requisiitons wo PO conversion ended...\nPM_TSD_E101.docx conversion started...\nPM_TSD_E101 conversion ended...\nPM_TSD_E219_Activation_of_Maintenance_Plans.docx conversion started...\nPM_TSD_E219_Activation_of_Maintenance_Plans conversion ended...\nPM_TSD_E220_Deactivation_of_Maintenance_Plans.docx conversion started...\nPM_TSD_E220_Deactivation_of_Maintenance_Plans conversion ended...\nPM_TSD_E221_Mass_Retire_of_Maintenance_Plans.docx conversion started...\nPM_TSD_E221_Mass_Retire_of_Maintenance_Plans conversion ended...\nPM_TSD_E222_Mass Change of Maintenance Items .docx conversion started...\nPM_TSD_E222_Mass Change of Maintenance Items  conversion ended...\nPM_TSD_E224_PM_Material_Prepick_Delivery .docx conversion started...\nPM_TSD_E224_PM_Material_Prepick_Delivery  conversion ended...\nPM_TSD_E226_Set_RDOC_User_Status .docx conversion started...\nPM_TSD_E226_Set_RDOC_User_Status  conversion ended...\nPM_TSD_E238_PM_Equipment_Dismantle_and_Install .docx conversion started...\nPM_TSD_E238_PM_Equipment_Dismantle_and_Install  conversion ended...\nPM_TSD_E239_Retire_Equipment_From_External_List.docx conversion started...\nPM_TSD_E239_Retire_Equipment_From_External_List conversion ended...\nPM_TSD_E241_PM_Enh_Placeholder_44.docx conversion started...\nPM_TSD_E241_PM_Enh_Placeholder_44 conversion ended...\nPM_TSD_E242_PM_Enh_Placeholder_45.docx conversion started...\nPM_TSD_E242_PM_Enh_Placeholder_45 conversion ended...\nPM_TSD_E243_PM_Notification and Work Order Long Text.docx conversion started...\nPM_TSD_E243_PM_Notification and Work Order Long Text conversion ended...\nPM_TSD_E247_Delete_FLOCs_From_External_List .docx conversion started...\nPM_TSD_E247_Delete_FLOCs_From_External_List  conversion ended...\nPM_TSD_E248_Add_Drawings_to_Material_BOM.docx conversion started...\nPM_TSD_E248_Add_Drawings_to_Material_BOM conversion ended...\nPM_TSD_E251_PM_Enh_Placeholder_54.docx conversion started...\nPM_TSD_E251_PM_Enh_Placeholder_54 conversion ended...\nPM_TSD_E252_PM_Enh_Default_Values_On_Maintenance_Plan (1).docx conversion started...\nPM_TSD_E252_PM_Enh_Default_Values_On_Maintenance_Plan (1) conversion ended...\nPM_TSD_E255_Enable_Requirement_Date_in_Work_Order.docx conversion started...\nPM_TSD_E255_Enable_Requirement_Date_in_Work_Order conversion ended...\nPM_TSD_E256_Set Del Date on Req to Start Date on Operation.docx conversion started...\nPM_TSD_E256_Set Del Date on Req to Start Date on Operation conversion ended...\nPM_TSD_E262_BOM_Sort - Copy.docx conversion started...\nPM_TSD_E262_BOM_Sort - Copy conversion ended...\nPM_TSD_E263_BOM_Txt_Message_Change.docx conversion started...\nPM_TSD_E263_BOM_Txt_Message_Change conversion ended...\nPM_TSD_E264_Customized_BOM_Creation.docx conversion started...\nPM_TSD_E264_Customized_BOM_Creation conversion ended...\nPM_TSD_E265 Requisition_for_Services .docx conversion started...\nPM_TSD_E265 Requisition_for_Services  conversion ended...\nPM_TSD_E266_Requisition_for_Non-Stock_Parts.docx conversion started...\nPM_TSD_E266_Requisition_for_Non-Stock_Parts conversion ended...\nPM_TSD_E273_PM_Enh_Placeholder_76_mod.docx conversion started...\nPM_TSD_E273_PM_Enh_Placeholder_76_mod conversion ended...\nPM_TSD_E314_Avantis Legacy Task Job Field on Maintenance Item.docx conversion started...\nPM_TSD_E314_Avantis Legacy Task Job Field on Maintenance Item conversion ended...\nPM_TSD_E316 Auto Complete Repair Tag Task.docx conversion started...\nPM_TSD_E316 Auto Complete Repair Tag Task conversion ended...\nPM_TSD_E348_ Availability_Check_Batch_job (2).docx conversion started...\nPM_TSD_E348_ Availability_Check_Batch_job (2) conversion ended...\nPM_TSD_E349_Initial_Requisition_Release_On_Work_Orders (1).docx conversion started...\nPM_TSD_E349_Initial_Requisition_Release_On_Work_Orders (1) conversion ended...\nPM_TSD_E350_L.I.T.E Enhancement for Maintenance Item.docx conversion started...\nPM_TSD_E350_L.I.T.E Enhancement for Maintenance Item conversion ended...\nPM_TSD_E352_Planner Dashboard vf.docx conversion started...\nPM_TSD_E352_Planner Dashboard vf conversion ended...\nPM_TSD_E353_Schedule Tool for Non-Pasta Plants vf.docx conversion started...\nPM_TSD_E353_Schedule Tool for Non-Pasta Plants vf conversion ended...\nPM_TSD_E354 - PM Creation.docx conversion started...\nPM_TSD_E354 - PM Creation conversion ended...\nPM_TSD_F072_CONF Confined Workspace Permit Form (3).docx conversion started...\nPM_TSD_F072_CONF Confined Workspace Permit Form (3) conversion ended...\nPM_TSD_F082_Measuring Point Collection Form.docx conversion started...\nPM_TSD_F082_Measuring Point Collection Form conversion ended...\nPM_TSD_I313_PG Schedules.docx conversion started...\nPM_TSD_I313_PG Schedules conversion ended...\nPM_TSD_I421_Eclipse_Get_Details_Button.docx conversion started...\nPM_TSD_I421_Eclipse_Get_Details_Button conversion ended...\nPM_TSD_I438_SEAL Interface.docx conversion started...\nPM_TSD_I438_SEAL Interface conversion ended...\nPM_TSD_I547_Eclipse_Update_Notification VF2.docx conversion started...\nPM_TSD_I547_Eclipse_Update_Notification VF2 conversion ended...\nPM_TSD_I548_Eclipse_Work Order Creation Message.docx conversion started...\nPM_TSD_I548_Eclipse_Work Order Creation Message conversion ended...\nPM_TSD_I549_Eclipse_Create or Update Technical Objects[1].docx conversion started...\nPM_TSD_I549_Eclipse_Create or Update Technical Objects[1] conversion ended...\nPM_TSD_I553_Eclipse_Update_and_Link_NotificationVF2.docx conversion started...\nPM_TSD_I553_Eclipse_Update_and_Link_NotificationVF2 conversion ended...\nPM_TSD_U053_Work Order Parts Finder.docx conversion started...\nPM_TSD_U053_Work Order Parts Finder conversion ended...\nPM_TSD_U054_Operations RBO Review_v2.docx conversion started...\nPM_TSD_U054_Operations RBO Review_v2 conversion ended...\nPM_TSD_U055_Notification Screening.v1.docx conversion started...\nPM_TSD_U055_Notification Screening.v1 conversion ended...\nPM_TSD_U056_Notification Conversion.docx conversion started...\nPM_TSD_U056_Notification Conversion conversion ended...\nPM_TSD_U058_Work Order Close V1.docx conversion started...\nPM_TSD_U058_Work Order Close V1 conversion ended...\nPM_TSD_U063_Purchase Requisition Approval.docx conversion started...\nPM_TSD_U063_Purchase Requisition Approval conversion ended...\nPM_TSD_U065_RecordMeasurementDocument.docx conversion started...\nPM_TSD_U065_RecordMeasurementDocument conversion ended...\nS4 DataPrep_ MDG_ FSD_ E_MDG_0002_Link_Supplier_Validation_Business_Unit.docx conversion started...\nS4 DataPrep_ MDG_ FSD_ E_MDG_0002_Link_Supplier_Validation_Business_Unit conversion ended...\nS4 DataPrep_MDG_FSD_ I_MDG_0014- Interface from GEP to MDG for Supplier creation_.docx conversion started...\nS4 DataPrep_MDG_FSD_ I_MDG_0014- Interface from GEP to MDG for Supplier creation_ conversion ended...\nS4 DataPrep_MDG_FSD_E_0006_Enhancement to update Head office Field  .docx conversion started...\nS4 DataPrep_MDG_FSD_E_0006_Enhancement to update Head office Field   conversion ended...\nS4 DataPrep_MDG_FSD_E_MDG_0001_Enhancement to Create Material Change Request header - Form and PDF .docx conversion started...\nS4 DataPrep_MDG_FSD_E_MDG_0001_Enhancement to Create Material Change Request header - Form and PDF  conversion ended...\nS4 DataPrep_MDG_FSD_E_MDG_0003_Email_Notifications_MaterialMaster.docx conversion started...\nS4 DataPrep_MDG_FSD_E_MDG_0003_Email_Notifications_MaterialMaster conversion ended...\nS4 DataPrep_MDG_FSD_E_MDG_0005_Enhancement_CustomUI_Material.docx conversion started...\nS4 DataPrep_MDG_FSD_E_MDG_0005_Enhancement_CustomUI_Material conversion ended...\nS4 DataPrep_MDG_FSD_E_MDG_0009_Default_Manufacturer_Role.docx conversion started...\nS4 DataPrep_MDG_FSD_E_MDG_0009_Default_Manufacturer_Role conversion ended...\nS4 DataPrep_MDG_FSD_E_MDG_0010_Material_From_Manufacturer.docx conversion started...\nS4 DataPrep_MDG_FSD_E_MDG_0010_Material_From_Manufacturer conversion ended...\nS4 DataPrep_MDG_FSD_E_MDG_0011_Enhancement_Create_Material_Change_Request_field validation.docx conversion started...\nS4 DataPrep_MDG_FSD_E_MDG_0011_Enhancement_Create_Material_Change_Request_field validation conversion ended...\nS4 DataPrep_MDG_FSD_E_MDG_0012_Enhancement for Security Role for Create Material and Supplier Process.docx conversion started...\nS4 DataPrep_MDG_FSD_E_MDG_0012_Enhancement for Security Role for Create Material and Supplier Process conversion ended...\nS4 DataPrep_MDG_FSD_W_MDG_0013_Routing_Material_Workflow.docx conversion started...\nS4 DataPrep_MDG_FSD_W_MDG_0013_Routing_Material_Workflow conversion ended...\nS4 Hana Key Design Decision - P2P SRM Decision.docx conversion started...\nS4 Hana Key Design Decision - P2P SRM Decision conversion ended...\nS4 Hana Key Design Decision System Outage Messages_.docx conversion started...\nS4 Hana Key Design Decision System Outage Messages_ conversion ended...\nS4 Hana Key Design Decision webGUI vs SAP GUI_UPDATED on 02-28-2022.docx conversion started...\nS4 Hana Key Design Decision webGUI vs SAP GUI_UPDATED on 02-28-2022 conversion ended...\nS4 HANA Single point of entry.docx conversion started...\nS4 HANA Single point of entry conversion ended...\nS4 KDD - Level of Tax Postings.docx conversion started...\nS4 KDD - Level of Tax Postings conversion ended...\nS4-KDD-002 - Position-Based Security.docx conversion started...\nS4-KDD-002 - Position-Based Security conversion ended...\nS4-KDD-003 - Security Standard Company Code Hierarchy.docx conversion started...\nS4-KDD-003 - Security Standard Company Code Hierarchy conversion ended...\nS4-KDD-004 - Security Business Roles.docx conversion started...\nS4-KDD-004 - Security Business Roles conversion ended...\nS4-KDD-061 - Less Restrictive Security Cube View.docx conversion started...\nS4-KDD-061 - Less Restrictive Security Cube View conversion ended...\nS4-KDD-072 - GRC and Role change Governance Model.docx conversion started...\nS4-KDD-072 - GRC and Role change Governance Model conversion ended...\nS4-KDD-087 - Task vs Job-Based Roles.docx conversion started...\nS4-KDD-087 - Task vs Job-Based Roles conversion ended...\nS4-KDD-088 - Enabler vs Derived Roles.docx conversion started...\nS4-KDD-088 - Enabler vs Derived Roles conversion ended...\nS4-KDD-089 - Global vs Local Display.docx conversion started...\nS4-KDD-089 - Global vs Local Display conversion ended...\nS4_DataPrep_FSD_E_MDG_0004_Create_HERS_Material_from_STUF_Material.docx conversion started...\nS4_DataPrep_FSD_E_MDG_0004_Create_HERS_Material_from_STUF_Material conversion ended...\nS4_DataPrep_FSD_E_MDG_0007_Enhancement to block  Unblock Supplier.docx conversion started...\nS4_DataPrep_FSD_E_MDG_0007_Enhancement to block  Unblock Supplier conversion ended...\nS4_DataPrep_MDG_FSD_E_MDG_0008_Email_Notification_Supplier.docx conversion started...\nS4_DataPrep_MDG_FSD_E_MDG_0008_Email_Notification_Supplier conversion ended...\nUser Experience Key Design Decision #59 S4 Launchpoint.docx conversion started...\nUser Experience Key Design Decision #59 S4 Launchpoint conversion ended...\n</div>",
       "datasetInfos": [],
       "metadata": {},
       "removedWidgets": [],
       "type": "html"
      }
     },
     "output_type": "display_data"
    },
    {
     "output_type": "display_data",
     "data": {
      "text/html": [
       "<style scoped>\n",
       "  .ansiout {\n",
       "    display: block;\n",
       "    unicode-bidi: embed;\n",
       "    white-space: pre-wrap;\n",
       "    word-wrap: break-word;\n",
       "    word-break: break-all;\n",
       "    font-family: \"Source Code Pro\", \"Menlo\", monospace;;\n",
       "    font-size: 13px;\n",
       "    color: #555;\n",
       "    margin-left: 4px;\n",
       "    line-height: 19px;\n",
       "  }\n",
       "</style>\n",
       "<div class=\"ansiout\"></div>"
      ]
     },
     "metadata": {
      "application/vnd.databricks.v1+output": {
       "addedWidgets": {},
       "arguments": {},
       "data": "<div class=\"ansiout\"></div>",
       "datasetInfos": [],
       "metadata": {},
       "removedWidgets": [],
       "type": "html"
      }
     },
     "output_type": "display_data"
    }
   ],
   "source": [
    "fsds = read_documents(zip_filename='FSD',\n",
    "                      zip_dir='/SAP_KG/',\n",
    "                      blacklist_docs=['PM_PM_TSD_I552_Notification Created Message.docx'])"
   ]
  },
  {
   "cell_type": "code",
   "execution_count": 0,
   "metadata": {
    "application/vnd.databricks.v1+cell": {
     "cellMetadata": {
      "byteLimit": 2048000,
      "rowLimit": 10000
     },
     "inputWidgets": {},
     "nuid": "af3a6462-cc17-4d5f-8616-2149c8410f9f",
     "showTitle": false,
     "title": ""
    }
   },
   "outputs": [
    {
     "output_type": "display_data",
     "data": {
      "text/html": [
       "<style scoped>\n",
       "  .ansiout {\n",
       "    display: block;\n",
       "    unicode-bidi: embed;\n",
       "    white-space: pre-wrap;\n",
       "    word-wrap: break-word;\n",
       "    word-break: break-all;\n",
       "    font-family: \"Source Code Pro\", \"Menlo\", monospace;;\n",
       "    font-size: 13px;\n",
       "    color: #555;\n",
       "    margin-left: 4px;\n",
       "    line-height: 19px;\n",
       "  }\n",
       "</style>\n",
       "<div class=\"ansiout\">Out[47]: Document(page_content=&#39;General\\n\\nRequest details\\n\\nRequest ID:             C381 Request Title:          C381 Asset Manager Facility Type/Component Type and CU Attributes Conversion Activity Profile No: System:                 WAM Business Process Team:  WAM/CM\\n\\nDocument Status\\n\\nDocument Status:        Status Key:    Status Key: X                  In Progress Draft Complete Approved\\n\\nCross-functional dependencies &amp; Application Impacts\\n\\nFunctional area    Systems impacted    Comments    Initial FIN SD LO MDM MM APO Cross Function\\n\\nChange history\\n\\nVersion    Date modified    Modified by    Description of change 08/25/2017       Ted Kranz      Document Created\\n\\nAssociated Process Design Document\\n\\nBusiness requirements\\n\\nRequirements description\\n\\nThis RICEFW is one of several PeopleSoft Project Number to SAP IO conversion documents. This document is focused on converting Project numbers to SAP IO numbers for Assets “In-Flight” in Asset Manager or WAM As-Built CU data.\\n\\nAssets “In-Flight” is defined as Facility, Components or CUs attributes that have a PeopleSoft project number and have not closed in PowerPlan.\\n\\nNOTE:  This conversion deals specifically with property (assets) not jobs (work requests).  The difference between static assets (assets at rest) and assets “in flight”:\\n\\nAssets don’t need a project/IO unless we are reporting install/retire activity to accounting.\\n\\nAccounting doesn’t care about assets at rest.\\xa0 So you can expect the majority of pipes to have no project.\\n\\nRequirements:\\n\\nReplace Asset Manager and WMIS Attribute with new accounting value (Replace Project Number with corresponding SAP Capital IO number).\\n\\nAssume SAP will provide number mapping.\\n\\nCreate an exception report to show which attributes are not converted because they are not on the SAP Master IO conversion list that is driving all WAM/CM conversions.\\n\\nWAM Business support would run the report of validation failures on the WO ID’s.  Report ID 615\\n\\nAsset Manager and WMIS Attribute names:\\n\\nFacility – GM_WO_ID\\n\\nComponent – SP_WO_ID\\n\\nBusiness driver\\n\\nAs part of the ERP integration project, the legacy TEG PeopleSoft and PowerPlan systems will be decommissioned.\\xa0 WAM interfaces and accounting structure will require modification to accommodate the new ERP SAP and legacy WEC PowerPlan approach and business processes.\\n\\nGeneral requirements\\n\\nRisks\\n\\nRisk 1  This only affects about 500-600 projects (the number of assets is not clear) that are in flight that contain assets that will have the incorrect accounting number.  These will fail when going to PowerPlan. Risk 2 Risk 3\\n\\nPriority\\n\\nCritical High      X, Cut over can occur without this conversion. Medium Low\\n\\nSoftware impact\\n\\nSoftware impacted  Software package WAM                Asset Manager and WMIS\\n\\nChange management\\n\\nConsideration 1\\n\\nConsideration 2\\n\\nConsideration 3\\n\\nAdditional comments\\n\\nComment 1  N/A\\n\\nComment 2\\n\\nComment 3\\n\\nRelated documents\\n\\nGlossary\\n\\nBusiness process flow\\n\\nN/A – This is a conversion FSD\\n\\nFunctional specification\\n\\nInterfaces\\n\\nGeneral interface information                                     General interface information Name of Interface:  This is a conversion not an interface         Name of Interface:  This is a conversion not an interface Functional Team: (    ) FIN\\t(   ) SD\\t(   ) LO                                                                   Functional Team: (    ) FIN\\t(   ) SD\\t(   ) LO (   ) MDM\\t(   ) MM\\t(X) WAM                                                                   \\t(   ) MDM\\t(   ) MM\\t(X) WAM (   ) APO\\t(   ) Cross Function                                                                   \\t(   ) APO\\t(   ) Cross Function Created by: Ted Kranz                                             Business Owner: Jon Peccarelli; Mapping Attachment:         (   X) No    (   ) Yes  -  Filename:  Mapping Attachment:         (   X) No    (   ) Yes  -  Filename: Sample Data Attachment:  (  X ) No    ( ) Yes  -  Filename:       Sample Data Attachment:  (  X ) No    ( ) Yes  -  Filename:\\n\\nMiddleware\\n\\nN/A\\n\\nDependencies / Prerequisites     Dependencies / Prerequisites N/A                              N/A Detailed description             Related documents N/A\\n\\nLegacy to SAP field requirements    Legacy to SAP field requirements    Legacy to SAP field requirements\\n\\nLegacy system / Field               SAP field                           Interface rules\\n\\nN/A\\n\\nTesting\\n\\nEnvironment /Configuration\\n\\nWAM ERP ST (System testing environment)\\n\\nData requirements\\n\\nIn order to run the conversion SAP must provide new IO numbers that replace the existing PeopleSoft Project numbers.\\n\\nTesting Requirements\\n\\nTest to ensure that Project Numbers are replaced with appropriate SAP IO numbers.\\n\\nFollow\\n\\n\\n\\nup required\\n\\nFollow up action item                                                                                                   Assigned to  Status Check with PowerPlan to determine how they process Asset Accounting when the interface does not send a Project Number.  Dann Determine business approach for handling Assets with “Null” Attributes values.                                          Dann&#39;, metadata={&#39;source&#39;: &#39;/SAP_KG/FSD/C381 Asset Manager Facility _Component Type and CU Attributes.txt&#39;})</div>"
      ]
     },
     "metadata": {
      "application/vnd.databricks.v1+output": {
       "addedWidgets": {},
       "arguments": {},
       "data": "<div class=\"ansiout\">Out[47]: Document(page_content=&#39;General\\n\\nRequest details\\n\\nRequest ID:             C381 Request Title:          C381 Asset Manager Facility Type/Component Type and CU Attributes Conversion Activity Profile No: System:                 WAM Business Process Team:  WAM/CM\\n\\nDocument Status\\n\\nDocument Status:        Status Key:    Status Key: X                  In Progress Draft Complete Approved\\n\\nCross-functional dependencies &amp; Application Impacts\\n\\nFunctional area    Systems impacted    Comments    Initial FIN SD LO MDM MM APO Cross Function\\n\\nChange history\\n\\nVersion    Date modified    Modified by    Description of change 08/25/2017       Ted Kranz      Document Created\\n\\nAssociated Process Design Document\\n\\nBusiness requirements\\n\\nRequirements description\\n\\nThis RICEFW is one of several PeopleSoft Project Number to SAP IO conversion documents. This document is focused on converting Project numbers to SAP IO numbers for Assets “In-Flight” in Asset Manager or WAM As-Built CU data.\\n\\nAssets “In-Flight” is defined as Facility, Components or CUs attributes that have a PeopleSoft project number and have not closed in PowerPlan.\\n\\nNOTE:  This conversion deals specifically with property (assets) not jobs (work requests).  The difference between static assets (assets at rest) and assets “in flight”:\\n\\nAssets don’t need a project/IO unless we are reporting install/retire activity to accounting.\\n\\nAccounting doesn’t care about assets at rest.\\xa0 So you can expect the majority of pipes to have no project.\\n\\nRequirements:\\n\\nReplace Asset Manager and WMIS Attribute with new accounting value (Replace Project Number with corresponding SAP Capital IO number).\\n\\nAssume SAP will provide number mapping.\\n\\nCreate an exception report to show which attributes are not converted because they are not on the SAP Master IO conversion list that is driving all WAM/CM conversions.\\n\\nWAM Business support would run the report of validation failures on the WO ID’s.  Report ID 615\\n\\nAsset Manager and WMIS Attribute names:\\n\\nFacility – GM_WO_ID\\n\\nComponent – SP_WO_ID\\n\\nBusiness driver\\n\\nAs part of the ERP integration project, the legacy TEG PeopleSoft and PowerPlan systems will be decommissioned.\\xa0 WAM interfaces and accounting structure will require modification to accommodate the new ERP SAP and legacy WEC PowerPlan approach and business processes.\\n\\nGeneral requirements\\n\\nRisks\\n\\nRisk 1  This only affects about 500-600 projects (the number of assets is not clear) that are in flight that contain assets that will have the incorrect accounting number.  These will fail when going to PowerPlan. Risk 2 Risk 3\\n\\nPriority\\n\\nCritical High      X, Cut over can occur without this conversion. Medium Low\\n\\nSoftware impact\\n\\nSoftware impacted  Software package WAM                Asset Manager and WMIS\\n\\nChange management\\n\\nConsideration 1\\n\\nConsideration 2\\n\\nConsideration 3\\n\\nAdditional comments\\n\\nComment 1  N/A\\n\\nComment 2\\n\\nComment 3\\n\\nRelated documents\\n\\nGlossary\\n\\nBusiness process flow\\n\\nN/A – This is a conversion FSD\\n\\nFunctional specification\\n\\nInterfaces\\n\\nGeneral interface information                                     General interface information Name of Interface:  This is a conversion not an interface         Name of Interface:  This is a conversion not an interface Functional Team: (    ) FIN\\t(   ) SD\\t(   ) LO                                                                   Functional Team: (    ) FIN\\t(   ) SD\\t(   ) LO (   ) MDM\\t(   ) MM\\t(X) WAM                                                                   \\t(   ) MDM\\t(   ) MM\\t(X) WAM (   ) APO\\t(   ) Cross Function                                                                   \\t(   ) APO\\t(   ) Cross Function Created by: Ted Kranz                                             Business Owner: Jon Peccarelli; Mapping Attachment:         (   X) No    (   ) Yes  -  Filename:  Mapping Attachment:         (   X) No    (   ) Yes  -  Filename: Sample Data Attachment:  (  X ) No    ( ) Yes  -  Filename:       Sample Data Attachment:  (  X ) No    ( ) Yes  -  Filename:\\n\\nMiddleware\\n\\nN/A\\n\\nDependencies / Prerequisites     Dependencies / Prerequisites N/A                              N/A Detailed description             Related documents N/A\\n\\nLegacy to SAP field requirements    Legacy to SAP field requirements    Legacy to SAP field requirements\\n\\nLegacy system / Field               SAP field                           Interface rules\\n\\nN/A\\n\\nTesting\\n\\nEnvironment /Configuration\\n\\nWAM ERP ST (System testing environment)\\n\\nData requirements\\n\\nIn order to run the conversion SAP must provide new IO numbers that replace the existing PeopleSoft Project numbers.\\n\\nTesting Requirements\\n\\nTest to ensure that Project Numbers are replaced with appropriate SAP IO numbers.\\n\\nFollow\\n\\n\\n\\nup required\\n\\nFollow up action item                                                                                                   Assigned to  Status Check with PowerPlan to determine how they process Asset Accounting when the interface does not send a Project Number.  Dann Determine business approach for handling Assets with “Null” Attributes values.                                          Dann&#39;, metadata={&#39;source&#39;: &#39;/SAP_KG/FSD/C381 Asset Manager Facility _Component Type and CU Attributes.txt&#39;})</div>",
       "datasetInfos": [],
       "metadata": {},
       "removedWidgets": [],
       "type": "html"
      }
     },
     "output_type": "display_data"
    }
   ],
   "source": [
    "fsds[0]"
   ]
  },
  {
   "cell_type": "code",
   "execution_count": 0,
   "metadata": {
    "application/vnd.databricks.v1+cell": {
     "cellMetadata": {
      "byteLimit": 2048000,
      "rowLimit": 10000
     },
     "inputWidgets": {},
     "nuid": "210057b0-ee45-44d1-a8af-43efd5a7f8f2",
     "showTitle": false,
     "title": ""
    }
   },
   "outputs": [
    {
     "output_type": "display_data",
     "data": {
      "text/html": [
       "<style scoped>\n",
       "  .ansiout {\n",
       "    display: block;\n",
       "    unicode-bidi: embed;\n",
       "    white-space: pre-wrap;\n",
       "    word-wrap: break-word;\n",
       "    word-break: break-all;\n",
       "    font-family: \"Source Code Pro\", \"Menlo\", monospace;;\n",
       "    font-size: 13px;\n",
       "    color: #555;\n",
       "    margin-left: 4px;\n",
       "    line-height: 19px;\n",
       "  }\n",
       "</style>\n",
       "<div class=\"ansiout\">Chunking\n",
       "</div>"
      ]
     },
     "metadata": {
      "application/vnd.databricks.v1+output": {
       "addedWidgets": {},
       "arguments": {},
       "data": "<div class=\"ansiout\">Chunking\n</div>",
       "datasetInfos": [],
       "metadata": {},
       "removedWidgets": [],
       "type": "html"
      }
     },
     "output_type": "display_data"
    }
   ],
   "source": [
    "fsds_chunked = chunk_documents(fsds, chunk_size=5000, chunk_overlap=1000, heading=True)"
   ]
  },
  {
   "cell_type": "code",
   "execution_count": 0,
   "metadata": {
    "application/vnd.databricks.v1+cell": {
     "cellMetadata": {
      "byteLimit": 2048000,
      "rowLimit": 10000
     },
     "inputWidgets": {},
     "nuid": "ded562f6-69f2-434e-aece-33aca654cab9",
     "showTitle": false,
     "title": ""
    }
   },
   "outputs": [
    {
     "output_type": "display_data",
     "data": {
      "text/html": [
       "<style scoped>\n",
       "  .ansiout {\n",
       "    display: block;\n",
       "    unicode-bidi: embed;\n",
       "    white-space: pre-wrap;\n",
       "    word-wrap: break-word;\n",
       "    word-break: break-all;\n",
       "    font-family: \"Source Code Pro\", \"Menlo\", monospace;;\n",
       "    font-size: 13px;\n",
       "    color: #555;\n",
       "    margin-left: 4px;\n",
       "    line-height: 19px;\n",
       "  }\n",
       "</style>\n",
       "<div class=\"ansiout\"></div>"
      ]
     },
     "metadata": {
      "application/vnd.databricks.v1+output": {
       "addedWidgets": {},
       "arguments": {},
       "data": "<div class=\"ansiout\"></div>",
       "datasetInfos": [],
       "metadata": {},
       "removedWidgets": [],
       "type": "html"
      }
     },
     "output_type": "display_data"
    }
   ],
   "source": [
    "# index_fsd_faiss = create_embedded_index(fsds_chunked,\n",
    "#                                         index_dir = '/tmp/SAP/',\n",
    "#                                         index_name = \"indexstore_FSD_OpenAI_v1_chunked.pkl\",\n",
    "#                                         embedding_type = 'OpenAI',\n",
    "#                                         index_type = 'FAISS',\n",
    "#                                         save_to_workbench = True)"
   ]
  },
  {
   "cell_type": "code",
   "execution_count": 0,
   "metadata": {
    "application/vnd.databricks.v1+cell": {
     "cellMetadata": {
      "byteLimit": 2048000,
      "rowLimit": 10000
     },
     "inputWidgets": {},
     "nuid": "e32b5f2c-a66a-4634-9690-51f4f4bd1680",
     "showTitle": false,
     "title": ""
    }
   },
   "outputs": [
    {
     "output_type": "display_data",
     "data": {
      "text/html": [
       "<style scoped>\n",
       "  .ansiout {\n",
       "    display: block;\n",
       "    unicode-bidi: embed;\n",
       "    white-space: pre-wrap;\n",
       "    word-wrap: break-word;\n",
       "    word-break: break-all;\n",
       "    font-family: \"Source Code Pro\", \"Menlo\", monospace;;\n",
       "    font-size: 13px;\n",
       "    color: #555;\n",
       "    margin-left: 4px;\n",
       "    line-height: 19px;\n",
       "  }\n",
       "</style>\n",
       "<div class=\"ansiout\"></div>"
      ]
     },
     "metadata": {
      "application/vnd.databricks.v1+output": {
       "addedWidgets": {},
       "arguments": {},
       "data": "<div class=\"ansiout\"></div>",
       "datasetInfos": [],
       "metadata": {},
       "removedWidgets": [],
       "type": "html"
      }
     },
     "output_type": "display_data"
    }
   ],
   "source": [
    "# index_fsd_whoosh = DocumentIndexWhoosh().from_documents(fsds_chunked, index_path_out=\"/tmp/SAP/index_fsd_whoosh\")"
   ]
  },
  {
   "cell_type": "code",
   "execution_count": 0,
   "metadata": {
    "application/vnd.databricks.v1+cell": {
     "cellMetadata": {
      "byteLimit": 2048000,
      "rowLimit": 10000
     },
     "inputWidgets": {},
     "nuid": "0a019ae4-9f47-4aef-a230-f98e9ceec439",
     "showTitle": false,
     "title": ""
    }
   },
   "outputs": [
    {
     "output_type": "display_data",
     "data": {
      "text/html": [
       "<style scoped>\n",
       "  .ansiout {\n",
       "    display: block;\n",
       "    unicode-bidi: embed;\n",
       "    white-space: pre-wrap;\n",
       "    word-wrap: break-word;\n",
       "    word-break: break-all;\n",
       "    font-family: \"Source Code Pro\", \"Menlo\", monospace;;\n",
       "    font-size: 13px;\n",
       "    color: #555;\n",
       "    margin-left: 4px;\n",
       "    line-height: 19px;\n",
       "  }\n",
       "</style>\n",
       "<div class=\"ansiout\"></div>"
      ]
     },
     "metadata": {
      "application/vnd.databricks.v1+output": {
       "addedWidgets": {},
       "arguments": {},
       "data": "<div class=\"ansiout\"></div>",
       "datasetInfos": [],
       "metadata": {},
       "removedWidgets": [],
       "type": "html"
      }
     },
     "output_type": "display_data"
    }
   ],
   "source": [
    "# index_fsd_combined = CombinedIndex(index_fsd_faiss, index_fsd_whoosh)"
   ]
  },
  {
   "cell_type": "markdown",
   "metadata": {
    "application/vnd.databricks.v1+cell": {
     "cellMetadata": {
      "byteLimit": 2048000,
      "rowLimit": 10000
     },
     "inputWidgets": {},
     "nuid": "dd220a21-dd2e-4f3c-9f0e-0d0937babfc5",
     "showTitle": false,
     "title": ""
    }
   },
   "source": [
    "### Generate indexes for BPDs"
   ]
  },
  {
   "cell_type": "code",
   "execution_count": 0,
   "metadata": {
    "application/vnd.databricks.v1+cell": {
     "cellMetadata": {
      "byteLimit": 2048000,
      "rowLimit": 10000
     },
     "inputWidgets": {},
     "nuid": "83c11bd4-595e-4f91-a20f-ca4ff42481f0",
     "showTitle": false,
     "title": ""
    }
   },
   "outputs": [
    {
     "output_type": "display_data",
     "data": {
      "text/html": [
       "<style scoped>\n",
       "  .ansiout {\n",
       "    display: block;\n",
       "    unicode-bidi: embed;\n",
       "    white-space: pre-wrap;\n",
       "    word-wrap: break-word;\n",
       "    word-break: break-all;\n",
       "    font-family: \"Source Code Pro\", \"Menlo\", monospace;;\n",
       "    font-size: 13px;\n",
       "    color: #555;\n",
       "    margin-left: 4px;\n",
       "    line-height: 19px;\n",
       "  }\n",
       "</style>\n",
       "<div class=\"ansiout\">Parsing\n",
       "26FSDSwithSummarizedText.xlsx\n",
       "26fsd_16k_Pipeline1_mix_approach_first7.xlsx\n",
       "26fsd_16k_Pipeline1_tests.xlsx\n",
       "26fsd_16k_Pipeline1_tests_mike.xlsx\n",
       "26fsd_16k_Pipeline2_good15.xlsx\n",
       "26fsd_16k_Pipeline2_good2.xlsx\n",
       "26fsd_16k_Pipeline2_good21.xlsx\n",
       "26fsd_16k_Pipeline2_great15.xlsx\n",
       "26fsd_16k_Pipeline2_tests.xlsx\n",
       "26fsd_16k_Pipeline2_tests_mike.xlsx\n",
       "26fsd_4-16k_Pipeline1.xlsx\n",
       "2ndFSDTestSet.xlsx\n",
       "2ndFSDTestSetV2.xlsx\n",
       "2ndFSDTestSetV3.xlsx\n",
       "2ndFSDTrainingSet.xlsx\n",
       "Award_Letter_Template.docx\n",
       "Award_Letter_Template2.docx\n",
       "Award_Letter_Translated.docx\n",
       "BANK STATEMENT RECONCILIATION.docx\n",
       "BPD.zip\n",
       "Bill Management.csv\n",
       "Budgetary Controls.csv\n",
       "CELA Case Data.xlsx\n",
       "CELA Workplace Investigation Summary - ABC-455-6789.docx\n",
       "CELA Workplace Investigation Summary - ABC-455-6789_1.docx\n",
       "CELA Workplace Investigation Summary - ABC-812-3541.docx\n",
       "CELA Workplace Investigation Summary - ABC-898-7514.docx\n",
       "Case Data.xlsx\n",
       "Cash Management.csv\n",
       "Codes_mapping.xlsx\n",
       "DNU_OGE_FSD_E_PA_002_IM Program $ to IM Program Position $.docx\n",
       "DNU_OGE_FSD_E_PA_003_IM Program Position $ to WBS $.docx\n",
       "Dominion.xlsx\n",
       "DominionV2.xlsx\n",
       "EASY_DATA_SET.xlsx\n",
       "FDD_Outputs_E_FIN_001.docx\n",
       "FDD_Outputs_E_FIN_002.docx\n",
       "FDD_Outputs_RICEFW_001.docx\n",
       "FSD.zip\n",
       "FSD_GPT_output_results.xlsx\n",
       "FSD_Temp_1.docx\n",
       "FSD_deflated_zip/\n",
       "FSD_req.zip\n",
       "General Ledger.csv\n",
       "HARD_DATA_SET.xlsx\n",
       "HCM_Group_Membership.csv\n",
       "LNTest1.docx\n",
       "Mapping Template.xlsx\n",
       "OGE_FSD_-E_FIN_001_Electronic BADI for mass reversals - automated based on rejections2.docx\n",
       "OGE_FSD_-E_FIN_001_Electronic BADI for mass reversals - automated based on rejections3.docx\n",
       "OGE_FSD_-E_FIN_001_Electronic BADI for mass reversals - automated based on rejections_2023-06-10_00_33_28.docx\n",
       "OGE_FSD_-E_FIN_001_Electronic BADI for mass reversals - automated based on rejections_2023-06-11_22_10_00.docx\n",
       "OGE_FSD_-E_FIN_001_Electronic BADI for mass reversals - automated based on rejections_2023-06-11_23_10_03.docx\n",
       "OGE_FSD_-E_FIN_001_Electronic BADI for mass reversals - automated based on rejections_2023-06-12_00_00_10.docx\n",
       "OGE_FSD_-E_FIN_001_Electronic BADI for mass reversals - automated based on rejections_2023-06-12_00_29_20.docx\n",
       "OGE_FSD_-E_FIN_001_Electronic BADI for mass reversals - automated based on rejections_2023-06-13_14_42_26.docx\n",
       "OGE_FSD_-E_FIN_001_Electronic BADI for mass reversals - automated based on rejections_2023-06-13_18_21_53.docx\n",
       "OGE_FSD_-E_FIN_001_Electronic BADI for mass reversals - automated based on rejections_2023-06-13_23_08_12.docx\n",
       "OGE_FSD_-E_FIN_001_Electronic BADI for mass reversals - automated based on rejections_2023-06-14_01_48_53.docx\n",
       "OGE_FSD_-E_FIN_001_Electronic BADI for mass reversals - automated based on rejections_2023-06-16_00_39_34.docx\n",
       "OGE_FSD_-E_FIN_001_Electronic BADI for mass reversals - automated based on rejections_2023-06-19_18_18_54.docx\n",
       "OGE_FSD_-E_FIN_002_Overhead Residual Clearing Program _2023-06-10_00_43_49.docx\n",
       "OGE_FSD_-E_FIN_002_Overhead Residual Clearing Program _2023-06-11_22_19_57.docx\n",
       "OGE_FSD_-E_FIN_002_Overhead Residual Clearing Program _2023-06-12_00_41_25.docx\n",
       "OGE_FSD_-E_FIN_002_Overhead Residual Clearing Program _2023-06-13_14_53_17.docx\n",
       "OGE_FSD_-E_FIN_002_Overhead Residual Clearing Program _2023-06-13_18_29_56.docx\n",
       "OGE_FSD_-E_FIN_002_Overhead Residual Clearing Program _2023-06-13_23_15_42.docx\n",
       "OGE_FSD_-E_FIN_002_Overhead Residual Clearing Program _2023-06-14_00_35_54.docx\n",
       "OGE_FSD_-E_FIN_002_Overhead Residual Clearing Program _2023-06-16_00_42_46.docx\n",
       "OGE_FSD_-E_FIN_002_Overhead Residual Clearing Program _2023-06-19_18_30_00.docx\n",
       "OGE_FSD_-E_PA_004_Ability to create Projects and WBS structure using a defined excel upload file. Transaction &#34;ZCOSTCOLL - Load Project System Cost Collectors&#34; and &#34;Program - ZPRSU_LOAD_COST_COLLECTORS&#34;_2023-06-21_03_31_30.docx\n",
       "OGE_FSD_-E_PA_004_Ability to create Projects and WBS structure using a defined excel upload file. Transaction &#34;ZCOSTCOLL - Load Project System Cost Collectors&#34; and &#34;Program - ZPRSU_LOAD_COST_COLLECTORS&#34;_2023-06-22_22_11_31.docx\n",
       "OGE_FSD_-E_PA_004_Ability to mass change the WBS master data via excel upload_2023-06-22_23_08_07.docx\n",
       "OGE_FSD_-E_WAM_PS_009_Enhancement to serach for assets from the asset hierarchy_2023-06-20_18_48_31.docx\n",
       "OGE_FSD_-E_WAM_PS_009_Enhancement to serach for assets from the asset hierarchy_2023-06-21_01_45_15.docx\n",
       "OGE_FSD_-E_WAM_PS_009_Enhancement to serach for assets from the asset hierarchy_2023-06-21_14_35_40.docx\n",
       "OGE_FSD_-E_WAM_PS_009_Enhancement to serach for assets from the asset hierarchy_2023-06-22_18_56_38.docx\n",
       "OGE_FSD_-E_WAM_PS_009_Enhancement to serach for assets from the asset hierarchy_2023-06-22_20_06_16.docx\n",
       "OGE_FSD_-E_WAM_PS_009_Enhancement to serach for assets from the asset hierarchy_2023-06-22_20_35_31.docx\n",
       "OGE_FSD_-E_WAM_PS_009_Enhancement to serach for assets from the asset hierarchy_2023-06-22_21_01_25.docx\n",
       "OGE_FSD_-E_WAM_PS_016_ZWCM - Work Clearance Mgmt3.docx\n",
       "OGE_FSD_-E_WAM_PS_016_ZWCM - Work Clearance Mgmt_2023-06-10_01_31_22.docx\n",
       "OGE_FSD_-E_WAM_PS_016_ZWCM - Work Clearance Mgmt_2023-06-12_01_34_20.docx\n",
       "OGE_FSD_-E_WAM_PS_016_ZWCM - Work Clearance Mgmt_2023-06-13_15_37_49.docx\n",
       "OGE_FSD_-E_WAM_PS_016_ZWCM - Work Clearance Mgmt_2023-06-13_19_20_59.docx\n",
       "OGE_FSD_-E_WAM_PS_016_ZWCM - Work Clearance Mgmt_2023-06-14_02_04_16.docx\n",
       "OGE_FSD_-E_WAM_PS_016_ZWCM - Work Clearance Mgmt_2023-06-16_01_02_11.docx\n",
       "OGE_FSD_-E_WAM_PS_017_ZH135-Supvsr SignOff - Payroll Aprvd Time_2023-06-10_01_42_38.docx\n",
       "OGE_FSD_-E_WAM_PS_017_ZH135-Supvsr SignOff - Payroll Aprvd Time_2023-06-12_01_48_21.docx\n",
       "OGE_FSD_-E_WAM_PS_017_ZH135-Supvsr SignOff - Payroll Aprvd Time_2023-06-13_15_47_41.docx\n",
       "OGE_FSD_-E_WAM_PS_017_ZH135-Supvsr SignOff - Payroll Aprvd Time_2023-06-13_19_40_08.docx\n",
       "OGE_FSD_-E_WAM_PS_017_ZH135-Supvsr SignOff - Payroll Aprvd Time_2023-06-14_02_25_18.docx\n",
       "OGE_FSD_-E_WAM_PS_017_ZH135-Supvsr SignOff - Payroll Aprvd Time_2023-06-16_01_11_19.docx\n",
       "OGE_FSD_-E_WAM_PS_019_Excel Extract for maintenance scheduling board_2023-06-21_02_45_38.docx\n",
       "OGE_FSD_-E_WAM_PS_019_Excel Extract for maintenance scheduling board_2023-06-21_17_17_43.docx\n",
       "OGE_FSD_-E_WAM_PS_019_Excel Extract for maintenance scheduling board_2023-06-22_21_45_16.docx\n",
       "OGE_FSD_-E_WAM_T&amp;D_005_Automated WBS Assignment to Work Order_2023-06-21_02_09_05.docx\n",
       "OGE_FSD_-E_WAM_T&amp;D_005_Automated WBS Assignment to Work Order_2023-06-21_16_44_55.docx\n",
       "OGE_FSD_-E_WAM_T&amp;D_005_Automated WBS Assignment to Work Order_2023-06-22_22_15_35.docx\n",
       "OGE_FSD_-E_WAM_T&amp;D_019_Work Order - Locked Estimate Costs_2023-06-21_02_22_32.docx\n",
       "OGE_FSD_-E_WAM_T&amp;D_019_Work Order - Locked Estimate Costs_2023-06-21_16_57_12.docx\n",
       "OGE_FSD_-E_WAM_T&amp;D_019_Work Order - Locked Estimate Costs_2023-06-22_21_26_31.docx\n",
       "OGE_FSD_-F_FIN_001_Check Form for Bank of Oklahoma 2.docx\n",
       "OGE_FSD_-F_FIN_001_Check Form for Bank of Oklahoma 3.docx\n",
       "OGE_FSD_-F_FIN_001_Check Form for Bank of Oklahoma _2023-06-10_00_54_16.docx\n",
       "OGE_FSD_-F_FIN_001_Check Form for Bank of Oklahoma _2023-06-12_00_52_51.docx\n",
       "OGE_FSD_-F_FIN_001_Check Form for Bank of Oklahoma _2023-06-12_15_22_03.docx\n",
       "OGE_FSD_-F_FIN_001_Check Form for Bank of Oklahoma _2023-06-12_16_03_45.docx\n",
       "OGE_FSD_-F_FIN_001_Check Form for Bank of Oklahoma _2023-06-13_14_06_04.docx\n",
       "OGE_FSD_-F_FIN_001_Check Form for Bank of Oklahoma _2023-06-13_15_02_23.docx\n",
       "OGE_FSD_-F_FIN_001_Check Form for Bank of Oklahoma _2023-06-13_18_43_41.docx\n",
       "OGE_FSD_-F_FIN_001_Check Form for Bank of Oklahoma _2023-06-14_00_45_59.docx\n",
       "OGE_FSD_-F_FIN_001_Check Form for Bank of Oklahoma _2023-06-16_00_44_51.docx\n",
       "OGE_FSD_-F_FIN_002_Vendor Remittance Form_2023-06-10_01_05_17.docx\n",
       "OGE_FSD_-F_FIN_002_Vendor Remittance Form_2023-06-12_02_53_30.docx\n",
       "OGE_FSD_-F_FIN_002_Vendor Remittance Form_2023-06-12_03_06_31.docx\n",
       "OGE_FSD_-F_FIN_002_Vendor Remittance Form_2023-06-12_03_15_05.docx\n",
       "OGE_FSD_-F_FIN_002_Vendor Remittance Form_2023-06-12_03_19_30.docx\n",
       "OGE_FSD_-F_FIN_002_Vendor Remittance Form_2023-06-12_03_38_50.docx\n",
       "OGE_FSD_-F_FIN_002_Vendor Remittance Form_2023-06-12_03_41_21.docx\n",
       "OGE_FSD_-F_FIN_002_Vendor Remittance Form_2023-06-12_14_44_20.docx\n",
       "OGE_FSD_-F_FIN_002_Vendor Remittance Form_2023-06-12_22_41_40.docx\n",
       "OGE_FSD_-F_FIN_002_Vendor Remittance Form_2023-06-13_15_12_01.docx\n",
       "OGE_FSD_-F_FIN_002_Vendor Remittance Form_2023-06-13_18_57_32.docx\n",
       "OGE_FSD_-F_FIN_002_Vendor Remittance Form_2023-06-13_21_49_38.docx\n",
       "OGE_FSD_-F_FIN_002_Vendor Remittance Form_2023-06-14_00_56_53.docx\n",
       "OGE_FSD_-F_FIN_002_Vendor Remittance Form_2023-06-16_00_46_58.docx\n",
       "OGE_FSD_-F_FIN_002_Vendor Remittance Form_2023-06-16_17_22_31.docx\n",
       "OGE_FSD_-W_FIN_001_Send notification to users who have Discounts coming due3.docx\n",
       "OGE_FSD_-W_FIN_001_Send notification to users who have Discounts coming due_2023-06-10_01_56_06.docx\n",
       "OGE_FSD_-W_FIN_001_Send notification to users who have Discounts coming due_2023-06-12_02_00_43.docx\n",
       "OGE_FSD_-W_FIN_001_Send notification to users who have Discounts coming due_2023-06-13_15_56_36.docx\n",
       "OGE_FSD_-W_FIN_001_Send notification to users who have Discounts coming due_2023-06-13_19_58_25.docx\n",
       "OGE_FSD_-W_FIN_001_Send notification to users who have Discounts coming due_2023-06-14_02_36_58.docx\n",
       "OGE_FSD_-W_FIN_001_Send notification to users who have Discounts coming due_2023-06-16_01_19_57.docx\n",
       "OGE_FSD_-W_SCM_001_PR Approval_2023-06-10_02_07_38.docx\n",
       "OGE_FSD_-W_SCM_001_PR Approval_2023-06-12_02_14_17.docx\n",
       "OGE_FSD_-W_SCM_001_PR Approval_2023-06-13_20_06_45.docx\n",
       "OGE_FSD_-W_SCM_001_PR Approval_2023-06-14_03_00_53.docx\n",
       "OGE_FSD_CNV-C_FIN_001_Bank Accounts.docx\n",
       "OGE_FSD_CNV-C_FIN_001_Bank Accounts1.docx\n",
       "OGE_FSD_CNV-C_FIN_001_Bank Accounts2.docx\n",
       "OGE_FSD_CNV-C_FIN_001_Bank Accounts3.docx\n",
       "OGE_FSD_CNV-C_FIN_001_Bank Accounts_2023-06-10_00_04_01.docx\n",
       "OGE_FSD_CNV-C_FIN_001_Bank Accounts_2023-06-10_00_16_27.docx\n",
       "OGE_FSD_CNV-C_FIN_001_Bank Accounts_2023-06-11_20_45_20.docx\n",
       "OGE_FSD_CNV-C_FIN_001_Bank Accounts_2023-06-11_20_57_28.docx\n",
       "OGE_FSD_CNV-C_FIN_001_Bank Accounts_2023-06-11_21_09_43.docx\n",
       "OGE_FSD_CNV-C_FIN_001_Bank Accounts_2023-06-11_21_23_57.docx\n",
       "OGE_FSD_CNV-C_FIN_001_Bank Accounts_2023-06-11_21_39_13.docx\n",
       "OGE_FSD_CNV-C_FIN_001_Bank Accounts_2023-06-11_21_53_49.docx\n",
       "OGE_FSD_CNV-C_FIN_001_Bank Accounts_2023-06-11_23_18_46.docx\n",
       "OGE_FSD_CNV-C_FIN_001_Bank Accounts_2023-06-12_00_11_59.docx\n",
       "OGE_FSD_CNV-C_FIN_001_Bank Accounts_2023-06-12_14_59_39.docx\n",
       "OGE_FSD_CNV-C_FIN_001_Bank Accounts_2023-06-12_15_41_00.docx\n",
       "OGE_FSD_CNV-C_FIN_001_Bank Accounts_2023-06-12_19_09_47.docx\n",
       "OGE_FSD_CNV-C_FIN_001_Bank Accounts_2023-06-12_21_07_42.docx\n",
       "OGE_FSD_CNV-C_FIN_001_Bank Accounts_2023-06-12_22_35_16.docx\n",
       "OGE_FSD_CNV-C_FIN_001_Bank Accounts_2023-06-13_13_49_02.docx\n",
       "OGE_FSD_CNV-C_FIN_001_Bank Accounts_2023-06-13_14_24_38.docx\n",
       "OGE_FSD_CNV-C_FIN_001_Bank Accounts_2023-06-13_18_05_44.docx\n",
       "OGE_FSD_CNV-C_FIN_001_Bank Accounts_2023-06-13_20_18_51.docx\n",
       "OGE_FSD_CNV-C_FIN_001_Bank Accounts_2023-06-13_21_37_15.docx\n",
       "OGE_FSD_CNV-C_FIN_001_Bank Accounts_2023-06-14_00_11_44.docx\n",
       "OGE_FSD_CNV-C_FIN_001_Bank Accounts_2023-06-15_22_33_05.docx\n",
       "OGE_FSD_CNV-C_FIN_001_Bank Accounts_2023-06-16_16_49_23.docx\n",
       "OGE_FSD_CNV-C_FIN_001_Bank Accounts_2023-06-16_17_14_56.docx\n",
       "OGE_FSD_CNV-C_FIN_001_Bank Accounts_2023-06-19_17_58_04.docx\n",
       "OGE_FSD_CNV-C_FIN_001_Bank Accounts_2023-06-30_01_46_54.docx\n",
       "OGE_FSD_CNV-C_FIN_001_Bank Accounts_2023-07-10_15_24_55.docx\n",
       "OGE_FSD_CNV-C_FIN_001_Bank Accounts_2023-07-10_20_58_51.docx\n",
       "OGE_FSD_CNV-C_FIN_001_Bank Accounts_2023-07-11_20_55_09.docx\n",
       "OGE_FSD_CNV-C_FIN_001_Bank Accounts_2023-10-11_19_26_27.docx\n",
       "OGE_FSD_CNV-C_FIN_001_Bank Accounts_2023-10-11_21_09_57.docx\n",
       "OGE_FSD_CNV-C_FIN_001_Bank Accounts_x.docx\n",
       "OGE_FSD_CNV-C_FIN_002_Activity Types_2023-06-10_00_23_14.docx\n",
       "OGE_FSD_CNV-C_FIN_002_Activity Types_2023-06-11_22_00_12.docx\n",
       "OGE_FSD_CNV-C_FIN_002_Activity Types_2023-06-11_23_25_16.docx\n",
       "OGE_FSD_CNV-C_FIN_002_Activity Types_2023-06-12_00_18_08.docx\n",
       "OGE_FSD_CNV-C_FIN_002_Activity Types_2023-06-12_15_08_18.docx\n",
       "OGE_FSD_CNV-C_FIN_002_Activity Types_2023-06-12_15_49_33.docx\n",
       "OGE_FSD_CNV-C_FIN_002_Activity Types_2023-06-13_13_56_40.docx\n",
       "OGE_FSD_CNV-C_FIN_002_Activity Types_2023-06-13_14_32_57.docx\n",
       "OGE_FSD_CNV-C_FIN_002_Activity Types_2023-06-13_18_13_12.docx\n",
       "OGE_FSD_CNV-C_FIN_002_Activity Types_2023-06-13_22_54_21.docx\n",
       "OGE_FSD_CNV-C_FIN_002_Activity Types_2023-06-14_00_19_06.docx\n",
       "OGE_FSD_CNV-C_FIN_002_Activity Types_2023-06-15_22_39_45.docx\n",
       "OGE_FSD_CNV-C_FIN_002_Activity Types_2023-06-19_18_07_07.docx\n",
       "OGE_FSD_CNV-C_FIN_002_Activity Types_2023-06-30_02_00_12.docx\n",
       "OGE_FSD_CNV-C_FIN_002_Activity Types_2023-07-10_21_11_22.docx\n",
       "OGE_FSD_CNV-C_FIN_002_Activity Types_2023-10-11_19_09_20.docx\n",
       "OGE_FSD_CNV-C_FIN_003_Ability to convert uncleared cash at time in S4._2023-06-30_02_12_34.docx\n",
       "OGE_FSD_CNV-C_FIN_006_Assessments_2023-06-30_03_09_53.docx\n",
       "OGE_FSD_CNV-C_FIN_009_Conversion of Outstanding Check Register and linkage to converted payment documents in GL OI conversion_2023-06-30_04_35_37.docx\n",
       "OGE_FSD_CNV-F_FIN_001_Check Form for Bank of Oklahoma.docx\n",
       "OGE_FSD_IN-E_SCM_029_Expeditor Notes Field3.docx\n",
       "OGE_FSD_IN-E_SCM_029_Expeditor Notes Field_2023-06-09_22_44_09.docx\n",
       "OGE_FSD_IN-E_SCM_029_Expeditor Notes Field_2023-06-09_23_35_57.docx\n",
       "OGE_FSD_IN-E_SCM_029_Expeditor Notes Field_2023-06-10_01_12_41.docx\n",
       "OGE_FSD_IN-E_SCM_029_Expeditor Notes Field_2023-06-12_01_12_42.docx\n",
       "OGE_FSD_IN-E_SCM_029_Expeditor Notes Field_2023-06-13_15_20_51.docx\n",
       "OGE_FSD_IN-E_SCM_029_Expeditor Notes Field_2023-06-13_19_04_57.docx\n",
       "OGE_FSD_IN-E_SCM_029_Expeditor Notes Field_2023-06-14_01_04_44.docx\n",
       "OGE_FSD_IN-E_SCM_029_Expeditor Notes Field_2023-06-16_00_53_18.docx\n",
       "OGE_FSD_IN-E_SCM_029_Expeditor Notes Field_2023-10-11_18_51_38.docx\n",
       "OGE_FSD_IN-E_SCM_029_Expeditor Notes Field_2023-10-11_21_18_23.docx\n",
       "OGE_FSD_IN-I_FIN_001_Ability to send Positive Pay file to Bank of OK for check details._2023-06-10_01_21_08.docx\n",
       "OGE_FSD_IN-I_FIN_001_Ability to send Positive Pay file to Bank of OK for check details._2023-06-12_01_21_38.docx\n",
       "OGE_FSD_IN-I_FIN_001_Ability to send Positive Pay file to Bank of OK for check details._2023-06-12_22_48_28.docx\n",
       "OGE_FSD_IN-I_FIN_001_Ability to send Positive Pay file to Bank of OK for check details._2023-06-13_15_28_23.docx\n",
       "OGE_FSD_IN-I_FIN_001_Ability to send Positive Pay file to Bank of OK for check details._2023-06-13_19_12_23.docx\n",
       "OGE_FSD_IN-I_FIN_001_Ability to send Positive Pay file to Bank of OK for check details._2023-06-13_22_41_45.docx\n",
       "OGE_FSD_IN-I_FIN_001_Ability to send Positive Pay file to Bank of OK for check details._2023-06-14_01_13_32.docx\n",
       "OGE_FSD_IN-I_FIN_001_Ability to send Positive Pay file to Bank of OK for check details._2023-06-16_01_00_22.docx\n",
       "OGE_FSD_IN-I_FIN_001_Ability to send Positive Pay file to Bank of OK for check details._2023-06-16_17_29_20.docx\n",
       "OGE_FSD_IN-I_FIN_001_Ability to send Positive Pay file to Bank of OK for check details._2023-10-11_14_26_00.docx\n",
       "OGE_FSD_IN-I_FIN_001_Ability to send Positive Pay file to Bank of OK for check details._2023-10-11_15_24_10.docx\n",
       "OGE_FSD_IN-I_FIN_001_Ability to send Positive Pay file to Bank of OK for check details._2023-10-11_15_44_53.docx\n",
       "OGE_FSD_IN-I_FIN_001_Ability to send Positive Pay file to Bank of OK for check details._2023-10-11_18_40_45.docx\n",
       "OGE_FSD_IN-I_FIN_001_Ability to send Positive Pay file to Bank of OK for check details._2023-10-11_19_43_15.docx\n",
       "OGE_FSD_IN-I_PA_007_SAP Batch Retrieval – this job currently runs monthly (6th day of month) and pulls Actuals by WBS_2023-06-21_13_43_01.docx\n",
       "OGE_FSD_IN-I_PA_007_SAP Batch Retrieval – this job currently runs monthly (6th day of month) and pulls Actuals by WBS_2023-06-22_21_52_15.docx\n",
       "OGE_FSD_IN-I_PA_007_SAP Batch Retrieval – this job currently runs monthly (6th day of month) and pulls Actuals by WBS_2023-06-23_23_22_13.docx\n",
       "OGE_FSD_IN-I_PA_007_SAP Batch Retrieval – this job currently runs monthly (6th day of month) and pulls Actuals by WBS_2023-07-13_23_32_39.docx\n",
       "OGE_FSD_IN-I_PA_007_SAP Batch Retrieval – this job currently runs monthly (6th day of month) and pulls Actuals by WBS_2023-07-14_04_58_33.docx\n",
       "OGE_FSD_IN-I_PA_008_Actual $s and Commitments from SAP to EcoSys_2023-08-04_21_47_47.docx\n",
       "OGE_FSD_IN-I_PA_008_Send actual cost (CJI3) and commitment data (CJI5) from S4 to EcoSys by WBS_2023-06-21_03_21_47.docx\n",
       "OGE_FSD_IN-I_PA_008_Send actual cost (CJI3) and commitment data (CJI5) from S4 to EcoSys by WBS_2023-06-22_21_59_26.docx\n",
       "OGE_FSD_IN-I_PA_008_Send actual cost (CJI3) and commitment data (CJI5) from S4 to EcoSys by WBS_2023-06-23_22_50_24.docx\n",
       "OGE_FSD_IN-I_PA_008_Send actual cost (CJI3) and commitment data (CJI5) from S4 to EcoSys by WBS_2023-07-13_23_45_16.docx\n",
       "OGE_FSD_IN-I_PA_008_Send actual cost (CJI3) and commitment data (CJI5) from S4 to EcoSys by WBS_2023-07-14_05_11_10.docx\n",
       "OGE_FSD_IN-I_SCM_007_Interface from SAP to Wesco System (Daily Files)_2023-08-04_17_26_17.docx\n",
       "OGE_FSD_IN-I_WAM_PS_015_Pull in running hours from SCADA. Ability to pull in running hours from SCADA to be able to perform counter based maintenance_2023-08-04_14_49_49.docx\n",
       "OGE_FSD_IN-I_WAM_T&amp;D_007_SAP Integration with GIS - Asset Synchronization_2023-08-04_15_14_05.docx\n",
       "OGE_FSD_IN-I_WAM_T&amp;D_012_ArcGIS Online Inspection Results to create SAP Measurement Results_2023-06-23_20_25_38.docx\n",
       "OGE_FSD_IN-I_WAM_T&amp;D_012_ArcGIS Online Inspection Results to create SAP Measurement Results_2023-06-23_20_42_31.docx\n",
       "OGE_FSD_IN-I_WAM_T&amp;D_012_ArcGIS Online Inspection Results to create SAP Measurement Results_2023-07-13_22_56_15.docx\n",
       "OGE_FSD_IN-I_WAM_T&amp;D_012_ArcGIS Online Inspection Results to create SAP Measurement Results_2023-07-14_16_15_04.docx\n",
       "OGE_FSD_IN-I_WAM_T&amp;D_012_ArcGIS Online Inspection Results to create SAP Measurement Results_2023-07-14_21_11_30.docx\n",
       "OGE_FSD_IN-I_WAM_T&amp;D_012_ArcGIS Online Inspection Results to create SAP Measurement Results_2023-07-18_00_12_07.docx\n",
       "OGE_FSD_IN-I_WAM_T&amp;D_012_ArcGIS Online Inspection Results to create SAP Measurement Results_2023-07-18_13_11_26.docx\n",
       "OGE_FSD_IN-I_WAM_T&amp;D_012_ArcGIS Online Inspection Results to create SAP Measurement Results_2023-07-18_15_56_13.docx\n",
       "OGE_FSD_IN-I_WAM_T&amp;D_012_ArcGIS Online Inspection Results to create SAP Measurement Results_2023-07-18_22_32_03.docx\n",
       "OGE_FSD_IN-I_WAM_T&amp;D_012_T&amp;D Integration - ArcGIS Online Inspection Results to create SAP Measurement Results_2023-06-21_02_30_53.docx\n",
       "OGE_FSD_IN-I_WAM_T&amp;D_012_T&amp;D Integration - ArcGIS Online Inspection Results to create SAP Measurement Results_2023-06-21_17_05_45.docx\n",
       "OGE_FSD_IN-I_WAM_T&amp;D_012_T&amp;D Integration - ArcGIS Online Inspection Results to create SAP Measurement Results_2023-06-22_21_34_00.docx\n",
       "OGE_FSD_IN-I_WAM_T&amp;D_012_T&amp;D Integration - ArcGIS Online Inspection Results to create SAP Measurement Results_2023-08-04_15_33_15.docx\n",
       "OGE_FSD_IN-I_WAM_T&amp;D_012_T&amp;D Integration - ArcGIS Online Inspection Results to create SAP Measurement Results_2023-09-22_13_35_13.docx\n",
       "OGE_FSD_IN-I_WAM_T&amp;D_012_T&amp;D Integration - ArcGIS Online Inspection Results to create SAP Measurement Results_2023-10-03_21_49_48.docx\n",
       "OGE_FSD_IN-I_WAM_T&amp;D_012_T&amp;D Integration - ArcGIS Online Inspection Results to create SAP Measurement Results_2023-10-09_21_03_23.docx\n",
       "OGE_FSD_IN-I_WAM_T&amp;D_012_T&amp;D Integration - ArcGIS Online Inspection Results to create SAP Measurement Results_2023-10-09_22_52_51.docx\n",
       "OGE_FSD_IN-I_WAM_T&amp;D_012_T&amp;D Integration - ArcGIS Online Inspection Results to create SAP Measurement Results_2023-10-11_03_57_30.docx\n",
       "OGE_FSD_IN-I_WAM_T&amp;D_012_T&amp;D Integration - ArcGIS Online Inspection Results to create SAP Measurement Results_2023-10-11_04_42_36.docx\n",
       "OGE_FSD_IN-I_WAM_T&amp;D_012_T&amp;D Integration - ArcGIS Online Inspection Results to create SAP Measurement Results_2023-10-11_13_41_32.docx\n",
       "OGE_FSD_IN-I_WAM_T&amp;D_014_T&amp;D Integration - ArcGIS OnlineNon Engineered Repair Results to create SAP Measurement Results_2023-07-14_16_27_44.docx\n",
       "OGE_FSD_IN-I_WAM_T&amp;D_014_T&amp;D Integration - ArcGIS OnlineNon Engineered Repair Results to create SAP Measurement Results_2023-07-18_13_24_52.docx\n",
       "OGE_FSD_IN-I_WAM_T&amp;D_014_T&amp;D Integration - ArcGIS OnlineNon Engineered Repair Results to create SAP Measurement Results_2023-07-18_16_10_01.docx\n",
       "OGE_FSD_IN-I_WAM_T&amp;D_014_T&amp;D Integration - ArcGIS OnlineNon Engineered Repair Results to create SAP Measurement Results_2023-07-19_02_06_26.docx\n",
       "OGE_FSD_IN-I_WAM_T&amp;D_014_T&amp;D Integration - ArcGIS OnlineNon Engineered Repair Results to create SAP Measurement Results_2023-08-04_15_51_42.docx\n",
       "OGE_FSD_IN-I_WAM_T&amp;D_015_MyRowKeeper to SAP Asset Synchronization_2023-08-04_21_34_15.docx\n",
       "OGE_FSD_IN-I_WAM_T&amp;D_016_MyRowKeeper to SAP - Vegetation Maintenance Results_2023-06-23_20_49_54.docx\n",
       "OGE_FSD_IN-I_WAM_T&amp;D_016_MyRowKeeper to SAP - Vegetation Maintenance Results_2023-07-14_04_34_38.docx\n",
       "OGE_FSD_IN-I_WAM_T&amp;D_016_MyRowKeeper to SAP - Vegetation Maintenance Results_2023-07-14_17_29_39.docx\n",
       "OGE_FSD_IN-I_WAM_T&amp;D_016_MyRowKeeper to SAP - Vegetation Maintenance Results_2023-07-18_16_34_42.docx\n",
       "OGE_FSD_IN-I_WAM_T&amp;D_016_MyRowKeeper to SAP - Vegetation Maintenance Results_2023-07-19_02_34_24.docx\n",
       "OGE_FSD_IN-I_WAM_T&amp;D_016_MyRowKeeper to SAP - Vegetation Maintenance Results_2023-08-04_16_17_56.docx\n",
       "OGE_FSD_IN-I_WAM_T&amp;D_025_ArcGIS Online Maintenance Execution Notes,Status,Progress to update Execution Dashboard_2023-07-14_17_39_51.docx\n",
       "OGE_FSD_IN-I_WAM_T&amp;D_025_ArcGIS Online Maintenance Execution Notes,Status,Progress to update Execution Dashboard_2023-07-18_17_29_17.docx\n",
       "OGE_FSD_IN-I_WAM_T&amp;D_025_T&amp;D Integration - ArcGIS Online Maintenance Execution Notes,Status,Progress to update Execution Dashboard_2023-08-04_22_07_16.docx\n",
       "OGE_FSD_NH-E_FIN_001_Electronic BADI for mass reversals - automated based on rejections_2023-10-11_21_02_40.docx\n",
       "OGE_FSD_NH-E_FIN_002_Overhead Residual Clearing Program _2023-10-11_20_55_16.docx\n",
       "OGE_FSD_NH-E_PA_002_IM Program $ to IM Program Position $_2023-07-13_15_43_34.docx\n",
       "OGE_FSD_NH-E_PA_002_IM Program $ to IM Program Position $_2023-07-14_00_18_29.docx\n",
       "OGE_FSD_NH-E_PA_002_IM Program $ to IM Program Position $_2023-07-14_05_32_46.docx\n",
       "OGE_FSD_NH-E_PA_002_IM Program $ to IM Program Position $_2023-07-20_14_13_45.docx\n",
       "OGE_FSD_NH-E_PA_002_IM Program $ to IM Program Position $_2023-07-20_14_28_03.docx\n",
       "OGE_FSD_NH-E_PA_002_IM Program $ to IM Program Position $_2023-07-20_15_02_38.docx\n",
       "OGE_FSD_NH-E_PA_002_IM Program $ to IM Program Position $_2023-07-20_15_33_40.docx\n",
       "OGE_FSD_NH-E_PA_002_IM Program $ to IM Program Position $_2023-07-20_16_43_27.docx\n",
       "OGE_FSD_NH-E_PA_002_IM Program $ to IM Program Position $_2023-08-03_20_54_19.docx\n",
       "OGE_FSD_NH-E_PA_002_IM Program $ to IM Program Position $_2023-08-03_22_19_40.docx\n",
       "OGE_FSD_NH-E_PA_002_IM Program $ to IM Program Position $_2023-08-03_22_47_44.docx\n",
       "OGE_FSD_NH-E_PA_003_IM Program Position $ to WBS $_2023-07-13_15_53_14.docx\n",
       "OGE_FSD_NH-E_PA_003_IM Program Position $ to WBS $_2023-07-14_00_29_46.docx\n",
       "OGE_FSD_NH-E_PA_003_IM Program Position $ to WBS $_2023-07-14_05_41_21.docx\n",
       "OGE_FSD_NH-E_PA_003_IM Program Position $ to WBS $_2023-07-20_13_54_23.docx\n",
       "OGE_FSD_NH-E_PA_003_IM Program Position $ to WBS $_2023-07-20_14_41_43.docx\n",
       "OGE_FSD_NH-E_PA_003_IM Program Position $ to WBS $_2023-07-20_14_47_03.docx\n",
       "OGE_FSD_NH-E_PA_003_IM Program Position $ to WBS $_2023-07-20_15_16_36.docx\n",
       "OGE_FSD_NH-E_PA_003_IM Program Position $ to WBS $_2023-07-20_16_04_26.docx\n",
       "OGE_FSD_NH-E_PA_003_IM Program Position $ to WBS $_2023-07-20_17_06_39.docx\n",
       "OGE_FSD_NH-E_PA_003_IM Program Position $ to WBS $_2023-08-02_15_58_55.docx\n",
       "OGE_FSD_NH-E_PA_003_IM Program Position $ to WBS $_2023-08-03_21_26_27.docx\n",
       "OGE_FSD_NH-E_PA_003_IM Program Position $ to WBS $_2023-08-03_22_32_30.docx\n",
       "OGE_FSD_NH-E_PA_003_IM Program Position $ to WBS $_2023-08-03_23_03_26.docx\n",
       "OGE_FSD_NH-E_PA_004_Ability to create Projects and WBS structure using a defined excel upload file. Transaction &#34;ZCOSTCOLL - Load Project System Cost Collectors&#34; and &#34;Program - ZPRSU_LOAD_COST_COLLECTORS&#34;_2023-06-23_22_56_56.docx\n",
       "OGE_FSD_NH-E_PA_004_Ability to create Projects and WBS structure using a defined excel upload file_2023-06-24_03_37_08.docx\n",
       "OGE_FSD_NH-E_PA_007_Ability to mass change the WBS master data via excel upload_2023-06-23_23_03_32.docx\n",
       "OGE_FSD_NH-E_PA_007_Ability to mass change the WBS master data via excel upload_2023-07-14_00_08_06.docx\n",
       "OGE_FSD_NH-E_PA_012_PM to PS - WBS Status_2023-08-04_21_40_43.docx\n",
       "OGE_FSD_NH-E_SCM_029_Ability to automatically calculate system suggested supplier lead time_2023-10-11_18_47_58.docx\n",
       "OGE_FSD_NH-E_SCM_029_Ability to automatically calculate system suggested supplier lead time_2023-10-11_21_14_44.docx\n",
       "OGE_FSD_NH-E_SCM_044_Cancel backorder , outbound delivery once requirement has been met_2023-08-04_22_07_18.docx\n",
       "OGE_FSD_NH-E_WAM_PS_009_Enhancement to serach for assets from the asset hierarchy_2023-06-23_22_05_08.docx\n",
       "OGE_FSD_NH-E_WAM_PS_009_Enhancement to serach for assets from the asset hierarchy_2023-06-28_16_04_10.docx\n",
       "OGE_FSD_NH-E_WAM_PS_009_Enhancement to serach for assets from the asset hierarchy_2023-07-13_22_33_22.docx\n",
       "OGE_FSD_NH-E_WAM_PS_009_Enhancement to serach for assets from the asset hierarchy_2023-07-14_03_28_30.docx\n",
       "OGE_FSD_NH-E_WAM_PS_019_Excel Extract for maintenance scheduling board_2023-06-23_22_35_07.docx\n",
       "OGE_FSD_NH-E_WAM_PS_019_Excel Extract for maintenance scheduling board_2023-07-13_23_14_08.docx\n",
       "OGE_FSD_NH-E_WAM_PS_019_Excel Extract for maintenance scheduling board_2023-07-14_04_46_18.docx\n",
       "OGE_FSD_NH-E_WAM_T&amp;D_005_Automated WBS Assignment to Work Order_2023-06-23_22_17_37.docx\n",
       "OGE_FSD_NH-E_WAM_T&amp;D_005_Automated WBS Assignment to Work Order_2023-06-28_16_17_26.docx\n",
       "OGE_FSD_NH-E_WAM_T&amp;D_005_Automated WBS Assignment to Work Order_2023-07-13_22_43_37.docx\n",
       "OGE_FSD_NH-E_WAM_T&amp;D_018_Work Order - Enhancement Tab - Settlement Rule Project % Updates Upon WO Release_2023-07-14_15_37_59.docx\n",
       "OGE_FSD_NH-E_WAM_T&amp;D_018_Work Order - Enhancement Tab - Settlement Rule Project % Updates Upon WO Release_2023-07-14_20_59_15.docx\n",
       "OGE_FSD_NH-E_WAM_T&amp;D_018_Work Order - Enhancement Tab - Settlement Rule Project % Updates Upon WO Release_2023-07-17_23_58_50.docx\n",
       "OGE_FSD_NH-E_WAM_T&amp;D_018_Work Order - Enhancement Tab - Settlement Rule Project % Updates Upon WO Release_2023-07-18_01_41_17.docx\n",
       "OGE_FSD_NH-E_WAM_T&amp;D_018_Work Order - Enhancement Tab - Settlement Rule Project % Updates Upon WO Release_2023-07-18_02_27_13.docx\n",
       "OGE_FSD_NH-E_WAM_T&amp;D_018_Work Order - Enhancement Tab - Settlement Rule Project % Updates Upon WO Release_2023-07-18_15_43_07.docx\n",
       "OGE_FSD_NH-E_WAM_T&amp;D_018_Work Order - Enhancement Tab - Settlement Rule Project % Updates Upon WO Release_2023-07-18_21_36_10.docx\n",
       "OGE_FSD_NH-E_WAM_T&amp;D_018_Work Order - Enhancement Tab - Settlement Rule Project % Updates Upon WO Release_2023-07-18_22_18_50.docx\n",
       "OGE_FSD_NH-E_WAM_T&amp;D_019_Work Order - Locked Estimate Costs_2023-06-23_22_26_32.docx\n",
       "OGE_FSD_NH-E_WAM_T&amp;D_019_Work Order - Locked Estimate Costs_2023-06-28_16_25_26.docx\n",
       "OGE_FSD_NH-E_WAM_T&amp;D_019_Work Order - Locked Estimate Costs_2023-07-14_04_04_02.docx\n",
       "OGE_FSD_NH-E_WAM_TD_027_Automate meter set order from construction work_2023-06-23_21_07_01.docx\n",
       "OGE_FSD_NH-E_WAM_TD_027_Automate meter set order from construction work_2023-07-12_17_28_26.docx\n",
       "OGE_FSD_NH-E_WAM_TD_027_Automate meter set order from construction work_2023-07-12_17_56_33.docx\n",
       "OGE_FSD_NH-E_WAM_TD_027_Automate meter set order from construction work_2023-07-12_20_01_03.docx\n",
       "OGE_FSD_NH-E_WAM_TD_027_Automate meter set order from construction work_2023-07-12_20_05_43.docx\n",
       "OGE_FSD_NH-E_WAM_TD_027_Automate meter set order from construction work_2023-07-12_21_28_25.docx\n",
       "OGE_FSD_NH-E_WAM_TD_027_Automate meter set order from construction work_2023-07-14_05_23_48.docx\n",
       "OGE_FSD_RM-F_FIN_001_Check Form for Bank of Oklahoma _2023-10-11_20_20_09.docx\n",
       "OGE_FSD_RM-F_FIN_002_Vendor Remittance Form_2023-10-11_20_16_46.docx\n",
       "OGE_FSD_RM-F_WAM_T&amp;D_002_Customer Payment Quote for CIAC Billing_2023-08-07_14_21_47.docx\n",
       "OGE_FSD_RM-F_WAM_T&amp;D_002_Customer Payment Quote for CIAC Billing_2023-08-07_15_14_45.docx\n",
       "OGE_FSD_RM-F_WAM_T&amp;D_002_Customer Payment Quote for CIAC Billing_2023-08-07_16_06_55.docx\n",
       "OGE_FSD_RM-F_WAM_T&amp;D_002_Customer Payment Quote for CIAC Billing_2023-09-21_17_09_32.docx\n",
       "OGE_FSD_RM-F_WAM_T&amp;D_002_Customer Payment Quote for CIAC Billing_2023-09-21_17_19_35.docx\n",
       "OGE_FSD_RPT-E_WAM_PS_016_ZWCM - Work Clearance Mgmt_2023-10-11_20_48_19.docx\n",
       "OGE_FSD_RPT-E_WAM_PS_017_ZH135-Supvsr SignOff - Payroll Aprvd Time_2023-10-11_20_43_26.docx\n",
       "OGE_FSD_RPT-R_WAM_T&amp;D_003_Cycle Time Reporting_2023-06-23_21_00_50.docx\n",
       "OGE_FSD_RPT-R_WAM_T&amp;D_003_Cycle Time Reporting_2023-07-14_16_49_16.docx\n",
       "OGE_FSD_RPT-R_WAM_T&amp;D_003_Cycle Time Reporting_2023-07-18_14_02_41.docx\n",
       "OGE_FSD_RPT-R_WAM_T&amp;D_003_Cycle Time Reporting_2023-07-18_16_50_55.docx\n",
       "OGE_FSD_RPT-R_WAM_T&amp;D_003_Cycle Time Reporting_2023-07-19_02_49_21.docx\n",
       "OGE_FSD_WKF-W_FIN_001_Send notification to users who have Discounts coming due_2023-10-11_20_13_42.docx\n",
       "OGE_FSD_WKF-W_SCM_001_PR Approval_2023-10-11_20_00_59.docx\n",
       "OGE_Functional Specification Document Template__Approved.docx\n",
       "OGE_Functional Specification Document_ENH Template__Approved.docx\n",
       "OGE_Functional Specification Document_FRM Template__Approved.docx\n",
       "OGE_Functional Specification Document_RPT Template__Approved.docx\n",
       "OGE_Functional Specification Document_WKF Template__Approved.docx\n",
       "OGE_Functional Specification_Document_CNV_Template__Approved.docx\n",
       "OGE_Functional Specification_Document_INT_Template__Approved.docx\n",
       "OneDrive_1_7-28-2023.zip\n",
       "OneDrive_1_7-29-2023.zip\n",
       "OneDrive_2023-09-15.zip\n",
       "Opportunity Product Line Analysis.csv\n",
       "RD_secondsetofFSDs.zip\n",
       "ReportQuestionnaire_Aug_15_ModulesAddedV1.csv\n",
       "ReportQuestionnaire_Aug_15_ModulesAddedV2.csv\n",
       "ReportQuestionnaire_Jul_31.csv\n",
       "Repository-20230731T135139Z-001.zip\n",
       "Repository-20230731T135139Z-001_deflated_zip/\n",
       "S4 DataPrep_MDG_FSD_ I_MDG_0014- Interface from GEP to MDG for Supplier creation_.docx\n",
       "S4 DataPrep_MDG_FSD_E_MDG_0003_Email_Notifications_MaterialMaster.docx\n",
       "S4_Core_BPD_PA_Assets.docx_image1.png\n",
       "S4_Core_BPD_SCM_Supply_Chain_Master_Data.docx_image2.png\n",
       "S4_Core_SCM_BPD_Supply_Chain_Master_Data.docx_image2.png\n",
       "TestOutput1.docx\n",
       "TestOutputPortion1.docx\n",
       "Time_audit_datamodel.xlsx\n",
       "TonyDocumentOutput.csv\n",
       "TonyTest1.docx\n",
       "TonyTest2.docx\n",
       "Transcripts.zip\n",
       "Workplace Investigation Summary - ABC-181-2484.docx\n",
       "Workplace Investigation Summary - ABC-263-2852.docx\n",
       "Workplace Investigation Summary - ABC-267-5560.docx\n",
       "Workplace Investigation Summary - ABC-269-1383.docx\n",
       "Workplace Investigation Summary - ABC-425-3225.docx\n",
       "Workplace Investigation Summary - ABC-455-6789.docx\n",
       "Workplace Investigation Summary - ABC-623-4601.docx\n",
       "Workplace Investigation Summary - ABC-680-5790.docx\n",
       "Workplace Investigation Summary - ABC-812-3541.docx\n",
       "Workplace Investigation Summary - ABC-895-6824.docx\n",
       "Workplace Investigation Summary - ABC-898-7514.docx\n",
       "Workplace Investigation Summary - ABC-900-6072.docx\n",
       "Workplace Investigation Summary - ABC-939-6720.docx\n",
       "Workplace Investigation Summary - ABC-974-3650.docx\n",
       "all_fsd_no_dups_with_module.xlsx\n",
       "all_fsd_with_full_text_and_summarizedNOCASHMANAGEMENT.xlsx\n",
       "cash_management_SQLOnly.xlsx\n",
       "catalog_search_results.xlsx\n",
       "catalog_search_results_sql.xlsx\n",
       "catalog_test_results_boosted.xlsx\n",
       "cleaned_df_resultsV1.xlsx\n",
       "cleaned_df_results_reasoningV1.xlsx\n",
       "cleaned_df_results_reasoningV3.xlsx\n",
       "cleaned_df_results_sqlV2.xlsx\n",
       "cleaned_df_results_sqlV3.xlsx\n",
       "cleaned_df_test_V1.xlsx\n",
       "cleaned_df_test_results_sqlV1.xlsx\n",
       "cleaned_df_train_V2.xlsx\n",
       "cleaned_fsd_with_sql.xlsx\n",
       "cleansed_descriptions.xlsx\n",
       "cleansed_polygons.xlsx\n",
       "cleansed_transcript.txt\n",
       "cleansed_transcript_new.txt\n",
       "cleansed_transcript_new.xlsx\n",
       "cleansed_transcript_new1.txt\n",
       "comparison_aug17.xlsx\n",
       "databricks/\n",
       "description.xlsx\n",
       "dummytest.xlsx\n",
       "easy_med_hard.xlsx\n",
       "financials_catalog.csv\n",
       "general_ledger_and_asset.xlsx\n",
       "general_ledger_and_assetSQLOnly.xlsx\n",
       "gpt35_2ndFSDTestSetof10.xlsx\n",
       "gpt35_2ndFSDTestSetof10MichaelOUTPUTRESULTSJustsmiliarsqlandcatalog.xlsx\n",
       "gpt35_2ndFSDTestSetof10MichaelOUTPUTRESULTSJustsmiliarsqlandcatalogupdatedcleansedFSD.xlsx\n",
       "gpt35_2ndFSDTestSetof10_NEW_SET.xlsx\n",
       "gpt35_2ndFSDTestSetof10_SAGAR_10.xlsx\n",
       "gpt4_2ndFSDTestSetof10.xlsx\n",
       "gpt4_2ndFSDTestSetof10_NEW.xlsx\n",
       "hcm_test_ouput.xlsx\n",
       "hcm_test_output.xlsx\n",
       "hcm_test_outputV2.xlsx\n",
       "image2.png\n",
       "image_analysis_bpd.xlsx\n",
       "indexstore_BPD_OpenAI_v0.pkl\n",
       "indexstore_BPD_OpenAI_v1.pkl\n",
       "indexstore_BPD_OpenAI_v2.pkl\n",
       "indexstore_BPD_OpenAI_v3_chunked.pkl\n",
       "indexstore_FSD.pkl\n",
       "indexstore_FSD1.pkl\n",
       "indexstore_FSD2.pkl\n",
       "indexstore_FSD3.pkl\n",
       "indexstore_FSD4.pkl\n",
       "indexstore_FSD_1.pkl\n",
       "indexstore_FSD_HuggingFace_v0.pkl\n",
       "indexstore_FSD_HuggingFace_v1.pkl\n",
       "indexstore_FSD_HuggingFace_v2.pkl\n",
       "indexstore_FSD_OpenAI_test.pkl\n",
       "indexstore_FSD_OpenAI_v1_chunked.pkl\n",
       "indexstore_Transcripts_HuggingFace_v0.pkl\n",
       "indexstore_Transcripts_HuggingFace_v1.pkl\n",
       "indexstore_Transcripts_HuggingFace_v2.pkl\n",
       "indexstore_Transcripts_OpenAI_Tests_v0.pkl\n",
       "indexstore_Transcripts_OpenAI_Tests_v1.pkl\n",
       "indexstore_Transcripts_OpenAI_test.pkl\n",
       "indexstore_Transcripts_OpenAI_test2.pkl\n",
       "indexstore_Transcripts_OpenAI_v0.pkl\n",
       "indexstore_Transcripts_OpenAI_v3.pkl\n",
       "indexstore_Transcripts_OpenAI_v3_unchunked.pkl\n",
       "indexstore_Transcripts_OpenAI_v4_unchunked.pkl\n",
       "indexstore_Transcripts_OpenAI_v5_unchunked.pkl\n",
       "indexstore_Transcripts_OpenAI_v5_unchunked_oldtranscripts.pkl\n",
       "indexstore_Transcripts_OpenAI_v6_chunked.pkl\n",
       "indexstore_Transcripts_OpenAI_v6_unchunked.pkl\n",
       "joplin.txt\n",
       "knowledge_base_v0.json\n",
       "lukas_catalog_test_results.xlsx\n",
       "mike_output.txt\n",
       "mike_output2.txt\n",
       "new_set_8.0.xlsx\n",
       "oracle_data_model_financials_combined_long_v1.pkl\n",
       "oracle_data_model_financials_combined_short_v1.pkl\n",
       "oracle_data_model_financials_long_clean_v1.pkl\n",
       "oracle_data_model_financials_long_v1.pkl\n",
       "oracle_data_model_financials_short_clean_v1.pkl\n",
       "oracle_data_model_financials_short_v1.pkl\n",
       "oracle_data_model_financials_views_long_v1.pkl\n",
       "oracle_data_model_financials_views_short_v1.pkl\n",
       "oracle_data_model_hcm_combined_short_v1.pkl\n",
       "oracle_data_model_hcm_short_v1.pkl\n",
       "oracle_data_model_hcm_tables_long_v1.pkl\n",
       "oracle_data_model_hcm_tables_short_clean_v1.pkl\n",
       "oracle_data_model_hcm_tables_short_v1.pkl\n",
       "oracle_data_model_hcm_views_long_v1.pkl\n",
       "oracle_data_model_hcm_views_short_v1.pkl\n",
       "oracle_data_model_long_v1.pkl\n",
       "oracle_data_model_scm_combined_long_v1.pkl\n",
       "oracle_data_model_scm_combined_short_v1.pkl\n",
       "oracle_data_model_scm_long_clean_v1.pkl\n",
       "oracle_data_model_scm_long_v1.pkl\n",
       "oracle_data_model_scm_short_clean_v1.pkl\n",
       "oracle_data_model_scm_short_v1.pkl\n",
       "oracle_data_model_scm_views_long_v1.pkl\n",
       "oracle_data_model_scm_views_short_clean_v1.pkl\n",
       "oracle_data_model_scm_views_short_v1.pkl\n",
       "oracle_data_model_short_v1.pkl\n",
       "oracle_data_model_short_v1.xlsx\n",
       "oracle_data_model_short_v2.pkl\n",
       "oracle_data_model_short_v3.pkl\n",
       "oracle_docs_links_financials.txt\n",
       "oracle_docs_links_hcm.txt\n",
       "oracle_docs_links_scm.txt\n",
       "polygon.xlsx\n",
       "requirements_matching.xlsx\n",
       "requirements_matching1.xlsx\n",
       "requirements_matching2.xlsx\n",
       "requirements_matching3.xlsx\n",
       "runloop_test_set.xlsx\n",
       "sample_output_2.csv\n",
       "sampletest.xlsx\n",
       "sql_query_pk_test.xlsx\n",
       "temp_file.txt\n",
       "test.docx\n",
       "testDocumentOutput.csv\n",
       "test_set9_28_resultsof8V1.xlsx\n",
       "time_audit_test_output.xlsx\n",
       "tmp/\n",
       "all files successfully extracted\n",
       "S4 Core_BPD_SCM_Demand and Supply_ Planning .docx conversion started...\n",
       "S4 Core_BPD_SCM_Demand and Supply_ Planning  conversion ended...\n",
       "S4 Core_BPD_FIN_GL_Accounting.docx conversion started...\n",
       "S4 Core_BPD_FIN_GL_Accounting conversion ended...\n",
       "S4 Core_BPD_PA_Cost Repository.docx conversion started...\n",
       "S4 Core_BPD_PA_Cost Repository conversion ended...\n",
       "S4 Core_BPD_WAM_Reactive_Corrective Maintenance.docx conversion started...\n",
       "S4 Core_BPD_WAM_Reactive_Corrective Maintenance conversion ended...\n",
       "S4 Core_BPD_WAM_Preventative Maintenance, Inspections, and Operator Rounds.docx conversion started...\n",
       "S4 Core_BPD_WAM_Preventative Maintenance, Inspections, and Operator Rounds conversion ended...\n",
       "S4 Core_SCM_BPD_Direct Procurement.docx conversion started...\n",
       "S4 Core_SCM_BPD_Direct Procurement conversion ended...\n",
       "S4 Core_BPD_FIN_Labor and Labor Related Costs.docx conversion started...\n",
       "S4 Core_BPD_FIN_Labor and Labor Related Costs conversion ended...\n",
       "S4 Core_BPD_FIN_O&amp;M Cost Flow (Non-Labor).docx conversion started...\n",
       "S4 Core_BPD_FIN_O&amp;M Cost Flow (Non-Labor) conversion ended...\n",
       "S4 Core_BPD_FIN_S4 FERC Accounting.docx conversion started...\n",
       "S4 Core_BPD_FIN_S4 FERC Accounting conversion ended...\n",
       "S4 Core_BPD_WAM_TD_Outage_Management.docx conversion started...\n",
       "S4 Core_BPD_WAM_TD_Outage_Management conversion ended...\n",
       "S4 Core_BPD_WAM Capital Projects (Constructions and Replacements).docx conversion started...\n",
       "S4 Core_BPD_WAM Capital Projects (Constructions and Replacements) conversion ended...\n",
       "S4 Core_BPD_FIN_Bank Accounting.docx conversion started...\n",
       "S4 Core_BPD_FIN_Bank Accounting conversion ended...\n",
       "S4 Core_BPD_WAM_Work_Clearance Management_Process.docx conversion started...\n",
       "S4 Core_BPD_WAM_Work_Clearance Management_Process conversion ended...\n",
       "S4 Core_SCM_BPD Warehouse Management.docx conversion started...\n",
       "S4 Core_SCM_BPD Warehouse Management conversion ended...\n",
       "S4 Core_BPD_FIN_Indirect Taxes.docx conversion started...\n",
       "S4 Core_BPD_FIN_Indirect Taxes conversion ended...\n",
       "S4 Core_BPD_WAM_Power Supply_Outage Management.docx conversion started...\n",
       "S4 Core_BPD_WAM_Power Supply_Outage Management conversion ended...\n",
       "S4 Core_SCM_BPD_Special Procurement Process .docx conversion started...\n",
       "S4 Core_SCM_BPD_Special Procurement Process  conversion ended...\n",
       "S4 Core_BPD_WAM_Customer_Construction.docx conversion started...\n",
       "S4 Core_BPD_WAM_Customer_Construction conversion ended...\n",
       "S4 Core_BPD_FIN_Treasury - Debt Management.docx conversion started...\n",
       "S4 Core_BPD_FIN_Treasury - Debt Management conversion ended...\n",
       "S4 Core_SCM_BPD_Quality Management .docx conversion started...\n",
       "S4 Core_SCM_BPD_Quality Management  conversion ended...\n",
       "S4 Core_BPD_FIN_Third Party Billing.docx conversion started...\n",
       "S4 Core_BPD_FIN_Third Party Billing conversion ended...\n",
       "S4 Core_BPD_PA_CIAC.docx conversion started...\n",
       "S4 Core_BPD_PA_CIAC conversion ended...\n",
       "S4 Core_BPD_FIN_Cash Management.docx conversion started...\n",
       "S4 Core_BPD_FIN_Cash Management conversion ended...\n",
       "S4 Core_BPD_WAM_Asset_Reliability and Performance (APM).docx conversion started...\n",
       "S4 Core_BPD_WAM_Asset_Reliability and Performance (APM) conversion ended...\n",
       "S4 Core_BPD_PA_Assets.docx conversion started...\n",
       "S4 Core_BPD_PA_Assets conversion ended...\n",
       "S4 Core_BPD_WAM_Meter Management.docx conversion started...\n",
       "S4 Core_BPD_WAM_Meter Management conversion ended...\n",
       "S4 Core_BPD_SCM_Supply Chain Master Data.docx conversion started...\n",
       "S4 Core_BPD_SCM_Supply Chain Master Data conversion ended...\n",
       "S4 Core_SCM_BPD_Indirect Procurement.docx conversion started...\n",
       "S4 Core_SCM_BPD_Indirect Procurement conversion ended...\n",
       "S4 Core_SCM_BPD_Supply Chain Master Data.docx conversion started...\n",
       "S4 Core_SCM_BPD_Supply Chain Master Data conversion ended...\n",
       "S4 Core_SCM_BPD_Inventory Management (IM).docx conversion started...\n",
       "S4 Core_SCM_BPD_Inventory Management (IM) conversion ended...\n",
       "S4 Core_BPD_WAM_WAM Master Data.docx conversion started...\n",
       "S4 Core_BPD_WAM_WAM Master Data conversion ended...\n",
       "S4 Core_BPD_PA_Capital Spares &amp; Refurbishments.docx conversion started...\n",
       "S4 Core_BPD_PA_Capital Spares &amp; Refurbishments conversion ended...\n",
       "S4 Core_BPD_PA_Property Taxes (1).docx conversion started...\n",
       "S4 Core_BPD_PA_Property Taxes (1) conversion ended...\n",
       "S4 Core_BPD_PA_Tax Depreciation &amp; Deferred Taxes .docx conversion started...\n",
       "S4 Core_BPD_PA_Tax Depreciation &amp; Deferred Taxes  conversion ended...\n",
       "S4 Core_BPD_FIN_Tax Provision, Deferred Taxes, and Tax Compliance.docx conversion started...\n",
       "S4 Core_BPD_FIN_Tax Provision, Deferred Taxes, and Tax Compliance conversion ended...\n",
       "S4 Core_BPD_FIN_Accounts Payable.docx conversion started...\n",
       "S4 Core_BPD_FIN_Accounts Payable conversion ended...\n",
       "S4 Core_BPD_FIN_Accounts Payable Payments &amp; Reporting.docx conversion started...\n",
       "S4 Core_BPD_FIN_Accounts Payable Payments &amp; Reporting conversion ended...\n",
       "S4 Core_BPD_FIN_FP&amp;A Planning.docx conversion started...\n",
       "S4 Core_BPD_FIN_FP&amp;A Planning conversion ended...\n",
       "S4 Core_BPD_FIN_Period End Close.docx conversion started...\n",
       "S4 Core_BPD_FIN_Period End Close conversion ended...\n",
       "S4 Core_BPD_PA_Tax Repairs.docx conversion started...\n",
       "S4 Core_BPD_PA_Tax Repairs conversion ended...\n",
       "S4 Core_BPD_PA_Depreciation.docx conversion started...\n",
       "S4 Core_BPD_PA_Depreciation conversion ended...\n",
       "S4 Core_BPD_PA_Capital Project Initiation.docx conversion started...\n",
       "S4 Core_BPD_PA_Capital Project Initiation conversion ended...\n",
       "S4 Core_BPD_PA_Asset Retirement Obligations.docx conversion started...\n",
       "S4 Core_BPD_PA_Asset Retirement Obligations conversion ended...\n",
       "S4 Core_BPD_PA_Joint Owned Assets.docx conversion started...\n",
       "S4 Core_BPD_PA_Joint Owned Assets conversion ended...\n",
       "S4 Core_BPD_PA_Capital Cost Collection.docx conversion started...\n",
       "S4 Core_BPD_PA_Capital Cost Collection conversion ended...\n",
       "</div>"
      ]
     },
     "metadata": {
      "application/vnd.databricks.v1+output": {
       "addedWidgets": {},
       "arguments": {},
       "data": "<div class=\"ansiout\">Parsing\n26FSDSwithSummarizedText.xlsx\n26fsd_16k_Pipeline1_mix_approach_first7.xlsx\n26fsd_16k_Pipeline1_tests.xlsx\n26fsd_16k_Pipeline1_tests_mike.xlsx\n26fsd_16k_Pipeline2_good15.xlsx\n26fsd_16k_Pipeline2_good2.xlsx\n26fsd_16k_Pipeline2_good21.xlsx\n26fsd_16k_Pipeline2_great15.xlsx\n26fsd_16k_Pipeline2_tests.xlsx\n26fsd_16k_Pipeline2_tests_mike.xlsx\n26fsd_4-16k_Pipeline1.xlsx\n2ndFSDTestSet.xlsx\n2ndFSDTestSetV2.xlsx\n2ndFSDTestSetV3.xlsx\n2ndFSDTrainingSet.xlsx\nAward_Letter_Template.docx\nAward_Letter_Template2.docx\nAward_Letter_Translated.docx\nBANK STATEMENT RECONCILIATION.docx\nBPD.zip\nBill Management.csv\nBudgetary Controls.csv\nCELA Case Data.xlsx\nCELA Workplace Investigation Summary - ABC-455-6789.docx\nCELA Workplace Investigation Summary - ABC-455-6789_1.docx\nCELA Workplace Investigation Summary - ABC-812-3541.docx\nCELA Workplace Investigation Summary - ABC-898-7514.docx\nCase Data.xlsx\nCash Management.csv\nCodes_mapping.xlsx\nDNU_OGE_FSD_E_PA_002_IM Program $ to IM Program Position $.docx\nDNU_OGE_FSD_E_PA_003_IM Program Position $ to WBS $.docx\nDominion.xlsx\nDominionV2.xlsx\nEASY_DATA_SET.xlsx\nFDD_Outputs_E_FIN_001.docx\nFDD_Outputs_E_FIN_002.docx\nFDD_Outputs_RICEFW_001.docx\nFSD.zip\nFSD_GPT_output_results.xlsx\nFSD_Temp_1.docx\nFSD_deflated_zip/\nFSD_req.zip\nGeneral Ledger.csv\nHARD_DATA_SET.xlsx\nHCM_Group_Membership.csv\nLNTest1.docx\nMapping Template.xlsx\nOGE_FSD_-E_FIN_001_Electronic BADI for mass reversals - automated based on rejections2.docx\nOGE_FSD_-E_FIN_001_Electronic BADI for mass reversals - automated based on rejections3.docx\nOGE_FSD_-E_FIN_001_Electronic BADI for mass reversals - automated based on rejections_2023-06-10_00_33_28.docx\nOGE_FSD_-E_FIN_001_Electronic BADI for mass reversals - automated based on rejections_2023-06-11_22_10_00.docx\nOGE_FSD_-E_FIN_001_Electronic BADI for mass reversals - automated based on rejections_2023-06-11_23_10_03.docx\nOGE_FSD_-E_FIN_001_Electronic BADI for mass reversals - automated based on rejections_2023-06-12_00_00_10.docx\nOGE_FSD_-E_FIN_001_Electronic BADI for mass reversals - automated based on rejections_2023-06-12_00_29_20.docx\nOGE_FSD_-E_FIN_001_Electronic BADI for mass reversals - automated based on rejections_2023-06-13_14_42_26.docx\nOGE_FSD_-E_FIN_001_Electronic BADI for mass reversals - automated based on rejections_2023-06-13_18_21_53.docx\nOGE_FSD_-E_FIN_001_Electronic BADI for mass reversals - automated based on rejections_2023-06-13_23_08_12.docx\nOGE_FSD_-E_FIN_001_Electronic BADI for mass reversals - automated based on rejections_2023-06-14_01_48_53.docx\nOGE_FSD_-E_FIN_001_Electronic BADI for mass reversals - automated based on rejections_2023-06-16_00_39_34.docx\nOGE_FSD_-E_FIN_001_Electronic BADI for mass reversals - automated based on rejections_2023-06-19_18_18_54.docx\nOGE_FSD_-E_FIN_002_Overhead Residual Clearing Program _2023-06-10_00_43_49.docx\nOGE_FSD_-E_FIN_002_Overhead Residual Clearing Program _2023-06-11_22_19_57.docx\nOGE_FSD_-E_FIN_002_Overhead Residual Clearing Program _2023-06-12_00_41_25.docx\nOGE_FSD_-E_FIN_002_Overhead Residual Clearing Program _2023-06-13_14_53_17.docx\nOGE_FSD_-E_FIN_002_Overhead Residual Clearing Program _2023-06-13_18_29_56.docx\nOGE_FSD_-E_FIN_002_Overhead Residual Clearing Program _2023-06-13_23_15_42.docx\nOGE_FSD_-E_FIN_002_Overhead Residual Clearing Program _2023-06-14_00_35_54.docx\nOGE_FSD_-E_FIN_002_Overhead Residual Clearing Program _2023-06-16_00_42_46.docx\nOGE_FSD_-E_FIN_002_Overhead Residual Clearing Program _2023-06-19_18_30_00.docx\nOGE_FSD_-E_PA_004_Ability to create Projects and WBS structure using a defined excel upload file. Transaction &#34;ZCOSTCOLL - Load Project System Cost Collectors&#34; and &#34;Program - ZPRSU_LOAD_COST_COLLECTORS&#34;_2023-06-21_03_31_30.docx\nOGE_FSD_-E_PA_004_Ability to create Projects and WBS structure using a defined excel upload file. Transaction &#34;ZCOSTCOLL - Load Project System Cost Collectors&#34; and &#34;Program - ZPRSU_LOAD_COST_COLLECTORS&#34;_2023-06-22_22_11_31.docx\nOGE_FSD_-E_PA_004_Ability to mass change the WBS master data via excel upload_2023-06-22_23_08_07.docx\nOGE_FSD_-E_WAM_PS_009_Enhancement to serach for assets from the asset hierarchy_2023-06-20_18_48_31.docx\nOGE_FSD_-E_WAM_PS_009_Enhancement to serach for assets from the asset hierarchy_2023-06-21_01_45_15.docx\nOGE_FSD_-E_WAM_PS_009_Enhancement to serach for assets from the asset hierarchy_2023-06-21_14_35_40.docx\nOGE_FSD_-E_WAM_PS_009_Enhancement to serach for assets from the asset hierarchy_2023-06-22_18_56_38.docx\nOGE_FSD_-E_WAM_PS_009_Enhancement to serach for assets from the asset hierarchy_2023-06-22_20_06_16.docx\nOGE_FSD_-E_WAM_PS_009_Enhancement to serach for assets from the asset hierarchy_2023-06-22_20_35_31.docx\nOGE_FSD_-E_WAM_PS_009_Enhancement to serach for assets from the asset hierarchy_2023-06-22_21_01_25.docx\nOGE_FSD_-E_WAM_PS_016_ZWCM - Work Clearance Mgmt3.docx\nOGE_FSD_-E_WAM_PS_016_ZWCM - Work Clearance Mgmt_2023-06-10_01_31_22.docx\nOGE_FSD_-E_WAM_PS_016_ZWCM - Work Clearance Mgmt_2023-06-12_01_34_20.docx\nOGE_FSD_-E_WAM_PS_016_ZWCM - Work Clearance Mgmt_2023-06-13_15_37_49.docx\nOGE_FSD_-E_WAM_PS_016_ZWCM - Work Clearance Mgmt_2023-06-13_19_20_59.docx\nOGE_FSD_-E_WAM_PS_016_ZWCM - Work Clearance Mgmt_2023-06-14_02_04_16.docx\nOGE_FSD_-E_WAM_PS_016_ZWCM - Work Clearance Mgmt_2023-06-16_01_02_11.docx\nOGE_FSD_-E_WAM_PS_017_ZH135-Supvsr SignOff - Payroll Aprvd Time_2023-06-10_01_42_38.docx\nOGE_FSD_-E_WAM_PS_017_ZH135-Supvsr SignOff - Payroll Aprvd Time_2023-06-12_01_48_21.docx\nOGE_FSD_-E_WAM_PS_017_ZH135-Supvsr SignOff - Payroll Aprvd Time_2023-06-13_15_47_41.docx\nOGE_FSD_-E_WAM_PS_017_ZH135-Supvsr SignOff - Payroll Aprvd Time_2023-06-13_19_40_08.docx\nOGE_FSD_-E_WAM_PS_017_ZH135-Supvsr SignOff - Payroll Aprvd Time_2023-06-14_02_25_18.docx\nOGE_FSD_-E_WAM_PS_017_ZH135-Supvsr SignOff - Payroll Aprvd Time_2023-06-16_01_11_19.docx\nOGE_FSD_-E_WAM_PS_019_Excel Extract for maintenance scheduling board_2023-06-21_02_45_38.docx\nOGE_FSD_-E_WAM_PS_019_Excel Extract for maintenance scheduling board_2023-06-21_17_17_43.docx\nOGE_FSD_-E_WAM_PS_019_Excel Extract for maintenance scheduling board_2023-06-22_21_45_16.docx\nOGE_FSD_-E_WAM_T&amp;D_005_Automated WBS Assignment to Work Order_2023-06-21_02_09_05.docx\nOGE_FSD_-E_WAM_T&amp;D_005_Automated WBS Assignment to Work Order_2023-06-21_16_44_55.docx\nOGE_FSD_-E_WAM_T&amp;D_005_Automated WBS Assignment to Work Order_2023-06-22_22_15_35.docx\nOGE_FSD_-E_WAM_T&amp;D_019_Work Order - Locked Estimate Costs_2023-06-21_02_22_32.docx\nOGE_FSD_-E_WAM_T&amp;D_019_Work Order - Locked Estimate Costs_2023-06-21_16_57_12.docx\nOGE_FSD_-E_WAM_T&amp;D_019_Work Order - Locked Estimate Costs_2023-06-22_21_26_31.docx\nOGE_FSD_-F_FIN_001_Check Form for Bank of Oklahoma 2.docx\nOGE_FSD_-F_FIN_001_Check Form for Bank of Oklahoma 3.docx\nOGE_FSD_-F_FIN_001_Check Form for Bank of Oklahoma _2023-06-10_00_54_16.docx\nOGE_FSD_-F_FIN_001_Check Form for Bank of Oklahoma _2023-06-12_00_52_51.docx\nOGE_FSD_-F_FIN_001_Check Form for Bank of Oklahoma _2023-06-12_15_22_03.docx\nOGE_FSD_-F_FIN_001_Check Form for Bank of Oklahoma _2023-06-12_16_03_45.docx\nOGE_FSD_-F_FIN_001_Check Form for Bank of Oklahoma _2023-06-13_14_06_04.docx\nOGE_FSD_-F_FIN_001_Check Form for Bank of Oklahoma _2023-06-13_15_02_23.docx\nOGE_FSD_-F_FIN_001_Check Form for Bank of Oklahoma _2023-06-13_18_43_41.docx\nOGE_FSD_-F_FIN_001_Check Form for Bank of Oklahoma _2023-06-14_00_45_59.docx\nOGE_FSD_-F_FIN_001_Check Form for Bank of Oklahoma _2023-06-16_00_44_51.docx\nOGE_FSD_-F_FIN_002_Vendor Remittance Form_2023-06-10_01_05_17.docx\nOGE_FSD_-F_FIN_002_Vendor Remittance Form_2023-06-12_02_53_30.docx\nOGE_FSD_-F_FIN_002_Vendor Remittance Form_2023-06-12_03_06_31.docx\nOGE_FSD_-F_FIN_002_Vendor Remittance Form_2023-06-12_03_15_05.docx\nOGE_FSD_-F_FIN_002_Vendor Remittance Form_2023-06-12_03_19_30.docx\nOGE_FSD_-F_FIN_002_Vendor Remittance Form_2023-06-12_03_38_50.docx\nOGE_FSD_-F_FIN_002_Vendor Remittance Form_2023-06-12_03_41_21.docx\nOGE_FSD_-F_FIN_002_Vendor Remittance Form_2023-06-12_14_44_20.docx\nOGE_FSD_-F_FIN_002_Vendor Remittance Form_2023-06-12_22_41_40.docx\nOGE_FSD_-F_FIN_002_Vendor Remittance Form_2023-06-13_15_12_01.docx\nOGE_FSD_-F_FIN_002_Vendor Remittance Form_2023-06-13_18_57_32.docx\nOGE_FSD_-F_FIN_002_Vendor Remittance Form_2023-06-13_21_49_38.docx\nOGE_FSD_-F_FIN_002_Vendor Remittance Form_2023-06-14_00_56_53.docx\nOGE_FSD_-F_FIN_002_Vendor Remittance Form_2023-06-16_00_46_58.docx\nOGE_FSD_-F_FIN_002_Vendor Remittance Form_2023-06-16_17_22_31.docx\nOGE_FSD_-W_FIN_001_Send notification to users who have Discounts coming due3.docx\nOGE_FSD_-W_FIN_001_Send notification to users who have Discounts coming due_2023-06-10_01_56_06.docx\nOGE_FSD_-W_FIN_001_Send notification to users who have Discounts coming due_2023-06-12_02_00_43.docx\nOGE_FSD_-W_FIN_001_Send notification to users who have Discounts coming due_2023-06-13_15_56_36.docx\nOGE_FSD_-W_FIN_001_Send notification to users who have Discounts coming due_2023-06-13_19_58_25.docx\nOGE_FSD_-W_FIN_001_Send notification to users who have Discounts coming due_2023-06-14_02_36_58.docx\nOGE_FSD_-W_FIN_001_Send notification to users who have Discounts coming due_2023-06-16_01_19_57.docx\nOGE_FSD_-W_SCM_001_PR Approval_2023-06-10_02_07_38.docx\nOGE_FSD_-W_SCM_001_PR Approval_2023-06-12_02_14_17.docx\nOGE_FSD_-W_SCM_001_PR Approval_2023-06-13_20_06_45.docx\nOGE_FSD_-W_SCM_001_PR Approval_2023-06-14_03_00_53.docx\nOGE_FSD_CNV-C_FIN_001_Bank Accounts.docx\nOGE_FSD_CNV-C_FIN_001_Bank Accounts1.docx\nOGE_FSD_CNV-C_FIN_001_Bank Accounts2.docx\nOGE_FSD_CNV-C_FIN_001_Bank Accounts3.docx\nOGE_FSD_CNV-C_FIN_001_Bank Accounts_2023-06-10_00_04_01.docx\nOGE_FSD_CNV-C_FIN_001_Bank Accounts_2023-06-10_00_16_27.docx\nOGE_FSD_CNV-C_FIN_001_Bank Accounts_2023-06-11_20_45_20.docx\nOGE_FSD_CNV-C_FIN_001_Bank Accounts_2023-06-11_20_57_28.docx\nOGE_FSD_CNV-C_FIN_001_Bank Accounts_2023-06-11_21_09_43.docx\nOGE_FSD_CNV-C_FIN_001_Bank Accounts_2023-06-11_21_23_57.docx\nOGE_FSD_CNV-C_FIN_001_Bank Accounts_2023-06-11_21_39_13.docx\nOGE_FSD_CNV-C_FIN_001_Bank Accounts_2023-06-11_21_53_49.docx\nOGE_FSD_CNV-C_FIN_001_Bank Accounts_2023-06-11_23_18_46.docx\nOGE_FSD_CNV-C_FIN_001_Bank Accounts_2023-06-12_00_11_59.docx\nOGE_FSD_CNV-C_FIN_001_Bank Accounts_2023-06-12_14_59_39.docx\nOGE_FSD_CNV-C_FIN_001_Bank Accounts_2023-06-12_15_41_00.docx\nOGE_FSD_CNV-C_FIN_001_Bank Accounts_2023-06-12_19_09_47.docx\nOGE_FSD_CNV-C_FIN_001_Bank Accounts_2023-06-12_21_07_42.docx\nOGE_FSD_CNV-C_FIN_001_Bank Accounts_2023-06-12_22_35_16.docx\nOGE_FSD_CNV-C_FIN_001_Bank Accounts_2023-06-13_13_49_02.docx\nOGE_FSD_CNV-C_FIN_001_Bank Accounts_2023-06-13_14_24_38.docx\nOGE_FSD_CNV-C_FIN_001_Bank Accounts_2023-06-13_18_05_44.docx\nOGE_FSD_CNV-C_FIN_001_Bank Accounts_2023-06-13_20_18_51.docx\nOGE_FSD_CNV-C_FIN_001_Bank Accounts_2023-06-13_21_37_15.docx\nOGE_FSD_CNV-C_FIN_001_Bank Accounts_2023-06-14_00_11_44.docx\nOGE_FSD_CNV-C_FIN_001_Bank Accounts_2023-06-15_22_33_05.docx\nOGE_FSD_CNV-C_FIN_001_Bank Accounts_2023-06-16_16_49_23.docx\nOGE_FSD_CNV-C_FIN_001_Bank Accounts_2023-06-16_17_14_56.docx\nOGE_FSD_CNV-C_FIN_001_Bank Accounts_2023-06-19_17_58_04.docx\nOGE_FSD_CNV-C_FIN_001_Bank Accounts_2023-06-30_01_46_54.docx\nOGE_FSD_CNV-C_FIN_001_Bank Accounts_2023-07-10_15_24_55.docx\nOGE_FSD_CNV-C_FIN_001_Bank Accounts_2023-07-10_20_58_51.docx\nOGE_FSD_CNV-C_FIN_001_Bank Accounts_2023-07-11_20_55_09.docx\nOGE_FSD_CNV-C_FIN_001_Bank Accounts_2023-10-11_19_26_27.docx\nOGE_FSD_CNV-C_FIN_001_Bank Accounts_2023-10-11_21_09_57.docx\nOGE_FSD_CNV-C_FIN_001_Bank Accounts_x.docx\nOGE_FSD_CNV-C_FIN_002_Activity Types_2023-06-10_00_23_14.docx\nOGE_FSD_CNV-C_FIN_002_Activity Types_2023-06-11_22_00_12.docx\nOGE_FSD_CNV-C_FIN_002_Activity Types_2023-06-11_23_25_16.docx\nOGE_FSD_CNV-C_FIN_002_Activity Types_2023-06-12_00_18_08.docx\nOGE_FSD_CNV-C_FIN_002_Activity Types_2023-06-12_15_08_18.docx\nOGE_FSD_CNV-C_FIN_002_Activity Types_2023-06-12_15_49_33.docx\nOGE_FSD_CNV-C_FIN_002_Activity Types_2023-06-13_13_56_40.docx\nOGE_FSD_CNV-C_FIN_002_Activity Types_2023-06-13_14_32_57.docx\nOGE_FSD_CNV-C_FIN_002_Activity Types_2023-06-13_18_13_12.docx\nOGE_FSD_CNV-C_FIN_002_Activity Types_2023-06-13_22_54_21.docx\nOGE_FSD_CNV-C_FIN_002_Activity Types_2023-06-14_00_19_06.docx\nOGE_FSD_CNV-C_FIN_002_Activity Types_2023-06-15_22_39_45.docx\nOGE_FSD_CNV-C_FIN_002_Activity Types_2023-06-19_18_07_07.docx\nOGE_FSD_CNV-C_FIN_002_Activity Types_2023-06-30_02_00_12.docx\nOGE_FSD_CNV-C_FIN_002_Activity Types_2023-07-10_21_11_22.docx\nOGE_FSD_CNV-C_FIN_002_Activity Types_2023-10-11_19_09_20.docx\nOGE_FSD_CNV-C_FIN_003_Ability to convert uncleared cash at time in S4._2023-06-30_02_12_34.docx\nOGE_FSD_CNV-C_FIN_006_Assessments_2023-06-30_03_09_53.docx\nOGE_FSD_CNV-C_FIN_009_Conversion of Outstanding Check Register and linkage to converted payment documents in GL OI conversion_2023-06-30_04_35_37.docx\nOGE_FSD_CNV-F_FIN_001_Check Form for Bank of Oklahoma.docx\nOGE_FSD_IN-E_SCM_029_Expeditor Notes Field3.docx\nOGE_FSD_IN-E_SCM_029_Expeditor Notes Field_2023-06-09_22_44_09.docx\nOGE_FSD_IN-E_SCM_029_Expeditor Notes Field_2023-06-09_23_35_57.docx\nOGE_FSD_IN-E_SCM_029_Expeditor Notes Field_2023-06-10_01_12_41.docx\nOGE_FSD_IN-E_SCM_029_Expeditor Notes Field_2023-06-12_01_12_42.docx\nOGE_FSD_IN-E_SCM_029_Expeditor Notes Field_2023-06-13_15_20_51.docx\nOGE_FSD_IN-E_SCM_029_Expeditor Notes Field_2023-06-13_19_04_57.docx\nOGE_FSD_IN-E_SCM_029_Expeditor Notes Field_2023-06-14_01_04_44.docx\nOGE_FSD_IN-E_SCM_029_Expeditor Notes Field_2023-06-16_00_53_18.docx\nOGE_FSD_IN-E_SCM_029_Expeditor Notes Field_2023-10-11_18_51_38.docx\nOGE_FSD_IN-E_SCM_029_Expeditor Notes Field_2023-10-11_21_18_23.docx\nOGE_FSD_IN-I_FIN_001_Ability to send Positive Pay file to Bank of OK for check details._2023-06-10_01_21_08.docx\nOGE_FSD_IN-I_FIN_001_Ability to send Positive Pay file to Bank of OK for check details._2023-06-12_01_21_38.docx\nOGE_FSD_IN-I_FIN_001_Ability to send Positive Pay file to Bank of OK for check details._2023-06-12_22_48_28.docx\nOGE_FSD_IN-I_FIN_001_Ability to send Positive Pay file to Bank of OK for check details._2023-06-13_15_28_23.docx\nOGE_FSD_IN-I_FIN_001_Ability to send Positive Pay file to Bank of OK for check details._2023-06-13_19_12_23.docx\nOGE_FSD_IN-I_FIN_001_Ability to send Positive Pay file to Bank of OK for check details._2023-06-13_22_41_45.docx\nOGE_FSD_IN-I_FIN_001_Ability to send Positive Pay file to Bank of OK for check details._2023-06-14_01_13_32.docx\nOGE_FSD_IN-I_FIN_001_Ability to send Positive Pay file to Bank of OK for check details._2023-06-16_01_00_22.docx\nOGE_FSD_IN-I_FIN_001_Ability to send Positive Pay file to Bank of OK for check details._2023-06-16_17_29_20.docx\nOGE_FSD_IN-I_FIN_001_Ability to send Positive Pay file to Bank of OK for check details._2023-10-11_14_26_00.docx\nOGE_FSD_IN-I_FIN_001_Ability to send Positive Pay file to Bank of OK for check details._2023-10-11_15_24_10.docx\nOGE_FSD_IN-I_FIN_001_Ability to send Positive Pay file to Bank of OK for check details._2023-10-11_15_44_53.docx\nOGE_FSD_IN-I_FIN_001_Ability to send Positive Pay file to Bank of OK for check details._2023-10-11_18_40_45.docx\nOGE_FSD_IN-I_FIN_001_Ability to send Positive Pay file to Bank of OK for check details._2023-10-11_19_43_15.docx\nOGE_FSD_IN-I_PA_007_SAP Batch Retrieval – this job currently runs monthly (6th day of month) and pulls Actuals by WBS_2023-06-21_13_43_01.docx\nOGE_FSD_IN-I_PA_007_SAP Batch Retrieval – this job currently runs monthly (6th day of month) and pulls Actuals by WBS_2023-06-22_21_52_15.docx\nOGE_FSD_IN-I_PA_007_SAP Batch Retrieval – this job currently runs monthly (6th day of month) and pulls Actuals by WBS_2023-06-23_23_22_13.docx\nOGE_FSD_IN-I_PA_007_SAP Batch Retrieval – this job currently runs monthly (6th day of month) and pulls Actuals by WBS_2023-07-13_23_32_39.docx\nOGE_FSD_IN-I_PA_007_SAP Batch Retrieval – this job currently runs monthly (6th day of month) and pulls Actuals by WBS_2023-07-14_04_58_33.docx\nOGE_FSD_IN-I_PA_008_Actual $s and Commitments from SAP to EcoSys_2023-08-04_21_47_47.docx\nOGE_FSD_IN-I_PA_008_Send actual cost (CJI3) and commitment data (CJI5) from S4 to EcoSys by WBS_2023-06-21_03_21_47.docx\nOGE_FSD_IN-I_PA_008_Send actual cost (CJI3) and commitment data (CJI5) from S4 to EcoSys by WBS_2023-06-22_21_59_26.docx\nOGE_FSD_IN-I_PA_008_Send actual cost (CJI3) and commitment data (CJI5) from S4 to EcoSys by WBS_2023-06-23_22_50_24.docx\nOGE_FSD_IN-I_PA_008_Send actual cost (CJI3) and commitment data (CJI5) from S4 to EcoSys by WBS_2023-07-13_23_45_16.docx\nOGE_FSD_IN-I_PA_008_Send actual cost (CJI3) and commitment data (CJI5) from S4 to EcoSys by WBS_2023-07-14_05_11_10.docx\nOGE_FSD_IN-I_SCM_007_Interface from SAP to Wesco System (Daily Files)_2023-08-04_17_26_17.docx\nOGE_FSD_IN-I_WAM_PS_015_Pull in running hours from SCADA. Ability to pull in running hours from SCADA to be able to perform counter based maintenance_2023-08-04_14_49_49.docx\nOGE_FSD_IN-I_WAM_T&amp;D_007_SAP Integration with GIS - Asset Synchronization_2023-08-04_15_14_05.docx\nOGE_FSD_IN-I_WAM_T&amp;D_012_ArcGIS Online Inspection Results to create SAP Measurement Results_2023-06-23_20_25_38.docx\nOGE_FSD_IN-I_WAM_T&amp;D_012_ArcGIS Online Inspection Results to create SAP Measurement Results_2023-06-23_20_42_31.docx\nOGE_FSD_IN-I_WAM_T&amp;D_012_ArcGIS Online Inspection Results to create SAP Measurement Results_2023-07-13_22_56_15.docx\nOGE_FSD_IN-I_WAM_T&amp;D_012_ArcGIS Online Inspection Results to create SAP Measurement Results_2023-07-14_16_15_04.docx\nOGE_FSD_IN-I_WAM_T&amp;D_012_ArcGIS Online Inspection Results to create SAP Measurement Results_2023-07-14_21_11_30.docx\nOGE_FSD_IN-I_WAM_T&amp;D_012_ArcGIS Online Inspection Results to create SAP Measurement Results_2023-07-18_00_12_07.docx\nOGE_FSD_IN-I_WAM_T&amp;D_012_ArcGIS Online Inspection Results to create SAP Measurement Results_2023-07-18_13_11_26.docx\nOGE_FSD_IN-I_WAM_T&amp;D_012_ArcGIS Online Inspection Results to create SAP Measurement Results_2023-07-18_15_56_13.docx\nOGE_FSD_IN-I_WAM_T&amp;D_012_ArcGIS Online Inspection Results to create SAP Measurement Results_2023-07-18_22_32_03.docx\nOGE_FSD_IN-I_WAM_T&amp;D_012_T&amp;D Integration - ArcGIS Online Inspection Results to create SAP Measurement Results_2023-06-21_02_30_53.docx\nOGE_FSD_IN-I_WAM_T&amp;D_012_T&amp;D Integration - ArcGIS Online Inspection Results to create SAP Measurement Results_2023-06-21_17_05_45.docx\nOGE_FSD_IN-I_WAM_T&amp;D_012_T&amp;D Integration - ArcGIS Online Inspection Results to create SAP Measurement Results_2023-06-22_21_34_00.docx\nOGE_FSD_IN-I_WAM_T&amp;D_012_T&amp;D Integration - ArcGIS Online Inspection Results to create SAP Measurement Results_2023-08-04_15_33_15.docx\nOGE_FSD_IN-I_WAM_T&amp;D_012_T&amp;D Integration - ArcGIS Online Inspection Results to create SAP Measurement Results_2023-09-22_13_35_13.docx\nOGE_FSD_IN-I_WAM_T&amp;D_012_T&amp;D Integration - ArcGIS Online Inspection Results to create SAP Measurement Results_2023-10-03_21_49_48.docx\nOGE_FSD_IN-I_WAM_T&amp;D_012_T&amp;D Integration - ArcGIS Online Inspection Results to create SAP Measurement Results_2023-10-09_21_03_23.docx\nOGE_FSD_IN-I_WAM_T&amp;D_012_T&amp;D Integration - ArcGIS Online Inspection Results to create SAP Measurement Results_2023-10-09_22_52_51.docx\nOGE_FSD_IN-I_WAM_T&amp;D_012_T&amp;D Integration - ArcGIS Online Inspection Results to create SAP Measurement Results_2023-10-11_03_57_30.docx\nOGE_FSD_IN-I_WAM_T&amp;D_012_T&amp;D Integration - ArcGIS Online Inspection Results to create SAP Measurement Results_2023-10-11_04_42_36.docx\nOGE_FSD_IN-I_WAM_T&amp;D_012_T&amp;D Integration - ArcGIS Online Inspection Results to create SAP Measurement Results_2023-10-11_13_41_32.docx\nOGE_FSD_IN-I_WAM_T&amp;D_014_T&amp;D Integration - ArcGIS OnlineNon Engineered Repair Results to create SAP Measurement Results_2023-07-14_16_27_44.docx\nOGE_FSD_IN-I_WAM_T&amp;D_014_T&amp;D Integration - ArcGIS OnlineNon Engineered Repair Results to create SAP Measurement Results_2023-07-18_13_24_52.docx\nOGE_FSD_IN-I_WAM_T&amp;D_014_T&amp;D Integration - ArcGIS OnlineNon Engineered Repair Results to create SAP Measurement Results_2023-07-18_16_10_01.docx\nOGE_FSD_IN-I_WAM_T&amp;D_014_T&amp;D Integration - ArcGIS OnlineNon Engineered Repair Results to create SAP Measurement Results_2023-07-19_02_06_26.docx\nOGE_FSD_IN-I_WAM_T&amp;D_014_T&amp;D Integration - ArcGIS OnlineNon Engineered Repair Results to create SAP Measurement Results_2023-08-04_15_51_42.docx\nOGE_FSD_IN-I_WAM_T&amp;D_015_MyRowKeeper to SAP Asset Synchronization_2023-08-04_21_34_15.docx\nOGE_FSD_IN-I_WAM_T&amp;D_016_MyRowKeeper to SAP - Vegetation Maintenance Results_2023-06-23_20_49_54.docx\nOGE_FSD_IN-I_WAM_T&amp;D_016_MyRowKeeper to SAP - Vegetation Maintenance Results_2023-07-14_04_34_38.docx\nOGE_FSD_IN-I_WAM_T&amp;D_016_MyRowKeeper to SAP - Vegetation Maintenance Results_2023-07-14_17_29_39.docx\nOGE_FSD_IN-I_WAM_T&amp;D_016_MyRowKeeper to SAP - Vegetation Maintenance Results_2023-07-18_16_34_42.docx\nOGE_FSD_IN-I_WAM_T&amp;D_016_MyRowKeeper to SAP - Vegetation Maintenance Results_2023-07-19_02_34_24.docx\nOGE_FSD_IN-I_WAM_T&amp;D_016_MyRowKeeper to SAP - Vegetation Maintenance Results_2023-08-04_16_17_56.docx\nOGE_FSD_IN-I_WAM_T&amp;D_025_ArcGIS Online Maintenance Execution Notes,Status,Progress to update Execution Dashboard_2023-07-14_17_39_51.docx\nOGE_FSD_IN-I_WAM_T&amp;D_025_ArcGIS Online Maintenance Execution Notes,Status,Progress to update Execution Dashboard_2023-07-18_17_29_17.docx\nOGE_FSD_IN-I_WAM_T&amp;D_025_T&amp;D Integration - ArcGIS Online Maintenance Execution Notes,Status,Progress to update Execution Dashboard_2023-08-04_22_07_16.docx\nOGE_FSD_NH-E_FIN_001_Electronic BADI for mass reversals - automated based on rejections_2023-10-11_21_02_40.docx\nOGE_FSD_NH-E_FIN_002_Overhead Residual Clearing Program _2023-10-11_20_55_16.docx\nOGE_FSD_NH-E_PA_002_IM Program $ to IM Program Position $_2023-07-13_15_43_34.docx\nOGE_FSD_NH-E_PA_002_IM Program $ to IM Program Position $_2023-07-14_00_18_29.docx\nOGE_FSD_NH-E_PA_002_IM Program $ to IM Program Position $_2023-07-14_05_32_46.docx\nOGE_FSD_NH-E_PA_002_IM Program $ to IM Program Position $_2023-07-20_14_13_45.docx\nOGE_FSD_NH-E_PA_002_IM Program $ to IM Program Position $_2023-07-20_14_28_03.docx\nOGE_FSD_NH-E_PA_002_IM Program $ to IM Program Position $_2023-07-20_15_02_38.docx\nOGE_FSD_NH-E_PA_002_IM Program $ to IM Program Position $_2023-07-20_15_33_40.docx\nOGE_FSD_NH-E_PA_002_IM Program $ to IM Program Position $_2023-07-20_16_43_27.docx\nOGE_FSD_NH-E_PA_002_IM Program $ to IM Program Position $_2023-08-03_20_54_19.docx\nOGE_FSD_NH-E_PA_002_IM Program $ to IM Program Position $_2023-08-03_22_19_40.docx\nOGE_FSD_NH-E_PA_002_IM Program $ to IM Program Position $_2023-08-03_22_47_44.docx\nOGE_FSD_NH-E_PA_003_IM Program Position $ to WBS $_2023-07-13_15_53_14.docx\nOGE_FSD_NH-E_PA_003_IM Program Position $ to WBS $_2023-07-14_00_29_46.docx\nOGE_FSD_NH-E_PA_003_IM Program Position $ to WBS $_2023-07-14_05_41_21.docx\nOGE_FSD_NH-E_PA_003_IM Program Position $ to WBS $_2023-07-20_13_54_23.docx\nOGE_FSD_NH-E_PA_003_IM Program Position $ to WBS $_2023-07-20_14_41_43.docx\nOGE_FSD_NH-E_PA_003_IM Program Position $ to WBS $_2023-07-20_14_47_03.docx\nOGE_FSD_NH-E_PA_003_IM Program Position $ to WBS $_2023-07-20_15_16_36.docx\nOGE_FSD_NH-E_PA_003_IM Program Position $ to WBS $_2023-07-20_16_04_26.docx\nOGE_FSD_NH-E_PA_003_IM Program Position $ to WBS $_2023-07-20_17_06_39.docx\nOGE_FSD_NH-E_PA_003_IM Program Position $ to WBS $_2023-08-02_15_58_55.docx\nOGE_FSD_NH-E_PA_003_IM Program Position $ to WBS $_2023-08-03_21_26_27.docx\nOGE_FSD_NH-E_PA_003_IM Program Position $ to WBS $_2023-08-03_22_32_30.docx\nOGE_FSD_NH-E_PA_003_IM Program Position $ to WBS $_2023-08-03_23_03_26.docx\nOGE_FSD_NH-E_PA_004_Ability to create Projects and WBS structure using a defined excel upload file. Transaction &#34;ZCOSTCOLL - Load Project System Cost Collectors&#34; and &#34;Program - ZPRSU_LOAD_COST_COLLECTORS&#34;_2023-06-23_22_56_56.docx\nOGE_FSD_NH-E_PA_004_Ability to create Projects and WBS structure using a defined excel upload file_2023-06-24_03_37_08.docx\nOGE_FSD_NH-E_PA_007_Ability to mass change the WBS master data via excel upload_2023-06-23_23_03_32.docx\nOGE_FSD_NH-E_PA_007_Ability to mass change the WBS master data via excel upload_2023-07-14_00_08_06.docx\nOGE_FSD_NH-E_PA_012_PM to PS - WBS Status_2023-08-04_21_40_43.docx\nOGE_FSD_NH-E_SCM_029_Ability to automatically calculate system suggested supplier lead time_2023-10-11_18_47_58.docx\nOGE_FSD_NH-E_SCM_029_Ability to automatically calculate system suggested supplier lead time_2023-10-11_21_14_44.docx\nOGE_FSD_NH-E_SCM_044_Cancel backorder , outbound delivery once requirement has been met_2023-08-04_22_07_18.docx\nOGE_FSD_NH-E_WAM_PS_009_Enhancement to serach for assets from the asset hierarchy_2023-06-23_22_05_08.docx\nOGE_FSD_NH-E_WAM_PS_009_Enhancement to serach for assets from the asset hierarchy_2023-06-28_16_04_10.docx\nOGE_FSD_NH-E_WAM_PS_009_Enhancement to serach for assets from the asset hierarchy_2023-07-13_22_33_22.docx\nOGE_FSD_NH-E_WAM_PS_009_Enhancement to serach for assets from the asset hierarchy_2023-07-14_03_28_30.docx\nOGE_FSD_NH-E_WAM_PS_019_Excel Extract for maintenance scheduling board_2023-06-23_22_35_07.docx\nOGE_FSD_NH-E_WAM_PS_019_Excel Extract for maintenance scheduling board_2023-07-13_23_14_08.docx\nOGE_FSD_NH-E_WAM_PS_019_Excel Extract for maintenance scheduling board_2023-07-14_04_46_18.docx\nOGE_FSD_NH-E_WAM_T&amp;D_005_Automated WBS Assignment to Work Order_2023-06-23_22_17_37.docx\nOGE_FSD_NH-E_WAM_T&amp;D_005_Automated WBS Assignment to Work Order_2023-06-28_16_17_26.docx\nOGE_FSD_NH-E_WAM_T&amp;D_005_Automated WBS Assignment to Work Order_2023-07-13_22_43_37.docx\nOGE_FSD_NH-E_WAM_T&amp;D_018_Work Order - Enhancement Tab - Settlement Rule Project % Updates Upon WO Release_2023-07-14_15_37_59.docx\nOGE_FSD_NH-E_WAM_T&amp;D_018_Work Order - Enhancement Tab - Settlement Rule Project % Updates Upon WO Release_2023-07-14_20_59_15.docx\nOGE_FSD_NH-E_WAM_T&amp;D_018_Work Order - Enhancement Tab - Settlement Rule Project % Updates Upon WO Release_2023-07-17_23_58_50.docx\nOGE_FSD_NH-E_WAM_T&amp;D_018_Work Order - Enhancement Tab - Settlement Rule Project % Updates Upon WO Release_2023-07-18_01_41_17.docx\nOGE_FSD_NH-E_WAM_T&amp;D_018_Work Order - Enhancement Tab - Settlement Rule Project % Updates Upon WO Release_2023-07-18_02_27_13.docx\nOGE_FSD_NH-E_WAM_T&amp;D_018_Work Order - Enhancement Tab - Settlement Rule Project % Updates Upon WO Release_2023-07-18_15_43_07.docx\nOGE_FSD_NH-E_WAM_T&amp;D_018_Work Order - Enhancement Tab - Settlement Rule Project % Updates Upon WO Release_2023-07-18_21_36_10.docx\nOGE_FSD_NH-E_WAM_T&amp;D_018_Work Order - Enhancement Tab - Settlement Rule Project % Updates Upon WO Release_2023-07-18_22_18_50.docx\nOGE_FSD_NH-E_WAM_T&amp;D_019_Work Order - Locked Estimate Costs_2023-06-23_22_26_32.docx\nOGE_FSD_NH-E_WAM_T&amp;D_019_Work Order - Locked Estimate Costs_2023-06-28_16_25_26.docx\nOGE_FSD_NH-E_WAM_T&amp;D_019_Work Order - Locked Estimate Costs_2023-07-14_04_04_02.docx\nOGE_FSD_NH-E_WAM_TD_027_Automate meter set order from construction work_2023-06-23_21_07_01.docx\nOGE_FSD_NH-E_WAM_TD_027_Automate meter set order from construction work_2023-07-12_17_28_26.docx\nOGE_FSD_NH-E_WAM_TD_027_Automate meter set order from construction work_2023-07-12_17_56_33.docx\nOGE_FSD_NH-E_WAM_TD_027_Automate meter set order from construction work_2023-07-12_20_01_03.docx\nOGE_FSD_NH-E_WAM_TD_027_Automate meter set order from construction work_2023-07-12_20_05_43.docx\nOGE_FSD_NH-E_WAM_TD_027_Automate meter set order from construction work_2023-07-12_21_28_25.docx\nOGE_FSD_NH-E_WAM_TD_027_Automate meter set order from construction work_2023-07-14_05_23_48.docx\nOGE_FSD_RM-F_FIN_001_Check Form for Bank of Oklahoma _2023-10-11_20_20_09.docx\nOGE_FSD_RM-F_FIN_002_Vendor Remittance Form_2023-10-11_20_16_46.docx\nOGE_FSD_RM-F_WAM_T&amp;D_002_Customer Payment Quote for CIAC Billing_2023-08-07_14_21_47.docx\nOGE_FSD_RM-F_WAM_T&amp;D_002_Customer Payment Quote for CIAC Billing_2023-08-07_15_14_45.docx\nOGE_FSD_RM-F_WAM_T&amp;D_002_Customer Payment Quote for CIAC Billing_2023-08-07_16_06_55.docx\nOGE_FSD_RM-F_WAM_T&amp;D_002_Customer Payment Quote for CIAC Billing_2023-09-21_17_09_32.docx\nOGE_FSD_RM-F_WAM_T&amp;D_002_Customer Payment Quote for CIAC Billing_2023-09-21_17_19_35.docx\nOGE_FSD_RPT-E_WAM_PS_016_ZWCM - Work Clearance Mgmt_2023-10-11_20_48_19.docx\nOGE_FSD_RPT-E_WAM_PS_017_ZH135-Supvsr SignOff - Payroll Aprvd Time_2023-10-11_20_43_26.docx\nOGE_FSD_RPT-R_WAM_T&amp;D_003_Cycle Time Reporting_2023-06-23_21_00_50.docx\nOGE_FSD_RPT-R_WAM_T&amp;D_003_Cycle Time Reporting_2023-07-14_16_49_16.docx\nOGE_FSD_RPT-R_WAM_T&amp;D_003_Cycle Time Reporting_2023-07-18_14_02_41.docx\nOGE_FSD_RPT-R_WAM_T&amp;D_003_Cycle Time Reporting_2023-07-18_16_50_55.docx\nOGE_FSD_RPT-R_WAM_T&amp;D_003_Cycle Time Reporting_2023-07-19_02_49_21.docx\nOGE_FSD_WKF-W_FIN_001_Send notification to users who have Discounts coming due_2023-10-11_20_13_42.docx\nOGE_FSD_WKF-W_SCM_001_PR Approval_2023-10-11_20_00_59.docx\nOGE_Functional Specification Document Template__Approved.docx\nOGE_Functional Specification Document_ENH Template__Approved.docx\nOGE_Functional Specification Document_FRM Template__Approved.docx\nOGE_Functional Specification Document_RPT Template__Approved.docx\nOGE_Functional Specification Document_WKF Template__Approved.docx\nOGE_Functional Specification_Document_CNV_Template__Approved.docx\nOGE_Functional Specification_Document_INT_Template__Approved.docx\nOneDrive_1_7-28-2023.zip\nOneDrive_1_7-29-2023.zip\nOneDrive_2023-09-15.zip\nOpportunity Product Line Analysis.csv\nRD_secondsetofFSDs.zip\nReportQuestionnaire_Aug_15_ModulesAddedV1.csv\nReportQuestionnaire_Aug_15_ModulesAddedV2.csv\nReportQuestionnaire_Jul_31.csv\nRepository-20230731T135139Z-001.zip\nRepository-20230731T135139Z-001_deflated_zip/\nS4 DataPrep_MDG_FSD_ I_MDG_0014- Interface from GEP to MDG for Supplier creation_.docx\nS4 DataPrep_MDG_FSD_E_MDG_0003_Email_Notifications_MaterialMaster.docx\nS4_Core_BPD_PA_Assets.docx_image1.png\nS4_Core_BPD_SCM_Supply_Chain_Master_Data.docx_image2.png\nS4_Core_SCM_BPD_Supply_Chain_Master_Data.docx_image2.png\nTestOutput1.docx\nTestOutputPortion1.docx\nTime_audit_datamodel.xlsx\nTonyDocumentOutput.csv\nTonyTest1.docx\nTonyTest2.docx\nTranscripts.zip\nWorkplace Investigation Summary - ABC-181-2484.docx\nWorkplace Investigation Summary - ABC-263-2852.docx\nWorkplace Investigation Summary - ABC-267-5560.docx\nWorkplace Investigation Summary - ABC-269-1383.docx\nWorkplace Investigation Summary - ABC-425-3225.docx\nWorkplace Investigation Summary - ABC-455-6789.docx\nWorkplace Investigation Summary - ABC-623-4601.docx\nWorkplace Investigation Summary - ABC-680-5790.docx\nWorkplace Investigation Summary - ABC-812-3541.docx\nWorkplace Investigation Summary - ABC-895-6824.docx\nWorkplace Investigation Summary - ABC-898-7514.docx\nWorkplace Investigation Summary - ABC-900-6072.docx\nWorkplace Investigation Summary - ABC-939-6720.docx\nWorkplace Investigation Summary - ABC-974-3650.docx\nall_fsd_no_dups_with_module.xlsx\nall_fsd_with_full_text_and_summarizedNOCASHMANAGEMENT.xlsx\ncash_management_SQLOnly.xlsx\ncatalog_search_results.xlsx\ncatalog_search_results_sql.xlsx\ncatalog_test_results_boosted.xlsx\ncleaned_df_resultsV1.xlsx\ncleaned_df_results_reasoningV1.xlsx\ncleaned_df_results_reasoningV3.xlsx\ncleaned_df_results_sqlV2.xlsx\ncleaned_df_results_sqlV3.xlsx\ncleaned_df_test_V1.xlsx\ncleaned_df_test_results_sqlV1.xlsx\ncleaned_df_train_V2.xlsx\ncleaned_fsd_with_sql.xlsx\ncleansed_descriptions.xlsx\ncleansed_polygons.xlsx\ncleansed_transcript.txt\ncleansed_transcript_new.txt\ncleansed_transcript_new.xlsx\ncleansed_transcript_new1.txt\ncomparison_aug17.xlsx\ndatabricks/\ndescription.xlsx\ndummytest.xlsx\neasy_med_hard.xlsx\nfinancials_catalog.csv\ngeneral_ledger_and_asset.xlsx\ngeneral_ledger_and_assetSQLOnly.xlsx\ngpt35_2ndFSDTestSetof10.xlsx\ngpt35_2ndFSDTestSetof10MichaelOUTPUTRESULTSJustsmiliarsqlandcatalog.xlsx\ngpt35_2ndFSDTestSetof10MichaelOUTPUTRESULTSJustsmiliarsqlandcatalogupdatedcleansedFSD.xlsx\ngpt35_2ndFSDTestSetof10_NEW_SET.xlsx\ngpt35_2ndFSDTestSetof10_SAGAR_10.xlsx\ngpt4_2ndFSDTestSetof10.xlsx\ngpt4_2ndFSDTestSetof10_NEW.xlsx\nhcm_test_ouput.xlsx\nhcm_test_output.xlsx\nhcm_test_outputV2.xlsx\nimage2.png\nimage_analysis_bpd.xlsx\nindexstore_BPD_OpenAI_v0.pkl\nindexstore_BPD_OpenAI_v1.pkl\nindexstore_BPD_OpenAI_v2.pkl\nindexstore_BPD_OpenAI_v3_chunked.pkl\nindexstore_FSD.pkl\nindexstore_FSD1.pkl\nindexstore_FSD2.pkl\nindexstore_FSD3.pkl\nindexstore_FSD4.pkl\nindexstore_FSD_1.pkl\nindexstore_FSD_HuggingFace_v0.pkl\nindexstore_FSD_HuggingFace_v1.pkl\nindexstore_FSD_HuggingFace_v2.pkl\nindexstore_FSD_OpenAI_test.pkl\nindexstore_FSD_OpenAI_v1_chunked.pkl\nindexstore_Transcripts_HuggingFace_v0.pkl\nindexstore_Transcripts_HuggingFace_v1.pkl\nindexstore_Transcripts_HuggingFace_v2.pkl\nindexstore_Transcripts_OpenAI_Tests_v0.pkl\nindexstore_Transcripts_OpenAI_Tests_v1.pkl\nindexstore_Transcripts_OpenAI_test.pkl\nindexstore_Transcripts_OpenAI_test2.pkl\nindexstore_Transcripts_OpenAI_v0.pkl\nindexstore_Transcripts_OpenAI_v3.pkl\nindexstore_Transcripts_OpenAI_v3_unchunked.pkl\nindexstore_Transcripts_OpenAI_v4_unchunked.pkl\nindexstore_Transcripts_OpenAI_v5_unchunked.pkl\nindexstore_Transcripts_OpenAI_v5_unchunked_oldtranscripts.pkl\nindexstore_Transcripts_OpenAI_v6_chunked.pkl\nindexstore_Transcripts_OpenAI_v6_unchunked.pkl\njoplin.txt\nknowledge_base_v0.json\nlukas_catalog_test_results.xlsx\nmike_output.txt\nmike_output2.txt\nnew_set_8.0.xlsx\noracle_data_model_financials_combined_long_v1.pkl\noracle_data_model_financials_combined_short_v1.pkl\noracle_data_model_financials_long_clean_v1.pkl\noracle_data_model_financials_long_v1.pkl\noracle_data_model_financials_short_clean_v1.pkl\noracle_data_model_financials_short_v1.pkl\noracle_data_model_financials_views_long_v1.pkl\noracle_data_model_financials_views_short_v1.pkl\noracle_data_model_hcm_combined_short_v1.pkl\noracle_data_model_hcm_short_v1.pkl\noracle_data_model_hcm_tables_long_v1.pkl\noracle_data_model_hcm_tables_short_clean_v1.pkl\noracle_data_model_hcm_tables_short_v1.pkl\noracle_data_model_hcm_views_long_v1.pkl\noracle_data_model_hcm_views_short_v1.pkl\noracle_data_model_long_v1.pkl\noracle_data_model_scm_combined_long_v1.pkl\noracle_data_model_scm_combined_short_v1.pkl\noracle_data_model_scm_long_clean_v1.pkl\noracle_data_model_scm_long_v1.pkl\noracle_data_model_scm_short_clean_v1.pkl\noracle_data_model_scm_short_v1.pkl\noracle_data_model_scm_views_long_v1.pkl\noracle_data_model_scm_views_short_clean_v1.pkl\noracle_data_model_scm_views_short_v1.pkl\noracle_data_model_short_v1.pkl\noracle_data_model_short_v1.xlsx\noracle_data_model_short_v2.pkl\noracle_data_model_short_v3.pkl\noracle_docs_links_financials.txt\noracle_docs_links_hcm.txt\noracle_docs_links_scm.txt\npolygon.xlsx\nrequirements_matching.xlsx\nrequirements_matching1.xlsx\nrequirements_matching2.xlsx\nrequirements_matching3.xlsx\nrunloop_test_set.xlsx\nsample_output_2.csv\nsampletest.xlsx\nsql_query_pk_test.xlsx\ntemp_file.txt\ntest.docx\ntestDocumentOutput.csv\ntest_set9_28_resultsof8V1.xlsx\ntime_audit_test_output.xlsx\ntmp/\nall files successfully extracted\nS4 Core_BPD_SCM_Demand and Supply_ Planning .docx conversion started...\nS4 Core_BPD_SCM_Demand and Supply_ Planning  conversion ended...\nS4 Core_BPD_FIN_GL_Accounting.docx conversion started...\nS4 Core_BPD_FIN_GL_Accounting conversion ended...\nS4 Core_BPD_PA_Cost Repository.docx conversion started...\nS4 Core_BPD_PA_Cost Repository conversion ended...\nS4 Core_BPD_WAM_Reactive_Corrective Maintenance.docx conversion started...\nS4 Core_BPD_WAM_Reactive_Corrective Maintenance conversion ended...\nS4 Core_BPD_WAM_Preventative Maintenance, Inspections, and Operator Rounds.docx conversion started...\nS4 Core_BPD_WAM_Preventative Maintenance, Inspections, and Operator Rounds conversion ended...\nS4 Core_SCM_BPD_Direct Procurement.docx conversion started...\nS4 Core_SCM_BPD_Direct Procurement conversion ended...\nS4 Core_BPD_FIN_Labor and Labor Related Costs.docx conversion started...\nS4 Core_BPD_FIN_Labor and Labor Related Costs conversion ended...\nS4 Core_BPD_FIN_O&amp;M Cost Flow (Non-Labor).docx conversion started...\nS4 Core_BPD_FIN_O&amp;M Cost Flow (Non-Labor) conversion ended...\nS4 Core_BPD_FIN_S4 FERC Accounting.docx conversion started...\nS4 Core_BPD_FIN_S4 FERC Accounting conversion ended...\nS4 Core_BPD_WAM_TD_Outage_Management.docx conversion started...\nS4 Core_BPD_WAM_TD_Outage_Management conversion ended...\nS4 Core_BPD_WAM Capital Projects (Constructions and Replacements).docx conversion started...\nS4 Core_BPD_WAM Capital Projects (Constructions and Replacements) conversion ended...\nS4 Core_BPD_FIN_Bank Accounting.docx conversion started...\nS4 Core_BPD_FIN_Bank Accounting conversion ended...\nS4 Core_BPD_WAM_Work_Clearance Management_Process.docx conversion started...\nS4 Core_BPD_WAM_Work_Clearance Management_Process conversion ended...\nS4 Core_SCM_BPD Warehouse Management.docx conversion started...\nS4 Core_SCM_BPD Warehouse Management conversion ended...\nS4 Core_BPD_FIN_Indirect Taxes.docx conversion started...\nS4 Core_BPD_FIN_Indirect Taxes conversion ended...\nS4 Core_BPD_WAM_Power Supply_Outage Management.docx conversion started...\nS4 Core_BPD_WAM_Power Supply_Outage Management conversion ended...\nS4 Core_SCM_BPD_Special Procurement Process .docx conversion started...\nS4 Core_SCM_BPD_Special Procurement Process  conversion ended...\nS4 Core_BPD_WAM_Customer_Construction.docx conversion started...\nS4 Core_BPD_WAM_Customer_Construction conversion ended...\nS4 Core_BPD_FIN_Treasury - Debt Management.docx conversion started...\nS4 Core_BPD_FIN_Treasury - Debt Management conversion ended...\nS4 Core_SCM_BPD_Quality Management .docx conversion started...\nS4 Core_SCM_BPD_Quality Management  conversion ended...\nS4 Core_BPD_FIN_Third Party Billing.docx conversion started...\nS4 Core_BPD_FIN_Third Party Billing conversion ended...\nS4 Core_BPD_PA_CIAC.docx conversion started...\nS4 Core_BPD_PA_CIAC conversion ended...\nS4 Core_BPD_FIN_Cash Management.docx conversion started...\nS4 Core_BPD_FIN_Cash Management conversion ended...\nS4 Core_BPD_WAM_Asset_Reliability and Performance (APM).docx conversion started...\nS4 Core_BPD_WAM_Asset_Reliability and Performance (APM) conversion ended...\nS4 Core_BPD_PA_Assets.docx conversion started...\nS4 Core_BPD_PA_Assets conversion ended...\nS4 Core_BPD_WAM_Meter Management.docx conversion started...\nS4 Core_BPD_WAM_Meter Management conversion ended...\nS4 Core_BPD_SCM_Supply Chain Master Data.docx conversion started...\nS4 Core_BPD_SCM_Supply Chain Master Data conversion ended...\nS4 Core_SCM_BPD_Indirect Procurement.docx conversion started...\nS4 Core_SCM_BPD_Indirect Procurement conversion ended...\nS4 Core_SCM_BPD_Supply Chain Master Data.docx conversion started...\nS4 Core_SCM_BPD_Supply Chain Master Data conversion ended...\nS4 Core_SCM_BPD_Inventory Management (IM).docx conversion started...\nS4 Core_SCM_BPD_Inventory Management (IM) conversion ended...\nS4 Core_BPD_WAM_WAM Master Data.docx conversion started...\nS4 Core_BPD_WAM_WAM Master Data conversion ended...\nS4 Core_BPD_PA_Capital Spares &amp; Refurbishments.docx conversion started...\nS4 Core_BPD_PA_Capital Spares &amp; Refurbishments conversion ended...\nS4 Core_BPD_PA_Property Taxes (1).docx conversion started...\nS4 Core_BPD_PA_Property Taxes (1) conversion ended...\nS4 Core_BPD_PA_Tax Depreciation &amp; Deferred Taxes .docx conversion started...\nS4 Core_BPD_PA_Tax Depreciation &amp; Deferred Taxes  conversion ended...\nS4 Core_BPD_FIN_Tax Provision, Deferred Taxes, and Tax Compliance.docx conversion started...\nS4 Core_BPD_FIN_Tax Provision, Deferred Taxes, and Tax Compliance conversion ended...\nS4 Core_BPD_FIN_Accounts Payable.docx conversion started...\nS4 Core_BPD_FIN_Accounts Payable conversion ended...\nS4 Core_BPD_FIN_Accounts Payable Payments &amp; Reporting.docx conversion started...\nS4 Core_BPD_FIN_Accounts Payable Payments &amp; Reporting conversion ended...\nS4 Core_BPD_FIN_FP&amp;A Planning.docx conversion started...\nS4 Core_BPD_FIN_FP&amp;A Planning conversion ended...\nS4 Core_BPD_FIN_Period End Close.docx conversion started...\nS4 Core_BPD_FIN_Period End Close conversion ended...\nS4 Core_BPD_PA_Tax Repairs.docx conversion started...\nS4 Core_BPD_PA_Tax Repairs conversion ended...\nS4 Core_BPD_PA_Depreciation.docx conversion started...\nS4 Core_BPD_PA_Depreciation conversion ended...\nS4 Core_BPD_PA_Capital Project Initiation.docx conversion started...\nS4 Core_BPD_PA_Capital Project Initiation conversion ended...\nS4 Core_BPD_PA_Asset Retirement Obligations.docx conversion started...\nS4 Core_BPD_PA_Asset Retirement Obligations conversion ended...\nS4 Core_BPD_PA_Joint Owned Assets.docx conversion started...\nS4 Core_BPD_PA_Joint Owned Assets conversion ended...\nS4 Core_BPD_PA_Capital Cost Collection.docx conversion started...\nS4 Core_BPD_PA_Capital Cost Collection conversion ended...\n</div>",
       "datasetInfos": [],
       "metadata": {},
       "removedWidgets": [],
       "type": "html"
      }
     },
     "output_type": "display_data"
    }
   ],
   "source": [
    "bpds = read_documents(zip_filename='BPD',\n",
    "                      zip_dir='/SAP_KG/')"
   ]
  },
  {
   "cell_type": "code",
   "execution_count": 0,
   "metadata": {
    "application/vnd.databricks.v1+cell": {
     "cellMetadata": {
      "byteLimit": 2048000,
      "rowLimit": 10000
     },
     "inputWidgets": {},
     "nuid": "d53f75e8-9dd9-4ccc-ae27-c87b4f5354e8",
     "showTitle": false,
     "title": ""
    }
   },
   "outputs": [
    {
     "output_type": "display_data",
     "data": {
      "text/html": [
       "<style scoped>\n",
       "  .ansiout {\n",
       "    display: block;\n",
       "    unicode-bidi: embed;\n",
       "    white-space: pre-wrap;\n",
       "    word-wrap: break-word;\n",
       "    word-break: break-all;\n",
       "    font-family: \"Source Code Pro\", \"Menlo\", monospace;;\n",
       "    font-size: 13px;\n",
       "    color: #555;\n",
       "    margin-left: 4px;\n",
       "    line-height: 19px;\n",
       "  }\n",
       "</style>\n",
       "<div class=\"ansiout\">Chunking\n",
       "</div>"
      ]
     },
     "metadata": {
      "application/vnd.databricks.v1+output": {
       "addedWidgets": {},
       "arguments": {},
       "data": "<div class=\"ansiout\">Chunking\n</div>",
       "datasetInfos": [],
       "metadata": {},
       "removedWidgets": [],
       "type": "html"
      }
     },
     "output_type": "display_data"
    }
   ],
   "source": [
    "bpds_chunked = chunk_documents(bpds, chunk_size=5000, chunk_overlap=1000, heading=True)"
   ]
  },
  {
   "cell_type": "code",
   "execution_count": 0,
   "metadata": {
    "application/vnd.databricks.v1+cell": {
     "cellMetadata": {
      "byteLimit": 2048000,
      "rowLimit": 10000
     },
     "inputWidgets": {},
     "nuid": "df0bd603-3425-4d76-b63f-55a09c80b9e3",
     "showTitle": false,
     "title": ""
    }
   },
   "outputs": [
    {
     "output_type": "display_data",
     "data": {
      "text/html": [
       "<style scoped>\n",
       "  .ansiout {\n",
       "    display: block;\n",
       "    unicode-bidi: embed;\n",
       "    white-space: pre-wrap;\n",
       "    word-wrap: break-word;\n",
       "    word-break: break-all;\n",
       "    font-family: \"Source Code Pro\", \"Menlo\", monospace;;\n",
       "    font-size: 13px;\n",
       "    color: #555;\n",
       "    margin-left: 4px;\n",
       "    line-height: 19px;\n",
       "  }\n",
       "</style>\n",
       "<div class=\"ansiout\"></div>"
      ]
     },
     "metadata": {
      "application/vnd.databricks.v1+output": {
       "addedWidgets": {},
       "arguments": {},
       "data": "<div class=\"ansiout\"></div>",
       "datasetInfos": [],
       "metadata": {},
       "removedWidgets": [],
       "type": "html"
      }
     },
     "output_type": "display_data"
    }
   ],
   "source": [
    "# index_bpd_faiss = create_embedded_index(bpds_chunked,\n",
    "#                                         index_dir = '/tmp/SAP/',\n",
    "#                                         index_name = 'indexstore_BPD_OpenAI_v3_chunked.pkl',\n",
    "#                                         embedding_type = 'OpenAI',\n",
    "#                                         index_type = 'FAISS',\n",
    "#                                         save_to_workbench = True)"
   ]
  },
  {
   "cell_type": "code",
   "execution_count": 0,
   "metadata": {
    "application/vnd.databricks.v1+cell": {
     "cellMetadata": {
      "byteLimit": 2048000,
      "rowLimit": 10000
     },
     "inputWidgets": {},
     "nuid": "30015b96-b5b8-4f0e-b732-b98dc249dc3b",
     "showTitle": false,
     "title": ""
    }
   },
   "outputs": [
    {
     "output_type": "display_data",
     "data": {
      "text/html": [
       "<style scoped>\n",
       "  .ansiout {\n",
       "    display: block;\n",
       "    unicode-bidi: embed;\n",
       "    white-space: pre-wrap;\n",
       "    word-wrap: break-word;\n",
       "    word-break: break-all;\n",
       "    font-family: \"Source Code Pro\", \"Menlo\", monospace;;\n",
       "    font-size: 13px;\n",
       "    color: #555;\n",
       "    margin-left: 4px;\n",
       "    line-height: 19px;\n",
       "  }\n",
       "</style>\n",
       "<div class=\"ansiout\"></div>"
      ]
     },
     "metadata": {
      "application/vnd.databricks.v1+output": {
       "addedWidgets": {},
       "arguments": {},
       "data": "<div class=\"ansiout\"></div>",
       "datasetInfos": [],
       "metadata": {},
       "removedWidgets": [],
       "type": "html"
      }
     },
     "output_type": "display_data"
    }
   ],
   "source": [
    "# index_bpd_whoosh = DocumentIndexWhoosh().from_documents(bpds_chunked, index_path_out=\"/tmp/SAP/index_bpd_whoosh\")"
   ]
  },
  {
   "cell_type": "code",
   "execution_count": 0,
   "metadata": {
    "application/vnd.databricks.v1+cell": {
     "cellMetadata": {
      "byteLimit": 2048000,
      "rowLimit": 10000
     },
     "inputWidgets": {},
     "nuid": "e94c5fce-cb3e-4de1-89b3-f8d6ed7f2f9f",
     "showTitle": false,
     "title": ""
    }
   },
   "outputs": [
    {
     "output_type": "display_data",
     "data": {
      "text/html": [
       "<style scoped>\n",
       "  .ansiout {\n",
       "    display: block;\n",
       "    unicode-bidi: embed;\n",
       "    white-space: pre-wrap;\n",
       "    word-wrap: break-word;\n",
       "    word-break: break-all;\n",
       "    font-family: \"Source Code Pro\", \"Menlo\", monospace;;\n",
       "    font-size: 13px;\n",
       "    color: #555;\n",
       "    margin-left: 4px;\n",
       "    line-height: 19px;\n",
       "  }\n",
       "</style>\n",
       "<div class=\"ansiout\"></div>"
      ]
     },
     "metadata": {
      "application/vnd.databricks.v1+output": {
       "addedWidgets": {},
       "arguments": {},
       "data": "<div class=\"ansiout\"></div>",
       "datasetInfos": [],
       "metadata": {},
       "removedWidgets": [],
       "type": "html"
      }
     },
     "output_type": "display_data"
    }
   ],
   "source": [
    "# index_bpd_combined = CombinedIndex(index_bpd_faiss, index_bpd_whoosh)"
   ]
  },
  {
   "cell_type": "markdown",
   "metadata": {
    "application/vnd.databricks.v1+cell": {
     "cellMetadata": {
      "byteLimit": 2048000,
      "rowLimit": 10000
     },
     "inputWidgets": {},
     "nuid": "8acfef68-d032-474b-8fad-0b8580533840",
     "showTitle": false,
     "title": ""
    }
   },
   "source": [
    "### Generate indexes for Transcripts"
   ]
  },
  {
   "cell_type": "code",
   "execution_count": 0,
   "metadata": {
    "application/vnd.databricks.v1+cell": {
     "cellMetadata": {
      "byteLimit": 2048000,
      "rowLimit": 10000
     },
     "inputWidgets": {},
     "nuid": "f72b5a4b-a9fc-413b-989a-1de45eb9caeb",
     "showTitle": false,
     "title": ""
    }
   },
   "outputs": [
    {
     "output_type": "display_data",
     "data": {
      "text/html": [
       "<style scoped>\n",
       "  .ansiout {\n",
       "    display: block;\n",
       "    unicode-bidi: embed;\n",
       "    white-space: pre-wrap;\n",
       "    word-wrap: break-word;\n",
       "    word-break: break-all;\n",
       "    font-family: \"Source Code Pro\", \"Menlo\", monospace;;\n",
       "    font-size: 13px;\n",
       "    color: #555;\n",
       "    margin-left: 4px;\n",
       "    line-height: 19px;\n",
       "  }\n",
       "</style>\n",
       "<div class=\"ansiout\"></div>"
      ]
     },
     "metadata": {
      "application/vnd.databricks.v1+output": {
       "addedWidgets": {},
       "arguments": {},
       "data": "<div class=\"ansiout\"></div>",
       "datasetInfos": [],
       "metadata": {},
       "removedWidgets": [],
       "type": "html"
      }
     },
     "output_type": "display_data"
    }
   ],
   "source": [
    "transcripts = read_documents_transcripts(doc_path=\"/tmp/Input_SAP/cleansed_transcript_new1.txt\", combine=True, heading=True)"
   ]
  },
  {
   "cell_type": "code",
   "execution_count": 0,
   "metadata": {
    "application/vnd.databricks.v1+cell": {
     "cellMetadata": {
      "byteLimit": 2048000,
      "rowLimit": 10000
     },
     "inputWidgets": {},
     "nuid": "56a4291b-1f00-4c54-af0e-8c657de248c4",
     "showTitle": false,
     "title": ""
    }
   },
   "outputs": [
    {
     "output_type": "display_data",
     "data": {
      "text/html": [
       "<style scoped>\n",
       "  .ansiout {\n",
       "    display: block;\n",
       "    unicode-bidi: embed;\n",
       "    white-space: pre-wrap;\n",
       "    word-wrap: break-word;\n",
       "    word-break: break-all;\n",
       "    font-family: \"Source Code Pro\", \"Menlo\", monospace;;\n",
       "    font-size: 13px;\n",
       "    color: #555;\n",
       "    margin-left: 4px;\n",
       "    line-height: 19px;\n",
       "  }\n",
       "</style>\n",
       "<div class=\"ansiout\">Chunking\n",
       "</div>"
      ]
     },
     "metadata": {
      "application/vnd.databricks.v1+output": {
       "addedWidgets": {},
       "arguments": {},
       "data": "<div class=\"ansiout\">Chunking\n</div>",
       "datasetInfos": [],
       "metadata": {},
       "removedWidgets": [],
       "type": "html"
      }
     },
     "output_type": "display_data"
    }
   ],
   "source": [
    "transcripts_chunked = chunk_documents(transcripts, chunk_size=5000, chunk_overlap=1000)"
   ]
  },
  {
   "cell_type": "code",
   "execution_count": 0,
   "metadata": {
    "application/vnd.databricks.v1+cell": {
     "cellMetadata": {
      "byteLimit": 2048000,
      "rowLimit": 10000
     },
     "inputWidgets": {},
     "nuid": "7ea1e4eb-7b4e-4ff9-9a3c-10cac34cf381",
     "showTitle": false,
     "title": ""
    }
   },
   "outputs": [
    {
     "output_type": "display_data",
     "data": {
      "text/html": [
       "<style scoped>\n",
       "  .ansiout {\n",
       "    display: block;\n",
       "    unicode-bidi: embed;\n",
       "    white-space: pre-wrap;\n",
       "    word-wrap: break-word;\n",
       "    word-break: break-all;\n",
       "    font-family: \"Source Code Pro\", \"Menlo\", monospace;;\n",
       "    font-size: 13px;\n",
       "    color: #555;\n",
       "    margin-left: 4px;\n",
       "    line-height: 19px;\n",
       "  }\n",
       "</style>\n",
       "<div class=\"ansiout\"></div>"
      ]
     },
     "metadata": {
      "application/vnd.databricks.v1+output": {
       "addedWidgets": {},
       "arguments": {},
       "data": "<div class=\"ansiout\"></div>",
       "datasetInfos": [],
       "metadata": {},
       "removedWidgets": [],
       "type": "html"
      }
     },
     "output_type": "display_data"
    }
   ],
   "source": [
    "# index_transcripts_faiss = create_embedded_index(transcripts_chunked,\n",
    "#                                         index_dir = '/tmp/SAP/',\n",
    "#                                         index_name = 'indexstore_Transcripts_OpenAI_v6_chunked.pkl',\n",
    "#                                         embedding_type = 'OpenAI',\n",
    "#                                         index_type = 'FAISS',\n",
    "#                                         save_to_workbench = False)"
   ]
  },
  {
   "cell_type": "code",
   "execution_count": 0,
   "metadata": {
    "application/vnd.databricks.v1+cell": {
     "cellMetadata": {
      "byteLimit": 2048000,
      "rowLimit": 10000
     },
     "inputWidgets": {},
     "nuid": "b4dec3a9-accd-4873-b45b-d22e59e60727",
     "showTitle": false,
     "title": ""
    }
   },
   "outputs": [
    {
     "output_type": "display_data",
     "data": {
      "text/html": [
       "<style scoped>\n",
       "  .ansiout {\n",
       "    display: block;\n",
       "    unicode-bidi: embed;\n",
       "    white-space: pre-wrap;\n",
       "    word-wrap: break-word;\n",
       "    word-break: break-all;\n",
       "    font-family: \"Source Code Pro\", \"Menlo\", monospace;;\n",
       "    font-size: 13px;\n",
       "    color: #555;\n",
       "    margin-left: 4px;\n",
       "    line-height: 19px;\n",
       "  }\n",
       "</style>\n",
       "<div class=\"ansiout\"></div>"
      ]
     },
     "metadata": {
      "application/vnd.databricks.v1+output": {
       "addedWidgets": {},
       "arguments": {},
       "data": "<div class=\"ansiout\"></div>",
       "datasetInfos": [],
       "metadata": {},
       "removedWidgets": [],
       "type": "html"
      }
     },
     "output_type": "display_data"
    },
    {
     "output_type": "display_data",
     "data": {
      "text/html": [
       "<style scoped>\n",
       "  .ansiout {\n",
       "    display: block;\n",
       "    unicode-bidi: embed;\n",
       "    white-space: pre-wrap;\n",
       "    word-wrap: break-word;\n",
       "    word-break: break-all;\n",
       "    font-family: \"Source Code Pro\", \"Menlo\", monospace;;\n",
       "    font-size: 13px;\n",
       "    color: #555;\n",
       "    margin-left: 4px;\n",
       "    line-height: 19px;\n",
       "  }\n",
       "</style>\n",
       "<div class=\"ansiout\"><span class=\"ansi-red-fg\">---------------------------------------------------------------------------</span>\n",
       "<span class=\"ansi-red-fg\">EmptyIndexError</span>                           Traceback (most recent call last)\n",
       "<span class=\"ansi-green-fg\">&lt;command-2059516999343162&gt;</span> in <span class=\"ansi-cyan-fg\">&lt;module&gt;</span>\n",
       "<span class=\"ansi-green-intense-fg ansi-bold\">      1</span> <span class=\"ansi-red-fg\">#index_transcripts_whoosh = DocumentIndexWhoosh().from_documents(transcripts_chunked, index_path_out=&#34;/tmp/SAP/index_transcripts_whoosh&#34;)</span>\n",
       "<span class=\"ansi-green-intense-fg ansi-bold\">      2</span> <span class=\"ansi-red-fg\"># Alternative:</span>\n",
       "<span class=\"ansi-green-fg\">----&gt; 3</span><span class=\"ansi-red-fg\"> </span>index_transcripts_whoosh <span class=\"ansi-blue-fg\">=</span> DocumentIndexWhoosh<span class=\"ansi-blue-fg\">(</span><span class=\"ansi-blue-fg\">)</span><span class=\"ansi-blue-fg\">.</span>load<span class=\"ansi-blue-fg\">(</span><span class=\"ansi-blue-fg\">&#34;/tmp/SAP/index_transcripts_whoosh&#34;</span><span class=\"ansi-blue-fg\">)</span>\n",
       "\n",
       "<span class=\"ansi-green-fg\">&lt;command-2059516999342862&gt;</span> in <span class=\"ansi-cyan-fg\">load</span><span class=\"ansi-blue-fg\">(self, index_path_in)</span>\n",
       "<span class=\"ansi-green-intense-fg ansi-bold\">     35</span> \n",
       "<span class=\"ansi-green-intense-fg ansi-bold\">     36</span>   <span class=\"ansi-green-fg\">def</span> load<span class=\"ansi-blue-fg\">(</span>self<span class=\"ansi-blue-fg\">,</span> index_path_in<span class=\"ansi-blue-fg\">)</span><span class=\"ansi-blue-fg\">:</span>\n",
       "<span class=\"ansi-green-fg\">---&gt; 37</span><span class=\"ansi-red-fg\">     </span>ix <span class=\"ansi-blue-fg\">=</span> open_dir<span class=\"ansi-blue-fg\">(</span>index_path_in<span class=\"ansi-blue-fg\">)</span>\n",
       "<span class=\"ansi-green-intense-fg ansi-bold\">     38</span>     self<span class=\"ansi-blue-fg\">.</span>_index <span class=\"ansi-blue-fg\">=</span> ix\n",
       "<span class=\"ansi-green-intense-fg ansi-bold\">     39</span>     search_field <span class=\"ansi-blue-fg\">=</span> <span class=\"ansi-blue-fg\">&#34;content_stem&#34;</span>\n",
       "\n",
       "<span class=\"ansi-green-fg\">/databricks/python/lib/python3.8/site-packages/whoosh/index.py</span> in <span class=\"ansi-cyan-fg\">open_dir</span><span class=\"ansi-blue-fg\">(dirname, indexname, readonly, schema)</span>\n",
       "<span class=\"ansi-green-intense-fg ansi-bold\">    121</span>         indexname <span class=\"ansi-blue-fg\">=</span> _DEF_INDEX_NAME\n",
       "<span class=\"ansi-green-intense-fg ansi-bold\">    122</span>     storage <span class=\"ansi-blue-fg\">=</span> FileStorage<span class=\"ansi-blue-fg\">(</span>dirname<span class=\"ansi-blue-fg\">,</span> readonly<span class=\"ansi-blue-fg\">=</span>readonly<span class=\"ansi-blue-fg\">)</span>\n",
       "<span class=\"ansi-green-fg\">--&gt; 123</span><span class=\"ansi-red-fg\">     </span><span class=\"ansi-green-fg\">return</span> FileIndex<span class=\"ansi-blue-fg\">(</span>storage<span class=\"ansi-blue-fg\">,</span> schema<span class=\"ansi-blue-fg\">=</span>schema<span class=\"ansi-blue-fg\">,</span> indexname<span class=\"ansi-blue-fg\">=</span>indexname<span class=\"ansi-blue-fg\">)</span>\n",
       "<span class=\"ansi-green-intense-fg ansi-bold\">    124</span> \n",
       "<span class=\"ansi-green-intense-fg ansi-bold\">    125</span> \n",
       "\n",
       "<span class=\"ansi-green-fg\">/databricks/python/lib/python3.8/site-packages/whoosh/index.py</span> in <span class=\"ansi-cyan-fg\">__init__</span><span class=\"ansi-blue-fg\">(self, storage, schema, indexname)</span>\n",
       "<span class=\"ansi-green-intense-fg ansi-bold\">    419</span> \n",
       "<span class=\"ansi-green-intense-fg ansi-bold\">    420</span>         <span class=\"ansi-red-fg\"># Try reading the TOC to see if it&#39;s possible</span>\n",
       "<span class=\"ansi-green-fg\">--&gt; 421</span><span class=\"ansi-red-fg\">         </span>TOC<span class=\"ansi-blue-fg\">.</span>read<span class=\"ansi-blue-fg\">(</span>self<span class=\"ansi-blue-fg\">.</span>storage<span class=\"ansi-blue-fg\">,</span> self<span class=\"ansi-blue-fg\">.</span>indexname<span class=\"ansi-blue-fg\">,</span> schema<span class=\"ansi-blue-fg\">=</span>self<span class=\"ansi-blue-fg\">.</span>_schema<span class=\"ansi-blue-fg\">)</span>\n",
       "<span class=\"ansi-green-intense-fg ansi-bold\">    422</span> \n",
       "<span class=\"ansi-green-intense-fg ansi-bold\">    423</span>     <span class=\"ansi-blue-fg\">@</span>classmethod\n",
       "\n",
       "<span class=\"ansi-green-fg\">/databricks/python/lib/python3.8/site-packages/whoosh/index.py</span> in <span class=\"ansi-cyan-fg\">read</span><span class=\"ansi-blue-fg\">(cls, storage, indexname, gen, schema)</span>\n",
       "<span class=\"ansi-green-intense-fg ansi-bold\">    616</span>             gen <span class=\"ansi-blue-fg\">=</span> cls<span class=\"ansi-blue-fg\">.</span>_latest_generation<span class=\"ansi-blue-fg\">(</span>storage<span class=\"ansi-blue-fg\">,</span> indexname<span class=\"ansi-blue-fg\">)</span>\n",
       "<span class=\"ansi-green-intense-fg ansi-bold\">    617</span>             <span class=\"ansi-green-fg\">if</span> gen <span class=\"ansi-blue-fg\">&lt;</span> <span class=\"ansi-cyan-fg\">0</span><span class=\"ansi-blue-fg\">:</span>\n",
       "<span class=\"ansi-green-fg\">--&gt; 618</span><span class=\"ansi-red-fg\">                 raise EmptyIndexError(&#34;Index %r does not exist in %r&#34;\n",
       "</span><span class=\"ansi-green-intense-fg ansi-bold\">    619</span>                                       % (indexname, storage))\n",
       "<span class=\"ansi-green-intense-fg ansi-bold\">    620</span> \n",
       "\n",
       "<span class=\"ansi-red-fg\">EmptyIndexError</span>: Index &#39;MAIN&#39; does not exist in FileStorage(&#39;/tmp/SAP/index_transcripts_whoosh&#39;)</div>"
      ]
     },
     "metadata": {
      "application/vnd.databricks.v1+output": {
       "arguments": {},
       "data": "<div class=\"ansiout\"><span class=\"ansi-red-fg\">---------------------------------------------------------------------------</span>\n<span class=\"ansi-red-fg\">EmptyIndexError</span>                           Traceback (most recent call last)\n<span class=\"ansi-green-fg\">&lt;command-2059516999343162&gt;</span> in <span class=\"ansi-cyan-fg\">&lt;module&gt;</span>\n<span class=\"ansi-green-intense-fg ansi-bold\">      1</span> <span class=\"ansi-red-fg\">#index_transcripts_whoosh = DocumentIndexWhoosh().from_documents(transcripts_chunked, index_path_out=&#34;/tmp/SAP/index_transcripts_whoosh&#34;)</span>\n<span class=\"ansi-green-intense-fg ansi-bold\">      2</span> <span class=\"ansi-red-fg\"># Alternative:</span>\n<span class=\"ansi-green-fg\">----&gt; 3</span><span class=\"ansi-red-fg\"> </span>index_transcripts_whoosh <span class=\"ansi-blue-fg\">=</span> DocumentIndexWhoosh<span class=\"ansi-blue-fg\">(</span><span class=\"ansi-blue-fg\">)</span><span class=\"ansi-blue-fg\">.</span>load<span class=\"ansi-blue-fg\">(</span><span class=\"ansi-blue-fg\">&#34;/tmp/SAP/index_transcripts_whoosh&#34;</span><span class=\"ansi-blue-fg\">)</span>\n\n<span class=\"ansi-green-fg\">&lt;command-2059516999342862&gt;</span> in <span class=\"ansi-cyan-fg\">load</span><span class=\"ansi-blue-fg\">(self, index_path_in)</span>\n<span class=\"ansi-green-intense-fg ansi-bold\">     35</span> \n<span class=\"ansi-green-intense-fg ansi-bold\">     36</span>   <span class=\"ansi-green-fg\">def</span> load<span class=\"ansi-blue-fg\">(</span>self<span class=\"ansi-blue-fg\">,</span> index_path_in<span class=\"ansi-blue-fg\">)</span><span class=\"ansi-blue-fg\">:</span>\n<span class=\"ansi-green-fg\">---&gt; 37</span><span class=\"ansi-red-fg\">     </span>ix <span class=\"ansi-blue-fg\">=</span> open_dir<span class=\"ansi-blue-fg\">(</span>index_path_in<span class=\"ansi-blue-fg\">)</span>\n<span class=\"ansi-green-intense-fg ansi-bold\">     38</span>     self<span class=\"ansi-blue-fg\">.</span>_index <span class=\"ansi-blue-fg\">=</span> ix\n<span class=\"ansi-green-intense-fg ansi-bold\">     39</span>     search_field <span class=\"ansi-blue-fg\">=</span> <span class=\"ansi-blue-fg\">&#34;content_stem&#34;</span>\n\n<span class=\"ansi-green-fg\">/databricks/python/lib/python3.8/site-packages/whoosh/index.py</span> in <span class=\"ansi-cyan-fg\">open_dir</span><span class=\"ansi-blue-fg\">(dirname, indexname, readonly, schema)</span>\n<span class=\"ansi-green-intense-fg ansi-bold\">    121</span>         indexname <span class=\"ansi-blue-fg\">=</span> _DEF_INDEX_NAME\n<span class=\"ansi-green-intense-fg ansi-bold\">    122</span>     storage <span class=\"ansi-blue-fg\">=</span> FileStorage<span class=\"ansi-blue-fg\">(</span>dirname<span class=\"ansi-blue-fg\">,</span> readonly<span class=\"ansi-blue-fg\">=</span>readonly<span class=\"ansi-blue-fg\">)</span>\n<span class=\"ansi-green-fg\">--&gt; 123</span><span class=\"ansi-red-fg\">     </span><span class=\"ansi-green-fg\">return</span> FileIndex<span class=\"ansi-blue-fg\">(</span>storage<span class=\"ansi-blue-fg\">,</span> schema<span class=\"ansi-blue-fg\">=</span>schema<span class=\"ansi-blue-fg\">,</span> indexname<span class=\"ansi-blue-fg\">=</span>indexname<span class=\"ansi-blue-fg\">)</span>\n<span class=\"ansi-green-intense-fg ansi-bold\">    124</span> \n<span class=\"ansi-green-intense-fg ansi-bold\">    125</span> \n\n<span class=\"ansi-green-fg\">/databricks/python/lib/python3.8/site-packages/whoosh/index.py</span> in <span class=\"ansi-cyan-fg\">__init__</span><span class=\"ansi-blue-fg\">(self, storage, schema, indexname)</span>\n<span class=\"ansi-green-intense-fg ansi-bold\">    419</span> \n<span class=\"ansi-green-intense-fg ansi-bold\">    420</span>         <span class=\"ansi-red-fg\"># Try reading the TOC to see if it&#39;s possible</span>\n<span class=\"ansi-green-fg\">--&gt; 421</span><span class=\"ansi-red-fg\">         </span>TOC<span class=\"ansi-blue-fg\">.</span>read<span class=\"ansi-blue-fg\">(</span>self<span class=\"ansi-blue-fg\">.</span>storage<span class=\"ansi-blue-fg\">,</span> self<span class=\"ansi-blue-fg\">.</span>indexname<span class=\"ansi-blue-fg\">,</span> schema<span class=\"ansi-blue-fg\">=</span>self<span class=\"ansi-blue-fg\">.</span>_schema<span class=\"ansi-blue-fg\">)</span>\n<span class=\"ansi-green-intense-fg ansi-bold\">    422</span> \n<span class=\"ansi-green-intense-fg ansi-bold\">    423</span>     <span class=\"ansi-blue-fg\">@</span>classmethod\n\n<span class=\"ansi-green-fg\">/databricks/python/lib/python3.8/site-packages/whoosh/index.py</span> in <span class=\"ansi-cyan-fg\">read</span><span class=\"ansi-blue-fg\">(cls, storage, indexname, gen, schema)</span>\n<span class=\"ansi-green-intense-fg ansi-bold\">    616</span>             gen <span class=\"ansi-blue-fg\">=</span> cls<span class=\"ansi-blue-fg\">.</span>_latest_generation<span class=\"ansi-blue-fg\">(</span>storage<span class=\"ansi-blue-fg\">,</span> indexname<span class=\"ansi-blue-fg\">)</span>\n<span class=\"ansi-green-intense-fg ansi-bold\">    617</span>             <span class=\"ansi-green-fg\">if</span> gen <span class=\"ansi-blue-fg\">&lt;</span> <span class=\"ansi-cyan-fg\">0</span><span class=\"ansi-blue-fg\">:</span>\n<span class=\"ansi-green-fg\">--&gt; 618</span><span class=\"ansi-red-fg\">                 raise EmptyIndexError(&#34;Index %r does not exist in %r&#34;\n</span><span class=\"ansi-green-intense-fg ansi-bold\">    619</span>                                       % (indexname, storage))\n<span class=\"ansi-green-intense-fg ansi-bold\">    620</span> \n\n<span class=\"ansi-red-fg\">EmptyIndexError</span>: Index &#39;MAIN&#39; does not exist in FileStorage(&#39;/tmp/SAP/index_transcripts_whoosh&#39;)</div>",
       "errorSummary": "<span class=\"ansi-red-fg\">EmptyIndexError</span>: Index &#39;MAIN&#39; does not exist in FileStorage(&#39;/tmp/SAP/index_transcripts_whoosh&#39;)",
       "errorTraceType": "html",
       "metadata": {},
       "type": "ipynbError"
      }
     },
     "output_type": "display_data"
    }
   ],
   "source": [
    "#index_transcripts_whoosh = DocumentIndexWhoosh().from_documents(transcripts_chunked, index_path_out=\"/tmp/SAP/index_transcripts_whoosh\")\n",
    "# Alternative:\n",
    "index_transcripts_whoosh = DocumentIndexWhoosh().load(\"/tmp/SAP/index_transcripts_whoosh\")"
   ]
  },
  {
   "cell_type": "code",
   "execution_count": 0,
   "metadata": {
    "application/vnd.databricks.v1+cell": {
     "cellMetadata": {
      "byteLimit": 2048000,
      "rowLimit": 10000
     },
     "inputWidgets": {},
     "nuid": "666170c3-4e9c-4614-bc1a-2306c9933f41",
     "showTitle": false,
     "title": ""
    }
   },
   "outputs": [
    {
     "output_type": "display_data",
     "data": {
      "text/html": [
       "<style scoped>\n",
       "  .ansiout {\n",
       "    display: block;\n",
       "    unicode-bidi: embed;\n",
       "    white-space: pre-wrap;\n",
       "    word-wrap: break-word;\n",
       "    word-break: break-all;\n",
       "    font-family: \"Source Code Pro\", \"Menlo\", monospace;;\n",
       "    font-size: 13px;\n",
       "    color: #555;\n",
       "    margin-left: 4px;\n",
       "    line-height: 19px;\n",
       "  }\n",
       "</style>"
      ]
     },
     "metadata": {
      "application/vnd.databricks.v1+output": {
       "arguments": {},
       "data": "",
       "errorSummary": "Command skipped",
       "errorTraceType": "html",
       "metadata": {},
       "type": "ipynbError"
      }
     },
     "output_type": "display_data"
    }
   ],
   "source": [
    "index_transcripts_combined = CombinedIndex(index_transcripts_faiss, index_transcripts_whoosh)"
   ]
  },
  {
   "cell_type": "markdown",
   "metadata": {
    "application/vnd.databricks.v1+cell": {
     "cellMetadata": {
      "byteLimit": 2048000,
      "rowLimit": 10000
     },
     "inputWidgets": {},
     "nuid": "2f55f709-d38e-4015-8b20-799c934cd5ab",
     "showTitle": false,
     "title": ""
    }
   },
   "source": [
    "### Azure Cognitive Search Test"
   ]
  },
  {
   "cell_type": "code",
   "execution_count": 0,
   "metadata": {
    "application/vnd.databricks.v1+cell": {
     "cellMetadata": {
      "byteLimit": 2048000,
      "rowLimit": 10000
     },
     "inputWidgets": {},
     "nuid": "e2f5efb2-0df0-47cb-a2d4-078a5b87b2d0",
     "showTitle": false,
     "title": ""
    }
   },
   "outputs": [
    {
     "output_type": "display_data",
     "data": {
      "text/html": [
       "<style scoped>\n",
       "  .ansiout {\n",
       "    display: block;\n",
       "    unicode-bidi: embed;\n",
       "    white-space: pre-wrap;\n",
       "    word-wrap: break-word;\n",
       "    word-break: break-all;\n",
       "    font-family: \"Source Code Pro\", \"Menlo\", monospace;;\n",
       "    font-size: 13px;\n",
       "    color: #555;\n",
       "    margin-left: 4px;\n",
       "    line-height: 19px;\n",
       "  }\n",
       "</style>"
      ]
     },
     "metadata": {
      "application/vnd.databricks.v1+output": {
       "arguments": {},
       "data": "",
       "errorSummary": "Command skipped",
       "errorTraceType": "html",
       "metadata": {},
       "type": "ipynbError"
      }
     },
     "output_type": "display_data"
    }
   ],
   "source": [
    "index_transcripts_acs = DocumentIndexACS_v2(ACS_ENDPOINT, ACS_KEY, \"uc-sap-index-transcripts\")\\\n",
    "  .from_documents(transcripts_chunked)"
   ]
  },
  {
   "cell_type": "code",
   "execution_count": 0,
   "metadata": {
    "application/vnd.databricks.v1+cell": {
     "cellMetadata": {
      "byteLimit": 2048000,
      "rowLimit": 10000
     },
     "inputWidgets": {},
     "nuid": "21ec11b4-8563-402e-b445-926c44c4904f",
     "showTitle": false,
     "title": ""
    }
   },
   "outputs": [
    {
     "output_type": "display_data",
     "data": {
      "text/html": [
       "<style scoped>\n",
       "  .ansiout {\n",
       "    display: block;\n",
       "    unicode-bidi: embed;\n",
       "    white-space: pre-wrap;\n",
       "    word-wrap: break-word;\n",
       "    word-break: break-all;\n",
       "    font-family: \"Source Code Pro\", \"Menlo\", monospace;;\n",
       "    font-size: 13px;\n",
       "    color: #555;\n",
       "    margin-left: 4px;\n",
       "    line-height: 19px;\n",
       "  }\n",
       "</style>"
      ]
     },
     "metadata": {
      "application/vnd.databricks.v1+output": {
       "arguments": {},
       "data": "",
       "errorSummary": "Command skipped",
       "errorTraceType": "html",
       "metadata": {},
       "type": "ipynbError"
      }
     },
     "output_type": "display_data"
    }
   ],
   "source": [
    "index_fsd_acs = DocumentIndexACS_v2(ACS_ENDPOINT, ACS_KEY, \"uc-sap-index-fsd\")\\\n",
    "  .from_documents(fsds_chunked[:1000])"
   ]
  },
  {
   "cell_type": "code",
   "execution_count": 0,
   "metadata": {
    "application/vnd.databricks.v1+cell": {
     "cellMetadata": {
      "byteLimit": 2048000,
      "rowLimit": 10000
     },
     "inputWidgets": {},
     "nuid": "e79d4012-1206-48af-884f-851c21f559bf",
     "showTitle": false,
     "title": ""
    }
   },
   "outputs": [
    {
     "output_type": "display_data",
     "data": {
      "text/html": [
       "<style scoped>\n",
       "  .ansiout {\n",
       "    display: block;\n",
       "    unicode-bidi: embed;\n",
       "    white-space: pre-wrap;\n",
       "    word-wrap: break-word;\n",
       "    word-break: break-all;\n",
       "    font-family: \"Source Code Pro\", \"Menlo\", monospace;;\n",
       "    font-size: 13px;\n",
       "    color: #555;\n",
       "    margin-left: 4px;\n",
       "    line-height: 19px;\n",
       "  }\n",
       "</style>"
      ]
     },
     "metadata": {
      "application/vnd.databricks.v1+output": {
       "arguments": {},
       "data": "",
       "errorSummary": "Command skipped",
       "errorTraceType": "html",
       "metadata": {},
       "type": "ipynbError"
      }
     },
     "output_type": "display_data"
    }
   ],
   "source": [
    "index_bpd_acs = DocumentIndexACS_v2(ACS_ENDPOINT, ACS_KEY, \"uc-sap-index-bpd\")\\\n",
    "  .from_documents(bpds_chunked)"
   ]
  },
  {
   "cell_type": "markdown",
   "metadata": {
    "application/vnd.databricks.v1+cell": {
     "cellMetadata": {
      "byteLimit": 2048000,
      "rowLimit": 10000
     },
     "inputWidgets": {},
     "nuid": "215c3622-fc02-47a2-95ce-f953d8783d97",
     "showTitle": false,
     "title": ""
    }
   },
   "source": [
    "### Test indexes"
   ]
  },
  {
   "cell_type": "code",
   "execution_count": 0,
   "metadata": {
    "application/vnd.databricks.v1+cell": {
     "cellMetadata": {
      "byteLimit": 2048000,
      "rowLimit": 10000
     },
     "inputWidgets": {},
     "nuid": "5387adb8-bcf0-4507-b8bc-96ab15a6bb47",
     "showTitle": false,
     "title": ""
    }
   },
   "outputs": [
    {
     "output_type": "display_data",
     "data": {
      "text/html": [
       "<style scoped>\n",
       "  .ansiout {\n",
       "    display: block;\n",
       "    unicode-bidi: embed;\n",
       "    white-space: pre-wrap;\n",
       "    word-wrap: break-word;\n",
       "    word-break: break-all;\n",
       "    font-family: \"Source Code Pro\", \"Menlo\", monospace;;\n",
       "    font-size: 13px;\n",
       "    color: #555;\n",
       "    margin-left: 4px;\n",
       "    line-height: 19px;\n",
       "  }\n",
       "</style>"
      ]
     },
     "metadata": {
      "application/vnd.databricks.v1+output": {
       "arguments": {},
       "data": "",
       "errorSummary": "Command skipped",
       "errorTraceType": "html",
       "metadata": {},
       "type": "ipynbError"
      }
     },
     "output_type": "display_data"
    }
   ],
   "source": [
    "res = index_transcripts_acs.search_and_summarize(\"ArcGIS\", mode=\"hybrid\")\n",
    "print(res)"
   ]
  },
  {
   "cell_type": "code",
   "execution_count": 0,
   "metadata": {
    "application/vnd.databricks.v1+cell": {
     "cellMetadata": {
      "byteLimit": 2048000,
      "rowLimit": 10000
     },
     "inputWidgets": {},
     "nuid": "b4d84127-e377-4e3c-b07b-c136872bf97f",
     "showTitle": false,
     "title": ""
    }
   },
   "outputs": [
    {
     "output_type": "display_data",
     "data": {
      "text/html": [
       "<style scoped>\n",
       "  .ansiout {\n",
       "    display: block;\n",
       "    unicode-bidi: embed;\n",
       "    white-space: pre-wrap;\n",
       "    word-wrap: break-word;\n",
       "    word-break: break-all;\n",
       "    font-family: \"Source Code Pro\", \"Menlo\", monospace;;\n",
       "    font-size: 13px;\n",
       "    color: #555;\n",
       "    margin-left: 4px;\n",
       "    line-height: 19px;\n",
       "  }\n",
       "</style>"
      ]
     },
     "metadata": {
      "application/vnd.databricks.v1+output": {
       "arguments": {},
       "data": "",
       "errorSummary": "Command skipped",
       "errorTraceType": "html",
       "metadata": {},
       "type": "ipynbError"
      }
     },
     "output_type": "display_data"
    }
   ],
   "source": [
    "res = index_fsd_combined.search_and_summarize(\"ArcGIS\", verbose=True)\n",
    "print(res)"
   ]
  },
  {
   "cell_type": "code",
   "execution_count": 0,
   "metadata": {
    "application/vnd.databricks.v1+cell": {
     "cellMetadata": {
      "byteLimit": 2048000,
      "rowLimit": 10000
     },
     "inputWidgets": {},
     "nuid": "e8cd2ca4-ffa8-4195-9070-3fe1823a7313",
     "showTitle": false,
     "title": ""
    }
   },
   "outputs": [
    {
     "output_type": "display_data",
     "data": {
      "text/html": [
       "<style scoped>\n",
       "  .ansiout {\n",
       "    display: block;\n",
       "    unicode-bidi: embed;\n",
       "    white-space: pre-wrap;\n",
       "    word-wrap: break-word;\n",
       "    word-break: break-all;\n",
       "    font-family: \"Source Code Pro\", \"Menlo\", monospace;;\n",
       "    font-size: 13px;\n",
       "    color: #555;\n",
       "    margin-left: 4px;\n",
       "    line-height: 19px;\n",
       "  }\n",
       "</style>"
      ]
     },
     "metadata": {
      "application/vnd.databricks.v1+output": {
       "arguments": {},
       "data": "",
       "errorSummary": "Command skipped",
       "errorTraceType": "html",
       "metadata": {},
       "type": "ipynbError"
      }
     },
     "output_type": "display_data"
    }
   ],
   "source": [
    "res = index_bpd_combined.search_and_summarize(\"ArcGIS\", verbose=True)\n",
    "print(res)"
   ]
  },
  {
   "cell_type": "code",
   "execution_count": 0,
   "metadata": {
    "application/vnd.databricks.v1+cell": {
     "cellMetadata": {
      "byteLimit": 2048000,
      "rowLimit": 10000
     },
     "inputWidgets": {},
     "nuid": "d435992d-d759-4023-b26b-263c307d83a1",
     "showTitle": false,
     "title": ""
    }
   },
   "outputs": [
    {
     "output_type": "display_data",
     "data": {
      "text/html": [
       "<style scoped>\n",
       "  .ansiout {\n",
       "    display: block;\n",
       "    unicode-bidi: embed;\n",
       "    white-space: pre-wrap;\n",
       "    word-wrap: break-word;\n",
       "    word-break: break-all;\n",
       "    font-family: \"Source Code Pro\", \"Menlo\", monospace;;\n",
       "    font-size: 13px;\n",
       "    color: #555;\n",
       "    margin-left: 4px;\n",
       "    line-height: 19px;\n",
       "  }\n",
       "</style>"
      ]
     },
     "metadata": {
      "application/vnd.databricks.v1+output": {
       "arguments": {},
       "data": "",
       "errorSummary": "Command skipped",
       "errorTraceType": "html",
       "metadata": {},
       "type": "ipynbError"
      }
     },
     "output_type": "display_data"
    }
   ],
   "source": [
    "res = index_transcripts_combined.search_and_summarize(\"ArcGIS\", verbose=True)\n",
    "print(res)"
   ]
  },
  {
   "cell_type": "code",
   "execution_count": 0,
   "metadata": {
    "application/vnd.databricks.v1+cell": {
     "cellMetadata": {
      "byteLimit": 2048000,
      "rowLimit": 10000
     },
     "inputWidgets": {},
     "nuid": "b345061e-32a0-4079-ab33-bfc368c95e1c",
     "showTitle": false,
     "title": ""
    }
   },
   "outputs": [
    {
     "output_type": "display_data",
     "data": {
      "text/html": [
       "<style scoped>\n",
       "  .ansiout {\n",
       "    display: block;\n",
       "    unicode-bidi: embed;\n",
       "    white-space: pre-wrap;\n",
       "    word-wrap: break-word;\n",
       "    word-break: break-all;\n",
       "    font-family: \"Source Code Pro\", \"Menlo\", monospace;;\n",
       "    font-size: 13px;\n",
       "    color: #555;\n",
       "    margin-left: 4px;\n",
       "    line-height: 19px;\n",
       "  }\n",
       "</style>"
      ]
     },
     "metadata": {
      "application/vnd.databricks.v1+output": {
       "arguments": {},
       "data": "",
       "errorSummary": "Command skipped",
       "errorTraceType": "html",
       "metadata": {},
       "type": "ipynbError"
      }
     },
     "output_type": "display_data"
    }
   ],
   "source": [
    "index_transcripts_whoosh.search(\"ArcGIS\")"
   ]
  },
  {
   "cell_type": "code",
   "execution_count": 0,
   "metadata": {
    "application/vnd.databricks.v1+cell": {
     "cellMetadata": {
      "byteLimit": 2048000,
      "rowLimit": 10000
     },
     "inputWidgets": {},
     "nuid": "1ce22b15-b2ea-4ed0-a027-335b3579c831",
     "showTitle": false,
     "title": ""
    }
   },
   "outputs": [
    {
     "output_type": "display_data",
     "data": {
      "text/html": [
       "<style scoped>\n",
       "  .ansiout {\n",
       "    display: block;\n",
       "    unicode-bidi: embed;\n",
       "    white-space: pre-wrap;\n",
       "    word-wrap: break-word;\n",
       "    word-break: break-all;\n",
       "    font-family: \"Source Code Pro\", \"Menlo\", monospace;;\n",
       "    font-size: 13px;\n",
       "    color: #555;\n",
       "    margin-left: 4px;\n",
       "    line-height: 19px;\n",
       "  }\n",
       "</style>"
      ]
     },
     "metadata": {
      "application/vnd.databricks.v1+output": {
       "arguments": {},
       "data": "",
       "errorSummary": "Command skipped",
       "errorTraceType": "html",
       "metadata": {},
       "type": "ipynbError"
      }
     },
     "output_type": "display_data"
    }
   ],
   "source": [
    "index = DocumentIndexACS(ACS_ENDPOINT, ACS_KEY).load(\"uc-sap-index-fsd\")\n",
    "list(index._index_client.list_index_names())"
   ]
  },
  {
   "cell_type": "code",
   "execution_count": 0,
   "metadata": {
    "application/vnd.databricks.v1+cell": {
     "cellMetadata": {
      "byteLimit": 2048000,
      "rowLimit": 10000
     },
     "inputWidgets": {},
     "nuid": "5d5b491e-994d-44a8-83fa-c2903ee77bf2",
     "showTitle": false,
     "title": ""
    }
   },
   "outputs": [
    {
     "output_type": "display_data",
     "data": {
      "text/html": [
       "<style scoped>\n",
       "  .ansiout {\n",
       "    display: block;\n",
       "    unicode-bidi: embed;\n",
       "    white-space: pre-wrap;\n",
       "    word-wrap: break-word;\n",
       "    word-break: break-all;\n",
       "    font-family: \"Source Code Pro\", \"Menlo\", monospace;;\n",
       "    font-size: 13px;\n",
       "    color: #555;\n",
       "    margin-left: 4px;\n",
       "    line-height: 19px;\n",
       "  }\n",
       "</style>"
      ]
     },
     "metadata": {
      "application/vnd.databricks.v1+output": {
       "arguments": {},
       "data": "",
       "errorSummary": "Command skipped",
       "errorTraceType": "html",
       "metadata": {},
       "type": "ipynbError"
      }
     },
     "output_type": "display_data"
    }
   ],
   "source": [
    "help(index._index_client)"
   ]
  },
  {
   "cell_type": "code",
   "execution_count": 0,
   "metadata": {
    "application/vnd.databricks.v1+cell": {
     "cellMetadata": {
      "byteLimit": 2048000,
      "rowLimit": 10000
     },
     "inputWidgets": {},
     "nuid": "076af59b-363a-42da-8e3f-9818bf5fc74d",
     "showTitle": false,
     "title": ""
    }
   },
   "outputs": [
    {
     "output_type": "display_data",
     "data": {
      "text/html": [
       "<style scoped>\n",
       "  .ansiout {\n",
       "    display: block;\n",
       "    unicode-bidi: embed;\n",
       "    white-space: pre-wrap;\n",
       "    word-wrap: break-word;\n",
       "    word-break: break-all;\n",
       "    font-family: \"Source Code Pro\", \"Menlo\", monospace;;\n",
       "    font-size: 13px;\n",
       "    color: #555;\n",
       "    margin-left: 4px;\n",
       "    line-height: 19px;\n",
       "  }\n",
       "</style>"
      ]
     },
     "metadata": {
      "application/vnd.databricks.v1+output": {
       "arguments": {},
       "data": "",
       "errorSummary": "Command skipped",
       "errorTraceType": "html",
       "metadata": {},
       "type": "ipynbError"
      }
     },
     "output_type": "display_data"
    }
   ],
   "source": [
    "help(index._search_client)"
   ]
  },
  {
   "cell_type": "code",
   "execution_count": 0,
   "metadata": {
    "application/vnd.databricks.v1+cell": {
     "cellMetadata": {
      "byteLimit": 2048000,
      "rowLimit": 10000
     },
     "inputWidgets": {},
     "nuid": "3507eb48-a515-4a96-a13c-63922e5144d8",
     "showTitle": false,
     "title": ""
    }
   },
   "outputs": [
    {
     "output_type": "display_data",
     "data": {
      "text/html": [
       "<style scoped>\n",
       "  .ansiout {\n",
       "    display: block;\n",
       "    unicode-bidi: embed;\n",
       "    white-space: pre-wrap;\n",
       "    word-wrap: break-word;\n",
       "    word-break: break-all;\n",
       "    font-family: \"Source Code Pro\", \"Menlo\", monospace;;\n",
       "    font-size: 13px;\n",
       "    color: #555;\n",
       "    margin-left: 4px;\n",
       "    line-height: 19px;\n",
       "  }\n",
       "</style>"
      ]
     },
     "metadata": {
      "application/vnd.databricks.v1+output": {
       "arguments": {},
       "data": "",
       "errorSummary": "Command skipped",
       "errorTraceType": "html",
       "metadata": {},
       "type": "ipynbError"
      }
     },
     "output_type": "display_data"
    }
   ],
   "source": [
    "index._search_client.get_document(\"1\")"
   ]
  },
  {
   "cell_type": "code",
   "execution_count": 0,
   "metadata": {
    "application/vnd.databricks.v1+cell": {
     "cellMetadata": {
      "byteLimit": 2048000,
      "rowLimit": 10000
     },
     "inputWidgets": {},
     "nuid": "8c9c3e14-6508-4b25-aee9-d4d826ee0f8e",
     "showTitle": false,
     "title": ""
    }
   },
   "outputs": [
    {
     "output_type": "display_data",
     "data": {
      "text/html": [
       "<style scoped>\n",
       "  .ansiout {\n",
       "    display: block;\n",
       "    unicode-bidi: embed;\n",
       "    white-space: pre-wrap;\n",
       "    word-wrap: break-word;\n",
       "    word-break: break-all;\n",
       "    font-family: \"Source Code Pro\", \"Menlo\", monospace;;\n",
       "    font-size: 13px;\n",
       "    color: #555;\n",
       "    margin-left: 4px;\n",
       "    line-height: 19px;\n",
       "  }\n",
       "</style>"
      ]
     },
     "metadata": {
      "application/vnd.databricks.v1+output": {
       "arguments": {},
       "data": "",
       "errorSummary": "Command skipped",
       "errorTraceType": "html",
       "metadata": {},
       "type": "ipynbError"
      }
     },
     "output_type": "display_data"
    }
   ],
   "source": [
    "for i in range(1, 100):\n",
    "  doc = index._search_client.get_document(str(i))\n",
    "  if doc[\"title\"] == \"Title\":\n",
    "    # index._search_client.delete_documents([{\"title\": \"Title\"}])\n",
    "    print(\"x\")"
   ]
  },
  {
   "cell_type": "code",
   "execution_count": 0,
   "metadata": {
    "application/vnd.databricks.v1+cell": {
     "cellMetadata": {
      "byteLimit": 2048000,
      "rowLimit": 10000
     },
     "inputWidgets": {},
     "nuid": "c5cada55-13f8-49d1-873f-6c14825cbb5f",
     "showTitle": false,
     "title": ""
    }
   },
   "outputs": [
    {
     "output_type": "display_data",
     "data": {
      "text/html": [
       "<style scoped>\n",
       "  .ansiout {\n",
       "    display: block;\n",
       "    unicode-bidi: embed;\n",
       "    white-space: pre-wrap;\n",
       "    word-wrap: break-word;\n",
       "    word-break: break-all;\n",
       "    font-family: \"Source Code Pro\", \"Menlo\", monospace;;\n",
       "    font-size: 13px;\n",
       "    color: #555;\n",
       "    margin-left: 4px;\n",
       "    line-height: 19px;\n",
       "  }\n",
       "</style>"
      ]
     },
     "metadata": {
      "application/vnd.databricks.v1+output": {
       "arguments": {},
       "data": "",
       "errorSummary": "Command skipped",
       "errorTraceType": "html",
       "metadata": {},
       "type": "ipynbError"
      }
     },
     "output_type": "display_data"
    }
   ],
   "source": [
    "index._search_client.get_document_count()"
   ]
  },
  {
   "cell_type": "code",
   "execution_count": 0,
   "metadata": {
    "application/vnd.databricks.v1+cell": {
     "cellMetadata": {
      "byteLimit": 2048000,
      "rowLimit": 10000
     },
     "inputWidgets": {},
     "nuid": "c58fe216-3e6c-42b8-9115-23f6a74dd346",
     "showTitle": false,
     "title": ""
    }
   },
   "outputs": [
    {
     "output_type": "display_data",
     "data": {
      "text/html": [
       "<style scoped>\n",
       "  .ansiout {\n",
       "    display: block;\n",
       "    unicode-bidi: embed;\n",
       "    white-space: pre-wrap;\n",
       "    word-wrap: break-word;\n",
       "    word-break: break-all;\n",
       "    font-family: \"Source Code Pro\", \"Menlo\", monospace;;\n",
       "    font-size: 13px;\n",
       "    color: #555;\n",
       "    margin-left: 4px;\n",
       "    line-height: 19px;\n",
       "  }\n",
       "</style>"
      ]
     },
     "metadata": {
      "application/vnd.databricks.v1+output": {
       "arguments": {},
       "data": "",
       "errorSummary": "Command skipped",
       "errorTraceType": "html",
       "metadata": {},
       "type": "ipynbError"
      }
     },
     "output_type": "display_data"
    }
   ],
   "source": [
    "index._search_client.delete_documents([{\"title\": \"Title\"}])"
   ]
  },
  {
   "cell_type": "code",
   "execution_count": 0,
   "metadata": {
    "application/vnd.databricks.v1+cell": {
     "cellMetadata": {
      "byteLimit": 2048000,
      "rowLimit": 10000
     },
     "inputWidgets": {},
     "nuid": "95b128ce-b713-4180-8061-2744da49b2ea",
     "showTitle": false,
     "title": ""
    }
   },
   "outputs": [
    {
     "output_type": "display_data",
     "data": {
      "text/html": [
       "<style scoped>\n",
       "  .ansiout {\n",
       "    display: block;\n",
       "    unicode-bidi: embed;\n",
       "    white-space: pre-wrap;\n",
       "    word-wrap: break-word;\n",
       "    word-break: break-all;\n",
       "    font-family: \"Source Code Pro\", \"Menlo\", monospace;;\n",
       "    font-size: 13px;\n",
       "    color: #555;\n",
       "    margin-left: 4px;\n",
       "    line-height: 19px;\n",
       "  }\n",
       "</style>"
      ]
     },
     "metadata": {
      "application/vnd.databricks.v1+output": {
       "arguments": {},
       "data": "",
       "errorSummary": "Command skipped",
       "errorTraceType": "html",
       "metadata": {},
       "type": "ipynbError"
      }
     },
     "output_type": "display_data"
    }
   ],
   "source": [
    "len(list(index._search_client.search(\"\")))"
   ]
  },
  {
   "cell_type": "markdown",
   "metadata": {
    "application/vnd.databricks.v1+cell": {
     "cellMetadata": {
      "byteLimit": 2048000,
      "rowLimit": 10000
     },
     "inputWidgets": {},
     "nuid": "08af0989-56d2-474d-b81e-fcb39e86cca8",
     "showTitle": false,
     "title": ""
    }
   },
   "source": [
    "### Generate Index for Images"
   ]
  },
  {
   "cell_type": "code",
   "execution_count": 0,
   "metadata": {
    "application/vnd.databricks.v1+cell": {
     "cellMetadata": {
      "byteLimit": 2048000,
      "rowLimit": 10000
     },
     "inputWidgets": {},
     "nuid": "97426b49-7656-4b65-90a8-000bb2281253",
     "showTitle": false,
     "title": ""
    }
   },
   "outputs": [
    {
     "output_type": "display_data",
     "data": {
      "text/html": [
       "<style scoped>\n",
       "  .ansiout {\n",
       "    display: block;\n",
       "    unicode-bidi: embed;\n",
       "    white-space: pre-wrap;\n",
       "    word-wrap: break-word;\n",
       "    word-break: break-all;\n",
       "    font-family: \"Source Code Pro\", \"Menlo\", monospace;;\n",
       "    font-size: 13px;\n",
       "    color: #555;\n",
       "    margin-left: 4px;\n",
       "    line-height: 19px;\n",
       "  }\n",
       "</style>"
      ]
     },
     "metadata": {
      "application/vnd.databricks.v1+output": {
       "arguments": {},
       "data": "",
       "errorSummary": "Command skipped",
       "errorTraceType": "html",
       "metadata": {},
       "type": "ipynbError"
      }
     },
     "output_type": "display_data"
    }
   ],
   "source": [
    "# import zipfile\n",
    "# import os\n",
    "# from databricks_sdk_v2.databricks_ws import *\n",
    "# import requests\n",
    "# import json\n",
    "# import time\n",
    "# import random\n",
    "# from IPython.display import Image \n",
    "# from IPython.core.display import HTML\n",
    "# import pandas as pd\n",
    "# import re\n",
    "# import shutil\n",
    "# from langchain.embeddings import OpenAIEmbeddings\n",
    "# from langchain.document_loaders import DirectoryLoader\n",
    "# from langchain.text_splitter import TokenTextSplitter\n",
    "\n",
    "import docx2txt\n",
    "import azure.ai.vision as sdk\n",
    "\n",
    "from azure.core.credentials import AzureKeyCredential\n",
    "from azure.search.documents import SearchClient\n",
    "from langchain.retrievers import AzureCognitiveSearchRetriever\n",
    "from langchain.document_loaders import TextLoader\n",
    "from langchain.vectorstores import AzureSearch"
   ]
  },
  {
   "cell_type": "code",
   "execution_count": 0,
   "metadata": {
    "application/vnd.databricks.v1+cell": {
     "cellMetadata": {
      "byteLimit": 2048000,
      "rowLimit": 10000
     },
     "inputWidgets": {},
     "nuid": "2b131c78-3add-40ef-bf8f-7d270412958e",
     "showTitle": false,
     "title": ""
    }
   },
   "outputs": [
    {
     "output_type": "display_data",
     "data": {
      "text/html": [
       "<style scoped>\n",
       "  .ansiout {\n",
       "    display: block;\n",
       "    unicode-bidi: embed;\n",
       "    white-space: pre-wrap;\n",
       "    word-wrap: break-word;\n",
       "    word-break: break-all;\n",
       "    font-family: \"Source Code Pro\", \"Menlo\", monospace;;\n",
       "    font-size: 13px;\n",
       "    color: #555;\n",
       "    margin-left: 4px;\n",
       "    line-height: 19px;\n",
       "  }\n",
       "</style>"
      ]
     },
     "metadata": {
      "application/vnd.databricks.v1+output": {
       "arguments": {},
       "data": "",
       "errorSummary": "Command skipped",
       "errorTraceType": "html",
       "metadata": {},
       "type": "ipynbError"
      }
     },
     "output_type": "display_data"
    }
   ],
   "source": [
    "filename_zip = 'BPD.zip'\n",
    "Folder1 = '/tmp/bpd/'\n",
    "zip_file_path = Folder1 + filename_zip\n",
    "output_directory = '/tmp/bpd_docs/'\n",
    "parent_directory_name = '/tmp/bpd_images'"
   ]
  },
  {
   "cell_type": "code",
   "execution_count": 0,
   "metadata": {
    "application/vnd.databricks.v1+cell": {
     "cellMetadata": {
      "byteLimit": 2048000,
      "rowLimit": 10000
     },
     "inputWidgets": {},
     "nuid": "951fa422-9795-477e-a0b5-c60674b57d47",
     "showTitle": false,
     "title": ""
    }
   },
   "outputs": [
    {
     "output_type": "display_data",
     "data": {
      "text/html": [
       "<style scoped>\n",
       "  .ansiout {\n",
       "    display: block;\n",
       "    unicode-bidi: embed;\n",
       "    white-space: pre-wrap;\n",
       "    word-wrap: break-word;\n",
       "    word-break: break-all;\n",
       "    font-family: \"Source Code Pro\", \"Menlo\", monospace;;\n",
       "    font-size: 13px;\n",
       "    color: #555;\n",
       "    margin-left: 4px;\n",
       "    line-height: 19px;\n",
       "  }\n",
       "</style>"
      ]
     },
     "metadata": {
      "application/vnd.databricks.v1+output": {
       "arguments": {},
       "data": "",
       "errorSummary": "Command skipped",
       "errorTraceType": "html",
       "metadata": {},
       "type": "ipynbError"
      }
     },
     "output_type": "display_data"
    }
   ],
   "source": [
    "def extract_docx_files(zip_file, output_directory):\n",
    "    if not os.path.exists(output_directory):\n",
    "        os.makedirs(output_directory)\n",
    "    docx_files = []\n",
    "    with zipfile.ZipFile(zip_file, 'r') as zip_ref:\n",
    "        for file_info in zip_ref.infolist():\n",
    "            if file_info.filename.lower().endswith(\".docx\"):\n",
    "                zip_ref.extract(file_info.filename, output_directory)\n",
    "                docx_files.append(os.path.join(output_directory, file_info.filename))\n",
    "    return docx_files\n",
    "  \n",
    "def flatten(directory):\n",
    "  for dirpath, _, filenames in os.walk(directory, topdown=False):\n",
    "      for filename in filenames:\n",
    "          i = 0\n",
    "          source = os.path.join(dirpath, filename)\n",
    "          target = os.path.join(directory, filename)\n",
    "          while os.path.exists(target):\n",
    "              i += 1\n",
    "              file_parts = os.path.splitext(os.path.basename(filename))\n",
    "              target = os.path.join(\n",
    "                  directory,\n",
    "                  file_parts[0] + \"_\" + str(i) + file_parts[1],\n",
    "              )\n",
    "          shutil.move(source, target)\n",
    "          print(\"Moved \", source, \" to \", target)\n",
    "      if dirpath != directory:\n",
    "          os.rmdir(dirpath)\n",
    "          print(\"Deleted \", dirpath)\n",
    "\n",
    "def create_directories(parent_directory):\n",
    "    try:\n",
    "        os.makedirs(parent_directory)\n",
    "        print(f\"Parent directory '{parent_directory}' created successfully.\")\n",
    "    except OSError as e:\n",
    "        print(f\"Error creating parent directory '{parent_directory}': {e}\")\n",
    "        return\n",
    "    for i in range(len(docx_files_underscore)):\n",
    "        dir_name = os.path.join(parent_directory, f\"dir_{i}\")\n",
    "        try:\n",
    "            os.makedirs(dir_name)\n",
    "            print(f\"Subdirectory '{dir_name}' created successfully.\")\n",
    "        except OSError as e:\n",
    "            print(f\"Error creating subdirectory '{dir_name}': {e}\")"
   ]
  },
  {
   "cell_type": "code",
   "execution_count": 0,
   "metadata": {
    "application/vnd.databricks.v1+cell": {
     "cellMetadata": {
      "byteLimit": 2048000,
      "rowLimit": 10000
     },
     "inputWidgets": {},
     "nuid": "557f33c3-27c7-45b3-85c5-8629a4e31112",
     "showTitle": false,
     "title": ""
    }
   },
   "outputs": [
    {
     "output_type": "display_data",
     "data": {
      "text/html": [
       "<style scoped>\n",
       "  .ansiout {\n",
       "    display: block;\n",
       "    unicode-bidi: embed;\n",
       "    white-space: pre-wrap;\n",
       "    word-wrap: break-word;\n",
       "    word-break: break-all;\n",
       "    font-family: \"Source Code Pro\", \"Menlo\", monospace;;\n",
       "    font-size: 13px;\n",
       "    color: #555;\n",
       "    margin-left: 4px;\n",
       "    line-height: 19px;\n",
       "  }\n",
       "</style>"
      ]
     },
     "metadata": {
      "application/vnd.databricks.v1+output": {
       "arguments": {},
       "data": "",
       "errorSummary": "Command skipped",
       "errorTraceType": "html",
       "metadata": {},
       "type": "ipynbError"
      }
     },
     "output_type": "display_data"
    }
   ],
   "source": [
    "if not os.path.exists(Folder1):\n",
    "    os.makedirs(Folder1)\n",
    "db_ws.CopyFileFromWorkbench(DatabricksFolder=\"file:\"+Folder1, filename=filename_zip)"
   ]
  },
  {
   "cell_type": "code",
   "execution_count": 0,
   "metadata": {
    "application/vnd.databricks.v1+cell": {
     "cellMetadata": {
      "byteLimit": 2048000,
      "rowLimit": 10000
     },
     "inputWidgets": {},
     "nuid": "cebac765-c0d0-412a-af29-0d34bfa692b6",
     "showTitle": false,
     "title": ""
    }
   },
   "outputs": [
    {
     "output_type": "display_data",
     "data": {
      "text/html": [
       "<style scoped>\n",
       "  .ansiout {\n",
       "    display: block;\n",
       "    unicode-bidi: embed;\n",
       "    white-space: pre-wrap;\n",
       "    word-wrap: break-word;\n",
       "    word-break: break-all;\n",
       "    font-family: \"Source Code Pro\", \"Menlo\", monospace;;\n",
       "    font-size: 13px;\n",
       "    color: #555;\n",
       "    margin-left: 4px;\n",
       "    line-height: 19px;\n",
       "  }\n",
       "</style>"
      ]
     },
     "metadata": {
      "application/vnd.databricks.v1+output": {
       "arguments": {},
       "data": "",
       "errorSummary": "Command skipped",
       "errorTraceType": "html",
       "metadata": {},
       "type": "ipynbError"
      }
     },
     "output_type": "display_data"
    }
   ],
   "source": [
    "docx_files = extract_docx_files(zip_file_path, output_directory)"
   ]
  },
  {
   "cell_type": "code",
   "execution_count": 0,
   "metadata": {
    "application/vnd.databricks.v1+cell": {
     "cellMetadata": {
      "byteLimit": 2048000,
      "rowLimit": 10000
     },
     "inputWidgets": {},
     "nuid": "010f58af-003d-48bc-a3ee-b76792ee3221",
     "showTitle": false,
     "title": ""
    }
   },
   "outputs": [
    {
     "output_type": "display_data",
     "data": {
      "text/html": [
       "<style scoped>\n",
       "  .ansiout {\n",
       "    display: block;\n",
       "    unicode-bidi: embed;\n",
       "    white-space: pre-wrap;\n",
       "    word-wrap: break-word;\n",
       "    word-break: break-all;\n",
       "    font-family: \"Source Code Pro\", \"Menlo\", monospace;;\n",
       "    font-size: 13px;\n",
       "    color: #555;\n",
       "    margin-left: 4px;\n",
       "    line-height: 19px;\n",
       "  }\n",
       "</style>"
      ]
     },
     "metadata": {
      "application/vnd.databricks.v1+output": {
       "arguments": {},
       "data": "",
       "errorSummary": "Command skipped",
       "errorTraceType": "html",
       "metadata": {},
       "type": "ipynbError"
      }
     },
     "output_type": "display_data"
    }
   ],
   "source": [
    "docx_files_base = []\n",
    "for i in range(len(docx_files)):\n",
    "  docx_files_base.append(os.path.basename(docx_files[i]))\n",
    "\n",
    "docx_files_underscore = []\n",
    "for i in range(len(docx_files_base)):\n",
    "  docx_files_underscore.append(docx_files_base[i].replace(\" \", \"_\"))"
   ]
  },
  {
   "cell_type": "code",
   "execution_count": 0,
   "metadata": {
    "application/vnd.databricks.v1+cell": {
     "cellMetadata": {
      "byteLimit": 2048000,
      "rowLimit": 10000
     },
     "inputWidgets": {},
     "nuid": "081c3faf-fd6c-48b9-b05a-93df7a1b6633",
     "showTitle": false,
     "title": ""
    }
   },
   "outputs": [
    {
     "output_type": "display_data",
     "data": {
      "text/html": [
       "<style scoped>\n",
       "  .ansiout {\n",
       "    display: block;\n",
       "    unicode-bidi: embed;\n",
       "    white-space: pre-wrap;\n",
       "    word-wrap: break-word;\n",
       "    word-break: break-all;\n",
       "    font-family: \"Source Code Pro\", \"Menlo\", monospace;;\n",
       "    font-size: 13px;\n",
       "    color: #555;\n",
       "    margin-left: 4px;\n",
       "    line-height: 19px;\n",
       "  }\n",
       "</style>"
      ]
     },
     "metadata": {
      "application/vnd.databricks.v1+output": {
       "arguments": {},
       "data": "",
       "errorSummary": "Command skipped",
       "errorTraceType": "html",
       "metadata": {},
       "type": "ipynbError"
      }
     },
     "output_type": "display_data"
    }
   ],
   "source": [
    "shutil.rmtree(parent_directory_name,ignore_errors=True)\n",
    "create_directories(parent_directory_name)"
   ]
  },
  {
   "cell_type": "code",
   "execution_count": 0,
   "metadata": {
    "application/vnd.databricks.v1+cell": {
     "cellMetadata": {
      "byteLimit": 2048000,
      "rowLimit": 10000
     },
     "inputWidgets": {},
     "nuid": "81819523-1df1-4cab-aae6-53407bd23377",
     "showTitle": false,
     "title": ""
    }
   },
   "outputs": [
    {
     "output_type": "display_data",
     "data": {
      "text/html": [
       "<style scoped>\n",
       "  .ansiout {\n",
       "    display: block;\n",
       "    unicode-bidi: embed;\n",
       "    white-space: pre-wrap;\n",
       "    word-wrap: break-word;\n",
       "    word-break: break-all;\n",
       "    font-family: \"Source Code Pro\", \"Menlo\", monospace;;\n",
       "    font-size: 13px;\n",
       "    color: #555;\n",
       "    margin-left: 4px;\n",
       "    line-height: 19px;\n",
       "  }\n",
       "</style>"
      ]
     },
     "metadata": {
      "application/vnd.databricks.v1+output": {
       "arguments": {},
       "data": "",
       "errorSummary": "Command skipped",
       "errorTraceType": "html",
       "metadata": {},
       "type": "ipynbError"
      }
     },
     "output_type": "display_data"
    }
   ],
   "source": [
    "for i in range(len(docx_files)):\n",
    "  path = parent_directory_name + '/' + f\"dir_{i}\" + '/'\n",
    "  docx2txt.process(docx_files[i], path)\n",
    "  for f in os.listdir(path):\n",
    "    name,ext = f.split('.')\n",
    "    os.rename(f'{path}/{f}', f'{path}/{docx_files_underscore[i]}_{f}')\n",
    "flatten(parent_directory_name + \"/\")"
   ]
  },
  {
   "cell_type": "code",
   "execution_count": 0,
   "metadata": {
    "application/vnd.databricks.v1+cell": {
     "cellMetadata": {
      "byteLimit": 2048000,
      "rowLimit": 10000
     },
     "inputWidgets": {},
     "nuid": "b9ff7db6-6c3c-4f5e-9fd7-4ca571322d20",
     "showTitle": false,
     "title": ""
    }
   },
   "outputs": [
    {
     "output_type": "display_data",
     "data": {
      "text/html": [
       "<style scoped>\n",
       "  .ansiout {\n",
       "    display: block;\n",
       "    unicode-bidi: embed;\n",
       "    white-space: pre-wrap;\n",
       "    word-wrap: break-word;\n",
       "    word-break: break-all;\n",
       "    font-family: \"Source Code Pro\", \"Menlo\", monospace;;\n",
       "    font-size: 13px;\n",
       "    color: #555;\n",
       "    margin-left: 4px;\n",
       "    line-height: 19px;\n",
       "  }\n",
       "</style>"
      ]
     },
     "metadata": {
      "application/vnd.databricks.v1+output": {
       "arguments": {},
       "data": "",
       "errorSummary": "Command skipped",
       "errorTraceType": "html",
       "metadata": {},
       "type": "ipynbError"
      }
     },
     "output_type": "display_data"
    }
   ],
   "source": [
    "service_options = sdk.VisionServiceOptions(VISION_ENDPOINT, VISION_KEY)\n",
    "analysis_options = sdk.ImageAnalysisOptions()\n",
    "analysis_options.features = (\n",
    "        sdk.ImageAnalysisFeature.CAPTION |\n",
    "        sdk.ImageAnalysisFeature.TEXT |\n",
    "        sdk.ImageAnalysisFeature.OBJECTS\n",
    "    )\n",
    "\n",
    "analysis_options.language = \"en\"\n",
    "analysis_options.gender_neutral_caption = True                                           \n",
    "image_dir = parent_directory_name # \"/tmp/bpd_images_1/\"\n",
    "images = [file for file in os.listdir(image_dir) if file.endswith('.jpg') or file.endswith('.png')]\n",
    "result_list= [] \n",
    "files_list = []\n",
    "description_list= []\n",
    "df_images=pd.DataFrame()\n",
    "df_images['image']= pd.Series(images)\n",
    "# Loop through images and analyze each one\n",
    "for image in images:\n",
    "  result_string = image.split('.', 1)[0] + '.docx'\n",
    "  files_list.append(result_string)\n",
    "  # Construct image path\n",
    "  img_path = os.path.join(image_dir, image)\n",
    "  vision_source = sdk.VisionSource(filename=img_path)\n",
    "  image_analyzer = sdk.ImageAnalyzer(service_options, vision_source, analysis_options)\n",
    "  result = image_analyzer.analyze()\n",
    "  result_list.append(str(result.text))\n",
    "  if str(result.text)=='None':\n",
    "    print(image)\n",
    "  time.sleep(1)\n",
    "df_images['polygon']=pd.Series(result_list)\n",
    "df_images['file_name'] = pd.Series(files_list)"
   ]
  },
  {
   "cell_type": "code",
   "execution_count": 0,
   "metadata": {
    "application/vnd.databricks.v1+cell": {
     "cellMetadata": {
      "byteLimit": 2048000,
      "rowLimit": 10000
     },
     "inputWidgets": {},
     "nuid": "290ae19d-9f37-48dc-9ac4-7af8f57154fc",
     "showTitle": false,
     "title": ""
    }
   },
   "outputs": [
    {
     "output_type": "display_data",
     "data": {
      "text/html": [
       "<style scoped>\n",
       "  .ansiout {\n",
       "    display: block;\n",
       "    unicode-bidi: embed;\n",
       "    white-space: pre-wrap;\n",
       "    word-wrap: break-word;\n",
       "    word-break: break-all;\n",
       "    font-family: \"Source Code Pro\", \"Menlo\", monospace;;\n",
       "    font-size: 13px;\n",
       "    color: #555;\n",
       "    margin-left: 4px;\n",
       "    line-height: 19px;\n",
       "  }\n",
       "</style>"
      ]
     },
     "metadata": {
      "application/vnd.databricks.v1+output": {
       "arguments": {},
       "data": "",
       "errorSummary": "Command skipped",
       "errorTraceType": "html",
       "metadata": {},
       "type": "ipynbError"
      }
     },
     "output_type": "display_data"
    }
   ],
   "source": [
    "#Function for removing nested words\n",
    "\n",
    "def extract_detected_text_word(text):\n",
    "    # Use regex to find all occurrences of 'DetectedTextWord(content=...)'\n",
    "    detected_text_word_pattern = r'DetectedTextLine\\(content=(.*?), bounding_polygon=\\[(.*?)\\]'\n",
    "    detected_text_words = re.findall(detected_text_word_pattern, text)\n",
    "\n",
    "    # Generate the formatted output for each DetectedTextWord\n",
    "    formatted_text_words = []\n",
    "    for word_content, bounding_polygon in detected_text_words:\n",
    "        formatted_text_words.append(f\"\"\"DetectedTextLine(content={word_content}, bounding_polygon=[{bounding_polygon}])\"\"\")\n",
    "\n",
    "    # Join the formatted DetectedTextWord parts into a single string\n",
    "    formatted_text = 'DetectedText(lines=['+', '.join(formatted_text_words)+'])'\n",
    "       # Check token count\n",
    "    token_count = len(re.findall(r'\\w+', formatted_text))\n",
    "    if token_count > 10000:\n",
    "        raise ValueError(\"Description exceeds the token limit of 10000\")\n",
    "\n",
    "\n",
    "    return formatted_text\n"
   ]
  },
  {
   "cell_type": "code",
   "execution_count": 0,
   "metadata": {
    "application/vnd.databricks.v1+cell": {
     "cellMetadata": {
      "byteLimit": 2048000,
      "rowLimit": 10000
     },
     "inputWidgets": {},
     "nuid": "c6bfc997-7ed6-4a41-a235-ee6932155c1d",
     "showTitle": false,
     "title": ""
    }
   },
   "outputs": [
    {
     "output_type": "display_data",
     "data": {
      "text/html": [
       "<style scoped>\n",
       "  .ansiout {\n",
       "    display: block;\n",
       "    unicode-bidi: embed;\n",
       "    white-space: pre-wrap;\n",
       "    word-wrap: break-word;\n",
       "    word-break: break-all;\n",
       "    font-family: \"Source Code Pro\", \"Menlo\", monospace;;\n",
       "    font-size: 13px;\n",
       "    color: #555;\n",
       "    margin-left: 4px;\n",
       "    line-height: 19px;\n",
       "  }\n",
       "</style>"
      ]
     },
     "metadata": {
      "application/vnd.databricks.v1+output": {
       "arguments": {},
       "data": "",
       "errorSummary": "Command skipped",
       "errorTraceType": "html",
       "metadata": {},
       "type": "ipynbError"
      }
     },
     "output_type": "display_data"
    }
   ],
   "source": [
    "index_name = 'image_analysis.xlsx'\n",
    "folder_path = '/tmp/SAP/'\n",
    "directory_path_txt = 'tmp/txt_files'"
   ]
  },
  {
   "cell_type": "code",
   "execution_count": 0,
   "metadata": {
    "application/vnd.databricks.v1+cell": {
     "cellMetadata": {
      "byteLimit": 2048000,
      "rowLimit": 10000
     },
     "inputWidgets": {},
     "nuid": "986ec980-7681-44b1-8744-528f8d5436f5",
     "showTitle": false,
     "title": ""
    }
   },
   "outputs": [
    {
     "output_type": "display_data",
     "data": {
      "text/html": [
       "<style scoped>\n",
       "  .ansiout {\n",
       "    display: block;\n",
       "    unicode-bidi: embed;\n",
       "    white-space: pre-wrap;\n",
       "    word-wrap: break-word;\n",
       "    word-break: break-all;\n",
       "    font-family: \"Source Code Pro\", \"Menlo\", monospace;;\n",
       "    font-size: 13px;\n",
       "    color: #555;\n",
       "    margin-left: 4px;\n",
       "    line-height: 19px;\n",
       "  }\n",
       "</style>"
      ]
     },
     "metadata": {
      "application/vnd.databricks.v1+output": {
       "arguments": {},
       "data": "",
       "errorSummary": "Command skipped",
       "errorTraceType": "html",
       "metadata": {},
       "type": "ipynbError"
      }
     },
     "output_type": "display_data"
    }
   ],
   "source": [
    "metadata = df['polygon'].tolist()\n",
    "# Apply the extract_detected_text_word function to the 'polygons' column\n",
    "\n",
    "df_images['formatted_polygons'] = df.apply(lambda row: extract_detected_text_word(str(row['polygon'])), axis = 1)\n",
    "df_images['token count']= df.apply(lambda row : count_tokens(str(row['polygon']) ), axis = 1)\n",
    "\n",
    "display(df_images)\n"
   ]
  },
  {
   "cell_type": "code",
   "execution_count": 0,
   "metadata": {
    "application/vnd.databricks.v1+cell": {
     "cellMetadata": {
      "byteLimit": 2048000,
      "rowLimit": 10000
     },
     "inputWidgets": {},
     "nuid": "cb981df4-5d84-49a5-a2fb-9be177e209a2",
     "showTitle": false,
     "title": ""
    }
   },
   "outputs": [
    {
     "output_type": "display_data",
     "data": {
      "text/html": [
       "<style scoped>\n",
       "  .ansiout {\n",
       "    display: block;\n",
       "    unicode-bidi: embed;\n",
       "    white-space: pre-wrap;\n",
       "    word-wrap: break-word;\n",
       "    word-break: break-all;\n",
       "    font-family: \"Source Code Pro\", \"Menlo\", monospace;;\n",
       "    font-size: 13px;\n",
       "    color: #555;\n",
       "    margin-left: 4px;\n",
       "    line-height: 19px;\n",
       "  }\n",
       "</style>"
      ]
     },
     "metadata": {
      "application/vnd.databricks.v1+output": {
       "arguments": {},
       "data": "",
       "errorSummary": "Command skipped",
       "errorTraceType": "html",
       "metadata": {},
       "type": "ipynbError"
      }
     },
     "output_type": "display_data"
    }
   ],
   "source": [
    "description_list=[]\n",
    "\n",
    "for i in range(len(df_images)):\n",
    "  # gptoutout= (gpt4(prompt= \"Provide detailed granular description of the following image polygon, capturing every single detail in the image, return description only in response: \" + str(df_images.loc[i,'formatted_polygons']), context= \"You are an expert at providing detailed descriptions based on image polygons.\", large = True, max_tokens= 5000))\n",
    "  gptoutout= (gpt35(prompt= \"Provide detailed granular description of the following image polygon, capturing every single detail in the image, return description only in response: \" + str(df_images.loc[i,'formatted_polygons']), context= \"You are an expert at providing detailed descriptions based on image polygons.\", large = True, max_tokens= 2000))\n",
    "  description_list.append(gptoutout)\n",
    "  time.sleep(5)\n",
    "  print(i)\n",
    "\n",
    "  \n",
    "df_images['cleansed_descriptions']=pd.Series(description_list)"
   ]
  },
  {
   "cell_type": "code",
   "execution_count": 0,
   "metadata": {
    "application/vnd.databricks.v1+cell": {
     "cellMetadata": {
      "byteLimit": 2048000,
      "rowLimit": 10000
     },
     "inputWidgets": {},
     "nuid": "0511f3ce-cf5c-4038-9189-4bf716989d57",
     "showTitle": false,
     "title": ""
    }
   },
   "outputs": [
    {
     "output_type": "display_data",
     "data": {
      "text/html": [
       "<style scoped>\n",
       "  .ansiout {\n",
       "    display: block;\n",
       "    unicode-bidi: embed;\n",
       "    white-space: pre-wrap;\n",
       "    word-wrap: break-word;\n",
       "    word-break: break-all;\n",
       "    font-family: \"Source Code Pro\", \"Menlo\", monospace;;\n",
       "    font-size: 13px;\n",
       "    color: #555;\n",
       "    margin-left: 4px;\n",
       "    line-height: 19px;\n",
       "  }\n",
       "</style>"
      ]
     },
     "metadata": {
      "application/vnd.databricks.v1+output": {
       "arguments": {},
       "data": "",
       "errorSummary": "Command skipped",
       "errorTraceType": "html",
       "metadata": {},
       "type": "ipynbError"
      }
     },
     "output_type": "display_data"
    }
   ],
   "source": [
    "df_images"
   ]
  },
  {
   "cell_type": "code",
   "execution_count": 0,
   "metadata": {
    "application/vnd.databricks.v1+cell": {
     "cellMetadata": {
      "byteLimit": 2048000,
      "rowLimit": 10000
     },
     "inputWidgets": {},
     "nuid": "4966fa78-bb9e-4084-91e9-1c9d7bced517",
     "showTitle": false,
     "title": ""
    }
   },
   "outputs": [
    {
     "output_type": "display_data",
     "data": {
      "text/html": [
       "<style scoped>\n",
       "  .ansiout {\n",
       "    display: block;\n",
       "    unicode-bidi: embed;\n",
       "    white-space: pre-wrap;\n",
       "    word-wrap: break-word;\n",
       "    word-break: break-all;\n",
       "    font-family: \"Source Code Pro\", \"Menlo\", monospace;;\n",
       "    font-size: 13px;\n",
       "    color: #555;\n",
       "    margin-left: 4px;\n",
       "    line-height: 19px;\n",
       "  }\n",
       "</style>"
      ]
     },
     "metadata": {
      "application/vnd.databricks.v1+output": {
       "arguments": {},
       "data": "",
       "errorSummary": "Command skipped",
       "errorTraceType": "html",
       "metadata": {},
       "type": "ipynbError"
      }
     },
     "output_type": "display_data"
    }
   ],
   "source": [
    "#Save the DataFrame to an Excel file within the folder in Databricks\n",
    "index_name = \"image_analysis_bpd.xlsx\"\n",
    "output_file = os.path.join(folder_path, index_name)\n",
    "with pd.ExcelWriter(output_file, engine=\"openpyxl\",) as writer:\n",
    "    df_images.to_excel(writer, sheet_name=\"Sheet1\", index=True)\n",
    "db_ws.CopyFileToWorkbench(filename=index_name, DatabricksFolder=\"file:\"+folder_path)"
   ]
  },
  {
   "cell_type": "code",
   "execution_count": 0,
   "metadata": {
    "application/vnd.databricks.v1+cell": {
     "cellMetadata": {
      "byteLimit": 2048000,
      "rowLimit": 10000
     },
     "inputWidgets": {},
     "nuid": "b44bdc2c-6fc7-4cfc-a6b1-36e45fcfc061",
     "showTitle": false,
     "title": ""
    }
   },
   "outputs": [
    {
     "output_type": "display_data",
     "data": {
      "text/html": [
       "<style scoped>\n",
       "  .ansiout {\n",
       "    display: block;\n",
       "    unicode-bidi: embed;\n",
       "    white-space: pre-wrap;\n",
       "    word-wrap: break-word;\n",
       "    word-break: break-all;\n",
       "    font-family: \"Source Code Pro\", \"Menlo\", monospace;;\n",
       "    font-size: 13px;\n",
       "    color: #555;\n",
       "    margin-left: 4px;\n",
       "    line-height: 19px;\n",
       "  }\n",
       "</style>"
      ]
     },
     "metadata": {
      "application/vnd.databricks.v1+output": {
       "arguments": {},
       "data": "",
       "errorSummary": "Command skipped",
       "errorTraceType": "html",
       "metadata": {},
       "type": "ipynbError"
      }
     },
     "output_type": "display_data"
    }
   ],
   "source": [
    "directory_path_txt = \"/tmp/SAP/images_txts/\"\n",
    "\n",
    "cleansed_descrips = df_images['cleansed_descriptions']\n",
    "image_names = df_images['image']\n",
    "cleansed_list = cleansed_descrips.tolist()\n",
    "image_names_list = image_names.tolist()\n",
    "image_and_description = []\n",
    "for i in range(len(cleansed_list)):\n",
    "  image_and_description.append(f'{image_names_list[i]}: {cleansed_list[i]}')\n",
    "\n",
    "shutil.rmtree(directory_path_txt,ignore_errors=True)\n",
    "os.mkdir(directory_path_txt)\n",
    "directory_path = directory_path_txt\n",
    "for i, string_content in enumerate(image_and_description):\n",
    "    file_path = os.path.join(directory_path, f'{image_names_list[i]}.txt')\n",
    "    with open(file_path, 'w') as file:\n",
    "        file.write(str(string_content))\n",
    "\n",
    "docs = []\n",
    "for i in range(len(image_and_description)):\n",
    "  docs.append(f'{directory_path_txt}/{image_names_list[i]}.txt')"
   ]
  },
  {
   "cell_type": "code",
   "execution_count": 0,
   "metadata": {
    "application/vnd.databricks.v1+cell": {
     "cellMetadata": {
      "byteLimit": 2048000,
      "rowLimit": 10000
     },
     "inputWidgets": {},
     "nuid": "fd107340-5720-4d62-ab37-f4905183c142",
     "showTitle": false,
     "title": ""
    }
   },
   "outputs": [
    {
     "output_type": "display_data",
     "data": {
      "text/html": [
       "<style scoped>\n",
       "  .ansiout {\n",
       "    display: block;\n",
       "    unicode-bidi: embed;\n",
       "    white-space: pre-wrap;\n",
       "    word-wrap: break-word;\n",
       "    word-break: break-all;\n",
       "    font-family: \"Source Code Pro\", \"Menlo\", monospace;;\n",
       "    font-size: 13px;\n",
       "    color: #555;\n",
       "    margin-left: 4px;\n",
       "    line-height: 19px;\n",
       "  }\n",
       "</style>"
      ]
     },
     "metadata": {
      "application/vnd.databricks.v1+output": {
       "arguments": {},
       "data": "",
       "errorSummary": "Command skipped",
       "errorTraceType": "html",
       "metadata": {},
       "type": "ipynbError"
      }
     },
     "output_type": "display_data"
    }
   ],
   "source": [
    "## Create ACS index\n",
    "images_docs = DirectoryLoader(directory_path_txt).load()\n",
    "# images_chunked = chunk_documents(images_docs, chunk_size=5000, chunk_overlap=1000) # probably not needed, .txt files are small enough\n",
    "index_images_acs = DocumentIndexACS_v2(ACS_ENDPOINT, ACS_KEY, \"uc-sap-index-images\").from_documents(images_docs)"
   ]
  },
  {
   "cell_type": "markdown",
   "metadata": {
    "application/vnd.databricks.v1+cell": {
     "cellMetadata": {
      "byteLimit": 2048000,
      "rowLimit": 10000
     },
     "inputWidgets": {},
     "nuid": "17826cd1-b950-4472-9caf-3044d086bc41",
     "showTitle": false,
     "title": ""
    }
   },
   "source": [
    "### Playground"
   ]
  },
  {
   "cell_type": "code",
   "execution_count": 0,
   "metadata": {
    "application/vnd.databricks.v1+cell": {
     "cellMetadata": {
      "byteLimit": 2048000,
      "rowLimit": 10000
     },
     "inputWidgets": {},
     "nuid": "374318c6-a2f0-4e99-9bbe-051420850f84",
     "showTitle": false,
     "title": ""
    }
   },
   "outputs": [
    {
     "output_type": "display_data",
     "data": {
      "text/html": [
       "<style scoped>\n",
       "  .ansiout {\n",
       "    display: block;\n",
       "    unicode-bidi: embed;\n",
       "    white-space: pre-wrap;\n",
       "    word-wrap: break-word;\n",
       "    word-break: break-all;\n",
       "    font-family: \"Source Code Pro\", \"Menlo\", monospace;;\n",
       "    font-size: 13px;\n",
       "    color: #555;\n",
       "    margin-left: 4px;\n",
       "    line-height: 19px;\n",
       "  }\n",
       "</style>"
      ]
     },
     "metadata": {
      "application/vnd.databricks.v1+output": {
       "arguments": {},
       "data": "",
       "errorSummary": "The execution of this command did not finish successfully",
       "errorTraceType": "html",
       "metadata": {},
       "type": "ipynbError"
      }
     },
     "output_type": "display_data"
    }
   ],
   "source": [
    "%run \"./SAP_FDD_Indexing\""
   ]
  },
  {
   "cell_type": "code",
   "execution_count": 0,
   "metadata": {
    "application/vnd.databricks.v1+cell": {
     "cellMetadata": {
      "byteLimit": 2048000,
      "rowLimit": 10000
     },
     "inputWidgets": {},
     "nuid": "2d020880-f19f-4277-aab5-cf095724f44f",
     "showTitle": false,
     "title": ""
    }
   },
   "outputs": [
    {
     "output_type": "display_data",
     "data": {
      "text/html": [
       "<style scoped>\n",
       "  .ansiout {\n",
       "    display: block;\n",
       "    unicode-bidi: embed;\n",
       "    white-space: pre-wrap;\n",
       "    word-wrap: break-word;\n",
       "    word-break: break-all;\n",
       "    font-family: \"Source Code Pro\", \"Menlo\", monospace;;\n",
       "    font-size: 13px;\n",
       "    color: #555;\n",
       "    margin-left: 4px;\n",
       "    line-height: 19px;\n",
       "  }\n",
       "</style>"
      ]
     },
     "metadata": {
      "application/vnd.databricks.v1+output": {
       "arguments": {},
       "data": "",
       "errorSummary": "Command skipped",
       "errorTraceType": "html",
       "metadata": {},
       "type": "ipynbError"
      }
     },
     "output_type": "display_data"
    }
   ],
   "source": [
    "d = DocumentIndexACS_v2(ACS_ENDPOINT, ACS_KEY, \"uc-sap-test\")"
   ]
  },
  {
   "cell_type": "code",
   "execution_count": 0,
   "metadata": {
    "application/vnd.databricks.v1+cell": {
     "cellMetadata": {
      "byteLimit": 2048000,
      "rowLimit": 10000
     },
     "inputWidgets": {},
     "nuid": "f8b4bb50-8a9f-4247-b10e-5c62311999f2",
     "showTitle": false,
     "title": ""
    }
   },
   "outputs": [
    {
     "output_type": "display_data",
     "data": {
      "text/html": [
       "<style scoped>\n",
       "  .ansiout {\n",
       "    display: block;\n",
       "    unicode-bidi: embed;\n",
       "    white-space: pre-wrap;\n",
       "    word-wrap: break-word;\n",
       "    word-break: break-all;\n",
       "    font-family: \"Source Code Pro\", \"Menlo\", monospace;;\n",
       "    font-size: 13px;\n",
       "    color: #555;\n",
       "    margin-left: 4px;\n",
       "    line-height: 19px;\n",
       "  }\n",
       "</style>"
      ]
     },
     "metadata": {
      "application/vnd.databricks.v1+output": {
       "arguments": {},
       "data": "",
       "errorSummary": "Command skipped",
       "errorTraceType": "html",
       "metadata": {},
       "type": "ipynbError"
      }
     },
     "output_type": "display_data"
    }
   ],
   "source": [
    "d.add_documents([doc])"
   ]
  },
  {
   "cell_type": "code",
   "execution_count": 0,
   "metadata": {
    "application/vnd.databricks.v1+cell": {
     "cellMetadata": {
      "byteLimit": 2048000,
      "rowLimit": 10000
     },
     "inputWidgets": {},
     "nuid": "95683fdc-1a11-49a4-8309-395177c3abb9",
     "showTitle": false,
     "title": ""
    }
   },
   "outputs": [
    {
     "output_type": "display_data",
     "data": {
      "text/html": [
       "<style scoped>\n",
       "  .ansiout {\n",
       "    display: block;\n",
       "    unicode-bidi: embed;\n",
       "    white-space: pre-wrap;\n",
       "    word-wrap: break-word;\n",
       "    word-break: break-all;\n",
       "    font-family: \"Source Code Pro\", \"Menlo\", monospace;;\n",
       "    font-size: 13px;\n",
       "    color: #555;\n",
       "    margin-left: 4px;\n",
       "    line-height: 19px;\n",
       "  }\n",
       "</style>"
      ]
     },
     "metadata": {
      "application/vnd.databricks.v1+output": {
       "arguments": {},
       "data": "",
       "errorSummary": "Command skipped",
       "errorTraceType": "html",
       "metadata": {},
       "type": "ipynbError"
      }
     },
     "output_type": "display_data"
    }
   ],
   "source": [
    "d.clear()"
   ]
  },
  {
   "cell_type": "code",
   "execution_count": 0,
   "metadata": {
    "application/vnd.databricks.v1+cell": {
     "cellMetadata": {
      "byteLimit": 2048000,
      "rowLimit": 10000
     },
     "inputWidgets": {},
     "nuid": "cce4e3ea-df92-4ab9-8bc9-2be85ad92ebf",
     "showTitle": false,
     "title": ""
    }
   },
   "outputs": [
    {
     "output_type": "display_data",
     "data": {
      "text/html": [
       "<style scoped>\n",
       "  .ansiout {\n",
       "    display: block;\n",
       "    unicode-bidi: embed;\n",
       "    white-space: pre-wrap;\n",
       "    word-wrap: break-word;\n",
       "    word-break: break-all;\n",
       "    font-family: \"Source Code Pro\", \"Menlo\", monospace;;\n",
       "    font-size: 13px;\n",
       "    color: #555;\n",
       "    margin-left: 4px;\n",
       "    line-height: 19px;\n",
       "  }\n",
       "</style>"
      ]
     },
     "metadata": {
      "application/vnd.databricks.v1+output": {
       "arguments": {},
       "data": "",
       "errorSummary": "Command skipped",
       "errorTraceType": "html",
       "metadata": {},
       "type": "ipynbError"
      }
     },
     "output_type": "display_data"
    }
   ],
   "source": [
    "d.from_documents([doc])"
   ]
  },
  {
   "cell_type": "code",
   "execution_count": 0,
   "metadata": {
    "application/vnd.databricks.v1+cell": {
     "cellMetadata": {
      "byteLimit": 2048000,
      "rowLimit": 10000
     },
     "inputWidgets": {},
     "nuid": "8a05a688-b5a2-4e1b-b1ba-fec45eaa8735",
     "showTitle": false,
     "title": ""
    }
   },
   "outputs": [
    {
     "output_type": "display_data",
     "data": {
      "text/html": [
       "<style scoped>\n",
       "  .ansiout {\n",
       "    display: block;\n",
       "    unicode-bidi: embed;\n",
       "    white-space: pre-wrap;\n",
       "    word-wrap: break-word;\n",
       "    word-break: break-all;\n",
       "    font-family: \"Source Code Pro\", \"Menlo\", monospace;;\n",
       "    font-size: 13px;\n",
       "    color: #555;\n",
       "    margin-left: 4px;\n",
       "    line-height: 19px;\n",
       "  }\n",
       "</style>"
      ]
     },
     "metadata": {
      "application/vnd.databricks.v1+output": {
       "arguments": {},
       "data": "",
       "errorSummary": "Command skipped",
       "errorTraceType": "html",
       "metadata": {},
       "type": "ipynbError"
      }
     },
     "output_type": "display_data"
    }
   ],
   "source": [
    "d.search(\"text1\", mode=\"hybrid\")"
   ]
  },
  {
   "cell_type": "code",
   "execution_count": 0,
   "metadata": {
    "application/vnd.databricks.v1+cell": {
     "cellMetadata": {
      "byteLimit": 2048000,
      "rowLimit": 10000
     },
     "inputWidgets": {},
     "nuid": "09f1dd94-f606-45d2-9f00-509a3c8d6803",
     "showTitle": false,
     "title": ""
    }
   },
   "outputs": [
    {
     "output_type": "display_data",
     "data": {
      "text/html": [
       "<style scoped>\n",
       "  .ansiout {\n",
       "    display: block;\n",
       "    unicode-bidi: embed;\n",
       "    white-space: pre-wrap;\n",
       "    word-wrap: break-word;\n",
       "    word-break: break-all;\n",
       "    font-family: \"Source Code Pro\", \"Menlo\", monospace;;\n",
       "    font-size: 13px;\n",
       "    color: #555;\n",
       "    margin-left: 4px;\n",
       "    line-height: 19px;\n",
       "  }\n",
       "</style>"
      ]
     },
     "metadata": {
      "application/vnd.databricks.v1+output": {
       "arguments": {},
       "data": "",
       "errorSummary": "Command skipped",
       "errorTraceType": "html",
       "metadata": {},
       "type": "ipynbError"
      }
     },
     "output_type": "display_data"
    }
   ],
   "source": [
    "ACS_ENDPOINT"
   ]
  },
  {
   "cell_type": "code",
   "execution_count": 0,
   "metadata": {
    "application/vnd.databricks.v1+cell": {
     "cellMetadata": {
      "byteLimit": 2048000,
      "rowLimit": 10000
     },
     "inputWidgets": {},
     "nuid": "610a696d-2100-42c6-8f2e-89473c53f8a2",
     "showTitle": false,
     "title": ""
    }
   },
   "outputs": [
    {
     "output_type": "display_data",
     "data": {
      "text/html": [
       "<style scoped>\n",
       "  .ansiout {\n",
       "    display: block;\n",
       "    unicode-bidi: embed;\n",
       "    white-space: pre-wrap;\n",
       "    word-wrap: break-word;\n",
       "    word-break: break-all;\n",
       "    font-family: \"Source Code Pro\", \"Menlo\", monospace;;\n",
       "    font-size: 13px;\n",
       "    color: #555;\n",
       "    margin-left: 4px;\n",
       "    line-height: 19px;\n",
       "  }\n",
       "</style>"
      ]
     },
     "metadata": {
      "application/vnd.databricks.v1+output": {
       "arguments": {},
       "data": "",
       "errorSummary": "Command skipped",
       "errorTraceType": "html",
       "metadata": {},
       "type": "ipynbError"
      }
     },
     "output_type": "display_data"
    }
   ],
   "source": [
    "x = DocumentIndexACS(ACS_ENDPOINT, ACS_KEY)\n",
    "y = SearchIndexClient(endpoint=x._acs_endpoint, credential=x._acs_credential)\n",
    "list(y.list_index_names())"
   ]
  }
 ],
 "metadata": {
  "application/vnd.databricks.v1+notebook": {
   "dashboards": [],
   "language": "python",
   "notebookMetadata": {
    "mostRecentlyExecutedCommandWithImplicitDF": {
     "commandId": 2188483681398295,
     "dataframes": [
      "_sqldf"
     ]
    },
    "pythonIndentUnit": 2
   },
   "notebookName": "SAP_FDD_CreateIndexes_v2",
   "widgets": {}
  }
 },
 "nbformat": 4,
 "nbformat_minor": 0
}
